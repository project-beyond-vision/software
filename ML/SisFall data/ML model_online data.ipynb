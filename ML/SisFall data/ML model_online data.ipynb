{
 "cells": [
  {
   "cell_type": "markdown",
   "id": "5cc33925",
   "metadata": {},
   "source": [
    "# Training public data"
   ]
  },
  {
   "cell_type": "markdown",
   "id": "31dc97d2",
   "metadata": {},
   "source": [
    "code written by following this github: https://github.com/ni79ls/har-keras-cnn"
   ]
  },
  {
   "cell_type": "code",
   "execution_count": 1,
   "id": "93aab5a6",
   "metadata": {},
   "outputs": [],
   "source": [
    "from matplotlib import pyplot as plt\n",
    "%matplotlib inline\n",
    "import numpy as np\n",
    "import pandas as pd\n",
    "import seaborn as sns\n",
    "from scipy import stats\n",
    "import math\n",
    "\n",
    "from sklearn import metrics\n",
    "from sklearn.metrics import classification_report\n",
    "from sklearn import preprocessing\n",
    "from sklearn.model_selection import train_test_split\n",
    "\n",
    "import keras\n",
    "import tensorflow as tf\n",
    "from keras.models import Sequential\n",
    "from keras.layers import Dense, Dropout, Flatten, Reshape, GlobalAveragePooling1D\n",
    "from keras.layers import Conv1D, MaxPooling1D, LSTM, Embedding, SimpleRNN, GRU\n",
    "from keras.utils import np_utils\n",
    "from tensorflow.keras import optimizers\n",
    "\n",
    "import warnings\n",
    "warnings.filterwarnings('ignore')"
   ]
  },
  {
   "cell_type": "code",
   "execution_count": 2,
   "id": "750464c1",
   "metadata": {},
   "outputs": [
    {
     "data": {
      "text/html": [
       "<div>\n",
       "<style scoped>\n",
       "    .dataframe tbody tr th:only-of-type {\n",
       "        vertical-align: middle;\n",
       "    }\n",
       "\n",
       "    .dataframe tbody tr th {\n",
       "        vertical-align: top;\n",
       "    }\n",
       "\n",
       "    .dataframe thead th {\n",
       "        text-align: right;\n",
       "    }\n",
       "</style>\n",
       "<table border=\"1\" class=\"dataframe\">\n",
       "  <thead>\n",
       "    <tr style=\"text-align: right;\">\n",
       "      <th></th>\n",
       "      <th>accel_x</th>\n",
       "      <th>accel_y</th>\n",
       "      <th>accel_z</th>\n",
       "      <th>gyro_x</th>\n",
       "      <th>gyro_y</th>\n",
       "      <th>gyro_z</th>\n",
       "      <th>user</th>\n",
       "      <th>activity</th>\n",
       "      <th>mapped_activity</th>\n",
       "      <th>broad_mapped_activity</th>\n",
       "    </tr>\n",
       "  </thead>\n",
       "  <tbody>\n",
       "    <tr>\n",
       "      <th>0</th>\n",
       "      <td>0.066406</td>\n",
       "      <td>-0.699219</td>\n",
       "      <td>-0.386719</td>\n",
       "      <td>-1.098633</td>\n",
       "      <td>-30.761719</td>\n",
       "      <td>-21.484375</td>\n",
       "      <td>SA01</td>\n",
       "      <td>D01</td>\n",
       "      <td>Walking</td>\n",
       "      <td>Walking</td>\n",
       "    </tr>\n",
       "    <tr>\n",
       "      <th>1</th>\n",
       "      <td>-0.195312</td>\n",
       "      <td>-1.394531</td>\n",
       "      <td>-0.027344</td>\n",
       "      <td>-10.864258</td>\n",
       "      <td>-46.752930</td>\n",
       "      <td>-3.173828</td>\n",
       "      <td>SA01</td>\n",
       "      <td>D01</td>\n",
       "      <td>Walking</td>\n",
       "      <td>Walking</td>\n",
       "    </tr>\n",
       "    <tr>\n",
       "      <th>2</th>\n",
       "      <td>0.335938</td>\n",
       "      <td>-0.890625</td>\n",
       "      <td>-0.246094</td>\n",
       "      <td>31.860352</td>\n",
       "      <td>-22.216797</td>\n",
       "      <td>8.056641</td>\n",
       "      <td>SA01</td>\n",
       "      <td>D01</td>\n",
       "      <td>Walking</td>\n",
       "      <td>Walking</td>\n",
       "    </tr>\n",
       "    <tr>\n",
       "      <th>3</th>\n",
       "      <td>0.273438</td>\n",
       "      <td>-1.000000</td>\n",
       "      <td>-0.062500</td>\n",
       "      <td>2.624512</td>\n",
       "      <td>-11.352539</td>\n",
       "      <td>29.052734</td>\n",
       "      <td>SA01</td>\n",
       "      <td>D01</td>\n",
       "      <td>Walking</td>\n",
       "      <td>Walking</td>\n",
       "    </tr>\n",
       "    <tr>\n",
       "      <th>4</th>\n",
       "      <td>0.046875</td>\n",
       "      <td>-0.828125</td>\n",
       "      <td>-0.074219</td>\n",
       "      <td>7.263184</td>\n",
       "      <td>15.869141</td>\n",
       "      <td>26.184082</td>\n",
       "      <td>SA01</td>\n",
       "      <td>D01</td>\n",
       "      <td>Walking</td>\n",
       "      <td>Walking</td>\n",
       "    </tr>\n",
       "    <tr>\n",
       "      <th>...</th>\n",
       "      <td>...</td>\n",
       "      <td>...</td>\n",
       "      <td>...</td>\n",
       "      <td>...</td>\n",
       "      <td>...</td>\n",
       "      <td>...</td>\n",
       "      <td>...</td>\n",
       "      <td>...</td>\n",
       "      <td>...</td>\n",
       "      <td>...</td>\n",
       "    </tr>\n",
       "    <tr>\n",
       "      <th>412897</th>\n",
       "      <td>0.988281</td>\n",
       "      <td>-0.066406</td>\n",
       "      <td>-0.023438</td>\n",
       "      <td>26.916504</td>\n",
       "      <td>-10.498047</td>\n",
       "      <td>-15.625000</td>\n",
       "      <td>SA21</td>\n",
       "      <td>F12</td>\n",
       "      <td>Lateral fall</td>\n",
       "      <td>Fall</td>\n",
       "    </tr>\n",
       "    <tr>\n",
       "      <th>412898</th>\n",
       "      <td>1.031250</td>\n",
       "      <td>0.066406</td>\n",
       "      <td>0.203125</td>\n",
       "      <td>-14.953613</td>\n",
       "      <td>16.235352</td>\n",
       "      <td>26.184082</td>\n",
       "      <td>SA21</td>\n",
       "      <td>F12</td>\n",
       "      <td>Lateral fall</td>\n",
       "      <td>Fall</td>\n",
       "    </tr>\n",
       "    <tr>\n",
       "      <th>412899</th>\n",
       "      <td>0.941406</td>\n",
       "      <td>-0.187500</td>\n",
       "      <td>0.359375</td>\n",
       "      <td>-25.878906</td>\n",
       "      <td>32.409668</td>\n",
       "      <td>11.840820</td>\n",
       "      <td>SA21</td>\n",
       "      <td>F12</td>\n",
       "      <td>Lateral fall</td>\n",
       "      <td>Fall</td>\n",
       "    </tr>\n",
       "    <tr>\n",
       "      <th>412900</th>\n",
       "      <td>0.859375</td>\n",
       "      <td>-0.101562</td>\n",
       "      <td>0.375000</td>\n",
       "      <td>12.451172</td>\n",
       "      <td>37.841797</td>\n",
       "      <td>-2.136230</td>\n",
       "      <td>SA21</td>\n",
       "      <td>F12</td>\n",
       "      <td>Lateral fall</td>\n",
       "      <td>Fall</td>\n",
       "    </tr>\n",
       "    <tr>\n",
       "      <th>412901</th>\n",
       "      <td>0.941406</td>\n",
       "      <td>0.031250</td>\n",
       "      <td>0.433594</td>\n",
       "      <td>0.366211</td>\n",
       "      <td>39.916992</td>\n",
       "      <td>7.934570</td>\n",
       "      <td>SA21</td>\n",
       "      <td>F12</td>\n",
       "      <td>Lateral fall</td>\n",
       "      <td>Fall</td>\n",
       "    </tr>\n",
       "  </tbody>\n",
       "</table>\n",
       "<p>412902 rows × 10 columns</p>\n",
       "</div>"
      ],
      "text/plain": [
       "         accel_x   accel_y   accel_z     gyro_x     gyro_y     gyro_z  user  \\\n",
       "0       0.066406 -0.699219 -0.386719  -1.098633 -30.761719 -21.484375  SA01   \n",
       "1      -0.195312 -1.394531 -0.027344 -10.864258 -46.752930  -3.173828  SA01   \n",
       "2       0.335938 -0.890625 -0.246094  31.860352 -22.216797   8.056641  SA01   \n",
       "3       0.273438 -1.000000 -0.062500   2.624512 -11.352539  29.052734  SA01   \n",
       "4       0.046875 -0.828125 -0.074219   7.263184  15.869141  26.184082  SA01   \n",
       "...          ...       ...       ...        ...        ...        ...   ...   \n",
       "412897  0.988281 -0.066406 -0.023438  26.916504 -10.498047 -15.625000  SA21   \n",
       "412898  1.031250  0.066406  0.203125 -14.953613  16.235352  26.184082  SA21   \n",
       "412899  0.941406 -0.187500  0.359375 -25.878906  32.409668  11.840820  SA21   \n",
       "412900  0.859375 -0.101562  0.375000  12.451172  37.841797  -2.136230  SA21   \n",
       "412901  0.941406  0.031250  0.433594   0.366211  39.916992   7.934570  SA21   \n",
       "\n",
       "       activity mapped_activity broad_mapped_activity  \n",
       "0           D01         Walking               Walking  \n",
       "1           D01         Walking               Walking  \n",
       "2           D01         Walking               Walking  \n",
       "3           D01         Walking               Walking  \n",
       "4           D01         Walking               Walking  \n",
       "...         ...             ...                   ...  \n",
       "412897      F12    Lateral fall                  Fall  \n",
       "412898      F12    Lateral fall                  Fall  \n",
       "412899      F12    Lateral fall                  Fall  \n",
       "412900      F12    Lateral fall                  Fall  \n",
       "412901      F12    Lateral fall                  Fall  \n",
       "\n",
       "[412902 rows x 10 columns]"
      ]
     },
     "execution_count": 2,
     "metadata": {},
     "output_type": "execute_result"
    }
   ],
   "source": [
    "data = pd.read_csv(\"Sisfall_dataset/processed_data.csv\")\n",
    "\n",
    "data"
   ]
  },
  {
   "cell_type": "code",
   "execution_count": 3,
   "id": "82de05e7",
   "metadata": {},
   "outputs": [],
   "source": [
    "data = data[data['activity']!=\"D18\"]\n",
    "data = data[data['activity']!=\"D19\"]\n",
    "data = data[data['broad_mapped_activity']!='Gentle jump']\n",
    "data = data[data['broad_mapped_activity']!='Jogging']\n",
    "data = data[data['broad_mapped_activity']!='Stumble']\n",
    "data = data[data['broad_mapped_activity']!='climbing stairs']\n",
    "data.replace(to_replace='getting up', value = 'Sitting action', inplace = True)"
   ]
  },
  {
   "cell_type": "code",
   "execution_count": 4,
   "id": "60def274",
   "metadata": {},
   "outputs": [
    {
     "data": {
      "text/plain": [
       "['Fall', 'Sitting action', 'Walking']"
      ]
     },
     "execution_count": 4,
     "metadata": {},
     "output_type": "execute_result"
    }
   ],
   "source": [
    "# All data collected in 20Hz sample rate.\n",
    "\n",
    "# Set display upto 3 decimal places\n",
    "pd.options.display.float_format = '{:.3f}'.format\n",
    "\n",
    "# Labels are all the activity groups\n",
    "LABELS = list(data.groupby([\"broad_mapped_activity\"]).groups.keys())\n",
    "\n",
    "no_of_features = 6\n",
    "\n",
    "# The number of steps within one time segment (window size)\n",
    "TIME_PERIODS = 60\n",
    "# The steps to take from one segment to the next; if this value is equal to\n",
    "# TIME_PERIODS, then there is no overlap between the segments\n",
    "STEP_DISTANCE = 15\n",
    "\n",
    "LABELS"
   ]
  },
  {
   "cell_type": "code",
   "execution_count": 5,
   "id": "9b72317a",
   "metadata": {},
   "outputs": [
    {
     "name": "stdout",
     "output_type": "stream",
     "text": [
      "(188001, 10)\n"
     ]
    },
    {
     "data": {
      "text/html": [
       "<div>\n",
       "<style scoped>\n",
       "    .dataframe tbody tr th:only-of-type {\n",
       "        vertical-align: middle;\n",
       "    }\n",
       "\n",
       "    .dataframe tbody tr th {\n",
       "        vertical-align: top;\n",
       "    }\n",
       "\n",
       "    .dataframe thead th {\n",
       "        text-align: right;\n",
       "    }\n",
       "</style>\n",
       "<table border=\"1\" class=\"dataframe\">\n",
       "  <thead>\n",
       "    <tr style=\"text-align: right;\">\n",
       "      <th></th>\n",
       "      <th>accel_x</th>\n",
       "      <th>accel_y</th>\n",
       "      <th>accel_z</th>\n",
       "      <th>gyro_x</th>\n",
       "      <th>gyro_y</th>\n",
       "      <th>gyro_z</th>\n",
       "      <th>user</th>\n",
       "      <th>activity</th>\n",
       "      <th>mapped_activity</th>\n",
       "      <th>broad_mapped_activity</th>\n",
       "    </tr>\n",
       "  </thead>\n",
       "  <tbody>\n",
       "    <tr>\n",
       "      <th>16000</th>\n",
       "      <td>0.168</td>\n",
       "      <td>-0.918</td>\n",
       "      <td>-0.219</td>\n",
       "      <td>-0.488</td>\n",
       "      <td>5.127</td>\n",
       "      <td>-13.367</td>\n",
       "      <td>SA17</td>\n",
       "      <td>D01</td>\n",
       "      <td>Walking</td>\n",
       "      <td>Walking</td>\n",
       "    </tr>\n",
       "    <tr>\n",
       "      <th>16001</th>\n",
       "      <td>0.121</td>\n",
       "      <td>-0.906</td>\n",
       "      <td>-0.207</td>\n",
       "      <td>-4.211</td>\n",
       "      <td>6.775</td>\n",
       "      <td>-4.517</td>\n",
       "      <td>SA17</td>\n",
       "      <td>D01</td>\n",
       "      <td>Walking</td>\n",
       "      <td>Walking</td>\n",
       "    </tr>\n",
       "    <tr>\n",
       "      <th>16002</th>\n",
       "      <td>0.109</td>\n",
       "      <td>-0.953</td>\n",
       "      <td>-0.160</td>\n",
       "      <td>-9.766</td>\n",
       "      <td>2.808</td>\n",
       "      <td>0.854</td>\n",
       "      <td>SA17</td>\n",
       "      <td>D01</td>\n",
       "      <td>Walking</td>\n",
       "      <td>Walking</td>\n",
       "    </tr>\n",
       "    <tr>\n",
       "      <th>16003</th>\n",
       "      <td>0.113</td>\n",
       "      <td>-0.965</td>\n",
       "      <td>-0.184</td>\n",
       "      <td>-7.080</td>\n",
       "      <td>-6.897</td>\n",
       "      <td>5.798</td>\n",
       "      <td>SA17</td>\n",
       "      <td>D01</td>\n",
       "      <td>Walking</td>\n",
       "      <td>Walking</td>\n",
       "    </tr>\n",
       "    <tr>\n",
       "      <th>16004</th>\n",
       "      <td>0.129</td>\n",
       "      <td>-0.980</td>\n",
       "      <td>-0.168</td>\n",
       "      <td>-4.333</td>\n",
       "      <td>-14.709</td>\n",
       "      <td>5.005</td>\n",
       "      <td>SA17</td>\n",
       "      <td>D01</td>\n",
       "      <td>Walking</td>\n",
       "      <td>Walking</td>\n",
       "    </tr>\n",
       "    <tr>\n",
       "      <th>...</th>\n",
       "      <td>...</td>\n",
       "      <td>...</td>\n",
       "      <td>...</td>\n",
       "      <td>...</td>\n",
       "      <td>...</td>\n",
       "      <td>...</td>\n",
       "      <td>...</td>\n",
       "      <td>...</td>\n",
       "      <td>...</td>\n",
       "      <td>...</td>\n",
       "    </tr>\n",
       "    <tr>\n",
       "      <th>412897</th>\n",
       "      <td>0.988</td>\n",
       "      <td>-0.066</td>\n",
       "      <td>-0.023</td>\n",
       "      <td>26.917</td>\n",
       "      <td>-10.498</td>\n",
       "      <td>-15.625</td>\n",
       "      <td>SA21</td>\n",
       "      <td>F12</td>\n",
       "      <td>Lateral fall</td>\n",
       "      <td>Fall</td>\n",
       "    </tr>\n",
       "    <tr>\n",
       "      <th>412898</th>\n",
       "      <td>1.031</td>\n",
       "      <td>0.066</td>\n",
       "      <td>0.203</td>\n",
       "      <td>-14.954</td>\n",
       "      <td>16.235</td>\n",
       "      <td>26.184</td>\n",
       "      <td>SA21</td>\n",
       "      <td>F12</td>\n",
       "      <td>Lateral fall</td>\n",
       "      <td>Fall</td>\n",
       "    </tr>\n",
       "    <tr>\n",
       "      <th>412899</th>\n",
       "      <td>0.941</td>\n",
       "      <td>-0.188</td>\n",
       "      <td>0.359</td>\n",
       "      <td>-25.879</td>\n",
       "      <td>32.410</td>\n",
       "      <td>11.841</td>\n",
       "      <td>SA21</td>\n",
       "      <td>F12</td>\n",
       "      <td>Lateral fall</td>\n",
       "      <td>Fall</td>\n",
       "    </tr>\n",
       "    <tr>\n",
       "      <th>412900</th>\n",
       "      <td>0.859</td>\n",
       "      <td>-0.102</td>\n",
       "      <td>0.375</td>\n",
       "      <td>12.451</td>\n",
       "      <td>37.842</td>\n",
       "      <td>-2.136</td>\n",
       "      <td>SA21</td>\n",
       "      <td>F12</td>\n",
       "      <td>Lateral fall</td>\n",
       "      <td>Fall</td>\n",
       "    </tr>\n",
       "    <tr>\n",
       "      <th>412901</th>\n",
       "      <td>0.941</td>\n",
       "      <td>0.031</td>\n",
       "      <td>0.434</td>\n",
       "      <td>0.366</td>\n",
       "      <td>39.917</td>\n",
       "      <td>7.935</td>\n",
       "      <td>SA21</td>\n",
       "      <td>F12</td>\n",
       "      <td>Lateral fall</td>\n",
       "      <td>Fall</td>\n",
       "    </tr>\n",
       "  </tbody>\n",
       "</table>\n",
       "<p>94000 rows × 10 columns</p>\n",
       "</div>"
      ],
      "text/plain": [
       "        accel_x  accel_y  accel_z  gyro_x  gyro_y  gyro_z  user activity  \\\n",
       "16000     0.168   -0.918   -0.219  -0.488   5.127 -13.367  SA17      D01   \n",
       "16001     0.121   -0.906   -0.207  -4.211   6.775  -4.517  SA17      D01   \n",
       "16002     0.109   -0.953   -0.160  -9.766   2.808   0.854  SA17      D01   \n",
       "16003     0.113   -0.965   -0.184  -7.080  -6.897   5.798  SA17      D01   \n",
       "16004     0.129   -0.980   -0.168  -4.333 -14.709   5.005  SA17      D01   \n",
       "...         ...      ...      ...     ...     ...     ...   ...      ...   \n",
       "412897    0.988   -0.066   -0.023  26.917 -10.498 -15.625  SA21      F12   \n",
       "412898    1.031    0.066    0.203 -14.954  16.235  26.184  SA21      F12   \n",
       "412899    0.941   -0.188    0.359 -25.879  32.410  11.841  SA21      F12   \n",
       "412900    0.859   -0.102    0.375  12.451  37.842  -2.136  SA21      F12   \n",
       "412901    0.941    0.031    0.434   0.366  39.917   7.935  SA21      F12   \n",
       "\n",
       "       mapped_activity broad_mapped_activity  \n",
       "16000          Walking               Walking  \n",
       "16001          Walking               Walking  \n",
       "16002          Walking               Walking  \n",
       "16003          Walking               Walking  \n",
       "16004          Walking               Walking  \n",
       "...                ...                   ...  \n",
       "412897    Lateral fall                  Fall  \n",
       "412898    Lateral fall                  Fall  \n",
       "412899    Lateral fall                  Fall  \n",
       "412900    Lateral fall                  Fall  \n",
       "412901    Lateral fall                  Fall  \n",
       "\n",
       "[94000 rows x 10 columns]"
      ]
     },
     "execution_count": 5,
     "metadata": {},
     "output_type": "execute_result"
    }
   ],
   "source": [
    "# split the data into training and test set\n",
    "Training_data = data[~data[\"user\"].isin(['SA17', 'SA18', 'SA19', 'SA20', 'SA21'])]\n",
    "print(Training_data.shape)\n",
    "Test_data = data[data[\"user\"].isin(['SA17', 'SA18', 'SA19', 'SA20', 'SA21'])]\n",
    "Test_data"
   ]
  },
  {
   "cell_type": "code",
   "execution_count": 6,
   "id": "a9038bee",
   "metadata": {},
   "outputs": [
    {
     "name": "stdout",
     "output_type": "stream",
     "text": [
      "['Fall', 'Sitting action', 'Walking']\n"
     ]
    }
   ],
   "source": [
    "# Encode labels\n",
    "le = preprocessing.LabelEncoder()\n",
    "Training_data['encoded_label'] = le.fit_transform(Training_data['broad_mapped_activity'].values.ravel())\n",
    "print(list(le.classes_))\n",
    "# Training_data['encoded_label'] = 0\n",
    "# activity = {'Sitting action': 0, 'Fall': 1, 'Walking': 2, 'climbing stairs': 3, 'getting up': 4}\n",
    "# for i in range(0, len(Training_data)):\n",
    "#     Training_data['encoded_label'].iloc[i] = activity[Training_data['broad_mapped_activity'].iloc[i]]"
   ]
  },
  {
   "cell_type": "code",
   "execution_count": 7,
   "id": "8c1c6137",
   "metadata": {},
   "outputs": [],
   "source": [
    "def normalize_features(data, mu, sigma):\n",
    "    print(\"mean: \", mu)\n",
    "    print(\"standard deviation: \", sigma)\n",
    "    return (data - mu)/sigma\n",
    "#     maxim = np.max(data, axis=0)\n",
    "#     minim = np.min(data, axis=0)\n",
    "#     return (data - minim)/(maxim - minim)"
   ]
  },
  {
   "cell_type": "code",
   "execution_count": 8,
   "id": "05ed09d4",
   "metadata": {},
   "outputs": [
    {
     "name": "stdout",
     "output_type": "stream",
     "text": [
      "accel_x\n",
      "mean:  0.011600545010398882\n",
      "standard deviation:  0.3545680463735675\n",
      "accel_y\n",
      "mean:  -0.7946766448383253\n",
      "standard deviation:  0.4424120958419158\n",
      "accel_z\n",
      "mean:  -0.12944676407971234\n",
      "standard deviation:  0.42574162842799623\n",
      "gyro_x\n",
      "mean:  0.10950525352508099\n",
      "standard deviation:  30.437673283086834\n",
      "gyro_y\n",
      "mean:  1.120445297768529\n",
      "standard deviation:  28.140653634239026\n",
      "gyro_z\n",
      "mean:  -0.2428202597866833\n",
      "standard deviation:  22.231548577342227\n"
     ]
    },
    {
     "data": {
      "text/html": [
       "<div>\n",
       "<style scoped>\n",
       "    .dataframe tbody tr th:only-of-type {\n",
       "        vertical-align: middle;\n",
       "    }\n",
       "\n",
       "    .dataframe tbody tr th {\n",
       "        vertical-align: top;\n",
       "    }\n",
       "\n",
       "    .dataframe thead th {\n",
       "        text-align: right;\n",
       "    }\n",
       "</style>\n",
       "<table border=\"1\" class=\"dataframe\">\n",
       "  <thead>\n",
       "    <tr style=\"text-align: right;\">\n",
       "      <th></th>\n",
       "      <th>accel_x</th>\n",
       "      <th>accel_y</th>\n",
       "      <th>accel_z</th>\n",
       "      <th>gyro_x</th>\n",
       "      <th>gyro_y</th>\n",
       "      <th>gyro_z</th>\n",
       "      <th>user</th>\n",
       "      <th>activity</th>\n",
       "      <th>mapped_activity</th>\n",
       "      <th>broad_mapped_activity</th>\n",
       "      <th>encoded_label</th>\n",
       "    </tr>\n",
       "  </thead>\n",
       "  <tbody>\n",
       "    <tr>\n",
       "      <th>0</th>\n",
       "      <td>0.155</td>\n",
       "      <td>0.216</td>\n",
       "      <td>-0.604</td>\n",
       "      <td>-0.040</td>\n",
       "      <td>-1.133</td>\n",
       "      <td>-0.955</td>\n",
       "      <td>SA01</td>\n",
       "      <td>D01</td>\n",
       "      <td>Walking</td>\n",
       "      <td>Walking</td>\n",
       "      <td>2</td>\n",
       "    </tr>\n",
       "    <tr>\n",
       "      <th>1</th>\n",
       "      <td>-0.584</td>\n",
       "      <td>-1.356</td>\n",
       "      <td>0.240</td>\n",
       "      <td>-0.361</td>\n",
       "      <td>-1.701</td>\n",
       "      <td>-0.132</td>\n",
       "      <td>SA01</td>\n",
       "      <td>D01</td>\n",
       "      <td>Walking</td>\n",
       "      <td>Walking</td>\n",
       "      <td>2</td>\n",
       "    </tr>\n",
       "    <tr>\n",
       "      <th>2</th>\n",
       "      <td>0.915</td>\n",
       "      <td>-0.217</td>\n",
       "      <td>-0.274</td>\n",
       "      <td>1.043</td>\n",
       "      <td>-0.829</td>\n",
       "      <td>0.373</td>\n",
       "      <td>SA01</td>\n",
       "      <td>D01</td>\n",
       "      <td>Walking</td>\n",
       "      <td>Walking</td>\n",
       "      <td>2</td>\n",
       "    </tr>\n",
       "    <tr>\n",
       "      <th>3</th>\n",
       "      <td>0.738</td>\n",
       "      <td>-0.464</td>\n",
       "      <td>0.157</td>\n",
       "      <td>0.083</td>\n",
       "      <td>-0.443</td>\n",
       "      <td>1.318</td>\n",
       "      <td>SA01</td>\n",
       "      <td>D01</td>\n",
       "      <td>Walking</td>\n",
       "      <td>Walking</td>\n",
       "      <td>2</td>\n",
       "    </tr>\n",
       "    <tr>\n",
       "      <th>4</th>\n",
       "      <td>0.099</td>\n",
       "      <td>-0.076</td>\n",
       "      <td>0.130</td>\n",
       "      <td>0.235</td>\n",
       "      <td>0.524</td>\n",
       "      <td>1.189</td>\n",
       "      <td>SA01</td>\n",
       "      <td>D01</td>\n",
       "      <td>Walking</td>\n",
       "      <td>Walking</td>\n",
       "      <td>2</td>\n",
       "    </tr>\n",
       "    <tr>\n",
       "      <th>...</th>\n",
       "      <td>...</td>\n",
       "      <td>...</td>\n",
       "      <td>...</td>\n",
       "      <td>...</td>\n",
       "      <td>...</td>\n",
       "      <td>...</td>\n",
       "      <td>...</td>\n",
       "      <td>...</td>\n",
       "      <td>...</td>\n",
       "      <td>...</td>\n",
       "      <td>...</td>\n",
       "    </tr>\n",
       "    <tr>\n",
       "      <th>409897</th>\n",
       "      <td>2.744</td>\n",
       "      <td>2.132</td>\n",
       "      <td>-0.274</td>\n",
       "      <td>0.037</td>\n",
       "      <td>-0.109</td>\n",
       "      <td>-0.129</td>\n",
       "      <td>SA11</td>\n",
       "      <td>F12</td>\n",
       "      <td>Lateral fall</td>\n",
       "      <td>Fall</td>\n",
       "      <td>0</td>\n",
       "    </tr>\n",
       "    <tr>\n",
       "      <th>409898</th>\n",
       "      <td>2.722</td>\n",
       "      <td>2.211</td>\n",
       "      <td>-0.274</td>\n",
       "      <td>0.067</td>\n",
       "      <td>-0.064</td>\n",
       "      <td>-0.093</td>\n",
       "      <td>SA11</td>\n",
       "      <td>F12</td>\n",
       "      <td>Lateral fall</td>\n",
       "      <td>Fall</td>\n",
       "      <td>0</td>\n",
       "    </tr>\n",
       "    <tr>\n",
       "      <th>409899</th>\n",
       "      <td>2.755</td>\n",
       "      <td>2.167</td>\n",
       "      <td>-0.283</td>\n",
       "      <td>0.101</td>\n",
       "      <td>-0.020</td>\n",
       "      <td>-0.030</td>\n",
       "      <td>SA11</td>\n",
       "      <td>F12</td>\n",
       "      <td>Lateral fall</td>\n",
       "      <td>Fall</td>\n",
       "      <td>0</td>\n",
       "    </tr>\n",
       "    <tr>\n",
       "      <th>409900</th>\n",
       "      <td>2.699</td>\n",
       "      <td>2.185</td>\n",
       "      <td>-0.292</td>\n",
       "      <td>0.109</td>\n",
       "      <td>0.043</td>\n",
       "      <td>-0.008</td>\n",
       "      <td>SA11</td>\n",
       "      <td>F12</td>\n",
       "      <td>Lateral fall</td>\n",
       "      <td>Fall</td>\n",
       "      <td>0</td>\n",
       "    </tr>\n",
       "    <tr>\n",
       "      <th>409901</th>\n",
       "      <td>2.733</td>\n",
       "      <td>2.167</td>\n",
       "      <td>-0.256</td>\n",
       "      <td>0.073</td>\n",
       "      <td>0.036</td>\n",
       "      <td>-0.014</td>\n",
       "      <td>SA11</td>\n",
       "      <td>F12</td>\n",
       "      <td>Lateral fall</td>\n",
       "      <td>Fall</td>\n",
       "      <td>0</td>\n",
       "    </tr>\n",
       "  </tbody>\n",
       "</table>\n",
       "<p>188001 rows × 11 columns</p>\n",
       "</div>"
      ],
      "text/plain": [
       "        accel_x  accel_y  accel_z  gyro_x  gyro_y  gyro_z  user activity  \\\n",
       "0         0.155    0.216   -0.604  -0.040  -1.133  -0.955  SA01      D01   \n",
       "1        -0.584   -1.356    0.240  -0.361  -1.701  -0.132  SA01      D01   \n",
       "2         0.915   -0.217   -0.274   1.043  -0.829   0.373  SA01      D01   \n",
       "3         0.738   -0.464    0.157   0.083  -0.443   1.318  SA01      D01   \n",
       "4         0.099   -0.076    0.130   0.235   0.524   1.189  SA01      D01   \n",
       "...         ...      ...      ...     ...     ...     ...   ...      ...   \n",
       "409897    2.744    2.132   -0.274   0.037  -0.109  -0.129  SA11      F12   \n",
       "409898    2.722    2.211   -0.274   0.067  -0.064  -0.093  SA11      F12   \n",
       "409899    2.755    2.167   -0.283   0.101  -0.020  -0.030  SA11      F12   \n",
       "409900    2.699    2.185   -0.292   0.109   0.043  -0.008  SA11      F12   \n",
       "409901    2.733    2.167   -0.256   0.073   0.036  -0.014  SA11      F12   \n",
       "\n",
       "       mapped_activity broad_mapped_activity  encoded_label  \n",
       "0              Walking               Walking              2  \n",
       "1              Walking               Walking              2  \n",
       "2              Walking               Walking              2  \n",
       "3              Walking               Walking              2  \n",
       "4              Walking               Walking              2  \n",
       "...                ...                   ...            ...  \n",
       "409897    Lateral fall                  Fall              0  \n",
       "409898    Lateral fall                  Fall              0  \n",
       "409899    Lateral fall                  Fall              0  \n",
       "409900    Lateral fall                  Fall              0  \n",
       "409901    Lateral fall                  Fall              0  \n",
       "\n",
       "[188001 rows x 11 columns]"
      ]
     },
     "execution_count": 8,
     "metadata": {},
     "output_type": "execute_result"
    }
   ],
   "source": [
    "mu = []\n",
    "sigma = []\n",
    "for i in range(0,6):\n",
    "    print(Training_data.columns[i])\n",
    "    mu.append(np.mean(Training_data.iloc[:, i], axis=0))\n",
    "    sigma.append(np.std(Training_data.iloc[:, i], axis=0))\n",
    "    Training_data.iloc[:, i] = normalize_features(Training_data.iloc[:, i], mu[i], sigma[i])\n",
    "    \n",
    "Training_data"
   ]
  },
  {
   "cell_type": "code",
   "execution_count": 9,
   "id": "23df9b18",
   "metadata": {},
   "outputs": [
    {
     "name": "stdout",
     "output_type": "stream",
     "text": [
      "[0.011600545010398882, -0.7946766448383253, -0.12944676407971234, 0.10950525352508099, 1.120445297768529, -0.2428202597866833]\n",
      "[0.3545680463735675, 0.4424120958419158, 0.42574162842799623, 30.437673283086834, 28.140653634239026, 22.231548577342227]\n"
     ]
    }
   ],
   "source": [
    "print(mu)\n",
    "print(sigma)"
   ]
  },
  {
   "cell_type": "code",
   "execution_count": 10,
   "id": "f1ded0a1",
   "metadata": {
    "scrolled": false
   },
   "outputs": [],
   "source": [
    "def create_segments(data):\n",
    "\n",
    "    segments = []\n",
    "    labels = []\n",
    "    for i in range(0, len(data) - TIME_PERIODS, STEP_DISTANCE):\n",
    "        accel_xs = data['accel_x'].values[i: i + TIME_PERIODS]\n",
    "        accel_ys = data['accel_y'].values[i: i + TIME_PERIODS]\n",
    "        accel_zs = data['accel_z'].values[i: i + TIME_PERIODS]\n",
    "        gyro_xs = data['gyro_x'].values[i: i + TIME_PERIODS]\n",
    "        gyro_ys = data['gyro_y'].values[i: i + TIME_PERIODS]\n",
    "        gyro_zs = data['gyro_z'].values[i: i + TIME_PERIODS]\n",
    "#         mag_xs = data['mag_x'].values[i: i + TIME_PERIODS]\n",
    "#         mag_ys = data['mag_y'].values[i: i + TIME_PERIODS]\n",
    "#         mag_zs = data['mag_z'].values[i: i + TIME_PERIODS]\n",
    "        \n",
    "#         #Features\n",
    "#         #mean\n",
    "#         accel_x_mean = np.full(TIME_PERIODS, accel_xs.mean())\n",
    "#     #     y_mean = np.full(TIME_PERIODS, ys.mean())\n",
    "#         accel_z_mean = np.full(TIME_PERIODS, accel_zs.mean())\n",
    "#         gyro_x_mean = np.full(TIME_PERIODS, gyro_xs.mean())\n",
    "#     #     pitch_mean = np.full(TIME_PERIODS, pitchs.mean())\n",
    "#         gyro_z_mean = np.full(TIME_PERIODS, gyro_zs.mean())\n",
    "#         #standard deviation\n",
    "#         accel_x_std = np.full(TIME_PERIODS, accel_xs.std())\n",
    "#         accel_y_std = np.full(TIME_PERIODS, accel_ys.std())\n",
    "#         accel_z_std = np.full(TIME_PERIODS, accel_zs.std())\n",
    "#         gyro_x_std = np.full(TIME_PERIODS, gyro_xs.std())\n",
    "#         gyro_y_std = np.full(TIME_PERIODS, gyro_ys.std())\n",
    "#         gyro_z_std = np.full(TIME_PERIODS, gyro_zs.std())\n",
    "#         #min\n",
    "#         accel_x_min = np.full(TIME_PERIODS, accel_xs.min())\n",
    "#         accel_y_min = np.full(TIME_PERIODS, accel_ys.min())\n",
    "#         accel_z_min = np.full(TIME_PERIODS, accel_zs.min())\n",
    "#         gyro_x_min = np.full(TIME_PERIODS, gyro_xs.min())\n",
    "#     #     pitch_min = np.full(TIME_PERIODS, pitchs.min())\n",
    "#     #     yaw_min = np.full(TIME_PERIODS, yaws.min())\n",
    "    \n",
    "#         #energy, here ** represents exponentiation\n",
    "#         accel_x_eng = np.full(TIME_PERIODS, np.sum(accel_xs**2)/TIME_PERIODS) \n",
    "#         accel_y_eng = np.full(TIME_PERIODS, np.sum(accel_ys**2)/TIME_PERIODS)\n",
    "#         accel_z_eng = np.full(TIME_PERIODS, np.sum(accel_zs**2)/TIME_PERIODS)\n",
    "#         #median absolute deviation (MAD)\n",
    "#         accel_x_mad = np.full(TIME_PERIODS, stats.median_abs_deviation(accel_xs))\n",
    "#     #     y_mad = np.full(TIME_PERIODS, stats.median_abs_deviation(ys))\n",
    "#         accel_z_mad = np.full(TIME_PERIODS, stats.median_abs_deviation(accel_zs))\n",
    "#     #     roll_mad = np.full(TIME_PERIODS, stats.median_abs_deviation(rolls))\n",
    "#         gyro_y_mad = np.full(TIME_PERIODS, stats.median_abs_deviation(gyro_ys))\n",
    "#         gyro_z_mad = np.full(TIME_PERIODS, stats.median_abs_deviation(gyro_zs))\n",
    "#         # signal magnitude area\n",
    "#         accel_sma = np.full(TIME_PERIODS, (np.sum(np.abs(accel_xs)) + np.sum(np.abs(accel_ys)) + np.sum(np.abs(accel_zs))) / TIME_PERIODS)\n",
    "#         gyro_sma = np.full(TIME_PERIODS, (np.sum(np.abs(gyro_xs)) + np.sum(np.abs(gyro_ys)) + np.sum(np.abs(gyro_zs))) / TIME_PERIODS)\n",
    "# #         # get frequency domain signal\n",
    "# #         x_freq = np.abs(np.fft.fft(xs))[1:51]\n",
    "# #         y_freq = np.abs(np.fft.fft(ys))[1:51]\n",
    "# #         z_freq = np.abs(np.fft.fft(zs))[1:51]\n",
    "# #         roll_freq = np.abs(np.fft.fft(rolls))[1:51]\n",
    "# #         pitch_freq = np.abs(np.fft.fft(pitchs))[1:51]\n",
    "# #         yaw_freq = np.abs(np.fft.fft(yaws))[1:51]\n",
    "# #         # freq mean\n",
    "# #         x_freq_mean = np.full(TIME_PERIODS, x_freq.mean())\n",
    "# #         y_freq_mean = np.full(TIME_PERIODS, y_freq.mean())\n",
    "# #         z_freq_mean = np.full(TIME_PERIODS, z_freq.mean())\n",
    "# #         roll_freq_mean = np.full(TIME_PERIODS, roll_freq.mean())\n",
    "# #         pitch_freq_mean = np.full(TIME_PERIODS, pitch_freq.mean())\n",
    "# #         yaw_freq_mean = np.full(TIME_PERIODS, yaw_freq.mean())\n",
    "# #         #freq standard deviation\n",
    "# #         x_freq_std = np.full(TIME_PERIODS, x_freq.std())\n",
    "# #         y_freq_std = np.full(TIME_PERIODS, y_freq.std())\n",
    "# #         z_freq_std = np.full(TIME_PERIODS, z_freq.std())\n",
    "# #         roll_freq_std = np.full(TIME_PERIODS, roll_freq.std())\n",
    "# #         pitch_freq_std = np.full(TIME_PERIODS, pitch_freq.std())\n",
    "# #         yaw_freq_std = np.full(TIME_PERIODS, yaw_freq.std())\n",
    "\n",
    "        # Retrieve the most often used label in this segment\n",
    "        label = stats.mode(data['encoded_label'][i: i + TIME_PERIODS])[0][0]\n",
    "        \n",
    "#         segments.append([accel_xs, accel_ys, accel_zs, gyro_xs, gyro_ys, gyro_zs, accel_x_mean,\\\n",
    "#                          accel_z_mean, gyro_x_mean, gyro_z_mean, accel_x_std, accel_y_std, accel_z_std, gyro_x_std,  gyro_y_std, \\\n",
    "#                          gyro_z_std, accel_x_min, accel_y_min, accel_z_min, gyro_x_min, accel_x_eng, accel_y_eng, accel_z_eng, \\\n",
    "#                          accel_x_mad, accel_z_mad, gyro_y_mad, gyro_z_mad, accel_sma, gyro_sma])\n",
    "        segments.append([accel_xs, accel_ys, accel_zs, gyro_xs, gyro_ys, gyro_zs])\n",
    "        labels.append(label)\n",
    "\n",
    "    # Bring the segments into a better shape\n",
    "    x_data = np.asarray(segments, dtype= np.float32).reshape(-1, TIME_PERIODS, no_of_features)\n",
    "    y_data = np.asarray(labels)\n",
    "    return x_data, y_data\n"
   ]
  },
  {
   "cell_type": "code",
   "execution_count": 11,
   "id": "f6e2060b",
   "metadata": {},
   "outputs": [
    {
     "name": "stdout",
     "output_type": "stream",
     "text": [
      "x shape:  (12530, 60, 6)\n",
      "y shape:  (12530,)\n"
     ]
    }
   ],
   "source": [
    "x_train, y_train = create_segments(Training_data)\n",
    "np.set_printoptions(threshold=np.inf)\n",
    "print(\"x shape: \",x_train.shape)\n",
    "print(\"y shape: \",y_train.shape)"
   ]
  },
  {
   "cell_type": "code",
   "execution_count": 12,
   "id": "a323b887",
   "metadata": {},
   "outputs": [
    {
     "data": {
      "text/plain": [
       "(12530, 360)"
      ]
     },
     "execution_count": 12,
     "metadata": {},
     "output_type": "execute_result"
    }
   ],
   "source": [
    "x_train = x_train.reshape(x_train.shape[0], TIME_PERIODS*no_of_features)\n",
    "x_train.shape"
   ]
  },
  {
   "cell_type": "code",
   "execution_count": 13,
   "id": "be095318",
   "metadata": {},
   "outputs": [
    {
     "name": "stdout",
     "output_type": "stream",
     "text": [
      "New y_train shape:  (12530, 3)\n"
     ]
    }
   ],
   "source": [
    "# Convert type for Keras otherwise Keras cannot process the data\n",
    "x_train = x_train.astype(\"float32\")\n",
    "y_train = y_train.astype(\"float32\")\n",
    "\n",
    "# One-hot encoding of y_train labels (only execute once!)\n",
    "y_train = np_utils.to_categorical(y_train, len(LABELS))\n",
    "print('New y_train shape: ', y_train.shape)"
   ]
  },
  {
   "cell_type": "markdown",
   "id": "3c0df1e7",
   "metadata": {},
   "source": [
    "### 1D-CNN Model"
   ]
  },
  {
   "cell_type": "code",
   "execution_count": 14,
   "id": "1d6345fe",
   "metadata": {},
   "outputs": [
    {
     "name": "stdout",
     "output_type": "stream",
     "text": [
      "Model: \"sequential\"\n",
      "_________________________________________________________________\n",
      " Layer (type)                Output Shape              Param #   \n",
      "=================================================================\n",
      " reshape (Reshape)           (None, 60, 6)             0         \n",
      "                                                                 \n",
      " conv1d (Conv1D)             (None, 58, 100)           1900      \n",
      "                                                                 \n",
      " max_pooling1d (MaxPooling1D  (None, 19, 100)          0         \n",
      " )                                                               \n",
      "                                                                 \n",
      " conv1d_1 (Conv1D)           (None, 17, 120)           36120     \n",
      "                                                                 \n",
      " max_pooling1d_1 (MaxPooling  (None, 5, 120)           0         \n",
      " 1D)                                                             \n",
      "                                                                 \n",
      " conv1d_2 (Conv1D)           (None, 3, 80)             28880     \n",
      "                                                                 \n",
      " global_average_pooling1d (G  (None, 80)               0         \n",
      " lobalAveragePooling1D)                                          \n",
      "                                                                 \n",
      " dropout (Dropout)           (None, 80)                0         \n",
      "                                                                 \n",
      " dense (Dense)               (None, 3)                 243       \n",
      "                                                                 \n",
      "=================================================================\n",
      "Total params: 67,143\n",
      "Trainable params: 67,143\n",
      "Non-trainable params: 0\n",
      "_________________________________________________________________\n",
      "None\n"
     ]
    }
   ],
   "source": [
    "model_m = Sequential()\n",
    "model_m.add(Reshape((TIME_PERIODS,no_of_features), input_shape=(TIME_PERIODS*no_of_features,)))\n",
    "model_m.add(Conv1D(100, 3, activation='relu'))\n",
    "model_m.add(MaxPooling1D(3))\n",
    "model_m.add(Conv1D(120, 3, activation='relu'))\n",
    "model_m.add(MaxPooling1D(3))\n",
    "model_m.add(Conv1D(80, 3, activation='relu'))\n",
    "model_m.add(GlobalAveragePooling1D())\n",
    "model_m.add(Dropout(0.3))\n",
    "model_m.add(Dense(len(LABELS), activation='softmax'))\n",
    "print(model_m.summary())"
   ]
  },
  {
   "cell_type": "code",
   "execution_count": 15,
   "id": "249787e7",
   "metadata": {
    "scrolled": true
   },
   "outputs": [
    {
     "name": "stdout",
     "output_type": "stream",
     "text": [
      "Epoch 1/100\n",
      "63/63 [==============================] - 5s 18ms/step - loss: 0.7476 - accuracy: 0.7262\n",
      "Epoch 2/100\n",
      "63/63 [==============================] - 1s 13ms/step - loss: 0.4278 - accuracy: 0.8633\n",
      "Epoch 3/100\n",
      "63/63 [==============================] - 1s 13ms/step - loss: 0.3621 - accuracy: 0.8820\n",
      "Epoch 4/100\n",
      "63/63 [==============================] - 1s 13ms/step - loss: 0.3317 - accuracy: 0.8909\n",
      "Epoch 5/100\n",
      "63/63 [==============================] - 1s 13ms/step - loss: 0.3141 - accuracy: 0.8966\n",
      "Epoch 6/100\n",
      "63/63 [==============================] - 1s 13ms/step - loss: 0.2954 - accuracy: 0.9000\n",
      "Epoch 7/100\n",
      "63/63 [==============================] - 1s 15ms/step - loss: 0.2849 - accuracy: 0.9045\n",
      "Epoch 8/100\n",
      "63/63 [==============================] - 1s 13ms/step - loss: 0.2781 - accuracy: 0.9053\n",
      "Epoch 9/100\n",
      "63/63 [==============================] - 1s 13ms/step - loss: 0.2718 - accuracy: 0.9096\n",
      "Epoch 10/100\n",
      "63/63 [==============================] - 1s 13ms/step - loss: 0.2649 - accuracy: 0.9103\n",
      "Epoch 11/100\n",
      "63/63 [==============================] - 1s 13ms/step - loss: 0.2553 - accuracy: 0.9154\n",
      "Epoch 12/100\n",
      "63/63 [==============================] - 1s 13ms/step - loss: 0.2518 - accuracy: 0.9132\n",
      "Epoch 13/100\n",
      "63/63 [==============================] - 1s 13ms/step - loss: 0.2433 - accuracy: 0.9174\n",
      "Epoch 14/100\n",
      "63/63 [==============================] - 1s 13ms/step - loss: 0.2327 - accuracy: 0.9208\n",
      "Epoch 15/100\n",
      "63/63 [==============================] - 1s 13ms/step - loss: 0.2276 - accuracy: 0.9217\n",
      "Epoch 16/100\n",
      "63/63 [==============================] - 1s 13ms/step - loss: 0.2255 - accuracy: 0.9235\n",
      "Epoch 17/100\n",
      "63/63 [==============================] - 1s 13ms/step - loss: 0.2216 - accuracy: 0.9252\n",
      "Epoch 18/100\n",
      "63/63 [==============================] - 1s 13ms/step - loss: 0.2210 - accuracy: 0.9256\n",
      "Epoch 19/100\n",
      "63/63 [==============================] - 1s 13ms/step - loss: 0.2121 - accuracy: 0.9259\n",
      "Epoch 20/100\n",
      "63/63 [==============================] - 1s 13ms/step - loss: 0.2165 - accuracy: 0.9247\n",
      "Epoch 21/100\n",
      "63/63 [==============================] - 1s 14ms/step - loss: 0.2142 - accuracy: 0.9276\n",
      "Epoch 22/100\n",
      "63/63 [==============================] - 1s 13ms/step - loss: 0.2100 - accuracy: 0.9278\n",
      "Epoch 23/100\n",
      "63/63 [==============================] - 1s 14ms/step - loss: 0.1969 - accuracy: 0.9324\n",
      "Epoch 24/100\n",
      "63/63 [==============================] - 1s 15ms/step - loss: 0.1994 - accuracy: 0.9289\n",
      "Epoch 25/100\n",
      "63/63 [==============================] - 1s 13ms/step - loss: 0.1978 - accuracy: 0.9317\n",
      "Epoch 26/100\n",
      "63/63 [==============================] - 1s 13ms/step - loss: 0.1885 - accuracy: 0.9378\n",
      "Epoch 27/100\n",
      "63/63 [==============================] - 1s 13ms/step - loss: 0.1862 - accuracy: 0.9357\n",
      "Epoch 28/100\n",
      "63/63 [==============================] - 1s 13ms/step - loss: 0.1856 - accuracy: 0.9363\n",
      "Epoch 29/100\n",
      "63/63 [==============================] - 1s 13ms/step - loss: 0.1789 - accuracy: 0.9380\n",
      "Epoch 30/100\n",
      "63/63 [==============================] - 1s 14ms/step - loss: 0.1857 - accuracy: 0.9356\n",
      "Epoch 31/100\n",
      "63/63 [==============================] - 1s 13ms/step - loss: 0.1747 - accuracy: 0.9398\n",
      "Epoch 32/100\n",
      "63/63 [==============================] - 1s 13ms/step - loss: 0.1728 - accuracy: 0.9403\n",
      "Epoch 33/100\n",
      "63/63 [==============================] - 1s 13ms/step - loss: 0.1718 - accuracy: 0.9410\n",
      "Epoch 34/100\n",
      "63/63 [==============================] - 1s 13ms/step - loss: 0.1694 - accuracy: 0.9413\n",
      "Epoch 35/100\n",
      "63/63 [==============================] - 1s 13ms/step - loss: 0.1641 - accuracy: 0.9433\n",
      "Epoch 36/100\n",
      "63/63 [==============================] - 1s 13ms/step - loss: 0.1610 - accuracy: 0.9446\n",
      "Epoch 37/100\n",
      "63/63 [==============================] - 1s 13ms/step - loss: 0.1544 - accuracy: 0.9480\n",
      "Epoch 38/100\n",
      "63/63 [==============================] - 1s 13ms/step - loss: 0.1550 - accuracy: 0.9467\n",
      "Epoch 39/100\n",
      "63/63 [==============================] - 1s 13ms/step - loss: 0.1552 - accuracy: 0.9459\n",
      "Epoch 40/100\n",
      "63/63 [==============================] - 1s 13ms/step - loss: 0.1490 - accuracy: 0.9496\n",
      "Epoch 41/100\n",
      "63/63 [==============================] - 1s 13ms/step - loss: 0.1474 - accuracy: 0.9487\n",
      "Epoch 42/100\n",
      "63/63 [==============================] - 1s 13ms/step - loss: 0.1427 - accuracy: 0.9520\n",
      "Epoch 43/100\n",
      "63/63 [==============================] - 1s 13ms/step - loss: 0.1406 - accuracy: 0.9523\n",
      "Epoch 44/100\n",
      "63/63 [==============================] - 1s 13ms/step - loss: 0.1415 - accuracy: 0.9501\n",
      "Epoch 45/100\n",
      "63/63 [==============================] - 1s 13ms/step - loss: 0.1379 - accuracy: 0.9532\n",
      "Epoch 46/100\n",
      "63/63 [==============================] - 1s 13ms/step - loss: 0.1411 - accuracy: 0.9513\n",
      "Epoch 47/100\n",
      "63/63 [==============================] - 1s 13ms/step - loss: 0.1349 - accuracy: 0.9535\n",
      "Epoch 48/100\n",
      "63/63 [==============================] - 1s 13ms/step - loss: 0.1331 - accuracy: 0.9536\n",
      "Epoch 49/100\n",
      "63/63 [==============================] - 1s 13ms/step - loss: 0.1361 - accuracy: 0.9529\n",
      "Epoch 50/100\n",
      "63/63 [==============================] - 1s 13ms/step - loss: 0.1277 - accuracy: 0.9566\n",
      "Epoch 51/100\n",
      "63/63 [==============================] - 1s 13ms/step - loss: 0.1339 - accuracy: 0.9523\n",
      "Epoch 52/100\n",
      "63/63 [==============================] - 1s 13ms/step - loss: 0.1266 - accuracy: 0.9567\n",
      "Epoch 53/100\n",
      "63/63 [==============================] - 1s 13ms/step - loss: 0.1274 - accuracy: 0.9571\n",
      "Epoch 54/100\n",
      "63/63 [==============================] - 1s 13ms/step - loss: 0.1180 - accuracy: 0.9589\n",
      "Epoch 55/100\n",
      "63/63 [==============================] - 1s 13ms/step - loss: 0.1157 - accuracy: 0.9597\n",
      "Epoch 56/100\n",
      "63/63 [==============================] - 1s 13ms/step - loss: 0.1170 - accuracy: 0.9595\n",
      "Epoch 57/100\n",
      "63/63 [==============================] - 1s 13ms/step - loss: 0.1134 - accuracy: 0.9607\n",
      "Epoch 58/100\n",
      "63/63 [==============================] - 1s 13ms/step - loss: 0.1164 - accuracy: 0.9592\n",
      "Epoch 59/100\n",
      "63/63 [==============================] - 1s 13ms/step - loss: 0.1225 - accuracy: 0.9558\n",
      "Epoch 60/100\n",
      "63/63 [==============================] - 1s 13ms/step - loss: 0.1113 - accuracy: 0.9606\n",
      "Epoch 61/100\n",
      "63/63 [==============================] - 1s 13ms/step - loss: 0.1051 - accuracy: 0.9637\n",
      "Epoch 62/100\n",
      "63/63 [==============================] - 1s 13ms/step - loss: 0.1156 - accuracy: 0.9595\n",
      "Epoch 63/100\n",
      "63/63 [==============================] - 1s 13ms/step - loss: 0.1054 - accuracy: 0.9629\n",
      "Epoch 64/100\n",
      "63/63 [==============================] - 1s 13ms/step - loss: 0.1046 - accuracy: 0.9651\n",
      "Epoch 65/100\n",
      "63/63 [==============================] - 1s 13ms/step - loss: 0.1028 - accuracy: 0.9657\n",
      "Epoch 66/100\n",
      "63/63 [==============================] - 1s 13ms/step - loss: 0.1034 - accuracy: 0.9645\n",
      "Epoch 67/100\n",
      "63/63 [==============================] - 1s 13ms/step - loss: 0.1014 - accuracy: 0.9641\n",
      "Epoch 68/100\n",
      "63/63 [==============================] - 1s 13ms/step - loss: 0.1011 - accuracy: 0.9659\n",
      "Epoch 69/100\n",
      "63/63 [==============================] - 1s 13ms/step - loss: 0.0905 - accuracy: 0.9695\n",
      "Epoch 70/100\n",
      "63/63 [==============================] - 1s 13ms/step - loss: 0.0911 - accuracy: 0.9685\n",
      "Epoch 71/100\n",
      "63/63 [==============================] - 1s 13ms/step - loss: 0.0851 - accuracy: 0.9721\n",
      "Epoch 72/100\n",
      "63/63 [==============================] - 1s 13ms/step - loss: 0.0992 - accuracy: 0.9649\n",
      "Epoch 73/100\n",
      "63/63 [==============================] - 1s 13ms/step - loss: 0.1038 - accuracy: 0.9646\n",
      "Epoch 74/100\n",
      "63/63 [==============================] - 1s 13ms/step - loss: 0.0849 - accuracy: 0.9698\n",
      "Epoch 75/100\n",
      "63/63 [==============================] - 1s 14ms/step - loss: 0.0981 - accuracy: 0.9652\n",
      "Epoch 76/100\n",
      "63/63 [==============================] - 1s 14ms/step - loss: 0.0885 - accuracy: 0.9690\n",
      "Epoch 77/100\n",
      "63/63 [==============================] - 1s 14ms/step - loss: 0.0833 - accuracy: 0.9709\n",
      "Epoch 78/100\n",
      "63/63 [==============================] - 1s 14ms/step - loss: 0.0826 - accuracy: 0.9717\n",
      "Epoch 79/100\n",
      "63/63 [==============================] - 1s 14ms/step - loss: 0.0822 - accuracy: 0.9706\n",
      "Epoch 80/100\n",
      "63/63 [==============================] - 1s 14ms/step - loss: 0.0799 - accuracy: 0.9725\n",
      "Epoch 81/100\n",
      "63/63 [==============================] - 1s 14ms/step - loss: 0.0742 - accuracy: 0.9749\n",
      "Epoch 82/100\n"
     ]
    },
    {
     "name": "stdout",
     "output_type": "stream",
     "text": [
      "63/63 [==============================] - 1s 14ms/step - loss: 0.0788 - accuracy: 0.9734\n",
      "Epoch 83/100\n",
      "63/63 [==============================] - 1s 13ms/step - loss: 0.0813 - accuracy: 0.9717\n",
      "Epoch 84/100\n",
      "63/63 [==============================] - 1s 13ms/step - loss: 0.0796 - accuracy: 0.9721\n"
     ]
    }
   ],
   "source": [
    "callbacks_list = [\n",
    "    keras.callbacks.EarlyStopping(monitor='loss', patience=3)\n",
    "]\n",
    "\n",
    "opt = optimizers.SGD(learning_rate=0.01, momentum=0.9)\n",
    "\n",
    "model_m.compile(loss='categorical_crossentropy',\n",
    "                optimizer=opt, metrics=['accuracy'])\n",
    "\n",
    "BATCH_SIZE = 200\n",
    "EPOCHS = 100\n",
    "\n",
    "history = model_m.fit(x_train,\n",
    "                      y_train,\n",
    "                      batch_size=BATCH_SIZE,\n",
    "                      epochs=EPOCHS,\n",
    "                      callbacks=callbacks_list,\n",
    "                      verbose=1)"
   ]
  },
  {
   "cell_type": "code",
   "execution_count": 16,
   "id": "b99f141c",
   "metadata": {},
   "outputs": [
    {
     "data": {
      "image/png": "[encoded data removed]",
      "text/plain": [
       "<Figure size 432x288 with 1 Axes>"
      ]
     },
     "metadata": {
      "needs_background": "light"
     },
     "output_type": "display_data"
    }
   ],
   "source": [
    "# summarize history for accuracy and loss\n",
    "plt.figure(figsize=(6, 4))\n",
    "plt.plot(history.history['accuracy'], \"g--\", label=\"Accuracy of training data\")\n",
    "# plt.plot(history.history['val_accuracy'], \"g\", label=\"Accuracy of validation data\")\n",
    "plt.plot(history.history['loss'], \"r--\", label=\"Loss of training data\")\n",
    "# plt.plot(history.history['val_loss'], \"r\", label=\"Loss of validation data\")\n",
    "plt.title('Model Accuracy and Loss')\n",
    "plt.ylabel('Accuracy and Loss')\n",
    "plt.xlabel('Training Epoch')\n",
    "plt.ylim(0)\n",
    "plt.legend()\n",
    "plt.show()"
   ]
  },
  {
   "cell_type": "code",
   "execution_count": 17,
   "id": "7a9d9d46",
   "metadata": {},
   "outputs": [
    {
     "name": "stdout",
     "output_type": "stream",
     "text": [
      "['Fall', 'Sitting action', 'Walking']\n",
      "accel_x\n",
      "mean:  0.011600545010398882\n",
      "standard deviation:  0.3545680463735675\n",
      "accel_y\n",
      "mean:  -0.7946766448383253\n",
      "standard deviation:  0.4424120958419158\n",
      "accel_z\n",
      "mean:  -0.12944676407971234\n",
      "standard deviation:  0.42574162842799623\n",
      "gyro_x\n",
      "mean:  0.10950525352508099\n",
      "standard deviation:  30.437673283086834\n",
      "gyro_y\n",
      "mean:  1.120445297768529\n",
      "standard deviation:  28.140653634239026\n",
      "gyro_z\n",
      "mean:  -0.2428202597866833\n",
      "standard deviation:  22.231548577342227\n",
      "x shape:  (6263, 60, 6)\n",
      "y shape:  (6263,)\n"
     ]
    },
    {
     "data": {
      "text/plain": [
       "(6263, 3)"
      ]
     },
     "execution_count": 17,
     "metadata": {},
     "output_type": "execute_result"
    }
   ],
   "source": [
    "# Set input_shape / reshape for Keras\n",
    "# Encode labels\n",
    "Test_data['encoded_label'] = le.transform(Test_data['broad_mapped_activity'].values.ravel())\n",
    "print(list(le.classes_))\n",
    "\n",
    "for i in range(0,6):\n",
    "    print(data.columns[i])\n",
    "    Test_data.iloc[:, i] = normalize_features(Test_data.iloc[:, i], mu[i], sigma[i])\n",
    "    \n",
    "x_test, y_test = create_segments(Test_data)\n",
    "print(\"x shape: \",x_test.shape)\n",
    "print(\"y shape: \",y_test.shape)\n",
    "\n",
    "x_test = x_test.reshape(x_test.shape[0], TIME_PERIODS*no_of_features)\n",
    "\n",
    "x_test = x_test.astype(\"float32\")\n",
    "y_test = y_test.astype(\"float32\")\n",
    "\n",
    "y_test = np_utils.to_categorical(y_test, len(LABELS))\n",
    "y_test.shape"
   ]
  },
  {
   "cell_type": "code",
   "execution_count": 18,
   "id": "e221a205",
   "metadata": {},
   "outputs": [
    {
     "name": "stdout",
     "output_type": "stream",
     "text": [
      "196/196 [==============================] - 1s 4ms/step - loss: 0.3030 - accuracy: 0.9232\n",
      "\n",
      "Accuracy on test data: 0.92\n",
      "\n",
      "Loss on test data: 0.30\n"
     ]
    }
   ],
   "source": [
    "score = model_m.evaluate(x_test, y_test, verbose=1)\n",
    "\n",
    "print(\"\\nAccuracy on test data: %0.2f\" % score[1])\n",
    "print(\"\\nLoss on test data: %0.2f\" % score[0])"
   ]
  },
  {
   "cell_type": "code",
   "execution_count": 19,
   "id": "e4bb077d",
   "metadata": {},
   "outputs": [],
   "source": [
    "def show_confusion_matrix(validations, predictions):\n",
    "\n",
    "    matrix = metrics.confusion_matrix(validations, predictions)\n",
    "    plt.figure(figsize=(6, 4))\n",
    "    sns.heatmap(matrix,\n",
    "                cmap=\"coolwarm\",\n",
    "                linecolor='white',\n",
    "                linewidths=1,\n",
    "                xticklabels=LABELS,\n",
    "                yticklabels=LABELS,\n",
    "                annot=True,\n",
    "                fmt=\"d\")\n",
    "    plt.title(\"Confusion Matrix\")\n",
    "    plt.ylabel(\"True Label\")\n",
    "    plt.xlabel(\"Predicted Label\")\n",
    "    plt.show()"
   ]
  },
  {
   "cell_type": "code",
   "execution_count": 20,
   "id": "8b9d6ce5",
   "metadata": {},
   "outputs": [
    {
     "data": {
      "image/png": "[encoded data removed]",
      "text/plain": [
       "<Figure size 432x288 with 2 Axes>"
      ]
     },
     "metadata": {
      "needs_background": "light"
     },
     "output_type": "display_data"
    },
    {
     "name": "stdout",
     "output_type": "stream",
     "text": [
      "\n",
      "--- Classification report for test data ---\n",
      "\n",
      "              precision    recall  f1-score   support\n",
      "\n",
      "           0       0.84      0.78      0.80      1200\n",
      "           1       0.95      0.98      0.96      3073\n",
      "           2       0.93      0.93      0.93      1990\n",
      "\n",
      "    accuracy                           0.92      6263\n",
      "   macro avg       0.91      0.89      0.90      6263\n",
      "weighted avg       0.92      0.92      0.92      6263\n",
      "\n"
     ]
    }
   ],
   "source": [
    "y_pred_test = model_m.predict(x_test)\n",
    "# Take the class with the highest probability from the test predictions\n",
    "max_y_pred_test = np.argmax(y_pred_test, axis=1)\n",
    "max_y_test = np.argmax(y_test, axis=1)\n",
    "\n",
    "show_confusion_matrix(max_y_test, max_y_pred_test)\n",
    "\n",
    "print(\"\\n--- Classification report for test data ---\\n\")\n",
    "\n",
    "print(classification_report(max_y_test, max_y_pred_test))"
   ]
  },
  {
   "cell_type": "code",
   "execution_count": 21,
   "id": "8c111944",
   "metadata": {},
   "outputs": [],
   "source": [
    "model_m.save('best_model_cnn_online_data.h5')"
   ]
  },
  {
   "cell_type": "markdown",
   "id": "c7464269",
   "metadata": {},
   "source": [
    "### LSTM Model"
   ]
  },
  {
   "cell_type": "code",
   "execution_count": 22,
   "id": "96b75034",
   "metadata": {},
   "outputs": [
    {
     "name": "stdout",
     "output_type": "stream",
     "text": [
      "Model: \"sequential_1\"\n",
      "_________________________________________________________________\n",
      " Layer (type)                Output Shape              Param #   \n",
      "=================================================================\n",
      " lstm (LSTM)                 (None, 400)               651200    \n",
      "                                                                 \n",
      " dropout_1 (Dropout)         (None, 400)               0         \n",
      "                                                                 \n",
      " dense_1 (Dense)             (None, 200)               80200     \n",
      "                                                                 \n",
      " dense_2 (Dense)             (None, 3)                 603       \n",
      "                                                                 \n",
      "=================================================================\n",
      "Total params: 732,003\n",
      "Trainable params: 732,003\n",
      "Non-trainable params: 0\n",
      "_________________________________________________________________\n",
      "None\n"
     ]
    }
   ],
   "source": [
    "model_lstm = Sequential()\n",
    "model_lstm.add(LSTM(400, input_shape=(TIME_PERIODS,no_of_features)))\n",
    "model_lstm.add(Dropout(0.3))\n",
    "model_lstm.add(Dense(200, activation='relu'))\n",
    "model_lstm.add(Dense(len(LABELS), activation='softmax'))\n",
    "print(model_lstm.summary())"
   ]
  },
  {
   "cell_type": "code",
   "execution_count": 23,
   "id": "599d0234",
   "metadata": {},
   "outputs": [
    {
     "data": {
      "text/plain": [
       "(12530, 60, 6)"
      ]
     },
     "execution_count": 23,
     "metadata": {},
     "output_type": "execute_result"
    }
   ],
   "source": [
    "x_train = x_train.reshape(x_train.shape[0], TIME_PERIODS, no_of_features)\n",
    "x_train.shape"
   ]
  },
  {
   "cell_type": "code",
   "execution_count": 24,
   "id": "7da4c090",
   "metadata": {
    "scrolled": true
   },
   "outputs": [
    {
     "name": "stdout",
     "output_type": "stream",
     "text": [
      "Epoch 1/50\n",
      "63/63 [==============================] - 10s 114ms/step - loss: 0.7217 - accuracy: 0.7049\n",
      "Epoch 2/50\n",
      "63/63 [==============================] - 7s 113ms/step - loss: 0.3665 - accuracy: 0.8706\n",
      "Epoch 3/50\n",
      "63/63 [==============================] - 7s 114ms/step - loss: 0.3223 - accuracy: 0.8895\n",
      "Epoch 4/50\n",
      "63/63 [==============================] - 7s 114ms/step - loss: 0.3002 - accuracy: 0.8972\n",
      "Epoch 5/50\n",
      "63/63 [==============================] - 7s 114ms/step - loss: 0.2747 - accuracy: 0.9075\n",
      "Epoch 6/50\n",
      "63/63 [==============================] - 7s 115ms/step - loss: 0.2656 - accuracy: 0.9088\n",
      "Epoch 7/50\n",
      "63/63 [==============================] - 7s 116ms/step - loss: 0.2538 - accuracy: 0.9138\n",
      "Epoch 8/50\n",
      "63/63 [==============================] - 7s 118ms/step - loss: 0.2351 - accuracy: 0.9184\n",
      "Epoch 9/50\n",
      "63/63 [==============================] - 8s 121ms/step - loss: 0.2253 - accuracy: 0.9215\n",
      "Epoch 10/50\n",
      "63/63 [==============================] - 8s 121ms/step - loss: 0.2194 - accuracy: 0.9235\n",
      "Epoch 11/50\n",
      "63/63 [==============================] - 8s 122ms/step - loss: 0.2176 - accuracy: 0.9216\n",
      "Epoch 12/50\n",
      "63/63 [==============================] - 8s 122ms/step - loss: 0.2129 - accuracy: 0.9232\n"
     ]
    }
   ],
   "source": [
    "callbacks_list = [\n",
    "    keras.callbacks.EarlyStopping(monitor='accuracy', patience=2)\n",
    "]\n",
    "\n",
    "opt = optimizers.Adam(learning_rate=0.001)\n",
    "\n",
    "model_lstm.compile(loss='categorical_crossentropy', optimizer='adam', metrics=['accuracy'])\n",
    "\n",
    "BATCH_SIZE = 200\n",
    "EPOCHS = 50\n",
    "\n",
    "history = model_lstm.fit(x_train,\n",
    "                      y_train,\n",
    "                      batch_size=BATCH_SIZE,\n",
    "                      epochs=EPOCHS,\n",
    "                      callbacks=callbacks_list,\n",
    "                      verbose=1)"
   ]
  },
  {
   "cell_type": "code",
   "execution_count": 25,
   "id": "03c133b2",
   "metadata": {},
   "outputs": [
    {
     "data": {
      "image/png": "[encoded data removed]",
      "text/plain": [
       "<Figure size 432x288 with 1 Axes>"
      ]
     },
     "metadata": {
      "needs_background": "light"
     },
     "output_type": "display_data"
    }
   ],
   "source": [
    "# summarize history for accuracy and loss\n",
    "plt.figure(figsize=(6, 4))\n",
    "plt.plot(history.history['accuracy'], \"g--\", label=\"Accuracy of training data\")\n",
    "# plt.plot(history.history['val_accuracy'], \"g\", label=\"Accuracy of validation data\")\n",
    "plt.plot(history.history['loss'], \"r--\", label=\"Loss of training data\")\n",
    "# plt.plot(history.history['val_loss'], \"r\", label=\"Loss of validation data\")\n",
    "plt.title('Model Accuracy and Loss')\n",
    "plt.ylabel('Accuracy and Loss')\n",
    "plt.xlabel('Training Epoch')\n",
    "plt.ylim(0)\n",
    "plt.legend()\n",
    "plt.show()"
   ]
  },
  {
   "cell_type": "code",
   "execution_count": 26,
   "id": "d3bca8ed",
   "metadata": {},
   "outputs": [
    {
     "data": {
      "text/plain": [
       "(6263, 60, 6)"
      ]
     },
     "execution_count": 26,
     "metadata": {},
     "output_type": "execute_result"
    }
   ],
   "source": [
    "x_test = x_test.reshape(x_test.shape[0], TIME_PERIODS, no_of_features)\n",
    "x_test.shape"
   ]
  },
  {
   "cell_type": "code",
   "execution_count": 27,
   "id": "dd51cfae",
   "metadata": {},
   "outputs": [
    {
     "name": "stdout",
     "output_type": "stream",
     "text": [
      "196/196 [==============================] - 3s 12ms/step - loss: 0.3048 - accuracy: 0.8994\n",
      "\n",
      "Accuracy on test data: 0.90\n",
      "\n",
      "Loss on test data: 0.30\n"
     ]
    }
   ],
   "source": [
    "score = model_lstm.evaluate(x_test, y_test, verbose=1)\n",
    "\n",
    "print(\"\\nAccuracy on test data: %0.2f\" % score[1])\n",
    "print(\"\\nLoss on test data: %0.2f\" % score[0])"
   ]
  },
  {
   "cell_type": "code",
   "execution_count": 28,
   "id": "11f27a2e",
   "metadata": {},
   "outputs": [
    {
     "data": {
      "image/png": "[encoded data removed]",
      "text/plain": [
       "<Figure size 432x288 with 2 Axes>"
      ]
     },
     "metadata": {
      "needs_background": "light"
     },
     "output_type": "display_data"
    },
    {
     "name": "stdout",
     "output_type": "stream",
     "text": [
      "\n",
      "--- Classification report for test data ---\n",
      "\n",
      "              precision    recall  f1-score   support\n",
      "\n",
      "           0       0.86      0.70      0.77      1200\n",
      "           1       0.90      0.98      0.94      3073\n",
      "           2       0.92      0.90      0.91      1990\n",
      "\n",
      "    accuracy                           0.90      6263\n",
      "   macro avg       0.89      0.86      0.87      6263\n",
      "weighted avg       0.90      0.90      0.90      6263\n",
      "\n"
     ]
    }
   ],
   "source": [
    "y_pred_test = model_lstm.predict(x_test)\n",
    "# Take the class with the highest probability from the test predictions\n",
    "max_y_pred_test = np.argmax(y_pred_test, axis=1)\n",
    "max_y_test = np.argmax(y_test, axis=1)\n",
    "\n",
    "show_confusion_matrix(max_y_test, max_y_pred_test)\n",
    "\n",
    "print(\"\\n--- Classification report for test data ---\\n\")\n",
    "\n",
    "print(classification_report(max_y_test, max_y_pred_test))"
   ]
  },
  {
   "cell_type": "code",
   "execution_count": 29,
   "id": "ce1d55ae",
   "metadata": {},
   "outputs": [],
   "source": [
    "model_lstm.save('best_model_lstm_online_data.h5')"
   ]
  },
  {
   "cell_type": "markdown",
   "id": "080892e0",
   "metadata": {},
   "source": [
    "### 1D CNN + LSTM Model"
   ]
  },
  {
   "cell_type": "code",
   "execution_count": 30,
   "id": "cd822796",
   "metadata": {},
   "outputs": [
    {
     "name": "stdout",
     "output_type": "stream",
     "text": [
      "Model: \"sequential_2\"\n",
      "_________________________________________________________________\n",
      " Layer (type)                Output Shape              Param #   \n",
      "=================================================================\n",
      " conv1d_3 (Conv1D)           (None, 58, 100)           1900      \n",
      "                                                                 \n",
      " lstm_1 (LSTM)               (None, 58, 200)           240800    \n",
      "                                                                 \n",
      " conv1d_4 (Conv1D)           (None, 56, 100)           60100     \n",
      "                                                                 \n",
      " max_pooling1d_2 (MaxPooling  (None, 18, 100)          0         \n",
      " 1D)                                                             \n",
      "                                                                 \n",
      " conv1d_5 (Conv1D)           (None, 16, 100)           30100     \n",
      "                                                                 \n",
      " global_average_pooling1d_1   (None, 100)              0         \n",
      " (GlobalAveragePooling1D)                                        \n",
      "                                                                 \n",
      " dropout_2 (Dropout)         (None, 100)               0         \n",
      "                                                                 \n",
      " dense_3 (Dense)             (None, 80)                8080      \n",
      "                                                                 \n",
      " dense_4 (Dense)             (None, 3)                 243       \n",
      "                                                                 \n",
      "=================================================================\n",
      "Total params: 341,223\n",
      "Trainable params: 341,223\n",
      "Non-trainable params: 0\n",
      "_________________________________________________________________\n",
      "None\n"
     ]
    }
   ],
   "source": [
    "model_lsnet = Sequential()\n",
    "model_lsnet.add(Conv1D(100, 3, activation='relu', input_shape=(TIME_PERIODS,no_of_features)))\n",
    "model_lsnet.add(LSTM(200, return_sequences=True))\n",
    "model_lsnet.add(Conv1D(100, 3, activation='relu'))\n",
    "model_lsnet.add(MaxPooling1D(3))\n",
    "model_lsnet.add(Conv1D(100, 3, activation='relu'))\n",
    "model_lsnet.add(GlobalAveragePooling1D())\n",
    "model_lsnet.add(Dropout(0.4))\n",
    "model_lsnet.add(Dense(80, activation='relu'))\n",
    "model_lsnet.add(Dense(len(LABELS), activation='softmax'))\n",
    "print(model_lsnet.summary())"
   ]
  },
  {
   "cell_type": "code",
   "execution_count": 31,
   "id": "d6d31add",
   "metadata": {},
   "outputs": [
    {
     "data": {
      "text/plain": [
       "(12530, 60, 6)"
      ]
     },
     "execution_count": 31,
     "metadata": {},
     "output_type": "execute_result"
    }
   ],
   "source": [
    "x_train = x_train.reshape(x_train.shape[0], TIME_PERIODS, no_of_features)\n",
    "x_train.shape"
   ]
  },
  {
   "cell_type": "code",
   "execution_count": 32,
   "id": "d5c82411",
   "metadata": {
    "scrolled": true
   },
   "outputs": [
    {
     "name": "stdout",
     "output_type": "stream",
     "text": [
      "Epoch 1/50\n",
      "63/63 [==============================] - 7s 74ms/step - loss: 1.0068 - accuracy: 0.4966\n",
      "Epoch 2/50\n",
      "63/63 [==============================] - 4s 68ms/step - loss: 0.6499 - accuracy: 0.7579\n",
      "Epoch 3/50\n",
      "63/63 [==============================] - 4s 68ms/step - loss: 0.4571 - accuracy: 0.8299\n",
      "Epoch 4/50\n",
      "63/63 [==============================] - 4s 70ms/step - loss: 0.4095 - accuracy: 0.8514\n",
      "Epoch 5/50\n",
      "63/63 [==============================] - 4s 71ms/step - loss: 0.3890 - accuracy: 0.8588\n",
      "Epoch 6/50\n",
      "63/63 [==============================] - 5s 72ms/step - loss: 0.3882 - accuracy: 0.8619\n",
      "Epoch 7/50\n",
      "63/63 [==============================] - 5s 72ms/step - loss: 0.3689 - accuracy: 0.8686\n",
      "Epoch 8/50\n",
      "63/63 [==============================] - 5s 74ms/step - loss: 0.3519 - accuracy: 0.8757\n",
      "Epoch 9/50\n",
      "63/63 [==============================] - 5s 75ms/step - loss: 0.3517 - accuracy: 0.8742\n",
      "Epoch 10/50\n",
      "63/63 [==============================] - 5s 76ms/step - loss: 0.3327 - accuracy: 0.8843\n",
      "Epoch 11/50\n",
      "63/63 [==============================] - 5s 76ms/step - loss: 0.3337 - accuracy: 0.8834\n",
      "Epoch 12/50\n",
      "63/63 [==============================] - 5s 76ms/step - loss: 0.3267 - accuracy: 0.8852\n",
      "Epoch 13/50\n",
      "63/63 [==============================] - 5s 75ms/step - loss: 0.3165 - accuracy: 0.8927\n",
      "Epoch 14/50\n",
      "63/63 [==============================] - 5s 75ms/step - loss: 0.3132 - accuracy: 0.8899\n",
      "Epoch 15/50\n",
      "63/63 [==============================] - 5s 77ms/step - loss: 0.3205 - accuracy: 0.8887\n"
     ]
    }
   ],
   "source": [
    "callbacks_list = [\n",
    "    keras.callbacks.EarlyStopping(monitor='accuracy', patience=2)\n",
    "]\n",
    "\n",
    "opt = optimizers.SGD(learning_rate=0.01, momentum=0.9)\n",
    "\n",
    "model_lsnet.compile(loss='categorical_crossentropy', optimizer=opt, metrics=['accuracy'])\n",
    "\n",
    "BATCH_SIZE = 200\n",
    "EPOCHS = 50\n",
    "\n",
    "history = model_lsnet.fit(x_train,\n",
    "                      y_train,\n",
    "                      batch_size=BATCH_SIZE,\n",
    "                      epochs=EPOCHS,\n",
    "                      callbacks=callbacks_list,\n",
    "                      verbose=1)"
   ]
  },
  {
   "cell_type": "code",
   "execution_count": 33,
   "id": "79495a5e",
   "metadata": {},
   "outputs": [
    {
     "data": {
      "image/png": "[encoded data removed]",
      "text/plain": [
       "<Figure size 432x288 with 1 Axes>"
      ]
     },
     "metadata": {
      "needs_background": "light"
     },
     "output_type": "display_data"
    }
   ],
   "source": [
    "# summarize history for accuracy and loss\n",
    "plt.figure(figsize=(6, 4))\n",
    "plt.plot(history.history['accuracy'], \"g--\", label=\"Accuracy of training data\")\n",
    "# plt.plot(history.history['val_accuracy'], \"g\", label=\"Accuracy of validation data\")\n",
    "plt.plot(history.history['loss'], \"r--\", label=\"Loss of training data\")\n",
    "# plt.plot(history.history['val_loss'], \"r\", label=\"Loss of validation data\")\n",
    "plt.title('Model Accuracy and Loss')\n",
    "plt.ylabel('Accuracy and Loss')\n",
    "plt.xlabel('Training Epoch')\n",
    "plt.ylim(0)\n",
    "plt.legend()\n",
    "plt.show()"
   ]
  },
  {
   "cell_type": "code",
   "execution_count": 34,
   "id": "fbd9fc0f",
   "metadata": {},
   "outputs": [
    {
     "data": {
      "text/plain": [
       "(6263, 60, 6)"
      ]
     },
     "execution_count": 34,
     "metadata": {},
     "output_type": "execute_result"
    }
   ],
   "source": [
    "x_test = x_test.reshape(x_test.shape[0], TIME_PERIODS, no_of_features)\n",
    "x_test.shape"
   ]
  },
  {
   "cell_type": "code",
   "execution_count": 35,
   "id": "e2537d84",
   "metadata": {},
   "outputs": [
    {
     "name": "stdout",
     "output_type": "stream",
     "text": [
      "196/196 [==============================] - 3s 9ms/step - loss: 0.3874 - accuracy: 0.8735\n",
      "\n",
      "Accuracy on test data: 0.87\n",
      "\n",
      "Loss on test data: 0.39\n"
     ]
    }
   ],
   "source": [
    "score = model_lsnet.evaluate(x_test, y_test, verbose=1)\n",
    "\n",
    "print(\"\\nAccuracy on test data: %0.2f\" % score[1])\n",
    "print(\"\\nLoss on test data: %0.2f\" % score[0])"
   ]
  },
  {
   "cell_type": "code",
   "execution_count": 36,
   "id": "8127c99e",
   "metadata": {},
   "outputs": [
    {
     "data": {
      "image/png": "[encoded data removed]",
      "text/plain": [
       "<Figure size 432x288 with 2 Axes>"
      ]
     },
     "metadata": {
      "needs_background": "light"
     },
     "output_type": "display_data"
    },
    {
     "name": "stdout",
     "output_type": "stream",
     "text": [
      "\n",
      "--- Classification report for test data ---\n",
      "\n",
      "              precision    recall  f1-score   support\n",
      "\n",
      "           0       0.87      0.61      0.72      1200\n",
      "           1       0.84      0.98      0.91      3073\n",
      "           2       0.94      0.87      0.90      1990\n",
      "\n",
      "    accuracy                           0.87      6263\n",
      "   macro avg       0.88      0.82      0.84      6263\n",
      "weighted avg       0.88      0.87      0.87      6263\n",
      "\n"
     ]
    }
   ],
   "source": [
    "y_pred_test = model_lsnet.predict(x_test)\n",
    "# Take the class with the highest probability from the test predictions\n",
    "max_y_pred_test = np.argmax(y_pred_test, axis=1)\n",
    "max_y_test = np.argmax(y_test, axis=1)\n",
    "\n",
    "show_confusion_matrix(max_y_test, max_y_pred_test)\n",
    "\n",
    "print(\"\\n--- Classification report for test data ---\\n\")\n",
    "\n",
    "print(classification_report(max_y_test, max_y_pred_test))"
   ]
  },
  {
   "cell_type": "code",
   "execution_count": 37,
   "id": "0ef8b2e5",
   "metadata": {},
   "outputs": [],
   "source": [
    "model_lsnet.save('best_model_lsnet_online_data.h5')"
   ]
  },
  {
   "cell_type": "markdown",
   "id": "7a6e05cb",
   "metadata": {},
   "source": [
    "### RNN Model (not used)"
   ]
  },
  {
   "cell_type": "code",
   "execution_count": 38,
   "id": "d67cceec",
   "metadata": {},
   "outputs": [
    {
     "name": "stdout",
     "output_type": "stream",
     "text": [
      "Model: \"sequential_3\"\n",
      "_________________________________________________________________\n",
      " Layer (type)                Output Shape              Param #   \n",
      "=================================================================\n",
      " embedding (Embedding)       (None, None, 64)          23040     \n",
      "                                                                 \n",
      " gru (GRU)                   (None, None, 128)         74496     \n",
      "                                                                 \n",
      " simple_rnn (SimpleRNN)      (None, 64)                12352     \n",
      "                                                                 \n",
      " dropout_3 (Dropout)         (None, 64)                0         \n",
      "                                                                 \n",
      " dense_5 (Dense)             (None, 3)                 195       \n",
      "                                                                 \n",
      "=================================================================\n",
      "Total params: 110,083\n",
      "Trainable params: 110,083\n",
      "Non-trainable params: 0\n",
      "_________________________________________________________________\n"
     ]
    }
   ],
   "source": [
    "model_rnn = keras.Sequential()\n",
    "model_rnn.add(Embedding(input_dim=TIME_PERIODS*no_of_features, output_dim=64))\n",
    "\n",
    "# The output of GRU will be a 3D tensor of shape (batch_size, timesteps, 256)\n",
    "model_rnn.add(GRU(128, return_sequences=True))\n",
    "\n",
    "# The output of SimpleRNN will be a 2D tensor of shape (batch_size, 128)\n",
    "model_rnn.add(SimpleRNN(64))\n",
    "model_rnn.add(Dropout(0.4))\n",
    "model_rnn.add(Dense(len(LABELS), activation='softmax'))\n",
    "\n",
    "model_rnn.summary()"
   ]
  },
  {
   "cell_type": "code",
   "execution_count": 39,
   "id": "627c2801",
   "metadata": {},
   "outputs": [
    {
     "data": {
      "text/plain": [
       "(12530, 360)"
      ]
     },
     "execution_count": 39,
     "metadata": {},
     "output_type": "execute_result"
    }
   ],
   "source": [
    "x_train = x_train.reshape(x_train.shape[0], TIME_PERIODS*no_of_features)\n",
    "x_train.shape"
   ]
  },
  {
   "cell_type": "code",
   "execution_count": 40,
   "id": "e9b1a6d8",
   "metadata": {
    "scrolled": true
   },
   "outputs": [
    {
     "name": "stdout",
     "output_type": "stream",
     "text": [
      "Epoch 1/50\n",
      "63/63 [==============================] - 51s 768ms/step - loss: 0.9650 - accuracy: 0.5677\n",
      "Epoch 2/50\n",
      "63/63 [==============================] - 54s 856ms/step - loss: 0.8704 - accuracy: 0.6541\n",
      "Epoch 3/50\n",
      "63/63 [==============================] - 54s 860ms/step - loss: 0.8368 - accuracy: 0.6603\n",
      "Epoch 4/50\n",
      "63/63 [==============================] - 54s 850ms/step - loss: 0.7185 - accuracy: 0.7168\n",
      "Epoch 5/50\n",
      "63/63 [==============================] - 56s 881ms/step - loss: 0.6756 - accuracy: 0.7254\n",
      "Epoch 6/50\n",
      "63/63 [==============================] - 65s 1s/step - loss: 0.6355 - accuracy: 0.7444\n",
      "Epoch 7/50\n",
      "63/63 [==============================] - 56s 890ms/step - loss: 0.6344 - accuracy: 0.7454\n",
      "Epoch 8/50\n",
      "63/63 [==============================] - 55s 865ms/step - loss: 0.5839 - accuracy: 0.7644\n",
      "Epoch 9/50\n",
      "63/63 [==============================] - 58s 921ms/step - loss: 0.5659 - accuracy: 0.7797\n",
      "Epoch 10/50\n",
      "63/63 [==============================] - 57s 903ms/step - loss: 0.5596 - accuracy: 0.7904\n",
      "Epoch 11/50\n",
      "63/63 [==============================] - 59s 943ms/step - loss: 0.5422 - accuracy: 0.7983\n",
      "Epoch 12/50\n",
      "63/63 [==============================] - 55s 871ms/step - loss: 0.5133 - accuracy: 0.8124\n",
      "Epoch 13/50\n",
      "63/63 [==============================] - 57s 901ms/step - loss: 0.5066 - accuracy: 0.8136\n",
      "Epoch 14/50\n",
      "63/63 [==============================] - 68s 1s/step - loss: 0.4792 - accuracy: 0.8267\n",
      "Epoch 15/50\n",
      "63/63 [==============================] - 68s 1s/step - loss: 0.4595 - accuracy: 0.8399\n",
      "Epoch 16/50\n",
      "63/63 [==============================] - 66s 1s/step - loss: 0.4427 - accuracy: 0.8442\n",
      "Epoch 17/50\n",
      "63/63 [==============================] - 63s 996ms/step - loss: 0.4492 - accuracy: 0.8412\n"
     ]
    }
   ],
   "source": [
    "callbacks_list = [\n",
    "    keras.callbacks.EarlyStopping(monitor='accuracy', patience=1)\n",
    "]\n",
    "\n",
    "# opt = optimizers.SGD(learning_rate=0.01, momentum=0.9)\n",
    "\n",
    "model_rnn.compile(loss='categorical_crossentropy', optimizer='adam', metrics=['accuracy'])\n",
    "\n",
    "BATCH_SIZE = 200\n",
    "EPOCHS = 50\n",
    "\n",
    "history = model_rnn.fit(x_train,\n",
    "                      y_train,\n",
    "                      batch_size=BATCH_SIZE,\n",
    "                      epochs=EPOCHS,\n",
    "                      callbacks=callbacks_list,\n",
    "                      verbose=1)"
   ]
  },
  {
   "cell_type": "code",
   "execution_count": 41,
   "id": "2c815cec",
   "metadata": {},
   "outputs": [
    {
     "data": {
      "image/png": "[encoded data removed]",
      "text/plain": [
       "<Figure size 432x288 with 1 Axes>"
      ]
     },
     "metadata": {
      "needs_background": "light"
     },
     "output_type": "display_data"
    }
   ],
   "source": [
    "# summarize history for accuracy and loss\n",
    "plt.figure(figsize=(6, 4))\n",
    "plt.plot(history.history['accuracy'], \"g--\", label=\"Accuracy of training data\")\n",
    "# plt.plot(history.history['val_accuracy'], \"g\", label=\"Accuracy of validation data\")\n",
    "plt.plot(history.history['loss'], \"r--\", label=\"Loss of training data\")\n",
    "# plt.plot(history.history['val_loss'], \"r\", label=\"Loss of validation data\")\n",
    "plt.title('Model Accuracy and Loss')\n",
    "plt.ylabel('Accuracy and Loss')\n",
    "plt.xlabel('Training Epoch')\n",
    "plt.ylim(0)\n",
    "plt.legend()\n",
    "plt.show()"
   ]
  },
  {
   "cell_type": "code",
   "execution_count": 42,
   "id": "371bef1d",
   "metadata": {},
   "outputs": [
    {
     "data": {
      "text/plain": [
       "(6263, 360)"
      ]
     },
     "execution_count": 42,
     "metadata": {},
     "output_type": "execute_result"
    }
   ],
   "source": [
    "x_test = x_test.reshape(x_test.shape[0], TIME_PERIODS*no_of_features)\n",
    "x_test.shape"
   ]
  },
  {
   "cell_type": "code",
   "execution_count": 43,
   "id": "5545c8ab",
   "metadata": {},
   "outputs": [
    {
     "name": "stdout",
     "output_type": "stream",
     "text": [
      "196/196 [==============================] - 13s 62ms/step - loss: 0.5728 - accuracy: 0.7918\n",
      "\n",
      "Accuracy on test data: 0.79\n",
      "\n",
      "Loss on test data: 0.57\n"
     ]
    }
   ],
   "source": [
    "score = model_rnn.evaluate(x_test, y_test, verbose=1)\n",
    "\n",
    "print(\"\\nAccuracy on test data: %0.2f\" % score[1])\n",
    "print(\"\\nLoss on test data: %0.2f\" % score[0])"
   ]
  },
  {
   "cell_type": "code",
   "execution_count": 44,
   "id": "705e83e2",
   "metadata": {},
   "outputs": [
    {
     "data": {
      "image/png": "[encoded data removed]",
      "text/plain": [
       "<Figure size 432x288 with 2 Axes>"
      ]
     },
     "metadata": {
      "needs_background": "light"
     },
     "output_type": "display_data"
    },
    {
     "name": "stdout",
     "output_type": "stream",
     "text": [
      "\n",
      "--- Classification report for test data ---\n",
      "\n",
      "              precision    recall  f1-score   support\n",
      "\n",
      "           0       0.66      0.36      0.46      1200\n",
      "           1       0.77      0.95      0.85      3073\n",
      "           2       0.89      0.81      0.85      1990\n",
      "\n",
      "    accuracy                           0.79      6263\n",
      "   macro avg       0.77      0.71      0.72      6263\n",
      "weighted avg       0.79      0.79      0.77      6263\n",
      "\n"
     ]
    }
   ],
   "source": [
    "y_pred_test = model_rnn.predict(x_test)\n",
    "# Take the class with the highest probability from the test predictions\n",
    "max_y_pred_test = np.argmax(y_pred_test, axis=1)\n",
    "max_y_test = np.argmax(y_test, axis=1)\n",
    "\n",
    "show_confusion_matrix(max_y_test, max_y_pred_test)\n",
    "\n",
    "print(\"\\n--- Classification report for test data ---\\n\")\n",
    "\n",
    "print(classification_report(max_y_test, max_y_pred_test))"
   ]
  },
  {
   "cell_type": "code",
   "execution_count": null,
   "id": "159dda0b",
   "metadata": {},
   "outputs": [],
   "source": []
  }
 ],
 "metadata": {
  "kernelspec": {
   "display_name": "Python 3",
   "language": "python",
   "name": "python3"
  },
  "language_info": {
   "codemirror_mode": {
    "name": "ipython",
    "version": 3
   },
   "file_extension": ".py",
   "mimetype": "text/x-python",
   "name": "python",
   "nbconvert_exporter": "python",
   "pygments_lexer": "ipython3",
   "version": "3.8.8"
  }
 },
 "nbformat": 4,
 "nbformat_minor": 5
}
