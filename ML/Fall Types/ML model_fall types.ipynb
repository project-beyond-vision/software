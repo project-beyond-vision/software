{
 "cells": [
  {
   "cell_type": "markdown",
   "id": "12f4f356",
   "metadata": {},
   "source": [
    "# Getting Fall Types Data"
   ]
  },
  {
   "cell_type": "code",
   "execution_count": 5,
   "id": "46279785",
   "metadata": {},
   "outputs": [],
   "source": [
    "from matplotlib import pyplot as plt\n",
    "%matplotlib inline\n",
    "import numpy as np\n",
    "import pandas as pd\n",
    "import seaborn as sns\n",
    "from scipy import stats\n",
    "from IPython.display import display, HTML\n",
    "import os\n",
    "import glob\n",
    "import io\n",
    "from scipy import signal\n",
    "import warnings\n",
    "warnings.filterwarnings('ignore')"
   ]
  },
  {
   "cell_type": "code",
   "execution_count": 6,
   "id": "38e7a828",
   "metadata": {},
   "outputs": [
    {
     "name": "stdout",
     "output_type": "stream",
     "text": [
      "Reading folder: Ramana\n",
      "\tReading internal folder: fall\n",
      "\tReading internal folder: idle\n",
      "Reading folder: Wamika\n",
      "\tReading internal folder: fall\n",
      "\tReading internal folder: gettingup\n",
      "\tReading internal folder: idle\n",
      "\tReading internal folder: sitting\n",
      "\tReading internal folder: walking\n",
      "Reading folder: Wira\n",
      "\tReading internal folder: fall\n",
      "\tReading internal folder: gettingup\n",
      "\tReading internal folder: idle\n",
      "\tReading internal folder: sitting\n",
      "\tReading internal folder: walking\n",
      "Reading folder: Zeon\n",
      "\tReading internal folder: fall\n",
      "\tReading internal folder: gettingup\n",
      "\tReading internal folder: idle\n",
      "\tReading internal folder: sitting\n",
      "\tReading internal folder: walking\n"
     ]
    },
    {
     "data": {
      "text/html": [
       "<div>\n",
       "<style scoped>\n",
       "    .dataframe tbody tr th:only-of-type {\n",
       "        vertical-align: middle;\n",
       "    }\n",
       "\n",
       "    .dataframe tbody tr th {\n",
       "        vertical-align: top;\n",
       "    }\n",
       "\n",
       "    .dataframe thead th {\n",
       "        text-align: right;\n",
       "    }\n",
       "</style>\n",
       "<table border=\"1\" class=\"dataframe\">\n",
       "  <thead>\n",
       "    <tr style=\"text-align: right;\">\n",
       "      <th></th>\n",
       "      <th>accel_x</th>\n",
       "      <th>accel_y</th>\n",
       "      <th>accel_z</th>\n",
       "      <th>gyro_x</th>\n",
       "      <th>gyro_y</th>\n",
       "      <th>gyro_z</th>\n",
       "      <th>user</th>\n",
       "      <th>fall_type</th>\n",
       "    </tr>\n",
       "  </thead>\n",
       "  <tbody>\n",
       "    <tr>\n",
       "      <th>1</th>\n",
       "      <td>0.05</td>\n",
       "      <td>0.01</td>\n",
       "      <td>1.00</td>\n",
       "      <td>-5.91</td>\n",
       "      <td>-0.68</td>\n",
       "      <td>-2.78</td>\n",
       "      <td>Ramana</td>\n",
       "      <td>left</td>\n",
       "    </tr>\n",
       "    <tr>\n",
       "      <th>2</th>\n",
       "      <td>0.05</td>\n",
       "      <td>0.01</td>\n",
       "      <td>1.00</td>\n",
       "      <td>-1.95</td>\n",
       "      <td>-0.20</td>\n",
       "      <td>-1.31</td>\n",
       "      <td>Ramana</td>\n",
       "      <td>left</td>\n",
       "    </tr>\n",
       "    <tr>\n",
       "      <th>3</th>\n",
       "      <td>0.06</td>\n",
       "      <td>0.00</td>\n",
       "      <td>1.01</td>\n",
       "      <td>-1.33</td>\n",
       "      <td>0.11</td>\n",
       "      <td>-1.13</td>\n",
       "      <td>Ramana</td>\n",
       "      <td>left</td>\n",
       "    </tr>\n",
       "    <tr>\n",
       "      <th>4</th>\n",
       "      <td>0.06</td>\n",
       "      <td>0.01</td>\n",
       "      <td>1.00</td>\n",
       "      <td>-0.24</td>\n",
       "      <td>0.96</td>\n",
       "      <td>-0.82</td>\n",
       "      <td>Ramana</td>\n",
       "      <td>left</td>\n",
       "    </tr>\n",
       "    <tr>\n",
       "      <th>5</th>\n",
       "      <td>0.05</td>\n",
       "      <td>0.01</td>\n",
       "      <td>1.00</td>\n",
       "      <td>-0.11</td>\n",
       "      <td>1.33</td>\n",
       "      <td>-0.70</td>\n",
       "      <td>Ramana</td>\n",
       "      <td>left</td>\n",
       "    </tr>\n",
       "    <tr>\n",
       "      <th>...</th>\n",
       "      <td>...</td>\n",
       "      <td>...</td>\n",
       "      <td>...</td>\n",
       "      <td>...</td>\n",
       "      <td>...</td>\n",
       "      <td>...</td>\n",
       "      <td>...</td>\n",
       "      <td>...</td>\n",
       "    </tr>\n",
       "    <tr>\n",
       "      <th>56</th>\n",
       "      <td>0.97</td>\n",
       "      <td>-0.87</td>\n",
       "      <td>0.99</td>\n",
       "      <td>2.75</td>\n",
       "      <td>-7.24</td>\n",
       "      <td>-0.03</td>\n",
       "      <td>Zeon</td>\n",
       "      <td>right</td>\n",
       "    </tr>\n",
       "    <tr>\n",
       "      <th>57</th>\n",
       "      <td>1.01</td>\n",
       "      <td>-0.90</td>\n",
       "      <td>0.95</td>\n",
       "      <td>3.67</td>\n",
       "      <td>-4.25</td>\n",
       "      <td>3.75</td>\n",
       "      <td>Zeon</td>\n",
       "      <td>right</td>\n",
       "    </tr>\n",
       "    <tr>\n",
       "      <th>58</th>\n",
       "      <td>1.01</td>\n",
       "      <td>-0.89</td>\n",
       "      <td>0.89</td>\n",
       "      <td>8.67</td>\n",
       "      <td>6.68</td>\n",
       "      <td>3.33</td>\n",
       "      <td>Zeon</td>\n",
       "      <td>right</td>\n",
       "    </tr>\n",
       "    <tr>\n",
       "      <th>59</th>\n",
       "      <td>1.00</td>\n",
       "      <td>-0.83</td>\n",
       "      <td>0.92</td>\n",
       "      <td>5.56</td>\n",
       "      <td>3.63</td>\n",
       "      <td>-1.07</td>\n",
       "      <td>Zeon</td>\n",
       "      <td>right</td>\n",
       "    </tr>\n",
       "    <tr>\n",
       "      <th>60</th>\n",
       "      <td>0.98</td>\n",
       "      <td>-0.85</td>\n",
       "      <td>0.96</td>\n",
       "      <td>-2.43</td>\n",
       "      <td>2.95</td>\n",
       "      <td>-3.63</td>\n",
       "      <td>Zeon</td>\n",
       "      <td>right</td>\n",
       "    </tr>\n",
       "  </tbody>\n",
       "</table>\n",
       "<p>8700 rows × 8 columns</p>\n",
       "</div>"
      ],
      "text/plain": [
       "    accel_x  accel_y  accel_z  gyro_x  gyro_y  gyro_z    user fall_type\n",
       "1      0.05     0.01     1.00   -5.91   -0.68   -2.78  Ramana      left\n",
       "2      0.05     0.01     1.00   -1.95   -0.20   -1.31  Ramana      left\n",
       "3      0.06     0.00     1.01   -1.33    0.11   -1.13  Ramana      left\n",
       "4      0.06     0.01     1.00   -0.24    0.96   -0.82  Ramana      left\n",
       "5      0.05     0.01     1.00   -0.11    1.33   -0.70  Ramana      left\n",
       "..      ...      ...      ...     ...     ...     ...     ...       ...\n",
       "56     0.97    -0.87     0.99    2.75   -7.24   -0.03    Zeon     right\n",
       "57     1.01    -0.90     0.95    3.67   -4.25    3.75    Zeon     right\n",
       "58     1.01    -0.89     0.89    8.67    6.68    3.33    Zeon     right\n",
       "59     1.00    -0.83     0.92    5.56    3.63   -1.07    Zeon     right\n",
       "60     0.98    -0.85     0.96   -2.43    2.95   -3.63    Zeon     right\n",
       "\n",
       "[8700 rows x 8 columns]"
      ]
     },
     "execution_count": 6,
     "metadata": {},
     "output_type": "execute_result"
    }
   ],
   "source": [
    "subject_folders = os.listdir(\"new data\")\n",
    "column_names = [\"accel_x\", \"accel_y\", \"accel_z\", \"gyro_x\", \"gyro_y\", \"gyro_z\"]\n",
    "combined_data = pd.DataFrame(columns=column_names)\n",
    "\n",
    "activity = {'fall': 'Fall', 'jogging': 'Jogging', 'sitting': 'Sitting action', 'walking': 'Walking', 'stairsdown': \\\n",
    "            'climbing stairs', 'stairsup': 'climbing stairs', 'gettingup': 'getting up'}\n",
    "\n",
    "for i in subject_folders:\n",
    "    temp_folder = []\n",
    "    if(i != 'combined_data.csv'):\n",
    "        temp_folder = os.listdir(\"new data/\" + i)\n",
    "        number_files = len(temp_folder)\n",
    "        print(\"Reading folder: \" + i)\n",
    "        for j in temp_folder:\n",
    "            print(\"\\tReading internal folder: \" + j)\n",
    "            files = os.listdir(\"new data/\" + i + \"/\" + j)\n",
    "            for k in files:\n",
    "#                 print(k)\n",
    "                if j == \"fall\":\n",
    "                    fall_files = os.listdir(\"new data/\" + i + \"/\" + j + \"/\" + k)\n",
    "                    for l in fall_files:\n",
    "                        file = io.BytesIO(open(\"new data/\" + i + \"/\" + j + \"/\" + k + \"/\" + l, 'rb').read().replace(b';',b''))\n",
    "                        data = np.genfromtxt(file,dtype=float,delimiter=',')\n",
    "                        df = pd.DataFrame(data, columns = column_names)\n",
    "                        df = df.iloc[1: , :]\n",
    "                        df[\"user\"] = i\n",
    "                        df[\"fall_type\"] = k\n",
    "                        combined_data = combined_data.append(df)\n",
    "combined_data"
   ]
  },
  {
   "cell_type": "code",
   "execution_count": 7,
   "id": "04e5a8c8",
   "metadata": {},
   "outputs": [],
   "source": [
    "combined_data.to_csv(\"new data/combined_data_fall_types.csv\", index=False)"
   ]
  },
  {
   "cell_type": "markdown",
   "id": "5cc33925",
   "metadata": {},
   "source": [
    "# Training public data"
   ]
  },
  {
   "cell_type": "code",
   "execution_count": 142,
   "id": "93aab5a6",
   "metadata": {},
   "outputs": [],
   "source": [
    "from matplotlib import pyplot as plt\n",
    "%matplotlib inline\n",
    "import numpy as np\n",
    "import pandas as pd\n",
    "import seaborn as sns\n",
    "from scipy import stats\n",
    "import math\n",
    "\n",
    "from sklearn import metrics\n",
    "from sklearn.metrics import classification_report\n",
    "from sklearn import preprocessing\n",
    "from sklearn.model_selection import train_test_split\n",
    "\n",
    "import keras\n",
    "import tensorflow as tf\n",
    "from keras.models import Sequential\n",
    "from keras.layers import Dense, Dropout, Flatten, Reshape, GlobalAveragePooling1D\n",
    "from keras.layers import Conv1D, MaxPooling1D, LSTM, Embedding, SimpleRNN, GRU\n",
    "from keras.utils import np_utils\n",
    "from tensorflow.keras import optimizers\n",
    "\n",
    "import warnings\n",
    "warnings.filterwarnings('ignore')"
   ]
  },
  {
   "cell_type": "code",
   "execution_count": 143,
   "id": "750464c1",
   "metadata": {},
   "outputs": [
    {
     "data": {
      "text/html": [
       "<div>\n",
       "<style scoped>\n",
       "    .dataframe tbody tr th:only-of-type {\n",
       "        vertical-align: middle;\n",
       "    }\n",
       "\n",
       "    .dataframe tbody tr th {\n",
       "        vertical-align: top;\n",
       "    }\n",
       "\n",
       "    .dataframe thead th {\n",
       "        text-align: right;\n",
       "    }\n",
       "</style>\n",
       "<table border=\"1\" class=\"dataframe\">\n",
       "  <thead>\n",
       "    <tr style=\"text-align: right;\">\n",
       "      <th></th>\n",
       "      <th>accel_x</th>\n",
       "      <th>accel_y</th>\n",
       "      <th>accel_z</th>\n",
       "      <th>gyro_x</th>\n",
       "      <th>gyro_y</th>\n",
       "      <th>gyro_z</th>\n",
       "      <th>user</th>\n",
       "      <th>fall_type</th>\n",
       "    </tr>\n",
       "  </thead>\n",
       "  <tbody>\n",
       "    <tr>\n",
       "      <th>0</th>\n",
       "      <td>0.050</td>\n",
       "      <td>0.010</td>\n",
       "      <td>1.000</td>\n",
       "      <td>-5.910</td>\n",
       "      <td>-0.680</td>\n",
       "      <td>-2.780</td>\n",
       "      <td>Ramana</td>\n",
       "      <td>left</td>\n",
       "    </tr>\n",
       "    <tr>\n",
       "      <th>1</th>\n",
       "      <td>0.050</td>\n",
       "      <td>0.010</td>\n",
       "      <td>1.000</td>\n",
       "      <td>-1.950</td>\n",
       "      <td>-0.200</td>\n",
       "      <td>-1.310</td>\n",
       "      <td>Ramana</td>\n",
       "      <td>left</td>\n",
       "    </tr>\n",
       "    <tr>\n",
       "      <th>2</th>\n",
       "      <td>0.060</td>\n",
       "      <td>0.000</td>\n",
       "      <td>1.010</td>\n",
       "      <td>-1.330</td>\n",
       "      <td>0.110</td>\n",
       "      <td>-1.130</td>\n",
       "      <td>Ramana</td>\n",
       "      <td>left</td>\n",
       "    </tr>\n",
       "    <tr>\n",
       "      <th>3</th>\n",
       "      <td>0.060</td>\n",
       "      <td>0.010</td>\n",
       "      <td>1.000</td>\n",
       "      <td>-0.240</td>\n",
       "      <td>0.960</td>\n",
       "      <td>-0.820</td>\n",
       "      <td>Ramana</td>\n",
       "      <td>left</td>\n",
       "    </tr>\n",
       "    <tr>\n",
       "      <th>4</th>\n",
       "      <td>0.050</td>\n",
       "      <td>0.010</td>\n",
       "      <td>1.000</td>\n",
       "      <td>-0.110</td>\n",
       "      <td>1.330</td>\n",
       "      <td>-0.700</td>\n",
       "      <td>Ramana</td>\n",
       "      <td>left</td>\n",
       "    </tr>\n",
       "    <tr>\n",
       "      <th>...</th>\n",
       "      <td>...</td>\n",
       "      <td>...</td>\n",
       "      <td>...</td>\n",
       "      <td>...</td>\n",
       "      <td>...</td>\n",
       "      <td>...</td>\n",
       "      <td>...</td>\n",
       "      <td>...</td>\n",
       "    </tr>\n",
       "    <tr>\n",
       "      <th>8695</th>\n",
       "      <td>0.970</td>\n",
       "      <td>-0.870</td>\n",
       "      <td>0.990</td>\n",
       "      <td>2.750</td>\n",
       "      <td>-7.240</td>\n",
       "      <td>-0.030</td>\n",
       "      <td>Zeon</td>\n",
       "      <td>right</td>\n",
       "    </tr>\n",
       "    <tr>\n",
       "      <th>8696</th>\n",
       "      <td>1.010</td>\n",
       "      <td>-0.900</td>\n",
       "      <td>0.950</td>\n",
       "      <td>3.670</td>\n",
       "      <td>-4.250</td>\n",
       "      <td>3.750</td>\n",
       "      <td>Zeon</td>\n",
       "      <td>right</td>\n",
       "    </tr>\n",
       "    <tr>\n",
       "      <th>8697</th>\n",
       "      <td>1.010</td>\n",
       "      <td>-0.890</td>\n",
       "      <td>0.890</td>\n",
       "      <td>8.670</td>\n",
       "      <td>6.680</td>\n",
       "      <td>3.330</td>\n",
       "      <td>Zeon</td>\n",
       "      <td>right</td>\n",
       "    </tr>\n",
       "    <tr>\n",
       "      <th>8698</th>\n",
       "      <td>1.000</td>\n",
       "      <td>-0.830</td>\n",
       "      <td>0.920</td>\n",
       "      <td>5.560</td>\n",
       "      <td>3.630</td>\n",
       "      <td>-1.070</td>\n",
       "      <td>Zeon</td>\n",
       "      <td>right</td>\n",
       "    </tr>\n",
       "    <tr>\n",
       "      <th>8699</th>\n",
       "      <td>0.980</td>\n",
       "      <td>-0.850</td>\n",
       "      <td>0.960</td>\n",
       "      <td>-2.430</td>\n",
       "      <td>2.950</td>\n",
       "      <td>-3.630</td>\n",
       "      <td>Zeon</td>\n",
       "      <td>right</td>\n",
       "    </tr>\n",
       "  </tbody>\n",
       "</table>\n",
       "<p>8700 rows × 8 columns</p>\n",
       "</div>"
      ],
      "text/plain": [
       "      accel_x  accel_y  accel_z  gyro_x  gyro_y  gyro_z    user fall_type\n",
       "0       0.050    0.010    1.000  -5.910  -0.680  -2.780  Ramana      left\n",
       "1       0.050    0.010    1.000  -1.950  -0.200  -1.310  Ramana      left\n",
       "2       0.060    0.000    1.010  -1.330   0.110  -1.130  Ramana      left\n",
       "3       0.060    0.010    1.000  -0.240   0.960  -0.820  Ramana      left\n",
       "4       0.050    0.010    1.000  -0.110   1.330  -0.700  Ramana      left\n",
       "...       ...      ...      ...     ...     ...     ...     ...       ...\n",
       "8695    0.970   -0.870    0.990   2.750  -7.240  -0.030    Zeon     right\n",
       "8696    1.010   -0.900    0.950   3.670  -4.250   3.750    Zeon     right\n",
       "8697    1.010   -0.890    0.890   8.670   6.680   3.330    Zeon     right\n",
       "8698    1.000   -0.830    0.920   5.560   3.630  -1.070    Zeon     right\n",
       "8699    0.980   -0.850    0.960  -2.430   2.950  -3.630    Zeon     right\n",
       "\n",
       "[8700 rows x 8 columns]"
      ]
     },
     "execution_count": 143,
     "metadata": {},
     "output_type": "execute_result"
    }
   ],
   "source": [
    "# data = pd.read_csv(\"Sisfall_dataset/processed_data.csv\")\n",
    "\n",
    "# data\n",
    "\n",
    "data = pd.read_csv(\"new data/combined_data_fall_types.csv\")\n",
    "\n",
    "data"
   ]
  },
  {
   "cell_type": "code",
   "execution_count": 144,
   "id": "82de05e7",
   "metadata": {},
   "outputs": [
    {
     "data": {
      "text/html": [
       "<div>\n",
       "<style scoped>\n",
       "    .dataframe tbody tr th:only-of-type {\n",
       "        vertical-align: middle;\n",
       "    }\n",
       "\n",
       "    .dataframe tbody tr th {\n",
       "        vertical-align: top;\n",
       "    }\n",
       "\n",
       "    .dataframe thead th {\n",
       "        text-align: right;\n",
       "    }\n",
       "</style>\n",
       "<table border=\"1\" class=\"dataframe\">\n",
       "  <thead>\n",
       "    <tr style=\"text-align: right;\">\n",
       "      <th></th>\n",
       "      <th>accel_x</th>\n",
       "      <th>accel_y</th>\n",
       "      <th>accel_z</th>\n",
       "      <th>gyro_x</th>\n",
       "      <th>gyro_y</th>\n",
       "      <th>gyro_z</th>\n",
       "      <th>user</th>\n",
       "      <th>activity</th>\n",
       "      <th>mapped_activity</th>\n",
       "      <th>broad_mapped_activity</th>\n",
       "    </tr>\n",
       "  </thead>\n",
       "  <tbody>\n",
       "    <tr>\n",
       "      <th>0</th>\n",
       "      <td>0.066</td>\n",
       "      <td>-0.699</td>\n",
       "      <td>-0.387</td>\n",
       "      <td>-1.099</td>\n",
       "      <td>-30.762</td>\n",
       "      <td>-21.484</td>\n",
       "      <td>SA01</td>\n",
       "      <td>D01</td>\n",
       "      <td>Walking</td>\n",
       "      <td>Walking</td>\n",
       "    </tr>\n",
       "    <tr>\n",
       "      <th>1</th>\n",
       "      <td>-0.195</td>\n",
       "      <td>-1.395</td>\n",
       "      <td>-0.027</td>\n",
       "      <td>-10.864</td>\n",
       "      <td>-46.753</td>\n",
       "      <td>-3.174</td>\n",
       "      <td>SA01</td>\n",
       "      <td>D01</td>\n",
       "      <td>Walking</td>\n",
       "      <td>Walking</td>\n",
       "    </tr>\n",
       "    <tr>\n",
       "      <th>2</th>\n",
       "      <td>0.336</td>\n",
       "      <td>-0.891</td>\n",
       "      <td>-0.246</td>\n",
       "      <td>31.860</td>\n",
       "      <td>-22.217</td>\n",
       "      <td>8.057</td>\n",
       "      <td>SA01</td>\n",
       "      <td>D01</td>\n",
       "      <td>Walking</td>\n",
       "      <td>Walking</td>\n",
       "    </tr>\n",
       "    <tr>\n",
       "      <th>3</th>\n",
       "      <td>0.273</td>\n",
       "      <td>-1.000</td>\n",
       "      <td>-0.062</td>\n",
       "      <td>2.625</td>\n",
       "      <td>-11.353</td>\n",
       "      <td>29.053</td>\n",
       "      <td>SA01</td>\n",
       "      <td>D01</td>\n",
       "      <td>Walking</td>\n",
       "      <td>Walking</td>\n",
       "    </tr>\n",
       "    <tr>\n",
       "      <th>4</th>\n",
       "      <td>0.047</td>\n",
       "      <td>-0.828</td>\n",
       "      <td>-0.074</td>\n",
       "      <td>7.263</td>\n",
       "      <td>15.869</td>\n",
       "      <td>26.184</td>\n",
       "      <td>SA01</td>\n",
       "      <td>D01</td>\n",
       "      <td>Walking</td>\n",
       "      <td>Walking</td>\n",
       "    </tr>\n",
       "    <tr>\n",
       "      <th>...</th>\n",
       "      <td>...</td>\n",
       "      <td>...</td>\n",
       "      <td>...</td>\n",
       "      <td>...</td>\n",
       "      <td>...</td>\n",
       "      <td>...</td>\n",
       "      <td>...</td>\n",
       "      <td>...</td>\n",
       "      <td>...</td>\n",
       "      <td>...</td>\n",
       "    </tr>\n",
       "    <tr>\n",
       "      <th>412897</th>\n",
       "      <td>0.988</td>\n",
       "      <td>-0.066</td>\n",
       "      <td>-0.023</td>\n",
       "      <td>26.917</td>\n",
       "      <td>-10.498</td>\n",
       "      <td>-15.625</td>\n",
       "      <td>SA21</td>\n",
       "      <td>F12</td>\n",
       "      <td>Lateral fall</td>\n",
       "      <td>Fall</td>\n",
       "    </tr>\n",
       "    <tr>\n",
       "      <th>412898</th>\n",
       "      <td>1.031</td>\n",
       "      <td>0.066</td>\n",
       "      <td>0.203</td>\n",
       "      <td>-14.954</td>\n",
       "      <td>16.235</td>\n",
       "      <td>26.184</td>\n",
       "      <td>SA21</td>\n",
       "      <td>F12</td>\n",
       "      <td>Lateral fall</td>\n",
       "      <td>Fall</td>\n",
       "    </tr>\n",
       "    <tr>\n",
       "      <th>412899</th>\n",
       "      <td>0.941</td>\n",
       "      <td>-0.188</td>\n",
       "      <td>0.359</td>\n",
       "      <td>-25.879</td>\n",
       "      <td>32.410</td>\n",
       "      <td>11.841</td>\n",
       "      <td>SA21</td>\n",
       "      <td>F12</td>\n",
       "      <td>Lateral fall</td>\n",
       "      <td>Fall</td>\n",
       "    </tr>\n",
       "    <tr>\n",
       "      <th>412900</th>\n",
       "      <td>0.859</td>\n",
       "      <td>-0.102</td>\n",
       "      <td>0.375</td>\n",
       "      <td>12.451</td>\n",
       "      <td>37.842</td>\n",
       "      <td>-2.136</td>\n",
       "      <td>SA21</td>\n",
       "      <td>F12</td>\n",
       "      <td>Lateral fall</td>\n",
       "      <td>Fall</td>\n",
       "    </tr>\n",
       "    <tr>\n",
       "      <th>412901</th>\n",
       "      <td>0.941</td>\n",
       "      <td>0.031</td>\n",
       "      <td>0.434</td>\n",
       "      <td>0.366</td>\n",
       "      <td>39.917</td>\n",
       "      <td>7.935</td>\n",
       "      <td>SA21</td>\n",
       "      <td>F12</td>\n",
       "      <td>Lateral fall</td>\n",
       "      <td>Fall</td>\n",
       "    </tr>\n",
       "  </tbody>\n",
       "</table>\n",
       "<p>412902 rows × 10 columns</p>\n",
       "</div>"
      ],
      "text/plain": [
       "        accel_x  accel_y  accel_z  gyro_x  gyro_y  gyro_z  user activity  \\\n",
       "0         0.066   -0.699   -0.387  -1.099 -30.762 -21.484  SA01      D01   \n",
       "1        -0.195   -1.395   -0.027 -10.864 -46.753  -3.174  SA01      D01   \n",
       "2         0.336   -0.891   -0.246  31.860 -22.217   8.057  SA01      D01   \n",
       "3         0.273   -1.000   -0.062   2.625 -11.353  29.053  SA01      D01   \n",
       "4         0.047   -0.828   -0.074   7.263  15.869  26.184  SA01      D01   \n",
       "...         ...      ...      ...     ...     ...     ...   ...      ...   \n",
       "412897    0.988   -0.066   -0.023  26.917 -10.498 -15.625  SA21      F12   \n",
       "412898    1.031    0.066    0.203 -14.954  16.235  26.184  SA21      F12   \n",
       "412899    0.941   -0.188    0.359 -25.879  32.410  11.841  SA21      F12   \n",
       "412900    0.859   -0.102    0.375  12.451  37.842  -2.136  SA21      F12   \n",
       "412901    0.941    0.031    0.434   0.366  39.917   7.935  SA21      F12   \n",
       "\n",
       "       mapped_activity broad_mapped_activity  \n",
       "0              Walking               Walking  \n",
       "1              Walking               Walking  \n",
       "2              Walking               Walking  \n",
       "3              Walking               Walking  \n",
       "4              Walking               Walking  \n",
       "...                ...                   ...  \n",
       "412897    Lateral fall                  Fall  \n",
       "412898    Lateral fall                  Fall  \n",
       "412899    Lateral fall                  Fall  \n",
       "412900    Lateral fall                  Fall  \n",
       "412901    Lateral fall                  Fall  \n",
       "\n",
       "[412902 rows x 10 columns]"
      ]
     },
     "execution_count": 144,
     "metadata": {},
     "output_type": "execute_result"
    }
   ],
   "source": [
    "data_online = pd.read_csv(\"Sisfall_dataset/processed_data.csv\")\n",
    "data_online"
   ]
  },
  {
   "cell_type": "code",
   "execution_count": 145,
   "id": "bc448585",
   "metadata": {},
   "outputs": [],
   "source": [
    "# data_online = data_online[data_online['broad_mapped_activity'] == 'Fall']\n",
    "# data_online = data_online.drop('activity', axis = 1)\n",
    "# data_online.rename({'mapped_activity':'fall_type'}, axis = 1)\n",
    "# data = data.append(data_online)\n",
    "# data"
   ]
  },
  {
   "cell_type": "code",
   "execution_count": 146,
   "id": "23a655e2",
   "metadata": {},
   "outputs": [],
   "source": [
    "data.replace(to_replace='left', value = 'lateral', inplace = True)\n",
    "data.replace(to_replace='right', value = 'lateral', inplace = True)"
   ]
  },
  {
   "cell_type": "code",
   "execution_count": 147,
   "id": "60def274",
   "metadata": {},
   "outputs": [
    {
     "data": {
      "text/plain": [
       "['backward', 'forward', 'lateral']"
      ]
     },
     "execution_count": 147,
     "metadata": {},
     "output_type": "execute_result"
    }
   ],
   "source": [
    "# All data collected in 20Hz sample rate.\n",
    "\n",
    "# Set display upto 3 decimal places\n",
    "pd.options.display.float_format = '{:.3f}'.format\n",
    "\n",
    "# Labels are all the activity groups\n",
    "# LABELS = list(data.groupby([\"broad_mapped_activity\"]).groups.keys())\n",
    "LABELS = list(data.groupby([\"fall_type\"]).groups.keys())\n",
    "\n",
    "no_of_features = 6\n",
    "\n",
    "# The number of steps within one time segment (window size)\n",
    "TIME_PERIODS = 60\n",
    "# The steps to take from one segment to the next; if this value is equal to\n",
    "# TIME_PERIODS, then there is no overlap between the segments\n",
    "STEP_DISTANCE = 15\n",
    "\n",
    "LABELS"
   ]
  },
  {
   "cell_type": "code",
   "execution_count": 148,
   "id": "9b72317a",
   "metadata": {},
   "outputs": [
    {
     "name": "stdout",
     "output_type": "stream",
     "text": [
      "(6300, 8)\n"
     ]
    },
    {
     "data": {
      "text/html": [
       "<div>\n",
       "<style scoped>\n",
       "    .dataframe tbody tr th:only-of-type {\n",
       "        vertical-align: middle;\n",
       "    }\n",
       "\n",
       "    .dataframe tbody tr th {\n",
       "        vertical-align: top;\n",
       "    }\n",
       "\n",
       "    .dataframe thead th {\n",
       "        text-align: right;\n",
       "    }\n",
       "</style>\n",
       "<table border=\"1\" class=\"dataframe\">\n",
       "  <thead>\n",
       "    <tr style=\"text-align: right;\">\n",
       "      <th></th>\n",
       "      <th>accel_x</th>\n",
       "      <th>accel_y</th>\n",
       "      <th>accel_z</th>\n",
       "      <th>gyro_x</th>\n",
       "      <th>gyro_y</th>\n",
       "      <th>gyro_z</th>\n",
       "      <th>user</th>\n",
       "      <th>fall_type</th>\n",
       "    </tr>\n",
       "  </thead>\n",
       "  <tbody>\n",
       "    <tr>\n",
       "      <th>1380</th>\n",
       "      <td>0.050</td>\n",
       "      <td>0.050</td>\n",
       "      <td>0.770</td>\n",
       "      <td>-6.490</td>\n",
       "      <td>5.980</td>\n",
       "      <td>-1.410</td>\n",
       "      <td>Wamika</td>\n",
       "      <td>backward</td>\n",
       "    </tr>\n",
       "    <tr>\n",
       "      <th>1381</th>\n",
       "      <td>0.050</td>\n",
       "      <td>0.050</td>\n",
       "      <td>0.780</td>\n",
       "      <td>-6.310</td>\n",
       "      <td>5.490</td>\n",
       "      <td>-1.170</td>\n",
       "      <td>Wamika</td>\n",
       "      <td>backward</td>\n",
       "    </tr>\n",
       "    <tr>\n",
       "      <th>1382</th>\n",
       "      <td>0.050</td>\n",
       "      <td>0.050</td>\n",
       "      <td>0.780</td>\n",
       "      <td>-6.130</td>\n",
       "      <td>4.520</td>\n",
       "      <td>-1.410</td>\n",
       "      <td>Wamika</td>\n",
       "      <td>backward</td>\n",
       "    </tr>\n",
       "    <tr>\n",
       "      <th>1383</th>\n",
       "      <td>0.050</td>\n",
       "      <td>0.050</td>\n",
       "      <td>0.780</td>\n",
       "      <td>-5.520</td>\n",
       "      <td>4.330</td>\n",
       "      <td>-1.350</td>\n",
       "      <td>Wamika</td>\n",
       "      <td>backward</td>\n",
       "    </tr>\n",
       "    <tr>\n",
       "      <th>1384</th>\n",
       "      <td>0.050</td>\n",
       "      <td>0.060</td>\n",
       "      <td>0.790</td>\n",
       "      <td>-6.620</td>\n",
       "      <td>3.840</td>\n",
       "      <td>-1.660</td>\n",
       "      <td>Wamika</td>\n",
       "      <td>backward</td>\n",
       "    </tr>\n",
       "    <tr>\n",
       "      <th>...</th>\n",
       "      <td>...</td>\n",
       "      <td>...</td>\n",
       "      <td>...</td>\n",
       "      <td>...</td>\n",
       "      <td>...</td>\n",
       "      <td>...</td>\n",
       "      <td>...</td>\n",
       "      <td>...</td>\n",
       "    </tr>\n",
       "    <tr>\n",
       "      <th>3775</th>\n",
       "      <td>1.860</td>\n",
       "      <td>-0.110</td>\n",
       "      <td>1.610</td>\n",
       "      <td>1.640</td>\n",
       "      <td>29.880</td>\n",
       "      <td>-22.430</td>\n",
       "      <td>Wamika</td>\n",
       "      <td>lateral</td>\n",
       "    </tr>\n",
       "    <tr>\n",
       "      <th>3776</th>\n",
       "      <td>1.820</td>\n",
       "      <td>-0.060</td>\n",
       "      <td>1.680</td>\n",
       "      <td>1.830</td>\n",
       "      <td>32.200</td>\n",
       "      <td>-24.560</td>\n",
       "      <td>Wamika</td>\n",
       "      <td>lateral</td>\n",
       "    </tr>\n",
       "    <tr>\n",
       "      <th>3777</th>\n",
       "      <td>1.830</td>\n",
       "      <td>-0.040</td>\n",
       "      <td>1.630</td>\n",
       "      <td>6.220</td>\n",
       "      <td>30.250</td>\n",
       "      <td>-17.540</td>\n",
       "      <td>Wamika</td>\n",
       "      <td>lateral</td>\n",
       "    </tr>\n",
       "    <tr>\n",
       "      <th>3778</th>\n",
       "      <td>1.790</td>\n",
       "      <td>-0.020</td>\n",
       "      <td>1.700</td>\n",
       "      <td>11.650</td>\n",
       "      <td>35.430</td>\n",
       "      <td>-12.050</td>\n",
       "      <td>Wamika</td>\n",
       "      <td>lateral</td>\n",
       "    </tr>\n",
       "    <tr>\n",
       "      <th>3779</th>\n",
       "      <td>1.750</td>\n",
       "      <td>0.050</td>\n",
       "      <td>1.740</td>\n",
       "      <td>2.250</td>\n",
       "      <td>29.880</td>\n",
       "      <td>-12.480</td>\n",
       "      <td>Wamika</td>\n",
       "      <td>lateral</td>\n",
       "    </tr>\n",
       "  </tbody>\n",
       "</table>\n",
       "<p>2400 rows × 8 columns</p>\n",
       "</div>"
      ],
      "text/plain": [
       "      accel_x  accel_y  accel_z  gyro_x  gyro_y  gyro_z    user fall_type\n",
       "1380    0.050    0.050    0.770  -6.490   5.980  -1.410  Wamika  backward\n",
       "1381    0.050    0.050    0.780  -6.310   5.490  -1.170  Wamika  backward\n",
       "1382    0.050    0.050    0.780  -6.130   4.520  -1.410  Wamika  backward\n",
       "1383    0.050    0.050    0.780  -5.520   4.330  -1.350  Wamika  backward\n",
       "1384    0.050    0.060    0.790  -6.620   3.840  -1.660  Wamika  backward\n",
       "...       ...      ...      ...     ...     ...     ...     ...       ...\n",
       "3775    1.860   -0.110    1.610   1.640  29.880 -22.430  Wamika   lateral\n",
       "3776    1.820   -0.060    1.680   1.830  32.200 -24.560  Wamika   lateral\n",
       "3777    1.830   -0.040    1.630   6.220  30.250 -17.540  Wamika   lateral\n",
       "3778    1.790   -0.020    1.700  11.650  35.430 -12.050  Wamika   lateral\n",
       "3779    1.750    0.050    1.740   2.250  29.880 -12.480  Wamika   lateral\n",
       "\n",
       "[2400 rows x 8 columns]"
      ]
     },
     "execution_count": 148,
     "metadata": {},
     "output_type": "execute_result"
    }
   ],
   "source": [
    "# split the data into training and test set\n",
    "Training_data = data[data[\"user\"].isin(['Ramana', 'Wira', 'Zeon'])]\n",
    "print(Training_data.shape)\n",
    "Test_data = data[data[\"user\"].isin(['Wamika'])]\n",
    "Test_data"
   ]
  },
  {
   "cell_type": "code",
   "execution_count": 149,
   "id": "a9038bee",
   "metadata": {},
   "outputs": [
    {
     "name": "stdout",
     "output_type": "stream",
     "text": [
      "['backward', 'forward', 'lateral']\n"
     ]
    }
   ],
   "source": [
    "# Encode labels\n",
    "le = preprocessing.LabelEncoder()\n",
    "Training_data['encoded_label'] = le.fit_transform(Training_data['fall_type'].values.ravel())\n",
    "print(list(le.classes_))"
   ]
  },
  {
   "cell_type": "code",
   "execution_count": 150,
   "id": "8c1c6137",
   "metadata": {},
   "outputs": [],
   "source": [
    "def normalize_features(data, mu, sigma):\n",
    "    print(\"mean: \", mu)\n",
    "    print(\"standard deviation: \", sigma)\n",
    "    return (data - mu)/sigma\n",
    "#     maxim = np.max(data, axis=0)\n",
    "#     minim = np.min(data, axis=0)\n",
    "#     return (data - minim)/(maxim - minim)"
   ]
  },
  {
   "cell_type": "code",
   "execution_count": 151,
   "id": "05ed09d4",
   "metadata": {},
   "outputs": [
    {
     "name": "stdout",
     "output_type": "stream",
     "text": [
      "accel_x\n",
      "mean:  0.08631587301587361\n",
      "standard deviation:  0.8064239886254493\n",
      "accel_y\n",
      "mean:  -0.3774698412698392\n",
      "standard deviation:  1.6709515428684094\n",
      "accel_z\n",
      "mean:  0.5091603174603166\n",
      "standard deviation:  1.6642222578444024\n",
      "gyro_x\n",
      "mean:  7.289014285714277\n",
      "standard deviation:  182.7268925086552\n",
      "gyro_y\n",
      "mean:  3.087561904761896\n",
      "standard deviation:  118.43303420381595\n",
      "gyro_z\n",
      "mean:  2.268784126984129\n",
      "standard deviation:  113.53857885995292\n"
     ]
    },
    {
     "data": {
      "text/html": [
       "<div>\n",
       "<style scoped>\n",
       "    .dataframe tbody tr th:only-of-type {\n",
       "        vertical-align: middle;\n",
       "    }\n",
       "\n",
       "    .dataframe tbody tr th {\n",
       "        vertical-align: top;\n",
       "    }\n",
       "\n",
       "    .dataframe thead th {\n",
       "        text-align: right;\n",
       "    }\n",
       "</style>\n",
       "<table border=\"1\" class=\"dataframe\">\n",
       "  <thead>\n",
       "    <tr style=\"text-align: right;\">\n",
       "      <th></th>\n",
       "      <th>accel_x</th>\n",
       "      <th>accel_y</th>\n",
       "      <th>accel_z</th>\n",
       "      <th>gyro_x</th>\n",
       "      <th>gyro_y</th>\n",
       "      <th>gyro_z</th>\n",
       "      <th>user</th>\n",
       "      <th>fall_type</th>\n",
       "      <th>encoded_label</th>\n",
       "    </tr>\n",
       "  </thead>\n",
       "  <tbody>\n",
       "    <tr>\n",
       "      <th>0</th>\n",
       "      <td>-0.045</td>\n",
       "      <td>0.232</td>\n",
       "      <td>0.295</td>\n",
       "      <td>-0.072</td>\n",
       "      <td>-0.032</td>\n",
       "      <td>-0.044</td>\n",
       "      <td>Ramana</td>\n",
       "      <td>lateral</td>\n",
       "      <td>2</td>\n",
       "    </tr>\n",
       "    <tr>\n",
       "      <th>1</th>\n",
       "      <td>-0.045</td>\n",
       "      <td>0.232</td>\n",
       "      <td>0.295</td>\n",
       "      <td>-0.051</td>\n",
       "      <td>-0.028</td>\n",
       "      <td>-0.032</td>\n",
       "      <td>Ramana</td>\n",
       "      <td>lateral</td>\n",
       "      <td>2</td>\n",
       "    </tr>\n",
       "    <tr>\n",
       "      <th>2</th>\n",
       "      <td>-0.033</td>\n",
       "      <td>0.226</td>\n",
       "      <td>0.301</td>\n",
       "      <td>-0.047</td>\n",
       "      <td>-0.025</td>\n",
       "      <td>-0.030</td>\n",
       "      <td>Ramana</td>\n",
       "      <td>lateral</td>\n",
       "      <td>2</td>\n",
       "    </tr>\n",
       "    <tr>\n",
       "      <th>3</th>\n",
       "      <td>-0.033</td>\n",
       "      <td>0.232</td>\n",
       "      <td>0.295</td>\n",
       "      <td>-0.041</td>\n",
       "      <td>-0.018</td>\n",
       "      <td>-0.027</td>\n",
       "      <td>Ramana</td>\n",
       "      <td>lateral</td>\n",
       "      <td>2</td>\n",
       "    </tr>\n",
       "    <tr>\n",
       "      <th>4</th>\n",
       "      <td>-0.045</td>\n",
       "      <td>0.232</td>\n",
       "      <td>0.295</td>\n",
       "      <td>-0.040</td>\n",
       "      <td>-0.015</td>\n",
       "      <td>-0.026</td>\n",
       "      <td>Ramana</td>\n",
       "      <td>lateral</td>\n",
       "      <td>2</td>\n",
       "    </tr>\n",
       "    <tr>\n",
       "      <th>...</th>\n",
       "      <td>...</td>\n",
       "      <td>...</td>\n",
       "      <td>...</td>\n",
       "      <td>...</td>\n",
       "      <td>...</td>\n",
       "      <td>...</td>\n",
       "      <td>...</td>\n",
       "      <td>...</td>\n",
       "      <td>...</td>\n",
       "    </tr>\n",
       "    <tr>\n",
       "      <th>8695</th>\n",
       "      <td>1.096</td>\n",
       "      <td>-0.295</td>\n",
       "      <td>0.289</td>\n",
       "      <td>-0.025</td>\n",
       "      <td>-0.087</td>\n",
       "      <td>-0.020</td>\n",
       "      <td>Zeon</td>\n",
       "      <td>lateral</td>\n",
       "      <td>2</td>\n",
       "    </tr>\n",
       "    <tr>\n",
       "      <th>8696</th>\n",
       "      <td>1.145</td>\n",
       "      <td>-0.313</td>\n",
       "      <td>0.265</td>\n",
       "      <td>-0.020</td>\n",
       "      <td>-0.062</td>\n",
       "      <td>0.013</td>\n",
       "      <td>Zeon</td>\n",
       "      <td>lateral</td>\n",
       "      <td>2</td>\n",
       "    </tr>\n",
       "    <tr>\n",
       "      <th>8697</th>\n",
       "      <td>1.145</td>\n",
       "      <td>-0.307</td>\n",
       "      <td>0.229</td>\n",
       "      <td>0.008</td>\n",
       "      <td>0.030</td>\n",
       "      <td>0.009</td>\n",
       "      <td>Zeon</td>\n",
       "      <td>lateral</td>\n",
       "      <td>2</td>\n",
       "    </tr>\n",
       "    <tr>\n",
       "      <th>8698</th>\n",
       "      <td>1.133</td>\n",
       "      <td>-0.271</td>\n",
       "      <td>0.247</td>\n",
       "      <td>-0.009</td>\n",
       "      <td>0.005</td>\n",
       "      <td>-0.029</td>\n",
       "      <td>Zeon</td>\n",
       "      <td>lateral</td>\n",
       "      <td>2</td>\n",
       "    </tr>\n",
       "    <tr>\n",
       "      <th>8699</th>\n",
       "      <td>1.108</td>\n",
       "      <td>-0.283</td>\n",
       "      <td>0.271</td>\n",
       "      <td>-0.053</td>\n",
       "      <td>-0.001</td>\n",
       "      <td>-0.052</td>\n",
       "      <td>Zeon</td>\n",
       "      <td>lateral</td>\n",
       "      <td>2</td>\n",
       "    </tr>\n",
       "  </tbody>\n",
       "</table>\n",
       "<p>6300 rows × 9 columns</p>\n",
       "</div>"
      ],
      "text/plain": [
       "      accel_x  accel_y  accel_z  gyro_x  gyro_y  gyro_z    user fall_type  \\\n",
       "0      -0.045    0.232    0.295  -0.072  -0.032  -0.044  Ramana   lateral   \n",
       "1      -0.045    0.232    0.295  -0.051  -0.028  -0.032  Ramana   lateral   \n",
       "2      -0.033    0.226    0.301  -0.047  -0.025  -0.030  Ramana   lateral   \n",
       "3      -0.033    0.232    0.295  -0.041  -0.018  -0.027  Ramana   lateral   \n",
       "4      -0.045    0.232    0.295  -0.040  -0.015  -0.026  Ramana   lateral   \n",
       "...       ...      ...      ...     ...     ...     ...     ...       ...   \n",
       "8695    1.096   -0.295    0.289  -0.025  -0.087  -0.020    Zeon   lateral   \n",
       "8696    1.145   -0.313    0.265  -0.020  -0.062   0.013    Zeon   lateral   \n",
       "8697    1.145   -0.307    0.229   0.008   0.030   0.009    Zeon   lateral   \n",
       "8698    1.133   -0.271    0.247  -0.009   0.005  -0.029    Zeon   lateral   \n",
       "8699    1.108   -0.283    0.271  -0.053  -0.001  -0.052    Zeon   lateral   \n",
       "\n",
       "      encoded_label  \n",
       "0                 2  \n",
       "1                 2  \n",
       "2                 2  \n",
       "3                 2  \n",
       "4                 2  \n",
       "...             ...  \n",
       "8695              2  \n",
       "8696              2  \n",
       "8697              2  \n",
       "8698              2  \n",
       "8699              2  \n",
       "\n",
       "[6300 rows x 9 columns]"
      ]
     },
     "execution_count": 151,
     "metadata": {},
     "output_type": "execute_result"
    }
   ],
   "source": [
    "mu = []\n",
    "sigma = []\n",
    "for i in range(0,6):\n",
    "    print(Training_data.columns[i])\n",
    "    mu.append(np.mean(Training_data.iloc[:, i], axis=0))\n",
    "    sigma.append(np.std(Training_data.iloc[:, i], axis=0))\n",
    "    Training_data.iloc[:, i] = normalize_features(Training_data.iloc[:, i], mu[i], sigma[i])\n",
    "    \n",
    "Training_data"
   ]
  },
  {
   "cell_type": "code",
   "execution_count": 152,
   "id": "f1ded0a1",
   "metadata": {
    "scrolled": false
   },
   "outputs": [],
   "source": [
    "def create_segments(data):\n",
    "\n",
    "    segments = []\n",
    "    labels = []\n",
    "    for i in range(0, len(data) - TIME_PERIODS, STEP_DISTANCE):\n",
    "        accel_xs = data['accel_x'].values[i: i + TIME_PERIODS]\n",
    "        accel_ys = data['accel_y'].values[i: i + TIME_PERIODS]\n",
    "        accel_zs = data['accel_z'].values[i: i + TIME_PERIODS]\n",
    "        gyro_xs = data['gyro_x'].values[i: i + TIME_PERIODS]\n",
    "        gyro_ys = data['gyro_y'].values[i: i + TIME_PERIODS]\n",
    "        gyro_zs = data['gyro_z'].values[i: i + TIME_PERIODS]\n",
    "#         mag_xs = data['mag_x'].values[i: i + TIME_PERIODS]\n",
    "#         mag_ys = data['mag_y'].values[i: i + TIME_PERIODS]\n",
    "#         mag_zs = data['mag_z'].values[i: i + TIME_PERIODS]\n",
    "        \n",
    "#         #Features\n",
    "#         #mean\n",
    "#         accel_x_mean = np.full(TIME_PERIODS, accel_xs.mean())\n",
    "#     #     y_mean = np.full(TIME_PERIODS, ys.mean())\n",
    "#         accel_z_mean = np.full(TIME_PERIODS, accel_zs.mean())\n",
    "#         gyro_x_mean = np.full(TIME_PERIODS, gyro_xs.mean())\n",
    "#     #     pitch_mean = np.full(TIME_PERIODS, pitchs.mean())\n",
    "#         gyro_z_mean = np.full(TIME_PERIODS, gyro_zs.mean())\n",
    "#         #standard deviation\n",
    "#         accel_x_std = np.full(TIME_PERIODS, accel_xs.std())\n",
    "#         accel_y_std = np.full(TIME_PERIODS, accel_ys.std())\n",
    "#         accel_z_std = np.full(TIME_PERIODS, accel_zs.std())\n",
    "#         gyro_x_std = np.full(TIME_PERIODS, gyro_xs.std())\n",
    "#         gyro_y_std = np.full(TIME_PERIODS, gyro_ys.std())\n",
    "#         gyro_z_std = np.full(TIME_PERIODS, gyro_zs.std())\n",
    "#         #min\n",
    "#         accel_x_min = np.full(TIME_PERIODS, accel_xs.min())\n",
    "#         accel_y_min = np.full(TIME_PERIODS, accel_ys.min())\n",
    "#         accel_z_min = np.full(TIME_PERIODS, accel_zs.min())\n",
    "#         gyro_x_min = np.full(TIME_PERIODS, gyro_xs.min())\n",
    "#     #     pitch_min = np.full(TIME_PERIODS, pitchs.min())\n",
    "#     #     yaw_min = np.full(TIME_PERIODS, yaws.min())\n",
    "    \n",
    "#         #energy, here ** represents exponentiation\n",
    "#         accel_x_eng = np.full(TIME_PERIODS, np.sum(accel_xs**2)/TIME_PERIODS) \n",
    "#         accel_y_eng = np.full(TIME_PERIODS, np.sum(accel_ys**2)/TIME_PERIODS)\n",
    "#         accel_z_eng = np.full(TIME_PERIODS, np.sum(accel_zs**2)/TIME_PERIODS)\n",
    "#         #median absolute deviation (MAD)\n",
    "#         accel_x_mad = np.full(TIME_PERIODS, stats.median_abs_deviation(accel_xs))\n",
    "#     #     y_mad = np.full(TIME_PERIODS, stats.median_abs_deviation(ys))\n",
    "#         accel_z_mad = np.full(TIME_PERIODS, stats.median_abs_deviation(accel_zs))\n",
    "#     #     roll_mad = np.full(TIME_PERIODS, stats.median_abs_deviation(rolls))\n",
    "#         gyro_y_mad = np.full(TIME_PERIODS, stats.median_abs_deviation(gyro_ys))\n",
    "#         gyro_z_mad = np.full(TIME_PERIODS, stats.median_abs_deviation(gyro_zs))\n",
    "#         # signal magnitude area\n",
    "#         accel_sma = np.full(TIME_PERIODS, (np.sum(np.abs(accel_xs)) + np.sum(np.abs(accel_ys)) + np.sum(np.abs(accel_zs))) / TIME_PERIODS)\n",
    "#         gyro_sma = np.full(TIME_PERIODS, (np.sum(np.abs(gyro_xs)) + np.sum(np.abs(gyro_ys)) + np.sum(np.abs(gyro_zs))) / TIME_PERIODS)\n",
    "# #         # get frequency domain signal\n",
    "# #         x_freq = np.abs(np.fft.fft(xs))[1:51]\n",
    "# #         y_freq = np.abs(np.fft.fft(ys))[1:51]\n",
    "# #         z_freq = np.abs(np.fft.fft(zs))[1:51]\n",
    "# #         roll_freq = np.abs(np.fft.fft(rolls))[1:51]\n",
    "# #         pitch_freq = np.abs(np.fft.fft(pitchs))[1:51]\n",
    "# #         yaw_freq = np.abs(np.fft.fft(yaws))[1:51]\n",
    "# #         # freq mean\n",
    "# #         x_freq_mean = np.full(TIME_PERIODS, x_freq.mean())\n",
    "# #         y_freq_mean = np.full(TIME_PERIODS, y_freq.mean())\n",
    "# #         z_freq_mean = np.full(TIME_PERIODS, z_freq.mean())\n",
    "# #         roll_freq_mean = np.full(TIME_PERIODS, roll_freq.mean())\n",
    "# #         pitch_freq_mean = np.full(TIME_PERIODS, pitch_freq.mean())\n",
    "# #         yaw_freq_mean = np.full(TIME_PERIODS, yaw_freq.mean())\n",
    "# #         #freq standard deviation\n",
    "# #         x_freq_std = np.full(TIME_PERIODS, x_freq.std())\n",
    "# #         y_freq_std = np.full(TIME_PERIODS, y_freq.std())\n",
    "# #         z_freq_std = np.full(TIME_PERIODS, z_freq.std())\n",
    "# #         roll_freq_std = np.full(TIME_PERIODS, roll_freq.std())\n",
    "# #         pitch_freq_std = np.full(TIME_PERIODS, pitch_freq.std())\n",
    "# #         yaw_freq_std = np.full(TIME_PERIODS, yaw_freq.std())\n",
    "\n",
    "        # Retrieve the most often used label in this segment\n",
    "        label = stats.mode(data['encoded_label'][i: i + TIME_PERIODS])[0][0]\n",
    "        \n",
    "#         segments.append([accel_xs, accel_ys, accel_zs, gyro_xs, gyro_ys, gyro_zs, accel_x_mean,\\\n",
    "#                          accel_z_mean, gyro_x_mean, gyro_z_mean, accel_x_std, accel_y_std, accel_z_std, gyro_x_std,  gyro_y_std, \\\n",
    "#                          gyro_z_std, accel_x_min, accel_y_min, accel_z_min, gyro_x_min, accel_x_eng, accel_y_eng, accel_z_eng, \\\n",
    "#                          accel_x_mad, accel_z_mad, gyro_y_mad, gyro_z_mad, accel_sma, gyro_sma])\n",
    "        segments.append([accel_xs, accel_ys, accel_zs, gyro_xs, gyro_ys, gyro_zs])\n",
    "        labels.append(label)\n",
    "\n",
    "    # Bring the segments into a better shape\n",
    "    x_data = np.asarray(segments, dtype= np.float32).reshape(-1, TIME_PERIODS, no_of_features)\n",
    "    y_data = np.asarray(labels)\n",
    "    return x_data, y_data\n"
   ]
  },
  {
   "cell_type": "code",
   "execution_count": 153,
   "id": "f6e2060b",
   "metadata": {},
   "outputs": [
    {
     "name": "stdout",
     "output_type": "stream",
     "text": [
      "x shape:  (416, 60, 6)\n",
      "y shape:  (416,)\n"
     ]
    }
   ],
   "source": [
    "x_train, y_train = create_segments(Training_data)\n",
    "np.set_printoptions(threshold=np.inf)\n",
    "print(\"x shape: \",x_train.shape)\n",
    "print(\"y shape: \",y_train.shape)"
   ]
  },
  {
   "cell_type": "code",
   "execution_count": 154,
   "id": "a323b887",
   "metadata": {},
   "outputs": [
    {
     "data": {
      "text/plain": [
       "(416, 360)"
      ]
     },
     "execution_count": 154,
     "metadata": {},
     "output_type": "execute_result"
    }
   ],
   "source": [
    "x_train = x_train.reshape(x_train.shape[0], TIME_PERIODS*no_of_features)\n",
    "x_train.shape"
   ]
  },
  {
   "cell_type": "code",
   "execution_count": 155,
   "id": "be095318",
   "metadata": {},
   "outputs": [
    {
     "name": "stdout",
     "output_type": "stream",
     "text": [
      "New y_train shape:  (416, 3)\n"
     ]
    }
   ],
   "source": [
    "# Convert type for Keras otherwise Keras cannot process the data\n",
    "x_train = x_train.astype(\"float32\")\n",
    "y_train = y_train.astype(\"float32\")\n",
    "\n",
    "# One-hot encoding of y_train labels (only execute once!)\n",
    "y_train = np_utils.to_categorical(y_train, len(LABELS))\n",
    "print('New y_train shape: ', y_train.shape)"
   ]
  },
  {
   "cell_type": "markdown",
   "id": "3c0df1e7",
   "metadata": {},
   "source": [
    "### 1D-CNN Model"
   ]
  },
  {
   "cell_type": "code",
   "execution_count": 156,
   "id": "1d6345fe",
   "metadata": {},
   "outputs": [
    {
     "name": "stdout",
     "output_type": "stream",
     "text": [
      "Model: \"sequential_7\"\n",
      "_________________________________________________________________\n",
      " Layer (type)                Output Shape              Param #   \n",
      "=================================================================\n",
      " reshape_7 (Reshape)         (None, 60, 6)             0         \n",
      "                                                                 \n",
      " conv1d_21 (Conv1D)          (None, 58, 100)           1900      \n",
      "                                                                 \n",
      " max_pooling1d_14 (MaxPoolin  (None, 19, 100)          0         \n",
      " g1D)                                                            \n",
      "                                                                 \n",
      " conv1d_22 (Conv1D)          (None, 17, 120)           36120     \n",
      "                                                                 \n",
      " max_pooling1d_15 (MaxPoolin  (None, 5, 120)           0         \n",
      " g1D)                                                            \n",
      "                                                                 \n",
      " conv1d_23 (Conv1D)          (None, 3, 80)             28880     \n",
      "                                                                 \n",
      " global_average_pooling1d_7   (None, 80)               0         \n",
      " (GlobalAveragePooling1D)                                        \n",
      "                                                                 \n",
      " dropout_7 (Dropout)         (None, 80)                0         \n",
      "                                                                 \n",
      " dense_7 (Dense)             (None, 3)                 243       \n",
      "                                                                 \n",
      "=================================================================\n",
      "Total params: 67,143\n",
      "Trainable params: 67,143\n",
      "Non-trainable params: 0\n",
      "_________________________________________________________________\n",
      "None\n"
     ]
    }
   ],
   "source": [
    "model_m = Sequential()\n",
    "model_m.add(Reshape((TIME_PERIODS,no_of_features), input_shape=(TIME_PERIODS*no_of_features,)))\n",
    "model_m.add(Conv1D(100, 3, activation='relu'))\n",
    "model_m.add(MaxPooling1D(3))\n",
    "model_m.add(Conv1D(120, 3, activation='relu'))\n",
    "model_m.add(MaxPooling1D(3))\n",
    "model_m.add(Conv1D(80, 3, activation='relu'))\n",
    "model_m.add(GlobalAveragePooling1D())\n",
    "model_m.add(Dropout(0.3))\n",
    "model_m.add(Dense(len(LABELS), activation='softmax'))\n",
    "print(model_m.summary())"
   ]
  },
  {
   "cell_type": "code",
   "execution_count": 157,
   "id": "249787e7",
   "metadata": {
    "scrolled": true
   },
   "outputs": [
    {
     "name": "stdout",
     "output_type": "stream",
     "text": [
      "Epoch 1/100\n",
      "3/3 [==============================] - 1s 31ms/step - loss: 1.0762 - accuracy: 0.4760\n",
      "Epoch 2/100\n",
      "3/3 [==============================] - 0s 18ms/step - loss: 0.9554 - accuracy: 0.6755\n",
      "Epoch 3/100\n",
      "3/3 [==============================] - 0s 18ms/step - loss: 0.8939 - accuracy: 0.7236\n",
      "Epoch 4/100\n",
      "3/3 [==============================] - 0s 14ms/step - loss: 0.8138 - accuracy: 0.7548\n",
      "Epoch 5/100\n",
      "3/3 [==============================] - 0s 19ms/step - loss: 0.7361 - accuracy: 0.7236\n",
      "Epoch 6/100\n",
      "3/3 [==============================] - 0s 17ms/step - loss: 0.6796 - accuracy: 0.7668\n",
      "Epoch 7/100\n",
      "3/3 [==============================] - 0s 19ms/step - loss: 0.6332 - accuracy: 0.7933\n",
      "Epoch 8/100\n",
      "3/3 [==============================] - 0s 17ms/step - loss: 0.5731 - accuracy: 0.7885\n",
      "Epoch 9/100\n",
      "3/3 [==============================] - 0s 18ms/step - loss: 0.4987 - accuracy: 0.7885\n",
      "Epoch 10/100\n",
      "3/3 [==============================] - 0s 18ms/step - loss: 0.4525 - accuracy: 0.8269\n",
      "Epoch 11/100\n",
      "3/3 [==============================] - 0s 20ms/step - loss: 0.3917 - accuracy: 0.9423\n",
      "Epoch 12/100\n",
      "3/3 [==============================] - 0s 18ms/step - loss: 0.3187 - accuracy: 0.9543\n",
      "Epoch 13/100\n",
      "3/3 [==============================] - 0s 18ms/step - loss: 0.2878 - accuracy: 0.9303\n",
      "Epoch 14/100\n",
      "3/3 [==============================] - 0s 18ms/step - loss: 0.2438 - accuracy: 0.9423\n",
      "Epoch 15/100\n",
      "3/3 [==============================] - 0s 18ms/step - loss: 0.2114 - accuracy: 0.9591\n",
      "Epoch 16/100\n",
      "3/3 [==============================] - 0s 14ms/step - loss: 0.1593 - accuracy: 0.9760\n",
      "Epoch 17/100\n",
      "3/3 [==============================] - 0s 19ms/step - loss: 0.1432 - accuracy: 0.9736\n",
      "Epoch 18/100\n",
      "3/3 [==============================] - 0s 16ms/step - loss: 0.1212 - accuracy: 0.9880\n",
      "Epoch 19/100\n",
      "3/3 [==============================] - 0s 17ms/step - loss: 0.1230 - accuracy: 0.9760\n",
      "Epoch 20/100\n",
      "3/3 [==============================] - 0s 15ms/step - loss: 0.1025 - accuracy: 0.9880\n",
      "Epoch 21/100\n",
      "3/3 [==============================] - 0s 17ms/step - loss: 0.1202 - accuracy: 0.9760\n",
      "Epoch 22/100\n",
      "3/3 [==============================] - 0s 18ms/step - loss: 0.0958 - accuracy: 0.9832\n",
      "Epoch 23/100\n",
      "3/3 [==============================] - 0s 18ms/step - loss: 0.0807 - accuracy: 0.9832\n",
      "Epoch 24/100\n",
      "3/3 [==============================] - 0s 17ms/step - loss: 0.0910 - accuracy: 0.9880\n",
      "Epoch 25/100\n",
      "3/3 [==============================] - 0s 20ms/step - loss: 0.0844 - accuracy: 0.9784\n"
     ]
    }
   ],
   "source": [
    "callbacks_list = [\n",
    "    keras.callbacks.EarlyStopping(monitor='loss', patience=2)\n",
    "]\n",
    "\n",
    "opt = optimizers.SGD(learning_rate=0.01, momentum=0.9)\n",
    "\n",
    "model_m.compile(loss='categorical_crossentropy',\n",
    "                optimizer='adam', metrics=['accuracy'])\n",
    "\n",
    "BATCH_SIZE = 200\n",
    "EPOCHS = 100\n",
    "\n",
    "history = model_m.fit(x_train,\n",
    "                      y_train,\n",
    "                      batch_size=BATCH_SIZE,\n",
    "                      epochs=EPOCHS,\n",
    "                      callbacks=callbacks_list,\n",
    "                      verbose=1)"
   ]
  },
  {
   "cell_type": "code",
   "execution_count": 158,
   "id": "b99f141c",
   "metadata": {},
   "outputs": [
    {
     "data": {
      "image/png": "[encoded data removed]",
      "text/plain": [
       "<Figure size 432x288 with 1 Axes>"
      ]
     },
     "metadata": {
      "needs_background": "light"
     },
     "output_type": "display_data"
    }
   ],
   "source": [
    "# summarize history for accuracy and loss\n",
    "plt.figure(figsize=(6, 4))\n",
    "plt.plot(history.history['accuracy'], \"g--\", label=\"Accuracy of training data\")\n",
    "# plt.plot(history.history['val_accuracy'], \"g\", label=\"Accuracy of validation data\")\n",
    "plt.plot(history.history['loss'], \"r--\", label=\"Loss of training data\")\n",
    "# plt.plot(history.history['val_loss'], \"r\", label=\"Loss of validation data\")\n",
    "plt.title('Model Accuracy and Loss')\n",
    "plt.ylabel('Accuracy and Loss')\n",
    "plt.xlabel('Training Epoch')\n",
    "plt.ylim(0)\n",
    "plt.legend()\n",
    "plt.show()"
   ]
  },
  {
   "cell_type": "code",
   "execution_count": 159,
   "id": "7a9d9d46",
   "metadata": {},
   "outputs": [
    {
     "name": "stdout",
     "output_type": "stream",
     "text": [
      "['backward', 'forward', 'lateral']\n",
      "accel_x\n",
      "mean:  0.08631587301587361\n",
      "standard deviation:  0.8064239886254493\n",
      "accel_y\n",
      "mean:  -0.3774698412698392\n",
      "standard deviation:  1.6709515428684094\n",
      "accel_z\n",
      "mean:  0.5091603174603166\n",
      "standard deviation:  1.6642222578444024\n",
      "gyro_x\n",
      "mean:  7.289014285714277\n",
      "standard deviation:  182.7268925086552\n",
      "gyro_y\n",
      "mean:  3.087561904761896\n",
      "standard deviation:  118.43303420381595\n",
      "gyro_z\n",
      "mean:  2.268784126984129\n",
      "standard deviation:  113.53857885995292\n",
      "x shape:  (156, 60, 6)\n",
      "y shape:  (156,)\n"
     ]
    },
    {
     "data": {
      "text/plain": [
       "(156, 3)"
      ]
     },
     "execution_count": 159,
     "metadata": {},
     "output_type": "execute_result"
    }
   ],
   "source": [
    "# Set input_shape / reshape for Keras\n",
    "# Encode labels\n",
    "Test_data['encoded_label'] = le.transform(Test_data['fall_type'].values.ravel())\n",
    "print(list(le.classes_))\n",
    "\n",
    "for i in range(0,6):\n",
    "    print(data.columns[i])\n",
    "    Test_data.iloc[:, i] = normalize_features(Test_data.iloc[:, i], mu[i], sigma[i])\n",
    "    \n",
    "x_test, y_test = create_segments(Test_data)\n",
    "print(\"x shape: \",x_test.shape)\n",
    "print(\"y shape: \",y_test.shape)\n",
    "\n",
    "x_test = x_test.reshape(x_test.shape[0], TIME_PERIODS*no_of_features)\n",
    "\n",
    "x_test = x_test.astype(\"float32\")\n",
    "y_test = y_test.astype(\"float32\")\n",
    "\n",
    "y_test = np_utils.to_categorical(y_test, len(LABELS))\n",
    "y_test.shape"
   ]
  },
  {
   "cell_type": "code",
   "execution_count": 160,
   "id": "e221a205",
   "metadata": {},
   "outputs": [
    {
     "name": "stdout",
     "output_type": "stream",
     "text": [
      "5/5 [==============================] - 0s 14ms/step - loss: 0.1909 - accuracy: 0.9295\n",
      "\n",
      "Accuracy on test data: 0.93\n",
      "\n",
      "Loss on test data: 0.19\n"
     ]
    }
   ],
   "source": [
    "score = model_m.evaluate(x_test, y_test, verbose=1)\n",
    "\n",
    "print(\"\\nAccuracy on test data: %0.2f\" % score[1])\n",
    "print(\"\\nLoss on test data: %0.2f\" % score[0])"
   ]
  },
  {
   "cell_type": "code",
   "execution_count": 161,
   "id": "e4bb077d",
   "metadata": {},
   "outputs": [],
   "source": [
    "def show_confusion_matrix(validations, predictions):\n",
    "\n",
    "    matrix = metrics.confusion_matrix(validations, predictions)\n",
    "    plt.figure(figsize=(6, 4))\n",
    "    sns.heatmap(matrix,\n",
    "                cmap=\"coolwarm\",\n",
    "                linecolor='white',\n",
    "                linewidths=1,\n",
    "                xticklabels=LABELS,\n",
    "                yticklabels=LABELS,\n",
    "                annot=True,\n",
    "                fmt=\"d\")\n",
    "    plt.title(\"Confusion Matrix\")\n",
    "    plt.ylabel(\"True Label\")\n",
    "    plt.xlabel(\"Predicted Label\")\n",
    "    plt.show()"
   ]
  },
  {
   "cell_type": "code",
   "execution_count": 162,
   "id": "8b9d6ce5",
   "metadata": {},
   "outputs": [
    {
     "data": {
      "image/png": "[encoded data removed]",
      "text/plain": [
       "<Figure size 432x288 with 2 Axes>"
      ]
     },
     "metadata": {
      "needs_background": "light"
     },
     "output_type": "display_data"
    },
    {
     "name": "stdout",
     "output_type": "stream",
     "text": [
      "\n",
      "--- Classification report for test data ---\n",
      "\n",
      "              precision    recall  f1-score   support\n",
      "\n",
      "           0       0.84      0.92      0.88        39\n",
      "           1       1.00      0.80      0.89        40\n",
      "           2       0.95      1.00      0.97        77\n",
      "\n",
      "    accuracy                           0.93       156\n",
      "   macro avg       0.93      0.91      0.91       156\n",
      "weighted avg       0.93      0.93      0.93       156\n",
      "\n"
     ]
    }
   ],
   "source": [
    "y_pred_test = model_m.predict(x_test)\n",
    "# Take the class with the highest probability from the test predictions\n",
    "max_y_pred_test = np.argmax(y_pred_test, axis=1)\n",
    "max_y_test = np.argmax(y_test, axis=1)\n",
    "\n",
    "show_confusion_matrix(max_y_test, max_y_pred_test)\n",
    "\n",
    "print(\"\\n--- Classification report for test data ---\\n\")\n",
    "\n",
    "print(classification_report(max_y_test, max_y_pred_test))"
   ]
  },
  {
   "cell_type": "code",
   "execution_count": 163,
   "id": "8c111944",
   "metadata": {},
   "outputs": [],
   "source": [
    "model_m.save('best_model_cnn_fall_types.h5')"
   ]
  },
  {
   "cell_type": "code",
   "execution_count": 164,
   "id": "dd32135c",
   "metadata": {},
   "outputs": [
    {
     "name": "stdout",
     "output_type": "stream",
     "text": [
      "[0.08631587301587361, -0.3774698412698392, 0.5091603174603166, 7.289014285714277, 3.087561904761896, 2.268784126984129]\n",
      "[0.8064239886254493, 1.6709515428684094, 1.6642222578444024, 182.7268925086552, 118.43303420381595, 113.53857885995292]\n"
     ]
    }
   ],
   "source": [
    "print(mu)\n",
    "print(sigma)"
   ]
  },
  {
   "cell_type": "markdown",
   "id": "c7464269",
   "metadata": {},
   "source": [
    "### LSTM Model"
   ]
  },
  {
   "cell_type": "code",
   "execution_count": 23,
   "id": "96b75034",
   "metadata": {},
   "outputs": [
    {
     "name": "stdout",
     "output_type": "stream",
     "text": [
      "Model: \"sequential_1\"\n",
      "_________________________________________________________________\n",
      " Layer (type)                Output Shape              Param #   \n",
      "=================================================================\n",
      " lstm (LSTM)                 (None, 200)               165600    \n",
      "                                                                 \n",
      " dropout_1 (Dropout)         (None, 200)               0         \n",
      "                                                                 \n",
      " dense_1 (Dense)             (None, 100)               20100     \n",
      "                                                                 \n",
      " dense_2 (Dense)             (None, 4)                 404       \n",
      "                                                                 \n",
      "=================================================================\n",
      "Total params: 186,104\n",
      "Trainable params: 186,104\n",
      "Non-trainable params: 0\n",
      "_________________________________________________________________\n",
      "None\n"
     ]
    }
   ],
   "source": [
    "model_lstm = Sequential()\n",
    "model_lstm.add(LSTM(200, input_shape=(TIME_PERIODS,no_of_features)))\n",
    "model_lstm.add(Dropout(0.4))\n",
    "model_lstm.add(Dense(100, activation='relu'))\n",
    "model_lstm.add(Dense(len(LABELS), activation='softmax'))\n",
    "print(model_lstm.summary())"
   ]
  },
  {
   "cell_type": "code",
   "execution_count": 24,
   "id": "599d0234",
   "metadata": {},
   "outputs": [
    {
     "data": {
      "text/plain": [
       "(532, 60, 6)"
      ]
     },
     "execution_count": 24,
     "metadata": {},
     "output_type": "execute_result"
    }
   ],
   "source": [
    "x_train = x_train.reshape(x_train.shape[0], TIME_PERIODS, no_of_features)\n",
    "x_train.shape"
   ]
  },
  {
   "cell_type": "code",
   "execution_count": 25,
   "id": "7da4c090",
   "metadata": {
    "scrolled": true
   },
   "outputs": [
    {
     "name": "stdout",
     "output_type": "stream",
     "text": [
      "Epoch 1/50\n",
      "3/3 [==============================] - 4s 50ms/step - loss: 0.6842 - accuracy: 0.4117\n",
      "Epoch 2/50\n",
      "3/3 [==============================] - 0s 42ms/step - loss: 0.6504 - accuracy: 0.4774\n",
      "Epoch 3/50\n",
      "3/3 [==============================] - 0s 40ms/step - loss: 0.6066 - accuracy: 0.4305\n",
      "Epoch 4/50\n",
      "3/3 [==============================] - 0s 40ms/step - loss: 0.5485 - accuracy: 0.4023\n"
     ]
    }
   ],
   "source": [
    "callbacks_list = [\n",
    "    keras.callbacks.EarlyStopping(monitor='accuracy', patience=2)\n",
    "]\n",
    "\n",
    "opt = optimizers.Adam(learning_rate=0.001)\n",
    "\n",
    "model_lstm.compile(loss='binary_crossentropy', optimizer=opt, metrics=['accuracy'])\n",
    "\n",
    "BATCH_SIZE = 200\n",
    "EPOCHS = 50\n",
    "\n",
    "history = model_lstm.fit(x_train,\n",
    "                      y_train,\n",
    "                      batch_size=BATCH_SIZE,\n",
    "                      epochs=EPOCHS,\n",
    "                      callbacks=callbacks_list,\n",
    "                      verbose=1)"
   ]
  },
  {
   "cell_type": "code",
   "execution_count": 26,
   "id": "03c133b2",
   "metadata": {},
   "outputs": [
    {
     "data": {
      "image/png": "[encoded data removed]",
      "text/plain": [
       "<Figure size 432x288 with 1 Axes>"
      ]
     },
     "metadata": {
      "needs_background": "light"
     },
     "output_type": "display_data"
    }
   ],
   "source": [
    "# summarize history for accuracy and loss\n",
    "plt.figure(figsize=(6, 4))\n",
    "plt.plot(history.history['accuracy'], \"g--\", label=\"Accuracy of training data\")\n",
    "# plt.plot(history.history['val_accuracy'], \"g\", label=\"Accuracy of validation data\")\n",
    "plt.plot(history.history['loss'], \"r--\", label=\"Loss of training data\")\n",
    "# plt.plot(history.history['val_loss'], \"r\", label=\"Loss of validation data\")\n",
    "plt.title('Model Accuracy and Loss')\n",
    "plt.ylabel('Accuracy and Loss')\n",
    "plt.xlabel('Training Epoch')\n",
    "plt.ylim(0)\n",
    "plt.legend()\n",
    "plt.show()"
   ]
  },
  {
   "cell_type": "code",
   "execution_count": 27,
   "id": "d3bca8ed",
   "metadata": {},
   "outputs": [
    {
     "data": {
      "text/plain": [
       "(156, 60, 6)"
      ]
     },
     "execution_count": 27,
     "metadata": {},
     "output_type": "execute_result"
    }
   ],
   "source": [
    "x_test = x_test.reshape(x_test.shape[0], TIME_PERIODS, no_of_features)\n",
    "x_test.shape"
   ]
  },
  {
   "cell_type": "code",
   "execution_count": 28,
   "id": "dd51cfae",
   "metadata": {},
   "outputs": [
    {
     "name": "stdout",
     "output_type": "stream",
     "text": [
      "5/5 [==============================] - 1s 34ms/step - loss: 0.4645 - accuracy: 0.4679\n",
      "\n",
      "Accuracy on test data: 0.47\n",
      "\n",
      "Loss on test data: 0.46\n"
     ]
    }
   ],
   "source": [
    "score = model_lstm.evaluate(x_test, y_test, verbose=1)\n",
    "\n",
    "print(\"\\nAccuracy on test data: %0.2f\" % score[1])\n",
    "print(\"\\nLoss on test data: %0.2f\" % score[0])"
   ]
  },
  {
   "cell_type": "code",
   "execution_count": 29,
   "id": "11f27a2e",
   "metadata": {},
   "outputs": [
    {
     "data": {
      "image/png": "[encoded data removed]",
      "text/plain": [
       "<Figure size 432x288 with 2 Axes>"
      ]
     },
     "metadata": {
      "needs_background": "light"
     },
     "output_type": "display_data"
    },
    {
     "name": "stdout",
     "output_type": "stream",
     "text": [
      "\n",
      "--- Classification report for test data ---\n",
      "\n",
      "              precision    recall  f1-score   support\n",
      "\n",
      "           0       0.00      0.00      0.00        39\n",
      "           1       0.00      0.00      0.00        40\n",
      "           2       0.35      0.90      0.50        40\n",
      "           3       0.71      1.00      0.83        37\n",
      "\n",
      "    accuracy                           0.47       156\n",
      "   macro avg       0.27      0.47      0.33       156\n",
      "weighted avg       0.26      0.47      0.33       156\n",
      "\n"
     ]
    }
   ],
   "source": [
    "y_pred_test = model_lstm.predict(x_test)\n",
    "# Take the class with the highest probability from the test predictions\n",
    "max_y_pred_test = np.argmax(y_pred_test, axis=1)\n",
    "max_y_test = np.argmax(y_test, axis=1)\n",
    "\n",
    "show_confusion_matrix(max_y_test, max_y_pred_test)\n",
    "\n",
    "print(\"\\n--- Classification report for test data ---\\n\")\n",
    "\n",
    "print(classification_report(max_y_test, max_y_pred_test))"
   ]
  },
  {
   "cell_type": "code",
   "execution_count": 91,
   "id": "ce1d55ae",
   "metadata": {},
   "outputs": [],
   "source": [
    "model_lstm.save('best_model_lstm.h5')"
   ]
  },
  {
   "cell_type": "markdown",
   "id": "080892e0",
   "metadata": {},
   "source": [
    "### 1D CNN + LSTM Model"
   ]
  },
  {
   "cell_type": "code",
   "execution_count": 30,
   "id": "cd822796",
   "metadata": {},
   "outputs": [
    {
     "name": "stdout",
     "output_type": "stream",
     "text": [
      "Model: \"sequential_2\"\n",
      "_________________________________________________________________\n",
      " Layer (type)                Output Shape              Param #   \n",
      "=================================================================\n",
      " conv1d_3 (Conv1D)           (None, 58, 100)           1900      \n",
      "                                                                 \n",
      " max_pooling1d_2 (MaxPooling  (None, 19, 100)          0         \n",
      " 1D)                                                             \n",
      "                                                                 \n",
      " lstm_1 (LSTM)               (None, 19, 200)           240800    \n",
      "                                                                 \n",
      " conv1d_4 (Conv1D)           (None, 17, 100)           60100     \n",
      "                                                                 \n",
      " max_pooling1d_3 (MaxPooling  (None, 5, 100)           0         \n",
      " 1D)                                                             \n",
      "                                                                 \n",
      " conv1d_5 (Conv1D)           (None, 3, 80)             24080     \n",
      "                                                                 \n",
      " global_average_pooling1d_1   (None, 80)               0         \n",
      " (GlobalAveragePooling1D)                                        \n",
      "                                                                 \n",
      " dropout_2 (Dropout)         (None, 80)                0         \n",
      "                                                                 \n",
      " dense_3 (Dense)             (None, 100)               8100      \n",
      "                                                                 \n",
      " dense_4 (Dense)             (None, 4)                 404       \n",
      "                                                                 \n",
      "=================================================================\n",
      "Total params: 335,384\n",
      "Trainable params: 335,384\n",
      "Non-trainable params: 0\n",
      "_________________________________________________________________\n",
      "None\n"
     ]
    }
   ],
   "source": [
    "model_lsnet = Sequential()\n",
    "model_lsnet.add(Conv1D(100, 3, activation='relu', input_shape=(TIME_PERIODS,no_of_features)))\n",
    "model_lsnet.add(MaxPooling1D(3))\n",
    "model_lsnet.add(LSTM(200, return_sequences=True))\n",
    "model_lsnet.add(Conv1D(100, 3, activation='relu'))\n",
    "model_lsnet.add(MaxPooling1D(3))\n",
    "model_lsnet.add(Conv1D(80, 3, activation='relu'))\n",
    "model_lsnet.add(GlobalAveragePooling1D())\n",
    "model_lsnet.add(Dropout(0.4))\n",
    "model_lsnet.add(Dense(100, activation='relu'))\n",
    "model_lsnet.add(Dense(len(LABELS), activation='softmax'))\n",
    "print(model_lsnet.summary())"
   ]
  },
  {
   "cell_type": "code",
   "execution_count": 31,
   "id": "d6d31add",
   "metadata": {},
   "outputs": [
    {
     "data": {
      "text/plain": [
       "(532, 60, 6)"
      ]
     },
     "execution_count": 31,
     "metadata": {},
     "output_type": "execute_result"
    }
   ],
   "source": [
    "x_train = x_train.reshape(x_train.shape[0], TIME_PERIODS, no_of_features)\n",
    "x_train.shape"
   ]
  },
  {
   "cell_type": "code",
   "execution_count": 32,
   "id": "d5c82411",
   "metadata": {
    "scrolled": true
   },
   "outputs": [
    {
     "name": "stdout",
     "output_type": "stream",
     "text": [
      "Epoch 1/50\n",
      "3/3 [==============================] - 3s 138ms/step - loss: 0.6627 - accuracy: 0.2876\n",
      "Epoch 2/50\n",
      "3/3 [==============================] - 0s 30ms/step - loss: 0.5871 - accuracy: 0.2726\n",
      "Epoch 3/50\n",
      "3/3 [==============================] - 0s 30ms/step - loss: 0.5629 - accuracy: 0.3177\n",
      "Epoch 4/50\n",
      "3/3 [==============================] - 0s 30ms/step - loss: 0.5358 - accuracy: 0.4135\n",
      "Epoch 5/50\n",
      "3/3 [==============================] - 0s 30ms/step - loss: 0.5204 - accuracy: 0.3947\n",
      "Epoch 6/50\n",
      "3/3 [==============================] - 0s 29ms/step - loss: 0.4938 - accuracy: 0.4342\n",
      "Epoch 7/50\n",
      "3/3 [==============================] - 0s 30ms/step - loss: 0.4735 - accuracy: 0.4718\n",
      "Epoch 8/50\n",
      "3/3 [==============================] - 0s 31ms/step - loss: 0.4464 - accuracy: 0.5677\n",
      "Epoch 9/50\n",
      "3/3 [==============================] - 0s 30ms/step - loss: 0.4323 - accuracy: 0.5733\n",
      "Epoch 10/50\n",
      "3/3 [==============================] - 0s 31ms/step - loss: 0.4073 - accuracy: 0.6128\n",
      "Epoch 11/50\n",
      "3/3 [==============================] - 0s 34ms/step - loss: 0.3734 - accuracy: 0.6673\n",
      "Epoch 12/50\n",
      "3/3 [==============================] - 0s 31ms/step - loss: 0.3406 - accuracy: 0.7368\n",
      "Epoch 13/50\n",
      "3/3 [==============================] - 0s 31ms/step - loss: 0.3172 - accuracy: 0.7218\n",
      "Epoch 14/50\n",
      "3/3 [==============================] - 0s 30ms/step - loss: 0.2954 - accuracy: 0.7782\n",
      "Epoch 15/50\n",
      "3/3 [==============================] - 0s 30ms/step - loss: 0.2590 - accuracy: 0.7951\n",
      "Epoch 16/50\n",
      "3/3 [==============================] - 0s 28ms/step - loss: 0.2261 - accuracy: 0.8308\n",
      "Epoch 17/50\n",
      "3/3 [==============================] - 0s 28ms/step - loss: 0.2157 - accuracy: 0.8289\n",
      "Epoch 18/50\n",
      "3/3 [==============================] - 0s 30ms/step - loss: 0.1990 - accuracy: 0.8459\n",
      "Epoch 19/50\n",
      "3/3 [==============================] - 0s 29ms/step - loss: 0.1608 - accuracy: 0.8778\n",
      "Epoch 20/50\n",
      "3/3 [==============================] - 0s 30ms/step - loss: 0.1573 - accuracy: 0.9004\n",
      "Epoch 21/50\n",
      "3/3 [==============================] - 0s 29ms/step - loss: 0.1511 - accuracy: 0.8891\n",
      "Epoch 22/50\n",
      "3/3 [==============================] - 0s 30ms/step - loss: 0.1309 - accuracy: 0.9154\n",
      "Epoch 23/50\n",
      "3/3 [==============================] - 0s 29ms/step - loss: 0.1315 - accuracy: 0.8929\n",
      "Epoch 24/50\n",
      "3/3 [==============================] - 0s 30ms/step - loss: 0.1214 - accuracy: 0.9154\n"
     ]
    }
   ],
   "source": [
    "callbacks_list = [\n",
    "    keras.callbacks.EarlyStopping(monitor='accuracy', patience=2)\n",
    "]\n",
    "\n",
    "# opt = optimizers.RMSprop(learning_rate=0.001, momentum=0.9)\n",
    "\n",
    "model_lsnet.compile(loss='binary_crossentropy', optimizer='adam', metrics=['accuracy'])\n",
    "\n",
    "BATCH_SIZE = 200\n",
    "EPOCHS = 50\n",
    "\n",
    "history = model_lsnet.fit(x_train,\n",
    "                      y_train,\n",
    "                      batch_size=BATCH_SIZE,\n",
    "                      epochs=EPOCHS,\n",
    "                      callbacks=callbacks_list,\n",
    "                      verbose=1)"
   ]
  },
  {
   "cell_type": "code",
   "execution_count": 33,
   "id": "79495a5e",
   "metadata": {},
   "outputs": [
    {
     "data": {
      "image/png": "[encoded data removed]",
      "text/plain": [
       "<Figure size 432x288 with 1 Axes>"
      ]
     },
     "metadata": {
      "needs_background": "light"
     },
     "output_type": "display_data"
    }
   ],
   "source": [
    "# summarize history for accuracy and loss\n",
    "plt.figure(figsize=(6, 4))\n",
    "plt.plot(history.history['accuracy'], \"g--\", label=\"Accuracy of training data\")\n",
    "# plt.plot(history.history['val_accuracy'], \"g\", label=\"Accuracy of validation data\")\n",
    "plt.plot(history.history['loss'], \"r--\", label=\"Loss of training data\")\n",
    "# plt.plot(history.history['val_loss'], \"r\", label=\"Loss of validation data\")\n",
    "plt.title('Model Accuracy and Loss')\n",
    "plt.ylabel('Accuracy and Loss')\n",
    "plt.xlabel('Training Epoch')\n",
    "plt.ylim(0)\n",
    "plt.legend()\n",
    "plt.show()"
   ]
  },
  {
   "cell_type": "code",
   "execution_count": 34,
   "id": "fbd9fc0f",
   "metadata": {},
   "outputs": [
    {
     "data": {
      "text/plain": [
       "(156, 60, 6)"
      ]
     },
     "execution_count": 34,
     "metadata": {},
     "output_type": "execute_result"
    }
   ],
   "source": [
    "x_test = x_test.reshape(x_test.shape[0], TIME_PERIODS, no_of_features)\n",
    "x_test.shape"
   ]
  },
  {
   "cell_type": "code",
   "execution_count": 35,
   "id": "e2537d84",
   "metadata": {},
   "outputs": [
    {
     "name": "stdout",
     "output_type": "stream",
     "text": [
      "5/5 [==============================] - 1s 22ms/step - loss: 0.3804 - accuracy: 0.8654\n",
      "\n",
      "Accuracy on test data: 0.87\n",
      "\n",
      "Loss on test data: 0.38\n"
     ]
    }
   ],
   "source": [
    "score = model_lsnet.evaluate(x_test, y_test, verbose=1)\n",
    "\n",
    "print(\"\\nAccuracy on test data: %0.2f\" % score[1])\n",
    "print(\"\\nLoss on test data: %0.2f\" % score[0])"
   ]
  },
  {
   "cell_type": "code",
   "execution_count": 36,
   "id": "8127c99e",
   "metadata": {},
   "outputs": [
    {
     "data": {
      "image/png": "[encoded data removed]",
      "text/plain": [
       "<Figure size 432x288 with 2 Axes>"
      ]
     },
     "metadata": {
      "needs_background": "light"
     },
     "output_type": "display_data"
    },
    {
     "name": "stdout",
     "output_type": "stream",
     "text": [
      "\n",
      "--- Classification report for test data ---\n",
      "\n",
      "              precision    recall  f1-score   support\n",
      "\n",
      "           0       0.93      0.95      0.94        39\n",
      "           1       0.79      0.85      0.82        40\n",
      "           2       0.88      0.70      0.78        40\n",
      "           3       0.88      0.97      0.92        37\n",
      "\n",
      "    accuracy                           0.87       156\n",
      "   macro avg       0.87      0.87      0.86       156\n",
      "weighted avg       0.87      0.87      0.86       156\n",
      "\n"
     ]
    }
   ],
   "source": [
    "y_pred_test = model_lsnet.predict(x_test)\n",
    "# Take the class with the highest probability from the test predictions\n",
    "max_y_pred_test = np.argmax(y_pred_test, axis=1)\n",
    "max_y_test = np.argmax(y_test, axis=1)\n",
    "\n",
    "show_confusion_matrix(max_y_test, max_y_pred_test)\n",
    "\n",
    "print(\"\\n--- Classification report for test data ---\\n\")\n",
    "\n",
    "print(classification_report(max_y_test, max_y_pred_test))"
   ]
  },
  {
   "cell_type": "code",
   "execution_count": 37,
   "id": "0ef8b2e5",
   "metadata": {},
   "outputs": [],
   "source": [
    "model_lsnet.save('best_model_lsnet_fall_types.h5')"
   ]
  },
  {
   "cell_type": "markdown",
   "id": "7a6e05cb",
   "metadata": {},
   "source": [
    "### RNN Model"
   ]
  },
  {
   "cell_type": "code",
   "execution_count": 38,
   "id": "d67cceec",
   "metadata": {},
   "outputs": [
    {
     "name": "stdout",
     "output_type": "stream",
     "text": [
      "Model: \"sequential_3\"\n",
      "_________________________________________________________________\n",
      " Layer (type)                Output Shape              Param #   \n",
      "=================================================================\n",
      " embedding (Embedding)       (None, None, 64)          23040     \n",
      "                                                                 \n",
      " gru (GRU)                   (None, None, 128)         74496     \n",
      "                                                                 \n",
      " simple_rnn (SimpleRNN)      (None, 64)                12352     \n",
      "                                                                 \n",
      " dropout_3 (Dropout)         (None, 64)                0         \n",
      "                                                                 \n",
      " dense_5 (Dense)             (None, 4)                 260       \n",
      "                                                                 \n",
      "=================================================================\n",
      "Total params: 110,148\n",
      "Trainable params: 110,148\n",
      "Non-trainable params: 0\n",
      "_________________________________________________________________\n"
     ]
    }
   ],
   "source": [
    "model_rnn = keras.Sequential()\n",
    "model_rnn.add(Embedding(input_dim=TIME_PERIODS*no_of_features, output_dim=64))\n",
    "\n",
    "# The output of GRU will be a 3D tensor of shape (batch_size, timesteps, 256)\n",
    "model_rnn.add(GRU(128, return_sequences=True))\n",
    "\n",
    "# The output of SimpleRNN will be a 2D tensor of shape (batch_size, 128)\n",
    "model_rnn.add(SimpleRNN(64))\n",
    "model_rnn.add(Dropout(0.4))\n",
    "model_rnn.add(Dense(len(LABELS), activation='softmax'))\n",
    "\n",
    "model_rnn.summary()"
   ]
  },
  {
   "cell_type": "code",
   "execution_count": 39,
   "id": "627c2801",
   "metadata": {},
   "outputs": [
    {
     "data": {
      "text/plain": [
       "(532, 360)"
      ]
     },
     "execution_count": 39,
     "metadata": {},
     "output_type": "execute_result"
    }
   ],
   "source": [
    "x_train = x_train.reshape(x_train.shape[0], TIME_PERIODS*no_of_features)\n",
    "x_train.shape"
   ]
  },
  {
   "cell_type": "code",
   "execution_count": 40,
   "id": "e9b1a6d8",
   "metadata": {
    "scrolled": true
   },
   "outputs": [
    {
     "name": "stdout",
     "output_type": "stream",
     "text": [
      "Epoch 1/50\n",
      "3/3 [==============================] - 6s 740ms/step - loss: 1.4020 - accuracy: 0.2199\n",
      "Epoch 2/50\n",
      "3/3 [==============================] - 2s 672ms/step - loss: 1.3769 - accuracy: 0.2688\n",
      "Epoch 3/50\n",
      "3/3 [==============================] - 2s 730ms/step - loss: 1.3649 - accuracy: 0.3008\n",
      "Epoch 4/50\n",
      "3/3 [==============================] - 2s 705ms/step - loss: 1.3512 - accuracy: 0.3647\n",
      "Epoch 5/50\n",
      "3/3 [==============================] - 2s 663ms/step - loss: 1.2991 - accuracy: 0.3891\n",
      "Epoch 6/50\n",
      "3/3 [==============================] - 2s 734ms/step - loss: 1.3754 - accuracy: 0.3083\n"
     ]
    }
   ],
   "source": [
    "callbacks_list = [\n",
    "    keras.callbacks.EarlyStopping(monitor='accuracy', patience=1)\n",
    "]\n",
    "\n",
    "# opt = optimizers.SGD(learning_rate=0.01, momentum=0.9)\n",
    "\n",
    "model_rnn.compile(loss='categorical_crossentropy', optimizer='adam', metrics=['accuracy'])\n",
    "\n",
    "BATCH_SIZE = 200\n",
    "EPOCHS = 50\n",
    "\n",
    "history = model_rnn.fit(x_train,\n",
    "                      y_train,\n",
    "                      batch_size=BATCH_SIZE,\n",
    "                      epochs=EPOCHS,\n",
    "                      callbacks=callbacks_list,\n",
    "                      verbose=1)"
   ]
  },
  {
   "cell_type": "code",
   "execution_count": 41,
   "id": "2c815cec",
   "metadata": {},
   "outputs": [
    {
     "data": {
      "image/png": "[encoded data removed]",
      "text/plain": [
       "<Figure size 432x288 with 1 Axes>"
      ]
     },
     "metadata": {
      "needs_background": "light"
     },
     "output_type": "display_data"
    }
   ],
   "source": [
    "# summarize history for accuracy and loss\n",
    "plt.figure(figsize=(6, 4))\n",
    "plt.plot(history.history['accuracy'], \"g--\", label=\"Accuracy of training data\")\n",
    "# plt.plot(history.history['val_accuracy'], \"g\", label=\"Accuracy of validation data\")\n",
    "plt.plot(history.history['loss'], \"r--\", label=\"Loss of training data\")\n",
    "# plt.plot(history.history['val_loss'], \"r\", label=\"Loss of validation data\")\n",
    "plt.title('Model Accuracy and Loss')\n",
    "plt.ylabel('Accuracy and Loss')\n",
    "plt.xlabel('Training Epoch')\n",
    "plt.ylim(0)\n",
    "plt.legend()\n",
    "plt.show()"
   ]
  },
  {
   "cell_type": "code",
   "execution_count": 42,
   "id": "371bef1d",
   "metadata": {},
   "outputs": [
    {
     "data": {
      "text/plain": [
       "(156, 360)"
      ]
     },
     "execution_count": 42,
     "metadata": {},
     "output_type": "execute_result"
    }
   ],
   "source": [
    "x_test = x_test.reshape(x_test.shape[0], TIME_PERIODS*no_of_features)\n",
    "x_test.shape"
   ]
  },
  {
   "cell_type": "code",
   "execution_count": 43,
   "id": "5545c8ab",
   "metadata": {},
   "outputs": [
    {
     "name": "stdout",
     "output_type": "stream",
     "text": [
      "5/5 [==============================] - 1s 74ms/step - loss: 1.3050 - accuracy: 0.3974\n",
      "\n",
      "Accuracy on test data: 0.40\n",
      "\n",
      "Loss on test data: 1.30\n"
     ]
    }
   ],
   "source": [
    "score = model_rnn.evaluate(x_test, y_test, verbose=1)\n",
    "\n",
    "print(\"\\nAccuracy on test data: %0.2f\" % score[1])\n",
    "print(\"\\nLoss on test data: %0.2f\" % score[0])"
   ]
  },
  {
   "cell_type": "code",
   "execution_count": 44,
   "id": "705e83e2",
   "metadata": {},
   "outputs": [
    {
     "data": {
      "image/png": "[encoded data removed]",
      "text/plain": [
       "<Figure size 432x288 with 2 Axes>"
      ]
     },
     "metadata": {
      "needs_background": "light"
     },
     "output_type": "display_data"
    },
    {
     "name": "stdout",
     "output_type": "stream",
     "text": [
      "\n",
      "--- Classification report for test data ---\n",
      "\n",
      "              precision    recall  f1-score   support\n",
      "\n",
      "           0       0.35      0.23      0.28        39\n",
      "           1       0.35      0.80      0.48        40\n",
      "           2       0.00      0.00      0.00        40\n",
      "           3       0.55      0.57      0.56        37\n",
      "\n",
      "    accuracy                           0.40       156\n",
      "   macro avg       0.31      0.40      0.33       156\n",
      "weighted avg       0.31      0.40      0.33       156\n",
      "\n"
     ]
    }
   ],
   "source": [
    "y_pred_test = model_rnn.predict(x_test)\n",
    "# Take the class with the highest probability from the test predictions\n",
    "max_y_pred_test = np.argmax(y_pred_test, axis=1)\n",
    "max_y_test = np.argmax(y_test, axis=1)\n",
    "\n",
    "show_confusion_matrix(max_y_test, max_y_pred_test)\n",
    "\n",
    "print(\"\\n--- Classification report for test data ---\\n\")\n",
    "\n",
    "print(classification_report(max_y_test, max_y_pred_test))"
   ]
  }
 ],
 "metadata": {
  "kernelspec": {
   "display_name": "Python 3",
   "language": "python",
   "name": "python3"
  },
  "language_info": {
   "codemirror_mode": {
    "name": "ipython",
    "version": 3
   },
   "file_extension": ".py",
   "mimetype": "text/x-python",
   "name": "python",
   "nbconvert_exporter": "python",
   "pygments_lexer": "ipython3",
   "version": "3.8.8"
  }
 },
 "nbformat": 4,
 "nbformat_minor": 5
}
