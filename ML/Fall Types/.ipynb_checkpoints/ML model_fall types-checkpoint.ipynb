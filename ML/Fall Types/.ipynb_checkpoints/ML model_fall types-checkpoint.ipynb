{
 "cells": [
  {
   "cell_type": "markdown",
   "id": "12f4f356",
   "metadata": {},
   "source": [
    "# Getting Fall Types Data"
   ]
  },
  {
   "cell_type": "code",
   "execution_count": 1,
   "id": "46279785",
   "metadata": {},
   "outputs": [],
   "source": [
    "from matplotlib import pyplot as plt\n",
    "%matplotlib inline\n",
    "import numpy as np\n",
    "import pandas as pd\n",
    "import seaborn as sns\n",
    "from scipy import stats\n",
    "from IPython.display import display, HTML\n",
    "import os\n",
    "import glob\n",
    "import io\n",
    "from scipy import signal\n",
    "import warnings\n",
    "warnings.filterwarnings('ignore')"
   ]
  },
  {
   "cell_type": "code",
   "execution_count": 3,
   "id": "38e7a828",
   "metadata": {},
   "outputs": [
    {
     "name": "stdout",
     "output_type": "stream",
     "text": [
      "Reading folder: ramana\n",
      "\tReading internal folder: fall\n",
      "\tReading internal folder: gettingup\n",
      "\tReading internal folder: jogging\n",
      "\tReading internal folder: sitting\n",
      "\tReading internal folder: stairsdown\n",
      "\tReading internal folder: stairsup\n",
      "\tReading internal folder: walking\n",
      "Reading folder: wamika\n",
      "\tReading internal folder: fall\n",
      "\tReading internal folder: gettingup\n",
      "\tReading internal folder: jogging\n",
      "\tReading internal folder: sitting\n",
      "\tReading internal folder: stairsdown\n",
      "\tReading internal folder: stairsup\n",
      "\tReading internal folder: walking\n",
      "Reading folder: wira\n",
      "\tReading internal folder: fall\n",
      "\tReading internal folder: gettingup\n",
      "\tReading internal folder: jogging\n",
      "\tReading internal folder: sitting\n",
      "\tReading internal folder: stairsdown\n",
      "\tReading internal folder: stairsup\n",
      "\tReading internal folder: walking\n",
      "Reading folder: zeon\n",
      "\tReading internal folder: fall\n",
      "\tReading internal folder: gettingup\n",
      "\tReading internal folder: jogging\n",
      "\tReading internal folder: sitting\n",
      "\tReading internal folder: stairsdown\n",
      "\tReading internal folder: stairsup\n",
      "\tReading internal folder: walking\n"
     ]
    },
    {
     "data": {
      "text/html": [
       "<div>\n",
       "<style scoped>\n",
       "    .dataframe tbody tr th:only-of-type {\n",
       "        vertical-align: middle;\n",
       "    }\n",
       "\n",
       "    .dataframe tbody tr th {\n",
       "        vertical-align: top;\n",
       "    }\n",
       "\n",
       "    .dataframe thead th {\n",
       "        text-align: right;\n",
       "    }\n",
       "</style>\n",
       "<table border=\"1\" class=\"dataframe\">\n",
       "  <thead>\n",
       "    <tr style=\"text-align: right;\">\n",
       "      <th></th>\n",
       "      <th>accel_x</th>\n",
       "      <th>accel_y</th>\n",
       "      <th>accel_z</th>\n",
       "      <th>gyro_x</th>\n",
       "      <th>gyro_y</th>\n",
       "      <th>gyro_z</th>\n",
       "      <th>user</th>\n",
       "      <th>fall_type</th>\n",
       "    </tr>\n",
       "  </thead>\n",
       "  <tbody>\n",
       "    <tr>\n",
       "      <th>1</th>\n",
       "      <td>-0.06</td>\n",
       "      <td>0.02</td>\n",
       "      <td>1.01</td>\n",
       "      <td>3.15</td>\n",
       "      <td>-0.53</td>\n",
       "      <td>1.56</td>\n",
       "      <td>ramana</td>\n",
       "      <td>backward</td>\n",
       "    </tr>\n",
       "    <tr>\n",
       "      <th>2</th>\n",
       "      <td>-0.06</td>\n",
       "      <td>0.06</td>\n",
       "      <td>1.03</td>\n",
       "      <td>-14.00</td>\n",
       "      <td>-2.36</td>\n",
       "      <td>2.29</td>\n",
       "      <td>ramana</td>\n",
       "      <td>backward</td>\n",
       "    </tr>\n",
       "    <tr>\n",
       "      <th>3</th>\n",
       "      <td>-0.06</td>\n",
       "      <td>-0.01</td>\n",
       "      <td>1.01</td>\n",
       "      <td>-25.85</td>\n",
       "      <td>-4.80</td>\n",
       "      <td>0.46</td>\n",
       "      <td>ramana</td>\n",
       "      <td>backward</td>\n",
       "    </tr>\n",
       "    <tr>\n",
       "      <th>4</th>\n",
       "      <td>-0.06</td>\n",
       "      <td>-0.03</td>\n",
       "      <td>1.00</td>\n",
       "      <td>-7.66</td>\n",
       "      <td>-4.80</td>\n",
       "      <td>6.26</td>\n",
       "      <td>ramana</td>\n",
       "      <td>backward</td>\n",
       "    </tr>\n",
       "    <tr>\n",
       "      <th>5</th>\n",
       "      <td>-0.04</td>\n",
       "      <td>-0.02</td>\n",
       "      <td>1.04</td>\n",
       "      <td>-0.88</td>\n",
       "      <td>-3.16</td>\n",
       "      <td>4.12</td>\n",
       "      <td>ramana</td>\n",
       "      <td>backward</td>\n",
       "    </tr>\n",
       "    <tr>\n",
       "      <th>...</th>\n",
       "      <td>...</td>\n",
       "      <td>...</td>\n",
       "      <td>...</td>\n",
       "      <td>...</td>\n",
       "      <td>...</td>\n",
       "      <td>...</td>\n",
       "      <td>...</td>\n",
       "      <td>...</td>\n",
       "    </tr>\n",
       "    <tr>\n",
       "      <th>56</th>\n",
       "      <td>0.99</td>\n",
       "      <td>-0.98</td>\n",
       "      <td>0.83</td>\n",
       "      <td>0.49</td>\n",
       "      <td>-21.33</td>\n",
       "      <td>-4.10</td>\n",
       "      <td>zeon</td>\n",
       "      <td>right</td>\n",
       "    </tr>\n",
       "    <tr>\n",
       "      <th>57</th>\n",
       "      <td>1.02</td>\n",
       "      <td>-0.99</td>\n",
       "      <td>0.80</td>\n",
       "      <td>1.83</td>\n",
       "      <td>-18.03</td>\n",
       "      <td>-4.41</td>\n",
       "      <td>zeon</td>\n",
       "      <td>right</td>\n",
       "    </tr>\n",
       "    <tr>\n",
       "      <th>58</th>\n",
       "      <td>1.00</td>\n",
       "      <td>-0.99</td>\n",
       "      <td>0.81</td>\n",
       "      <td>4.64</td>\n",
       "      <td>-12.54</td>\n",
       "      <td>-2.21</td>\n",
       "      <td>zeon</td>\n",
       "      <td>right</td>\n",
       "    </tr>\n",
       "    <tr>\n",
       "      <th>59</th>\n",
       "      <td>0.99</td>\n",
       "      <td>-0.99</td>\n",
       "      <td>0.81</td>\n",
       "      <td>-1.71</td>\n",
       "      <td>-14.80</td>\n",
       "      <td>-1.30</td>\n",
       "      <td>zeon</td>\n",
       "      <td>right</td>\n",
       "    </tr>\n",
       "    <tr>\n",
       "      <th>60</th>\n",
       "      <td>0.99</td>\n",
       "      <td>-0.98</td>\n",
       "      <td>0.81</td>\n",
       "      <td>-0.92</td>\n",
       "      <td>-11.81</td>\n",
       "      <td>4.62</td>\n",
       "      <td>zeon</td>\n",
       "      <td>right</td>\n",
       "    </tr>\n",
       "  </tbody>\n",
       "</table>\n",
       "<p>10440 rows × 8 columns</p>\n",
       "</div>"
      ],
      "text/plain": [
       "    accel_x  accel_y  accel_z  gyro_x  gyro_y  gyro_z    user fall_type\n",
       "1     -0.06     0.02     1.01    3.15   -0.53    1.56  ramana  backward\n",
       "2     -0.06     0.06     1.03  -14.00   -2.36    2.29  ramana  backward\n",
       "3     -0.06    -0.01     1.01  -25.85   -4.80    0.46  ramana  backward\n",
       "4     -0.06    -0.03     1.00   -7.66   -4.80    6.26  ramana  backward\n",
       "5     -0.04    -0.02     1.04   -0.88   -3.16    4.12  ramana  backward\n",
       "..      ...      ...      ...     ...     ...     ...     ...       ...\n",
       "56     0.99    -0.98     0.83    0.49  -21.33   -4.10    zeon     right\n",
       "57     1.02    -0.99     0.80    1.83  -18.03   -4.41    zeon     right\n",
       "58     1.00    -0.99     0.81    4.64  -12.54   -2.21    zeon     right\n",
       "59     0.99    -0.99     0.81   -1.71  -14.80   -1.30    zeon     right\n",
       "60     0.99    -0.98     0.81   -0.92  -11.81    4.62    zeon     right\n",
       "\n",
       "[10440 rows x 8 columns]"
      ]
     },
     "execution_count": 3,
     "metadata": {},
     "output_type": "execute_result"
    }
   ],
   "source": [
    "subject_folders = os.listdir(\"data\")\n",
    "column_names = [\"accel_x\", \"accel_y\", \"accel_z\", \"gyro_x\", \"gyro_y\", \"gyro_z\"]\n",
    "combined_data = pd.DataFrame(columns=column_names)\n",
    "\n",
    "activity = {'fall': 'Fall', 'jogging': 'Jogging', 'sitting': 'Sitting action', 'walking': 'Walking', 'stairsdown': \\\n",
    "            'climbing stairs', 'stairsup': 'climbing stairs', 'gettingup': 'getting up'}\n",
    "\n",
    "for i in subject_folders:\n",
    "    temp_folder = []\n",
    "    if(i != 'combined_data.csv'):\n",
    "        temp_folder = os.listdir(\"data/\" + i)\n",
    "        number_files = len(temp_folder)\n",
    "        print(\"Reading folder: \" + i)\n",
    "        for j in temp_folder:\n",
    "            print(\"\\tReading internal folder: \" + j)\n",
    "            files = os.listdir(\"data/\" + i + \"/\" + j)\n",
    "            for k in files:\n",
    "#                 print(k)\n",
    "                if j == \"fall\":\n",
    "                    fall_files = os.listdir(\"data/\" + i + \"/\" + j + \"/\" + k)\n",
    "                    for l in fall_files:\n",
    "                        file = io.BytesIO(open(\"data/\" + i + \"/\" + j + \"/\" + k + \"/\" + l, 'rb').read().replace(b';',b''))\n",
    "                        data = np.genfromtxt(file,dtype=float,delimiter=',')\n",
    "                        df = pd.DataFrame(data, columns = column_names)\n",
    "                        df = df.iloc[1: , :]\n",
    "                        df[\"user\"] = i\n",
    "                        df[\"fall_type\"] = k\n",
    "                        combined_data = combined_data.append(df)\n",
    "combined_data"
   ]
  },
  {
   "cell_type": "code",
   "execution_count": 4,
   "id": "04e5a8c8",
   "metadata": {},
   "outputs": [],
   "source": [
    "combined_data.to_csv(\"data/combined_data_fall_types.csv\", index=False)"
   ]
  },
  {
   "cell_type": "markdown",
   "id": "5cc33925",
   "metadata": {},
   "source": [
    "# Training public data"
   ]
  },
  {
   "cell_type": "code",
   "execution_count": 5,
   "id": "93aab5a6",
   "metadata": {},
   "outputs": [],
   "source": [
    "from matplotlib import pyplot as plt\n",
    "%matplotlib inline\n",
    "import numpy as np\n",
    "import pandas as pd\n",
    "import seaborn as sns\n",
    "from scipy import stats\n",
    "import math\n",
    "\n",
    "from sklearn import metrics\n",
    "from sklearn.metrics import classification_report\n",
    "from sklearn import preprocessing\n",
    "from sklearn.model_selection import train_test_split\n",
    "\n",
    "import keras\n",
    "import tensorflow as tf\n",
    "from keras.models import Sequential\n",
    "from keras.layers import Dense, Dropout, Flatten, Reshape, GlobalAveragePooling1D\n",
    "from keras.layers import Conv1D, MaxPooling1D, LSTM, Embedding, SimpleRNN, GRU\n",
    "from keras.utils import np_utils\n",
    "from tensorflow.keras import optimizers\n",
    "\n",
    "import warnings\n",
    "warnings.filterwarnings('ignore')"
   ]
  },
  {
   "cell_type": "code",
   "execution_count": 6,
   "id": "750464c1",
   "metadata": {},
   "outputs": [
    {
     "data": {
      "text/html": [
       "<div>\n",
       "<style scoped>\n",
       "    .dataframe tbody tr th:only-of-type {\n",
       "        vertical-align: middle;\n",
       "    }\n",
       "\n",
       "    .dataframe tbody tr th {\n",
       "        vertical-align: top;\n",
       "    }\n",
       "\n",
       "    .dataframe thead th {\n",
       "        text-align: right;\n",
       "    }\n",
       "</style>\n",
       "<table border=\"1\" class=\"dataframe\">\n",
       "  <thead>\n",
       "    <tr style=\"text-align: right;\">\n",
       "      <th></th>\n",
       "      <th>accel_x</th>\n",
       "      <th>accel_y</th>\n",
       "      <th>accel_z</th>\n",
       "      <th>gyro_x</th>\n",
       "      <th>gyro_y</th>\n",
       "      <th>gyro_z</th>\n",
       "      <th>user</th>\n",
       "      <th>fall_type</th>\n",
       "    </tr>\n",
       "  </thead>\n",
       "  <tbody>\n",
       "    <tr>\n",
       "      <th>0</th>\n",
       "      <td>-0.06</td>\n",
       "      <td>0.02</td>\n",
       "      <td>1.01</td>\n",
       "      <td>3.15</td>\n",
       "      <td>-0.53</td>\n",
       "      <td>1.56</td>\n",
       "      <td>ramana</td>\n",
       "      <td>backward</td>\n",
       "    </tr>\n",
       "    <tr>\n",
       "      <th>1</th>\n",
       "      <td>-0.06</td>\n",
       "      <td>0.06</td>\n",
       "      <td>1.03</td>\n",
       "      <td>-14.00</td>\n",
       "      <td>-2.36</td>\n",
       "      <td>2.29</td>\n",
       "      <td>ramana</td>\n",
       "      <td>backward</td>\n",
       "    </tr>\n",
       "    <tr>\n",
       "      <th>2</th>\n",
       "      <td>-0.06</td>\n",
       "      <td>-0.01</td>\n",
       "      <td>1.01</td>\n",
       "      <td>-25.85</td>\n",
       "      <td>-4.80</td>\n",
       "      <td>0.46</td>\n",
       "      <td>ramana</td>\n",
       "      <td>backward</td>\n",
       "    </tr>\n",
       "    <tr>\n",
       "      <th>3</th>\n",
       "      <td>-0.06</td>\n",
       "      <td>-0.03</td>\n",
       "      <td>1.00</td>\n",
       "      <td>-7.66</td>\n",
       "      <td>-4.80</td>\n",
       "      <td>6.26</td>\n",
       "      <td>ramana</td>\n",
       "      <td>backward</td>\n",
       "    </tr>\n",
       "    <tr>\n",
       "      <th>4</th>\n",
       "      <td>-0.04</td>\n",
       "      <td>-0.02</td>\n",
       "      <td>1.04</td>\n",
       "      <td>-0.88</td>\n",
       "      <td>-3.16</td>\n",
       "      <td>4.12</td>\n",
       "      <td>ramana</td>\n",
       "      <td>backward</td>\n",
       "    </tr>\n",
       "    <tr>\n",
       "      <th>...</th>\n",
       "      <td>...</td>\n",
       "      <td>...</td>\n",
       "      <td>...</td>\n",
       "      <td>...</td>\n",
       "      <td>...</td>\n",
       "      <td>...</td>\n",
       "      <td>...</td>\n",
       "      <td>...</td>\n",
       "    </tr>\n",
       "    <tr>\n",
       "      <th>10435</th>\n",
       "      <td>0.99</td>\n",
       "      <td>-0.98</td>\n",
       "      <td>0.83</td>\n",
       "      <td>0.49</td>\n",
       "      <td>-21.33</td>\n",
       "      <td>-4.10</td>\n",
       "      <td>zeon</td>\n",
       "      <td>right</td>\n",
       "    </tr>\n",
       "    <tr>\n",
       "      <th>10436</th>\n",
       "      <td>1.02</td>\n",
       "      <td>-0.99</td>\n",
       "      <td>0.80</td>\n",
       "      <td>1.83</td>\n",
       "      <td>-18.03</td>\n",
       "      <td>-4.41</td>\n",
       "      <td>zeon</td>\n",
       "      <td>right</td>\n",
       "    </tr>\n",
       "    <tr>\n",
       "      <th>10437</th>\n",
       "      <td>1.00</td>\n",
       "      <td>-0.99</td>\n",
       "      <td>0.81</td>\n",
       "      <td>4.64</td>\n",
       "      <td>-12.54</td>\n",
       "      <td>-2.21</td>\n",
       "      <td>zeon</td>\n",
       "      <td>right</td>\n",
       "    </tr>\n",
       "    <tr>\n",
       "      <th>10438</th>\n",
       "      <td>0.99</td>\n",
       "      <td>-0.99</td>\n",
       "      <td>0.81</td>\n",
       "      <td>-1.71</td>\n",
       "      <td>-14.80</td>\n",
       "      <td>-1.30</td>\n",
       "      <td>zeon</td>\n",
       "      <td>right</td>\n",
       "    </tr>\n",
       "    <tr>\n",
       "      <th>10439</th>\n",
       "      <td>0.99</td>\n",
       "      <td>-0.98</td>\n",
       "      <td>0.81</td>\n",
       "      <td>-0.92</td>\n",
       "      <td>-11.81</td>\n",
       "      <td>4.62</td>\n",
       "      <td>zeon</td>\n",
       "      <td>right</td>\n",
       "    </tr>\n",
       "  </tbody>\n",
       "</table>\n",
       "<p>10440 rows × 8 columns</p>\n",
       "</div>"
      ],
      "text/plain": [
       "       accel_x  accel_y  accel_z  gyro_x  gyro_y  gyro_z    user fall_type\n",
       "0        -0.06     0.02     1.01    3.15   -0.53    1.56  ramana  backward\n",
       "1        -0.06     0.06     1.03  -14.00   -2.36    2.29  ramana  backward\n",
       "2        -0.06    -0.01     1.01  -25.85   -4.80    0.46  ramana  backward\n",
       "3        -0.06    -0.03     1.00   -7.66   -4.80    6.26  ramana  backward\n",
       "4        -0.04    -0.02     1.04   -0.88   -3.16    4.12  ramana  backward\n",
       "...        ...      ...      ...     ...     ...     ...     ...       ...\n",
       "10435     0.99    -0.98     0.83    0.49  -21.33   -4.10    zeon     right\n",
       "10436     1.02    -0.99     0.80    1.83  -18.03   -4.41    zeon     right\n",
       "10437     1.00    -0.99     0.81    4.64  -12.54   -2.21    zeon     right\n",
       "10438     0.99    -0.99     0.81   -1.71  -14.80   -1.30    zeon     right\n",
       "10439     0.99    -0.98     0.81   -0.92  -11.81    4.62    zeon     right\n",
       "\n",
       "[10440 rows x 8 columns]"
      ]
     },
     "execution_count": 6,
     "metadata": {},
     "output_type": "execute_result"
    }
   ],
   "source": [
    "# data = pd.read_csv(\"Sisfall_dataset/processed_data.csv\")\n",
    "\n",
    "# data\n",
    "\n",
    "data = pd.read_csv(\"data/combined_data_fall_types.csv\")\n",
    "\n",
    "data"
   ]
  },
  {
   "cell_type": "code",
   "execution_count": 61,
   "id": "82de05e7",
   "metadata": {},
   "outputs": [],
   "source": [
    "# data = data[data['activity']!=\"D18\"]\n",
    "# data = data[data['activity']!=\"D19\"]\n",
    "# data = data[data['activity']!=\"Jogging\"]"
   ]
  },
  {
   "cell_type": "code",
   "execution_count": 7,
   "id": "60def274",
   "metadata": {},
   "outputs": [
    {
     "data": {
      "text/plain": [
       "['backward', 'forward', 'left', 'right']"
      ]
     },
     "execution_count": 7,
     "metadata": {},
     "output_type": "execute_result"
    }
   ],
   "source": [
    "# All data collected in 20Hz sample rate.\n",
    "\n",
    "# Set display upto 3 decimal places\n",
    "pd.options.display.float_format = '{:.3f}'.format\n",
    "\n",
    "# Labels are all the activity groups\n",
    "# LABELS = list(data.groupby([\"broad_mapped_activity\"]).groups.keys())\n",
    "LABELS = list(data.groupby([\"fall_type\"]).groups.keys())\n",
    "\n",
    "no_of_features = 6\n",
    "\n",
    "# The number of steps within one time segment (window size)\n",
    "TIME_PERIODS = 60\n",
    "# The steps to take from one segment to the next; if this value is equal to\n",
    "# TIME_PERIODS, then there is no overlap between the segments\n",
    "STEP_DISTANCE = 15\n",
    "\n",
    "LABELS"
   ]
  },
  {
   "cell_type": "code",
   "execution_count": 8,
   "id": "9b72317a",
   "metadata": {},
   "outputs": [
    {
     "name": "stdout",
     "output_type": "stream",
     "text": [
      "(8040, 8)\n"
     ]
    },
    {
     "data": {
      "text/html": [
       "<div>\n",
       "<style scoped>\n",
       "    .dataframe tbody tr th:only-of-type {\n",
       "        vertical-align: middle;\n",
       "    }\n",
       "\n",
       "    .dataframe tbody tr th {\n",
       "        vertical-align: top;\n",
       "    }\n",
       "\n",
       "    .dataframe thead th {\n",
       "        text-align: right;\n",
       "    }\n",
       "</style>\n",
       "<table border=\"1\" class=\"dataframe\">\n",
       "  <thead>\n",
       "    <tr style=\"text-align: right;\">\n",
       "      <th></th>\n",
       "      <th>accel_x</th>\n",
       "      <th>accel_y</th>\n",
       "      <th>accel_z</th>\n",
       "      <th>gyro_x</th>\n",
       "      <th>gyro_y</th>\n",
       "      <th>gyro_z</th>\n",
       "      <th>user</th>\n",
       "      <th>fall_type</th>\n",
       "    </tr>\n",
       "  </thead>\n",
       "  <tbody>\n",
       "    <tr>\n",
       "      <th>2940</th>\n",
       "      <td>0.130</td>\n",
       "      <td>-0.020</td>\n",
       "      <td>1.050</td>\n",
       "      <td>-4.590</td>\n",
       "      <td>6.800</td>\n",
       "      <td>-0.640</td>\n",
       "      <td>wamika</td>\n",
       "      <td>backward</td>\n",
       "    </tr>\n",
       "    <tr>\n",
       "      <th>2941</th>\n",
       "      <td>0.120</td>\n",
       "      <td>-0.010</td>\n",
       "      <td>1.060</td>\n",
       "      <td>-0.140</td>\n",
       "      <td>9.730</td>\n",
       "      <td>-2.590</td>\n",
       "      <td>wamika</td>\n",
       "      <td>backward</td>\n",
       "    </tr>\n",
       "    <tr>\n",
       "      <th>2942</th>\n",
       "      <td>0.110</td>\n",
       "      <td>-0.000</td>\n",
       "      <td>1.060</td>\n",
       "      <td>0.230</td>\n",
       "      <td>9.490</td>\n",
       "      <td>-2.280</td>\n",
       "      <td>wamika</td>\n",
       "      <td>backward</td>\n",
       "    </tr>\n",
       "    <tr>\n",
       "      <th>2943</th>\n",
       "      <td>0.100</td>\n",
       "      <td>-0.010</td>\n",
       "      <td>1.060</td>\n",
       "      <td>-1.840</td>\n",
       "      <td>9.610</td>\n",
       "      <td>-1.370</td>\n",
       "      <td>wamika</td>\n",
       "      <td>backward</td>\n",
       "    </tr>\n",
       "    <tr>\n",
       "      <th>2944</th>\n",
       "      <td>0.120</td>\n",
       "      <td>-0.000</td>\n",
       "      <td>1.070</td>\n",
       "      <td>-1.050</td>\n",
       "      <td>11.380</td>\n",
       "      <td>-1.000</td>\n",
       "      <td>wamika</td>\n",
       "      <td>backward</td>\n",
       "    </tr>\n",
       "    <tr>\n",
       "      <th>...</th>\n",
       "      <td>...</td>\n",
       "      <td>...</td>\n",
       "      <td>...</td>\n",
       "      <td>...</td>\n",
       "      <td>...</td>\n",
       "      <td>...</td>\n",
       "      <td>...</td>\n",
       "      <td>...</td>\n",
       "    </tr>\n",
       "    <tr>\n",
       "      <th>5335</th>\n",
       "      <td>1.000</td>\n",
       "      <td>-1.170</td>\n",
       "      <td>0.700</td>\n",
       "      <td>-46.570</td>\n",
       "      <td>2.660</td>\n",
       "      <td>-14.360</td>\n",
       "      <td>wamika</td>\n",
       "      <td>right</td>\n",
       "    </tr>\n",
       "    <tr>\n",
       "      <th>5336</th>\n",
       "      <td>1.020</td>\n",
       "      <td>-1.160</td>\n",
       "      <td>0.670</td>\n",
       "      <td>-26.800</td>\n",
       "      <td>2.290</td>\n",
       "      <td>-16.560</td>\n",
       "      <td>wamika</td>\n",
       "      <td>right</td>\n",
       "    </tr>\n",
       "    <tr>\n",
       "      <th>5337</th>\n",
       "      <td>0.960</td>\n",
       "      <td>-1.120</td>\n",
       "      <td>0.730</td>\n",
       "      <td>-15.200</td>\n",
       "      <td>9.130</td>\n",
       "      <td>-3.680</td>\n",
       "      <td>wamika</td>\n",
       "      <td>right</td>\n",
       "    </tr>\n",
       "    <tr>\n",
       "      <th>5338</th>\n",
       "      <td>1.030</td>\n",
       "      <td>-1.290</td>\n",
       "      <td>0.660</td>\n",
       "      <td>-0.190</td>\n",
       "      <td>21.210</td>\n",
       "      <td>0.350</td>\n",
       "      <td>wamika</td>\n",
       "      <td>right</td>\n",
       "    </tr>\n",
       "    <tr>\n",
       "      <th>5339</th>\n",
       "      <td>0.940</td>\n",
       "      <td>-1.030</td>\n",
       "      <td>0.840</td>\n",
       "      <td>27.100</td>\n",
       "      <td>24.570</td>\n",
       "      <td>-7.030</td>\n",
       "      <td>wamika</td>\n",
       "      <td>right</td>\n",
       "    </tr>\n",
       "  </tbody>\n",
       "</table>\n",
       "<p>2400 rows × 8 columns</p>\n",
       "</div>"
      ],
      "text/plain": [
       "      accel_x  accel_y  accel_z  gyro_x  gyro_y  gyro_z    user fall_type\n",
       "2940    0.130   -0.020    1.050  -4.590   6.800  -0.640  wamika  backward\n",
       "2941    0.120   -0.010    1.060  -0.140   9.730  -2.590  wamika  backward\n",
       "2942    0.110   -0.000    1.060   0.230   9.490  -2.280  wamika  backward\n",
       "2943    0.100   -0.010    1.060  -1.840   9.610  -1.370  wamika  backward\n",
       "2944    0.120   -0.000    1.070  -1.050  11.380  -1.000  wamika  backward\n",
       "...       ...      ...      ...     ...     ...     ...     ...       ...\n",
       "5335    1.000   -1.170    0.700 -46.570   2.660 -14.360  wamika     right\n",
       "5336    1.020   -1.160    0.670 -26.800   2.290 -16.560  wamika     right\n",
       "5337    0.960   -1.120    0.730 -15.200   9.130  -3.680  wamika     right\n",
       "5338    1.030   -1.290    0.660  -0.190  21.210   0.350  wamika     right\n",
       "5339    0.940   -1.030    0.840  27.100  24.570  -7.030  wamika     right\n",
       "\n",
       "[2400 rows x 8 columns]"
      ]
     },
     "execution_count": 8,
     "metadata": {},
     "output_type": "execute_result"
    }
   ],
   "source": [
    "# split the data into training and test set\n",
    "Training_data = data[data[\"user\"].isin(['ramana', 'wira', 'zeon'])]\n",
    "print(Training_data.shape)\n",
    "Test_data = data[data[\"user\"].isin(['wamika'])]\n",
    "Test_data"
   ]
  },
  {
   "cell_type": "code",
   "execution_count": 9,
   "id": "a9038bee",
   "metadata": {},
   "outputs": [
    {
     "name": "stdout",
     "output_type": "stream",
     "text": [
      "['backward', 'forward', 'left', 'right']\n"
     ]
    }
   ],
   "source": [
    "# Encode labels\n",
    "le = preprocessing.LabelEncoder()\n",
    "Training_data['encoded_label'] = le.fit_transform(Training_data['fall_type'].values.ravel())\n",
    "print(list(le.classes_))"
   ]
  },
  {
   "cell_type": "code",
   "execution_count": 10,
   "id": "8c1c6137",
   "metadata": {},
   "outputs": [],
   "source": [
    "def normalize_features(data, mu, sigma):\n",
    "    print(\"mean: \", mu)\n",
    "    print(\"standard deviation: \", sigma)\n",
    "    return (data - mu)/sigma\n",
    "#     maxim = np.max(data, axis=0)\n",
    "#     minim = np.min(data, axis=0)\n",
    "#     return (data - minim)/(maxim - minim)"
   ]
  },
  {
   "cell_type": "code",
   "execution_count": 11,
   "id": "05ed09d4",
   "metadata": {},
   "outputs": [
    {
     "name": "stdout",
     "output_type": "stream",
     "text": [
      "accel_x\n",
      "mean:  0.07800497512437776\n",
      "standard deviation:  0.678318138846134\n",
      "accel_y\n",
      "mean:  -0.17288681592039845\n",
      "standard deviation:  0.6217956960987134\n",
      "accel_z\n",
      "mean:  0.8821517412935399\n",
      "standard deviation:  0.5707909079134574\n",
      "gyro_x\n",
      "mean:  5.6772300995025065\n",
      "standard deviation:  97.9341020267092\n",
      "gyro_y\n",
      "mean:  1.1230995024875634\n",
      "standard deviation:  39.44819710166986\n",
      "gyro_z\n",
      "mean:  -0.8883146766169162\n",
      "standard deviation:  63.433665257832665\n"
     ]
    },
    {
     "data": {
      "text/html": [
       "<div>\n",
       "<style scoped>\n",
       "    .dataframe tbody tr th:only-of-type {\n",
       "        vertical-align: middle;\n",
       "    }\n",
       "\n",
       "    .dataframe tbody tr th {\n",
       "        vertical-align: top;\n",
       "    }\n",
       "\n",
       "    .dataframe thead th {\n",
       "        text-align: right;\n",
       "    }\n",
       "</style>\n",
       "<table border=\"1\" class=\"dataframe\">\n",
       "  <thead>\n",
       "    <tr style=\"text-align: right;\">\n",
       "      <th></th>\n",
       "      <th>accel_x</th>\n",
       "      <th>accel_y</th>\n",
       "      <th>accel_z</th>\n",
       "      <th>gyro_x</th>\n",
       "      <th>gyro_y</th>\n",
       "      <th>gyro_z</th>\n",
       "      <th>user</th>\n",
       "      <th>fall_type</th>\n",
       "      <th>encoded_label</th>\n",
       "    </tr>\n",
       "  </thead>\n",
       "  <tbody>\n",
       "    <tr>\n",
       "      <th>0</th>\n",
       "      <td>-0.203</td>\n",
       "      <td>0.310</td>\n",
       "      <td>0.224</td>\n",
       "      <td>-0.026</td>\n",
       "      <td>-0.042</td>\n",
       "      <td>0.039</td>\n",
       "      <td>ramana</td>\n",
       "      <td>backward</td>\n",
       "      <td>0</td>\n",
       "    </tr>\n",
       "    <tr>\n",
       "      <th>1</th>\n",
       "      <td>-0.203</td>\n",
       "      <td>0.375</td>\n",
       "      <td>0.259</td>\n",
       "      <td>-0.201</td>\n",
       "      <td>-0.088</td>\n",
       "      <td>0.050</td>\n",
       "      <td>ramana</td>\n",
       "      <td>backward</td>\n",
       "      <td>0</td>\n",
       "    </tr>\n",
       "    <tr>\n",
       "      <th>2</th>\n",
       "      <td>-0.203</td>\n",
       "      <td>0.262</td>\n",
       "      <td>0.224</td>\n",
       "      <td>-0.322</td>\n",
       "      <td>-0.150</td>\n",
       "      <td>0.021</td>\n",
       "      <td>ramana</td>\n",
       "      <td>backward</td>\n",
       "      <td>0</td>\n",
       "    </tr>\n",
       "    <tr>\n",
       "      <th>3</th>\n",
       "      <td>-0.203</td>\n",
       "      <td>0.230</td>\n",
       "      <td>0.206</td>\n",
       "      <td>-0.136</td>\n",
       "      <td>-0.150</td>\n",
       "      <td>0.113</td>\n",
       "      <td>ramana</td>\n",
       "      <td>backward</td>\n",
       "      <td>0</td>\n",
       "    </tr>\n",
       "    <tr>\n",
       "      <th>4</th>\n",
       "      <td>-0.174</td>\n",
       "      <td>0.246</td>\n",
       "      <td>0.277</td>\n",
       "      <td>-0.067</td>\n",
       "      <td>-0.109</td>\n",
       "      <td>0.079</td>\n",
       "      <td>ramana</td>\n",
       "      <td>backward</td>\n",
       "      <td>0</td>\n",
       "    </tr>\n",
       "    <tr>\n",
       "      <th>...</th>\n",
       "      <td>...</td>\n",
       "      <td>...</td>\n",
       "      <td>...</td>\n",
       "      <td>...</td>\n",
       "      <td>...</td>\n",
       "      <td>...</td>\n",
       "      <td>...</td>\n",
       "      <td>...</td>\n",
       "      <td>...</td>\n",
       "    </tr>\n",
       "    <tr>\n",
       "      <th>10435</th>\n",
       "      <td>1.344</td>\n",
       "      <td>-1.298</td>\n",
       "      <td>-0.091</td>\n",
       "      <td>-0.053</td>\n",
       "      <td>-0.569</td>\n",
       "      <td>-0.051</td>\n",
       "      <td>zeon</td>\n",
       "      <td>right</td>\n",
       "      <td>3</td>\n",
       "    </tr>\n",
       "    <tr>\n",
       "      <th>10436</th>\n",
       "      <td>1.389</td>\n",
       "      <td>-1.314</td>\n",
       "      <td>-0.144</td>\n",
       "      <td>-0.039</td>\n",
       "      <td>-0.486</td>\n",
       "      <td>-0.056</td>\n",
       "      <td>zeon</td>\n",
       "      <td>right</td>\n",
       "      <td>3</td>\n",
       "    </tr>\n",
       "    <tr>\n",
       "      <th>10437</th>\n",
       "      <td>1.359</td>\n",
       "      <td>-1.314</td>\n",
       "      <td>-0.126</td>\n",
       "      <td>-0.011</td>\n",
       "      <td>-0.346</td>\n",
       "      <td>-0.021</td>\n",
       "      <td>zeon</td>\n",
       "      <td>right</td>\n",
       "      <td>3</td>\n",
       "    </tr>\n",
       "    <tr>\n",
       "      <th>10438</th>\n",
       "      <td>1.344</td>\n",
       "      <td>-1.314</td>\n",
       "      <td>-0.126</td>\n",
       "      <td>-0.075</td>\n",
       "      <td>-0.404</td>\n",
       "      <td>-0.006</td>\n",
       "      <td>zeon</td>\n",
       "      <td>right</td>\n",
       "      <td>3</td>\n",
       "    </tr>\n",
       "    <tr>\n",
       "      <th>10439</th>\n",
       "      <td>1.344</td>\n",
       "      <td>-1.298</td>\n",
       "      <td>-0.126</td>\n",
       "      <td>-0.067</td>\n",
       "      <td>-0.328</td>\n",
       "      <td>0.087</td>\n",
       "      <td>zeon</td>\n",
       "      <td>right</td>\n",
       "      <td>3</td>\n",
       "    </tr>\n",
       "  </tbody>\n",
       "</table>\n",
       "<p>8040 rows × 9 columns</p>\n",
       "</div>"
      ],
      "text/plain": [
       "       accel_x  accel_y  accel_z  gyro_x  gyro_y  gyro_z    user fall_type  \\\n",
       "0       -0.203    0.310    0.224  -0.026  -0.042   0.039  ramana  backward   \n",
       "1       -0.203    0.375    0.259  -0.201  -0.088   0.050  ramana  backward   \n",
       "2       -0.203    0.262    0.224  -0.322  -0.150   0.021  ramana  backward   \n",
       "3       -0.203    0.230    0.206  -0.136  -0.150   0.113  ramana  backward   \n",
       "4       -0.174    0.246    0.277  -0.067  -0.109   0.079  ramana  backward   \n",
       "...        ...      ...      ...     ...     ...     ...     ...       ...   \n",
       "10435    1.344   -1.298   -0.091  -0.053  -0.569  -0.051    zeon     right   \n",
       "10436    1.389   -1.314   -0.144  -0.039  -0.486  -0.056    zeon     right   \n",
       "10437    1.359   -1.314   -0.126  -0.011  -0.346  -0.021    zeon     right   \n",
       "10438    1.344   -1.314   -0.126  -0.075  -0.404  -0.006    zeon     right   \n",
       "10439    1.344   -1.298   -0.126  -0.067  -0.328   0.087    zeon     right   \n",
       "\n",
       "       encoded_label  \n",
       "0                  0  \n",
       "1                  0  \n",
       "2                  0  \n",
       "3                  0  \n",
       "4                  0  \n",
       "...              ...  \n",
       "10435              3  \n",
       "10436              3  \n",
       "10437              3  \n",
       "10438              3  \n",
       "10439              3  \n",
       "\n",
       "[8040 rows x 9 columns]"
      ]
     },
     "execution_count": 11,
     "metadata": {},
     "output_type": "execute_result"
    }
   ],
   "source": [
    "mu = []\n",
    "sigma = []\n",
    "for i in range(0,6):\n",
    "    print(Training_data.columns[i])\n",
    "    mu.append(np.mean(Training_data.iloc[:, i], axis=0))\n",
    "    sigma.append(np.std(Training_data.iloc[:, i], axis=0))\n",
    "    Training_data.iloc[:, i] = normalize_features(Training_data.iloc[:, i], mu[i], sigma[i])\n",
    "    \n",
    "Training_data"
   ]
  },
  {
   "cell_type": "code",
   "execution_count": 12,
   "id": "f1ded0a1",
   "metadata": {
    "scrolled": false
   },
   "outputs": [],
   "source": [
    "def create_segments(data):\n",
    "\n",
    "    segments = []\n",
    "    labels = []\n",
    "    for i in range(0, len(data) - TIME_PERIODS, STEP_DISTANCE):\n",
    "        accel_xs = data['accel_x'].values[i: i + TIME_PERIODS]\n",
    "        accel_ys = data['accel_y'].values[i: i + TIME_PERIODS]\n",
    "        accel_zs = data['accel_z'].values[i: i + TIME_PERIODS]\n",
    "        gyro_xs = data['gyro_x'].values[i: i + TIME_PERIODS]\n",
    "        gyro_ys = data['gyro_y'].values[i: i + TIME_PERIODS]\n",
    "        gyro_zs = data['gyro_z'].values[i: i + TIME_PERIODS]\n",
    "#         mag_xs = data['mag_x'].values[i: i + TIME_PERIODS]\n",
    "#         mag_ys = data['mag_y'].values[i: i + TIME_PERIODS]\n",
    "#         mag_zs = data['mag_z'].values[i: i + TIME_PERIODS]\n",
    "        \n",
    "#         #Features\n",
    "#         #mean\n",
    "#         accel_x_mean = np.full(TIME_PERIODS, accel_xs.mean())\n",
    "#     #     y_mean = np.full(TIME_PERIODS, ys.mean())\n",
    "#         accel_z_mean = np.full(TIME_PERIODS, accel_zs.mean())\n",
    "#         gyro_x_mean = np.full(TIME_PERIODS, gyro_xs.mean())\n",
    "#     #     pitch_mean = np.full(TIME_PERIODS, pitchs.mean())\n",
    "#         gyro_z_mean = np.full(TIME_PERIODS, gyro_zs.mean())\n",
    "#         #standard deviation\n",
    "#         accel_x_std = np.full(TIME_PERIODS, accel_xs.std())\n",
    "#         accel_y_std = np.full(TIME_PERIODS, accel_ys.std())\n",
    "#         accel_z_std = np.full(TIME_PERIODS, accel_zs.std())\n",
    "#         gyro_x_std = np.full(TIME_PERIODS, gyro_xs.std())\n",
    "#         gyro_y_std = np.full(TIME_PERIODS, gyro_ys.std())\n",
    "#         gyro_z_std = np.full(TIME_PERIODS, gyro_zs.std())\n",
    "#         #min\n",
    "#         accel_x_min = np.full(TIME_PERIODS, accel_xs.min())\n",
    "#         accel_y_min = np.full(TIME_PERIODS, accel_ys.min())\n",
    "#         accel_z_min = np.full(TIME_PERIODS, accel_zs.min())\n",
    "#         gyro_x_min = np.full(TIME_PERIODS, gyro_xs.min())\n",
    "#     #     pitch_min = np.full(TIME_PERIODS, pitchs.min())\n",
    "#     #     yaw_min = np.full(TIME_PERIODS, yaws.min())\n",
    "    \n",
    "#         #energy, here ** represents exponentiation\n",
    "#         accel_x_eng = np.full(TIME_PERIODS, np.sum(accel_xs**2)/TIME_PERIODS) \n",
    "#         accel_y_eng = np.full(TIME_PERIODS, np.sum(accel_ys**2)/TIME_PERIODS)\n",
    "#         accel_z_eng = np.full(TIME_PERIODS, np.sum(accel_zs**2)/TIME_PERIODS)\n",
    "#         #median absolute deviation (MAD)\n",
    "#         accel_x_mad = np.full(TIME_PERIODS, stats.median_abs_deviation(accel_xs))\n",
    "#     #     y_mad = np.full(TIME_PERIODS, stats.median_abs_deviation(ys))\n",
    "#         accel_z_mad = np.full(TIME_PERIODS, stats.median_abs_deviation(accel_zs))\n",
    "#     #     roll_mad = np.full(TIME_PERIODS, stats.median_abs_deviation(rolls))\n",
    "#         gyro_y_mad = np.full(TIME_PERIODS, stats.median_abs_deviation(gyro_ys))\n",
    "#         gyro_z_mad = np.full(TIME_PERIODS, stats.median_abs_deviation(gyro_zs))\n",
    "#         # signal magnitude area\n",
    "#         accel_sma = np.full(TIME_PERIODS, (np.sum(np.abs(accel_xs)) + np.sum(np.abs(accel_ys)) + np.sum(np.abs(accel_zs))) / TIME_PERIODS)\n",
    "#         gyro_sma = np.full(TIME_PERIODS, (np.sum(np.abs(gyro_xs)) + np.sum(np.abs(gyro_ys)) + np.sum(np.abs(gyro_zs))) / TIME_PERIODS)\n",
    "# #         # get frequency domain signal\n",
    "# #         x_freq = np.abs(np.fft.fft(xs))[1:51]\n",
    "# #         y_freq = np.abs(np.fft.fft(ys))[1:51]\n",
    "# #         z_freq = np.abs(np.fft.fft(zs))[1:51]\n",
    "# #         roll_freq = np.abs(np.fft.fft(rolls))[1:51]\n",
    "# #         pitch_freq = np.abs(np.fft.fft(pitchs))[1:51]\n",
    "# #         yaw_freq = np.abs(np.fft.fft(yaws))[1:51]\n",
    "# #         # freq mean\n",
    "# #         x_freq_mean = np.full(TIME_PERIODS, x_freq.mean())\n",
    "# #         y_freq_mean = np.full(TIME_PERIODS, y_freq.mean())\n",
    "# #         z_freq_mean = np.full(TIME_PERIODS, z_freq.mean())\n",
    "# #         roll_freq_mean = np.full(TIME_PERIODS, roll_freq.mean())\n",
    "# #         pitch_freq_mean = np.full(TIME_PERIODS, pitch_freq.mean())\n",
    "# #         yaw_freq_mean = np.full(TIME_PERIODS, yaw_freq.mean())\n",
    "# #         #freq standard deviation\n",
    "# #         x_freq_std = np.full(TIME_PERIODS, x_freq.std())\n",
    "# #         y_freq_std = np.full(TIME_PERIODS, y_freq.std())\n",
    "# #         z_freq_std = np.full(TIME_PERIODS, z_freq.std())\n",
    "# #         roll_freq_std = np.full(TIME_PERIODS, roll_freq.std())\n",
    "# #         pitch_freq_std = np.full(TIME_PERIODS, pitch_freq.std())\n",
    "# #         yaw_freq_std = np.full(TIME_PERIODS, yaw_freq.std())\n",
    "\n",
    "        # Retrieve the most often used label in this segment\n",
    "        label = stats.mode(data['encoded_label'][i: i + TIME_PERIODS])[0][0]\n",
    "        \n",
    "#         segments.append([accel_xs, accel_ys, accel_zs, gyro_xs, gyro_ys, gyro_zs, accel_x_mean,\\\n",
    "#                          accel_z_mean, gyro_x_mean, gyro_z_mean, accel_x_std, accel_y_std, accel_z_std, gyro_x_std,  gyro_y_std, \\\n",
    "#                          gyro_z_std, accel_x_min, accel_y_min, accel_z_min, gyro_x_min, accel_x_eng, accel_y_eng, accel_z_eng, \\\n",
    "#                          accel_x_mad, accel_z_mad, gyro_y_mad, gyro_z_mad, accel_sma, gyro_sma])\n",
    "        segments.append([accel_xs, accel_ys, accel_zs, gyro_xs, gyro_ys, gyro_zs])\n",
    "        labels.append(label)\n",
    "\n",
    "    # Bring the segments into a better shape\n",
    "    x_data = np.asarray(segments, dtype= np.float32).reshape(-1, TIME_PERIODS, no_of_features)\n",
    "    y_data = np.asarray(labels)\n",
    "    return x_data, y_data\n"
   ]
  },
  {
   "cell_type": "code",
   "execution_count": 13,
   "id": "f6e2060b",
   "metadata": {},
   "outputs": [
    {
     "name": "stdout",
     "output_type": "stream",
     "text": [
      "x shape:  (532, 60, 6)\n",
      "y shape:  (532,)\n"
     ]
    }
   ],
   "source": [
    "x_train, y_train = create_segments(Training_data)\n",
    "np.set_printoptions(threshold=np.inf)\n",
    "print(\"x shape: \",x_train.shape)\n",
    "print(\"y shape: \",y_train.shape)"
   ]
  },
  {
   "cell_type": "code",
   "execution_count": 14,
   "id": "a323b887",
   "metadata": {},
   "outputs": [
    {
     "data": {
      "text/plain": [
       "(532, 360)"
      ]
     },
     "execution_count": 14,
     "metadata": {},
     "output_type": "execute_result"
    }
   ],
   "source": [
    "x_train = x_train.reshape(x_train.shape[0], TIME_PERIODS*no_of_features)\n",
    "x_train.shape"
   ]
  },
  {
   "cell_type": "code",
   "execution_count": 15,
   "id": "be095318",
   "metadata": {},
   "outputs": [
    {
     "name": "stdout",
     "output_type": "stream",
     "text": [
      "New y_train shape:  (532, 4)\n"
     ]
    }
   ],
   "source": [
    "# Convert type for Keras otherwise Keras cannot process the data\n",
    "x_train = x_train.astype(\"float32\")\n",
    "y_train = y_train.astype(\"float32\")\n",
    "\n",
    "# One-hot encoding of y_train labels (only execute once!)\n",
    "y_train = np_utils.to_categorical(y_train, len(LABELS))\n",
    "print('New y_train shape: ', y_train.shape)"
   ]
  },
  {
   "cell_type": "markdown",
   "id": "3c0df1e7",
   "metadata": {},
   "source": [
    "### 1D-CNN Model"
   ]
  },
  {
   "cell_type": "code",
   "execution_count": 16,
   "id": "1d6345fe",
   "metadata": {},
   "outputs": [
    {
     "name": "stdout",
     "output_type": "stream",
     "text": [
      "Model: \"sequential\"\n",
      "_________________________________________________________________\n",
      " Layer (type)                Output Shape              Param #   \n",
      "=================================================================\n",
      " reshape (Reshape)           (None, 60, 6)             0         \n",
      "                                                                 \n",
      " conv1d (Conv1D)             (None, 58, 100)           1900      \n",
      "                                                                 \n",
      " max_pooling1d (MaxPooling1D  (None, 19, 100)          0         \n",
      " )                                                               \n",
      "                                                                 \n",
      " conv1d_1 (Conv1D)           (None, 17, 120)           36120     \n",
      "                                                                 \n",
      " max_pooling1d_1 (MaxPooling  (None, 5, 120)           0         \n",
      " 1D)                                                             \n",
      "                                                                 \n",
      " conv1d_2 (Conv1D)           (None, 3, 80)             28880     \n",
      "                                                                 \n",
      " global_average_pooling1d (G  (None, 80)               0         \n",
      " lobalAveragePooling1D)                                          \n",
      "                                                                 \n",
      " dropout (Dropout)           (None, 80)                0         \n",
      "                                                                 \n",
      " dense (Dense)               (None, 4)                 324       \n",
      "                                                                 \n",
      "=================================================================\n",
      "Total params: 67,224\n",
      "Trainable params: 67,224\n",
      "Non-trainable params: 0\n",
      "_________________________________________________________________\n",
      "None\n"
     ]
    }
   ],
   "source": [
    "model_m = Sequential()\n",
    "model_m.add(Reshape((TIME_PERIODS,no_of_features), input_shape=(TIME_PERIODS*no_of_features,)))\n",
    "model_m.add(Conv1D(100, 3, activation='relu'))\n",
    "model_m.add(MaxPooling1D(3))\n",
    "model_m.add(Conv1D(120, 3, activation='relu'))\n",
    "model_m.add(MaxPooling1D(3))\n",
    "model_m.add(Conv1D(80, 3, activation='relu'))\n",
    "model_m.add(GlobalAveragePooling1D())\n",
    "model_m.add(Dropout(0.3))\n",
    "model_m.add(Dense(len(LABELS), activation='softmax'))\n",
    "print(model_m.summary())"
   ]
  },
  {
   "cell_type": "code",
   "execution_count": 17,
   "id": "249787e7",
   "metadata": {
    "scrolled": true
   },
   "outputs": [
    {
     "name": "stdout",
     "output_type": "stream",
     "text": [
      "Epoch 1/50\n",
      "3/3 [==============================] - 6s 159ms/step - loss: 1.4566 - accuracy: 0.2293\n",
      "Epoch 2/50\n",
      "3/3 [==============================] - 0s 14ms/step - loss: 1.3923 - accuracy: 0.2688\n",
      "Epoch 3/50\n",
      "3/3 [==============================] - 0s 16ms/step - loss: 1.3480 - accuracy: 0.3102\n",
      "Epoch 4/50\n",
      "3/3 [==============================] - 0s 14ms/step - loss: 1.3161 - accuracy: 0.3327\n",
      "Epoch 5/50\n",
      "3/3 [==============================] - 0s 15ms/step - loss: 1.2686 - accuracy: 0.4135\n",
      "Epoch 6/50\n",
      "3/3 [==============================] - 0s 13ms/step - loss: 1.2241 - accuracy: 0.4906\n",
      "Epoch 7/50\n",
      "3/3 [==============================] - 0s 14ms/step - loss: 1.2040 - accuracy: 0.5094\n",
      "Epoch 8/50\n",
      "3/3 [==============================] - 0s 14ms/step - loss: 1.1494 - accuracy: 0.5583\n",
      "Epoch 9/50\n",
      "3/3 [==============================] - 0s 15ms/step - loss: 1.1184 - accuracy: 0.5470\n",
      "Epoch 10/50\n",
      "3/3 [==============================] - 0s 15ms/step - loss: 1.0814 - accuracy: 0.5733\n",
      "Epoch 11/50\n",
      "3/3 [==============================] - 0s 17ms/step - loss: 1.0493 - accuracy: 0.5733\n",
      "Epoch 12/50\n",
      "3/3 [==============================] - 0s 14ms/step - loss: 1.0021 - accuracy: 0.6165\n",
      "Epoch 13/50\n",
      "3/3 [==============================] - 0s 14ms/step - loss: 0.9532 - accuracy: 0.6372\n",
      "Epoch 14/50\n",
      "3/3 [==============================] - 0s 15ms/step - loss: 0.9113 - accuracy: 0.6598\n",
      "Epoch 15/50\n",
      "3/3 [==============================] - 0s 14ms/step - loss: 0.8643 - accuracy: 0.6748\n",
      "Epoch 16/50\n",
      "3/3 [==============================] - 0s 15ms/step - loss: 0.7952 - accuracy: 0.7199\n",
      "Epoch 17/50\n",
      "3/3 [==============================] - 0s 15ms/step - loss: 0.7920 - accuracy: 0.7086\n",
      "Epoch 18/50\n",
      "3/3 [==============================] - 0s 15ms/step - loss: 0.7174 - accuracy: 0.7726\n",
      "Epoch 19/50\n",
      "3/3 [==============================] - 0s 14ms/step - loss: 0.6897 - accuracy: 0.7838\n",
      "Epoch 20/50\n",
      "3/3 [==============================] - 0s 15ms/step - loss: 0.6714 - accuracy: 0.7594\n",
      "Epoch 21/50\n",
      "3/3 [==============================] - 0s 15ms/step - loss: 0.6171 - accuracy: 0.7801\n"
     ]
    }
   ],
   "source": [
    "callbacks_list = [\n",
    "    keras.callbacks.EarlyStopping(monitor='accuracy', patience=2)\n",
    "]\n",
    "\n",
    "opt = optimizers.SGD(learning_rate=0.01, momentum=0.9)\n",
    "\n",
    "model_m.compile(loss='categorical_crossentropy',\n",
    "                optimizer=opt, metrics=['accuracy'])\n",
    "\n",
    "BATCH_SIZE = 200\n",
    "EPOCHS = 50\n",
    "\n",
    "history = model_m.fit(x_train,\n",
    "                      y_train,\n",
    "                      batch_size=BATCH_SIZE,\n",
    "                      epochs=EPOCHS,\n",
    "                      callbacks=callbacks_list,\n",
    "                      verbose=1)"
   ]
  },
  {
   "cell_type": "code",
   "execution_count": 18,
   "id": "b99f141c",
   "metadata": {},
   "outputs": [
    {
     "data": {
      "image/png": "[encoded data removed]",
      "text/plain": [
       "<Figure size 432x288 with 1 Axes>"
      ]
     },
     "metadata": {
      "needs_background": "light"
     },
     "output_type": "display_data"
    }
   ],
   "source": [
    "# summarize history for accuracy and loss\n",
    "plt.figure(figsize=(6, 4))\n",
    "plt.plot(history.history['accuracy'], \"g--\", label=\"Accuracy of training data\")\n",
    "# plt.plot(history.history['val_accuracy'], \"g\", label=\"Accuracy of validation data\")\n",
    "plt.plot(history.history['loss'], \"r--\", label=\"Loss of training data\")\n",
    "# plt.plot(history.history['val_loss'], \"r\", label=\"Loss of validation data\")\n",
    "plt.title('Model Accuracy and Loss')\n",
    "plt.ylabel('Accuracy and Loss')\n",
    "plt.xlabel('Training Epoch')\n",
    "plt.ylim(0)\n",
    "plt.legend()\n",
    "plt.show()"
   ]
  },
  {
   "cell_type": "code",
   "execution_count": 19,
   "id": "7a9d9d46",
   "metadata": {},
   "outputs": [
    {
     "name": "stdout",
     "output_type": "stream",
     "text": [
      "['backward', 'forward', 'left', 'right']\n",
      "accel_x\n",
      "mean:  0.07800497512437776\n",
      "standard deviation:  0.678318138846134\n",
      "accel_y\n",
      "mean:  -0.17288681592039845\n",
      "standard deviation:  0.6217956960987134\n",
      "accel_z\n",
      "mean:  0.8821517412935399\n",
      "standard deviation:  0.5707909079134574\n",
      "gyro_x\n",
      "mean:  5.6772300995025065\n",
      "standard deviation:  97.9341020267092\n",
      "gyro_y\n",
      "mean:  1.1230995024875634\n",
      "standard deviation:  39.44819710166986\n",
      "gyro_z\n",
      "mean:  -0.8883146766169162\n",
      "standard deviation:  63.433665257832665\n",
      "x shape:  (156, 60, 6)\n",
      "y shape:  (156,)\n"
     ]
    },
    {
     "data": {
      "text/plain": [
       "(156, 4)"
      ]
     },
     "execution_count": 19,
     "metadata": {},
     "output_type": "execute_result"
    }
   ],
   "source": [
    "# Set input_shape / reshape for Keras\n",
    "# Encode labels\n",
    "Test_data['encoded_label'] = le.transform(Test_data['fall_type'].values.ravel())\n",
    "print(list(le.classes_))\n",
    "\n",
    "for i in range(0,6):\n",
    "    print(data.columns[i])\n",
    "    Test_data.iloc[:, i] = normalize_features(Test_data.iloc[:, i], mu[i], sigma[i])\n",
    "    \n",
    "x_test, y_test = create_segments(Test_data)\n",
    "print(\"x shape: \",x_test.shape)\n",
    "print(\"y shape: \",y_test.shape)\n",
    "\n",
    "x_test = x_test.reshape(x_test.shape[0], TIME_PERIODS*no_of_features)\n",
    "\n",
    "x_test = x_test.astype(\"float32\")\n",
    "y_test = y_test.astype(\"float32\")\n",
    "\n",
    "y_test = np_utils.to_categorical(y_test, len(LABELS))\n",
    "y_test.shape"
   ]
  },
  {
   "cell_type": "code",
   "execution_count": 20,
   "id": "e221a205",
   "metadata": {},
   "outputs": [
    {
     "name": "stdout",
     "output_type": "stream",
     "text": [
      "5/5 [==============================] - 1s 25ms/step - loss: 0.8493 - accuracy: 0.8013\n",
      "\n",
      "Accuracy on test data: 0.80\n",
      "\n",
      "Loss on test data: 0.85\n"
     ]
    }
   ],
   "source": [
    "score = model_m.evaluate(x_test, y_test, verbose=1)\n",
    "\n",
    "print(\"\\nAccuracy on test data: %0.2f\" % score[1])\n",
    "print(\"\\nLoss on test data: %0.2f\" % score[0])"
   ]
  },
  {
   "cell_type": "code",
   "execution_count": 21,
   "id": "e4bb077d",
   "metadata": {},
   "outputs": [],
   "source": [
    "def show_confusion_matrix(validations, predictions):\n",
    "\n",
    "    matrix = metrics.confusion_matrix(validations, predictions)\n",
    "    plt.figure(figsize=(6, 4))\n",
    "    sns.heatmap(matrix,\n",
    "                cmap=\"coolwarm\",\n",
    "                linecolor='white',\n",
    "                linewidths=1,\n",
    "                xticklabels=LABELS,\n",
    "                yticklabels=LABELS,\n",
    "                annot=True,\n",
    "                fmt=\"d\")\n",
    "    plt.title(\"Confusion Matrix\")\n",
    "    plt.ylabel(\"True Label\")\n",
    "    plt.xlabel(\"Predicted Label\")\n",
    "    plt.show()"
   ]
  },
  {
   "cell_type": "code",
   "execution_count": 22,
   "id": "8b9d6ce5",
   "metadata": {},
   "outputs": [
    {
     "data": {
      "image/png": "[encoded data removed]",
      "text/plain": [
       "<Figure size 432x288 with 2 Axes>"
      ]
     },
     "metadata": {
      "needs_background": "light"
     },
     "output_type": "display_data"
    },
    {
     "name": "stdout",
     "output_type": "stream",
     "text": [
      "\n",
      "--- Classification report for test data ---\n",
      "\n",
      "              precision    recall  f1-score   support\n",
      "\n",
      "           0       0.72      1.00      0.84        39\n",
      "           1       0.83      0.88      0.85        40\n",
      "           2       0.82      0.45      0.58        40\n",
      "           3       0.87      0.89      0.88        37\n",
      "\n",
      "    accuracy                           0.80       156\n",
      "   macro avg       0.81      0.80      0.79       156\n",
      "weighted avg       0.81      0.80      0.79       156\n",
      "\n"
     ]
    }
   ],
   "source": [
    "y_pred_test = model_m.predict(x_test)\n",
    "# Take the class with the highest probability from the test predictions\n",
    "max_y_pred_test = np.argmax(y_pred_test, axis=1)\n",
    "max_y_test = np.argmax(y_test, axis=1)\n",
    "\n",
    "show_confusion_matrix(max_y_test, max_y_pred_test)\n",
    "\n",
    "print(\"\\n--- Classification report for test data ---\\n\")\n",
    "\n",
    "print(classification_report(max_y_test, max_y_pred_test))"
   ]
  },
  {
   "cell_type": "code",
   "execution_count": 82,
   "id": "8c111944",
   "metadata": {},
   "outputs": [],
   "source": [
    "model_m.save('best_model_cnn.h5')"
   ]
  },
  {
   "cell_type": "markdown",
   "id": "c7464269",
   "metadata": {},
   "source": [
    "### LSTM Model"
   ]
  },
  {
   "cell_type": "code",
   "execution_count": 23,
   "id": "96b75034",
   "metadata": {},
   "outputs": [
    {
     "name": "stdout",
     "output_type": "stream",
     "text": [
      "Model: \"sequential_1\"\n",
      "_________________________________________________________________\n",
      " Layer (type)                Output Shape              Param #   \n",
      "=================================================================\n",
      " lstm (LSTM)                 (None, 200)               165600    \n",
      "                                                                 \n",
      " dropout_1 (Dropout)         (None, 200)               0         \n",
      "                                                                 \n",
      " dense_1 (Dense)             (None, 100)               20100     \n",
      "                                                                 \n",
      " dense_2 (Dense)             (None, 4)                 404       \n",
      "                                                                 \n",
      "=================================================================\n",
      "Total params: 186,104\n",
      "Trainable params: 186,104\n",
      "Non-trainable params: 0\n",
      "_________________________________________________________________\n",
      "None\n"
     ]
    }
   ],
   "source": [
    "model_lstm = Sequential()\n",
    "model_lstm.add(LSTM(200, input_shape=(TIME_PERIODS,no_of_features)))\n",
    "model_lstm.add(Dropout(0.4))\n",
    "model_lstm.add(Dense(100, activation='relu'))\n",
    "model_lstm.add(Dense(len(LABELS), activation='softmax'))\n",
    "print(model_lstm.summary())"
   ]
  },
  {
   "cell_type": "code",
   "execution_count": 24,
   "id": "599d0234",
   "metadata": {},
   "outputs": [
    {
     "data": {
      "text/plain": [
       "(532, 60, 6)"
      ]
     },
     "execution_count": 24,
     "metadata": {},
     "output_type": "execute_result"
    }
   ],
   "source": [
    "x_train = x_train.reshape(x_train.shape[0], TIME_PERIODS, no_of_features)\n",
    "x_train.shape"
   ]
  },
  {
   "cell_type": "code",
   "execution_count": 25,
   "id": "7da4c090",
   "metadata": {
    "scrolled": true
   },
   "outputs": [
    {
     "name": "stdout",
     "output_type": "stream",
     "text": [
      "Epoch 1/50\n",
      "3/3 [==============================] - 4s 50ms/step - loss: 0.6842 - accuracy: 0.4117\n",
      "Epoch 2/50\n",
      "3/3 [==============================] - 0s 42ms/step - loss: 0.6504 - accuracy: 0.4774\n",
      "Epoch 3/50\n",
      "3/3 [==============================] - 0s 40ms/step - loss: 0.6066 - accuracy: 0.4305\n",
      "Epoch 4/50\n",
      "3/3 [==============================] - 0s 40ms/step - loss: 0.5485 - accuracy: 0.4023\n"
     ]
    }
   ],
   "source": [
    "callbacks_list = [\n",
    "    keras.callbacks.EarlyStopping(monitor='accuracy', patience=2)\n",
    "]\n",
    "\n",
    "opt = optimizers.Adam(learning_rate=0.001)\n",
    "\n",
    "model_lstm.compile(loss='binary_crossentropy', optimizer=opt, metrics=['accuracy'])\n",
    "\n",
    "BATCH_SIZE = 200\n",
    "EPOCHS = 50\n",
    "\n",
    "history = model_lstm.fit(x_train,\n",
    "                      y_train,\n",
    "                      batch_size=BATCH_SIZE,\n",
    "                      epochs=EPOCHS,\n",
    "                      callbacks=callbacks_list,\n",
    "                      verbose=1)"
   ]
  },
  {
   "cell_type": "code",
   "execution_count": 26,
   "id": "03c133b2",
   "metadata": {},
   "outputs": [
    {
     "data": {
      "image/png": "[encoded data removed]",
      "text/plain": [
       "<Figure size 432x288 with 1 Axes>"
      ]
     },
     "metadata": {
      "needs_background": "light"
     },
     "output_type": "display_data"
    }
   ],
   "source": [
    "# summarize history for accuracy and loss\n",
    "plt.figure(figsize=(6, 4))\n",
    "plt.plot(history.history['accuracy'], \"g--\", label=\"Accuracy of training data\")\n",
    "# plt.plot(history.history['val_accuracy'], \"g\", label=\"Accuracy of validation data\")\n",
    "plt.plot(history.history['loss'], \"r--\", label=\"Loss of training data\")\n",
    "# plt.plot(history.history['val_loss'], \"r\", label=\"Loss of validation data\")\n",
    "plt.title('Model Accuracy and Loss')\n",
    "plt.ylabel('Accuracy and Loss')\n",
    "plt.xlabel('Training Epoch')\n",
    "plt.ylim(0)\n",
    "plt.legend()\n",
    "plt.show()"
   ]
  },
  {
   "cell_type": "code",
   "execution_count": 27,
   "id": "d3bca8ed",
   "metadata": {},
   "outputs": [
    {
     "data": {
      "text/plain": [
       "(156, 60, 6)"
      ]
     },
     "execution_count": 27,
     "metadata": {},
     "output_type": "execute_result"
    }
   ],
   "source": [
    "x_test = x_test.reshape(x_test.shape[0], TIME_PERIODS, no_of_features)\n",
    "x_test.shape"
   ]
  },
  {
   "cell_type": "code",
   "execution_count": 28,
   "id": "dd51cfae",
   "metadata": {},
   "outputs": [
    {
     "name": "stdout",
     "output_type": "stream",
     "text": [
      "5/5 [==============================] - 1s 34ms/step - loss: 0.4645 - accuracy: 0.4679\n",
      "\n",
      "Accuracy on test data: 0.47\n",
      "\n",
      "Loss on test data: 0.46\n"
     ]
    }
   ],
   "source": [
    "score = model_lstm.evaluate(x_test, y_test, verbose=1)\n",
    "\n",
    "print(\"\\nAccuracy on test data: %0.2f\" % score[1])\n",
    "print(\"\\nLoss on test data: %0.2f\" % score[0])"
   ]
  },
  {
   "cell_type": "code",
   "execution_count": 29,
   "id": "11f27a2e",
   "metadata": {},
   "outputs": [
    {
     "data": {
      "image/png": "[encoded data removed]",
      "text/plain": [
       "<Figure size 432x288 with 2 Axes>"
      ]
     },
     "metadata": {
      "needs_background": "light"
     },
     "output_type": "display_data"
    },
    {
     "name": "stdout",
     "output_type": "stream",
     "text": [
      "\n",
      "--- Classification report for test data ---\n",
      "\n",
      "              precision    recall  f1-score   support\n",
      "\n",
      "           0       0.00      0.00      0.00        39\n",
      "           1       0.00      0.00      0.00        40\n",
      "           2       0.35      0.90      0.50        40\n",
      "           3       0.71      1.00      0.83        37\n",
      "\n",
      "    accuracy                           0.47       156\n",
      "   macro avg       0.27      0.47      0.33       156\n",
      "weighted avg       0.26      0.47      0.33       156\n",
      "\n"
     ]
    }
   ],
   "source": [
    "y_pred_test = model_lstm.predict(x_test)\n",
    "# Take the class with the highest probability from the test predictions\n",
    "max_y_pred_test = np.argmax(y_pred_test, axis=1)\n",
    "max_y_test = np.argmax(y_test, axis=1)\n",
    "\n",
    "show_confusion_matrix(max_y_test, max_y_pred_test)\n",
    "\n",
    "print(\"\\n--- Classification report for test data ---\\n\")\n",
    "\n",
    "print(classification_report(max_y_test, max_y_pred_test))"
   ]
  },
  {
   "cell_type": "code",
   "execution_count": 91,
   "id": "ce1d55ae",
   "metadata": {},
   "outputs": [],
   "source": [
    "model_lstm.save('best_model_lstm.h5')"
   ]
  },
  {
   "cell_type": "markdown",
   "id": "080892e0",
   "metadata": {},
   "source": [
    "### 1D CNN + LSTM Model"
   ]
  },
  {
   "cell_type": "code",
   "execution_count": 30,
   "id": "cd822796",
   "metadata": {},
   "outputs": [
    {
     "name": "stdout",
     "output_type": "stream",
     "text": [
      "Model: \"sequential_2\"\n",
      "_________________________________________________________________\n",
      " Layer (type)                Output Shape              Param #   \n",
      "=================================================================\n",
      " conv1d_3 (Conv1D)           (None, 58, 100)           1900      \n",
      "                                                                 \n",
      " max_pooling1d_2 (MaxPooling  (None, 19, 100)          0         \n",
      " 1D)                                                             \n",
      "                                                                 \n",
      " lstm_1 (LSTM)               (None, 19, 200)           240800    \n",
      "                                                                 \n",
      " conv1d_4 (Conv1D)           (None, 17, 100)           60100     \n",
      "                                                                 \n",
      " max_pooling1d_3 (MaxPooling  (None, 5, 100)           0         \n",
      " 1D)                                                             \n",
      "                                                                 \n",
      " conv1d_5 (Conv1D)           (None, 3, 80)             24080     \n",
      "                                                                 \n",
      " global_average_pooling1d_1   (None, 80)               0         \n",
      " (GlobalAveragePooling1D)                                        \n",
      "                                                                 \n",
      " dropout_2 (Dropout)         (None, 80)                0         \n",
      "                                                                 \n",
      " dense_3 (Dense)             (None, 100)               8100      \n",
      "                                                                 \n",
      " dense_4 (Dense)             (None, 4)                 404       \n",
      "                                                                 \n",
      "=================================================================\n",
      "Total params: 335,384\n",
      "Trainable params: 335,384\n",
      "Non-trainable params: 0\n",
      "_________________________________________________________________\n",
      "None\n"
     ]
    }
   ],
   "source": [
    "model_lsnet = Sequential()\n",
    "model_lsnet.add(Conv1D(100, 3, activation='relu', input_shape=(TIME_PERIODS,no_of_features)))\n",
    "model_lsnet.add(MaxPooling1D(3))\n",
    "model_lsnet.add(LSTM(200, return_sequences=True))\n",
    "model_lsnet.add(Conv1D(100, 3, activation='relu'))\n",
    "model_lsnet.add(MaxPooling1D(3))\n",
    "model_lsnet.add(Conv1D(80, 3, activation='relu'))\n",
    "model_lsnet.add(GlobalAveragePooling1D())\n",
    "model_lsnet.add(Dropout(0.4))\n",
    "model_lsnet.add(Dense(100, activation='relu'))\n",
    "model_lsnet.add(Dense(len(LABELS), activation='softmax'))\n",
    "print(model_lsnet.summary())"
   ]
  },
  {
   "cell_type": "code",
   "execution_count": 31,
   "id": "d6d31add",
   "metadata": {},
   "outputs": [
    {
     "data": {
      "text/plain": [
       "(532, 60, 6)"
      ]
     },
     "execution_count": 31,
     "metadata": {},
     "output_type": "execute_result"
    }
   ],
   "source": [
    "x_train = x_train.reshape(x_train.shape[0], TIME_PERIODS, no_of_features)\n",
    "x_train.shape"
   ]
  },
  {
   "cell_type": "code",
   "execution_count": 32,
   "id": "d5c82411",
   "metadata": {
    "scrolled": true
   },
   "outputs": [
    {
     "name": "stdout",
     "output_type": "stream",
     "text": [
      "Epoch 1/50\n",
      "3/3 [==============================] - 3s 138ms/step - loss: 0.6627 - accuracy: 0.2876\n",
      "Epoch 2/50\n",
      "3/3 [==============================] - 0s 30ms/step - loss: 0.5871 - accuracy: 0.2726\n",
      "Epoch 3/50\n",
      "3/3 [==============================] - 0s 30ms/step - loss: 0.5629 - accuracy: 0.3177\n",
      "Epoch 4/50\n",
      "3/3 [==============================] - 0s 30ms/step - loss: 0.5358 - accuracy: 0.4135\n",
      "Epoch 5/50\n",
      "3/3 [==============================] - 0s 30ms/step - loss: 0.5204 - accuracy: 0.3947\n",
      "Epoch 6/50\n",
      "3/3 [==============================] - 0s 29ms/step - loss: 0.4938 - accuracy: 0.4342\n",
      "Epoch 7/50\n",
      "3/3 [==============================] - 0s 30ms/step - loss: 0.4735 - accuracy: 0.4718\n",
      "Epoch 8/50\n",
      "3/3 [==============================] - 0s 31ms/step - loss: 0.4464 - accuracy: 0.5677\n",
      "Epoch 9/50\n",
      "3/3 [==============================] - 0s 30ms/step - loss: 0.4323 - accuracy: 0.5733\n",
      "Epoch 10/50\n",
      "3/3 [==============================] - 0s 31ms/step - loss: 0.4073 - accuracy: 0.6128\n",
      "Epoch 11/50\n",
      "3/3 [==============================] - 0s 34ms/step - loss: 0.3734 - accuracy: 0.6673\n",
      "Epoch 12/50\n",
      "3/3 [==============================] - 0s 31ms/step - loss: 0.3406 - accuracy: 0.7368\n",
      "Epoch 13/50\n",
      "3/3 [==============================] - 0s 31ms/step - loss: 0.3172 - accuracy: 0.7218\n",
      "Epoch 14/50\n",
      "3/3 [==============================] - 0s 30ms/step - loss: 0.2954 - accuracy: 0.7782\n",
      "Epoch 15/50\n",
      "3/3 [==============================] - 0s 30ms/step - loss: 0.2590 - accuracy: 0.7951\n",
      "Epoch 16/50\n",
      "3/3 [==============================] - 0s 28ms/step - loss: 0.2261 - accuracy: 0.8308\n",
      "Epoch 17/50\n",
      "3/3 [==============================] - 0s 28ms/step - loss: 0.2157 - accuracy: 0.8289\n",
      "Epoch 18/50\n",
      "3/3 [==============================] - 0s 30ms/step - loss: 0.1990 - accuracy: 0.8459\n",
      "Epoch 19/50\n",
      "3/3 [==============================] - 0s 29ms/step - loss: 0.1608 - accuracy: 0.8778\n",
      "Epoch 20/50\n",
      "3/3 [==============================] - 0s 30ms/step - loss: 0.1573 - accuracy: 0.9004\n",
      "Epoch 21/50\n",
      "3/3 [==============================] - 0s 29ms/step - loss: 0.1511 - accuracy: 0.8891\n",
      "Epoch 22/50\n",
      "3/3 [==============================] - 0s 30ms/step - loss: 0.1309 - accuracy: 0.9154\n",
      "Epoch 23/50\n",
      "3/3 [==============================] - 0s 29ms/step - loss: 0.1315 - accuracy: 0.8929\n",
      "Epoch 24/50\n",
      "3/3 [==============================] - 0s 30ms/step - loss: 0.1214 - accuracy: 0.9154\n"
     ]
    }
   ],
   "source": [
    "callbacks_list = [\n",
    "    keras.callbacks.EarlyStopping(monitor='accuracy', patience=2)\n",
    "]\n",
    "\n",
    "# opt = optimizers.RMSprop(learning_rate=0.001, momentum=0.9)\n",
    "\n",
    "model_lsnet.compile(loss='binary_crossentropy', optimizer='adam', metrics=['accuracy'])\n",
    "\n",
    "BATCH_SIZE = 200\n",
    "EPOCHS = 50\n",
    "\n",
    "history = model_lsnet.fit(x_train,\n",
    "                      y_train,\n",
    "                      batch_size=BATCH_SIZE,\n",
    "                      epochs=EPOCHS,\n",
    "                      callbacks=callbacks_list,\n",
    "                      verbose=1)"
   ]
  },
  {
   "cell_type": "code",
   "execution_count": 33,
   "id": "79495a5e",
   "metadata": {},
   "outputs": [
    {
     "data": {
      "image/png": "[encoded data removed]",
      "text/plain": [
       "<Figure size 432x288 with 1 Axes>"
      ]
     },
     "metadata": {
      "needs_background": "light"
     },
     "output_type": "display_data"
    }
   ],
   "source": [
    "# summarize history for accuracy and loss\n",
    "plt.figure(figsize=(6, 4))\n",
    "plt.plot(history.history['accuracy'], \"g--\", label=\"Accuracy of training data\")\n",
    "# plt.plot(history.history['val_accuracy'], \"g\", label=\"Accuracy of validation data\")\n",
    "plt.plot(history.history['loss'], \"r--\", label=\"Loss of training data\")\n",
    "# plt.plot(history.history['val_loss'], \"r\", label=\"Loss of validation data\")\n",
    "plt.title('Model Accuracy and Loss')\n",
    "plt.ylabel('Accuracy and Loss')\n",
    "plt.xlabel('Training Epoch')\n",
    "plt.ylim(0)\n",
    "plt.legend()\n",
    "plt.show()"
   ]
  },
  {
   "cell_type": "code",
   "execution_count": 34,
   "id": "fbd9fc0f",
   "metadata": {},
   "outputs": [
    {
     "data": {
      "text/plain": [
       "(156, 60, 6)"
      ]
     },
     "execution_count": 34,
     "metadata": {},
     "output_type": "execute_result"
    }
   ],
   "source": [
    "x_test = x_test.reshape(x_test.shape[0], TIME_PERIODS, no_of_features)\n",
    "x_test.shape"
   ]
  },
  {
   "cell_type": "code",
   "execution_count": 35,
   "id": "e2537d84",
   "metadata": {},
   "outputs": [
    {
     "name": "stdout",
     "output_type": "stream",
     "text": [
      "5/5 [==============================] - 1s 22ms/step - loss: 0.3804 - accuracy: 0.8654\n",
      "\n",
      "Accuracy on test data: 0.87\n",
      "\n",
      "Loss on test data: 0.38\n"
     ]
    }
   ],
   "source": [
    "score = model_lsnet.evaluate(x_test, y_test, verbose=1)\n",
    "\n",
    "print(\"\\nAccuracy on test data: %0.2f\" % score[1])\n",
    "print(\"\\nLoss on test data: %0.2f\" % score[0])"
   ]
  },
  {
   "cell_type": "code",
   "execution_count": 36,
   "id": "8127c99e",
   "metadata": {},
   "outputs": [
    {
     "data": {
      "image/png": "[encoded data removed]",
      "text/plain": [
       "<Figure size 432x288 with 2 Axes>"
      ]
     },
     "metadata": {
      "needs_background": "light"
     },
     "output_type": "display_data"
    },
    {
     "name": "stdout",
     "output_type": "stream",
     "text": [
      "\n",
      "--- Classification report for test data ---\n",
      "\n",
      "              precision    recall  f1-score   support\n",
      "\n",
      "           0       0.93      0.95      0.94        39\n",
      "           1       0.79      0.85      0.82        40\n",
      "           2       0.88      0.70      0.78        40\n",
      "           3       0.88      0.97      0.92        37\n",
      "\n",
      "    accuracy                           0.87       156\n",
      "   macro avg       0.87      0.87      0.86       156\n",
      "weighted avg       0.87      0.87      0.86       156\n",
      "\n"
     ]
    }
   ],
   "source": [
    "y_pred_test = model_lsnet.predict(x_test)\n",
    "# Take the class with the highest probability from the test predictions\n",
    "max_y_pred_test = np.argmax(y_pred_test, axis=1)\n",
    "max_y_test = np.argmax(y_test, axis=1)\n",
    "\n",
    "show_confusion_matrix(max_y_test, max_y_pred_test)\n",
    "\n",
    "print(\"\\n--- Classification report for test data ---\\n\")\n",
    "\n",
    "print(classification_report(max_y_test, max_y_pred_test))"
   ]
  },
  {
   "cell_type": "code",
   "execution_count": 37,
   "id": "0ef8b2e5",
   "metadata": {},
   "outputs": [],
   "source": [
    "model_lsnet.save('best_model_lsnet_fall_types.h5')"
   ]
  },
  {
   "cell_type": "markdown",
   "id": "7a6e05cb",
   "metadata": {},
   "source": [
    "### RNN Model"
   ]
  },
  {
   "cell_type": "code",
   "execution_count": 38,
   "id": "d67cceec",
   "metadata": {},
   "outputs": [
    {
     "name": "stdout",
     "output_type": "stream",
     "text": [
      "Model: \"sequential_3\"\n",
      "_________________________________________________________________\n",
      " Layer (type)                Output Shape              Param #   \n",
      "=================================================================\n",
      " embedding (Embedding)       (None, None, 64)          23040     \n",
      "                                                                 \n",
      " gru (GRU)                   (None, None, 128)         74496     \n",
      "                                                                 \n",
      " simple_rnn (SimpleRNN)      (None, 64)                12352     \n",
      "                                                                 \n",
      " dropout_3 (Dropout)         (None, 64)                0         \n",
      "                                                                 \n",
      " dense_5 (Dense)             (None, 4)                 260       \n",
      "                                                                 \n",
      "=================================================================\n",
      "Total params: 110,148\n",
      "Trainable params: 110,148\n",
      "Non-trainable params: 0\n",
      "_________________________________________________________________\n"
     ]
    }
   ],
   "source": [
    "model_rnn = keras.Sequential()\n",
    "model_rnn.add(Embedding(input_dim=TIME_PERIODS*no_of_features, output_dim=64))\n",
    "\n",
    "# The output of GRU will be a 3D tensor of shape (batch_size, timesteps, 256)\n",
    "model_rnn.add(GRU(128, return_sequences=True))\n",
    "\n",
    "# The output of SimpleRNN will be a 2D tensor of shape (batch_size, 128)\n",
    "model_rnn.add(SimpleRNN(64))\n",
    "model_rnn.add(Dropout(0.4))\n",
    "model_rnn.add(Dense(len(LABELS), activation='softmax'))\n",
    "\n",
    "model_rnn.summary()"
   ]
  },
  {
   "cell_type": "code",
   "execution_count": 39,
   "id": "627c2801",
   "metadata": {},
   "outputs": [
    {
     "data": {
      "text/plain": [
       "(532, 360)"
      ]
     },
     "execution_count": 39,
     "metadata": {},
     "output_type": "execute_result"
    }
   ],
   "source": [
    "x_train = x_train.reshape(x_train.shape[0], TIME_PERIODS*no_of_features)\n",
    "x_train.shape"
   ]
  },
  {
   "cell_type": "code",
   "execution_count": 40,
   "id": "e9b1a6d8",
   "metadata": {
    "scrolled": true
   },
   "outputs": [
    {
     "name": "stdout",
     "output_type": "stream",
     "text": [
      "Epoch 1/50\n",
      "3/3 [==============================] - 6s 740ms/step - loss: 1.4020 - accuracy: 0.2199\n",
      "Epoch 2/50\n",
      "3/3 [==============================] - 2s 672ms/step - loss: 1.3769 - accuracy: 0.2688\n",
      "Epoch 3/50\n",
      "3/3 [==============================] - 2s 730ms/step - loss: 1.3649 - accuracy: 0.3008\n",
      "Epoch 4/50\n",
      "3/3 [==============================] - 2s 705ms/step - loss: 1.3512 - accuracy: 0.3647\n",
      "Epoch 5/50\n",
      "3/3 [==============================] - 2s 663ms/step - loss: 1.2991 - accuracy: 0.3891\n",
      "Epoch 6/50\n",
      "3/3 [==============================] - 2s 734ms/step - loss: 1.3754 - accuracy: 0.3083\n"
     ]
    }
   ],
   "source": [
    "callbacks_list = [\n",
    "    keras.callbacks.EarlyStopping(monitor='accuracy', patience=1)\n",
    "]\n",
    "\n",
    "# opt = optimizers.SGD(learning_rate=0.01, momentum=0.9)\n",
    "\n",
    "model_rnn.compile(loss='categorical_crossentropy', optimizer='adam', metrics=['accuracy'])\n",
    "\n",
    "BATCH_SIZE = 200\n",
    "EPOCHS = 50\n",
    "\n",
    "history = model_rnn.fit(x_train,\n",
    "                      y_train,\n",
    "                      batch_size=BATCH_SIZE,\n",
    "                      epochs=EPOCHS,\n",
    "                      callbacks=callbacks_list,\n",
    "                      verbose=1)"
   ]
  },
  {
   "cell_type": "code",
   "execution_count": 41,
   "id": "2c815cec",
   "metadata": {},
   "outputs": [
    {
     "data": {
      "image/png": "[encoded data removed]",
      "text/plain": [
       "<Figure size 432x288 with 1 Axes>"
      ]
     },
     "metadata": {
      "needs_background": "light"
     },
     "output_type": "display_data"
    }
   ],
   "source": [
    "# summarize history for accuracy and loss\n",
    "plt.figure(figsize=(6, 4))\n",
    "plt.plot(history.history['accuracy'], \"g--\", label=\"Accuracy of training data\")\n",
    "# plt.plot(history.history['val_accuracy'], \"g\", label=\"Accuracy of validation data\")\n",
    "plt.plot(history.history['loss'], \"r--\", label=\"Loss of training data\")\n",
    "# plt.plot(history.history['val_loss'], \"r\", label=\"Loss of validation data\")\n",
    "plt.title('Model Accuracy and Loss')\n",
    "plt.ylabel('Accuracy and Loss')\n",
    "plt.xlabel('Training Epoch')\n",
    "plt.ylim(0)\n",
    "plt.legend()\n",
    "plt.show()"
   ]
  },
  {
   "cell_type": "code",
   "execution_count": 42,
   "id": "371bef1d",
   "metadata": {},
   "outputs": [
    {
     "data": {
      "text/plain": [
       "(156, 360)"
      ]
     },
     "execution_count": 42,
     "metadata": {},
     "output_type": "execute_result"
    }
   ],
   "source": [
    "x_test = x_test.reshape(x_test.shape[0], TIME_PERIODS*no_of_features)\n",
    "x_test.shape"
   ]
  },
  {
   "cell_type": "code",
   "execution_count": 43,
   "id": "5545c8ab",
   "metadata": {},
   "outputs": [
    {
     "name": "stdout",
     "output_type": "stream",
     "text": [
      "5/5 [==============================] - 1s 74ms/step - loss: 1.3050 - accuracy: 0.3974\n",
      "\n",
      "Accuracy on test data: 0.40\n",
      "\n",
      "Loss on test data: 1.30\n"
     ]
    }
   ],
   "source": [
    "score = model_rnn.evaluate(x_test, y_test, verbose=1)\n",
    "\n",
    "print(\"\\nAccuracy on test data: %0.2f\" % score[1])\n",
    "print(\"\\nLoss on test data: %0.2f\" % score[0])"
   ]
  },
  {
   "cell_type": "code",
   "execution_count": 44,
   "id": "705e83e2",
   "metadata": {},
   "outputs": [
    {
     "data": {
      "image/png": "[encoded data removed]",
      "text/plain": [
       "<Figure size 432x288 with 2 Axes>"
      ]
     },
     "metadata": {
      "needs_background": "light"
     },
     "output_type": "display_data"
    },
    {
     "name": "stdout",
     "output_type": "stream",
     "text": [
      "\n",
      "--- Classification report for test data ---\n",
      "\n",
      "              precision    recall  f1-score   support\n",
      "\n",
      "           0       0.35      0.23      0.28        39\n",
      "           1       0.35      0.80      0.48        40\n",
      "           2       0.00      0.00      0.00        40\n",
      "           3       0.55      0.57      0.56        37\n",
      "\n",
      "    accuracy                           0.40       156\n",
      "   macro avg       0.31      0.40      0.33       156\n",
      "weighted avg       0.31      0.40      0.33       156\n",
      "\n"
     ]
    }
   ],
   "source": [
    "y_pred_test = model_rnn.predict(x_test)\n",
    "# Take the class with the highest probability from the test predictions\n",
    "max_y_pred_test = np.argmax(y_pred_test, axis=1)\n",
    "max_y_test = np.argmax(y_test, axis=1)\n",
    "\n",
    "show_confusion_matrix(max_y_test, max_y_pred_test)\n",
    "\n",
    "print(\"\\n--- Classification report for test data ---\\n\")\n",
    "\n",
    "print(classification_report(max_y_test, max_y_pred_test))"
   ]
  }
 ],
 "metadata": {
  "kernelspec": {
   "display_name": "Python 3",
   "language": "python",
   "name": "python3"
  },
  "language_info": {
   "codemirror_mode": {
    "name": "ipython",
    "version": 3
   },
   "file_extension": ".py",
   "mimetype": "text/x-python",
   "name": "python",
   "nbconvert_exporter": "python",
   "pygments_lexer": "ipython3",
   "version": "3.8.8"
  }
 },
 "nbformat": 4,
 "nbformat_minor": 5
}
