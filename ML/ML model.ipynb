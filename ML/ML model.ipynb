{
 "cells": [
  {
   "cell_type": "markdown",
   "id": "5cc33925",
   "metadata": {},
   "source": [
    "# Training public data"
   ]
  },
  {
   "cell_type": "markdown",
   "id": "31dc97d2",
   "metadata": {},
   "source": [
    "code written by following this github: https://github.com/ni79ls/har-keras-cnn"
   ]
  },
  {
   "cell_type": "code",
   "execution_count": 1,
   "id": "93aab5a6",
   "metadata": {},
   "outputs": [],
   "source": [
    "from matplotlib import pyplot as plt\n",
    "%matplotlib inline\n",
    "import numpy as np\n",
    "import pandas as pd\n",
    "import seaborn as sns\n",
    "from scipy import stats\n",
    "import math\n",
    "\n",
    "from sklearn import metrics\n",
    "from sklearn.metrics import classification_report\n",
    "from sklearn import preprocessing\n",
    "from sklearn.model_selection import train_test_split\n",
    "\n",
    "import keras\n",
    "import tensorflow as tf\n",
    "from keras.models import Sequential\n",
    "from keras.layers import Dense, Dropout, Flatten, Reshape, GlobalAveragePooling1D\n",
    "from keras.layers import Conv1D, MaxPooling1D, LSTM, Embedding, SimpleRNN, GRU\n",
    "from keras.utils import np_utils\n",
    "from tensorflow.keras import optimizers\n",
    "\n",
    "import warnings\n",
    "warnings.filterwarnings('ignore')"
   ]
  },
  {
   "cell_type": "code",
   "execution_count": 2,
   "id": "750464c1",
   "metadata": {},
   "outputs": [
    {
     "data": {
      "text/html": [
       "<div>\n",
       "<style scoped>\n",
       "    .dataframe tbody tr th:only-of-type {\n",
       "        vertical-align: middle;\n",
       "    }\n",
       "\n",
       "    .dataframe tbody tr th {\n",
       "        vertical-align: top;\n",
       "    }\n",
       "\n",
       "    .dataframe thead th {\n",
       "        text-align: right;\n",
       "    }\n",
       "</style>\n",
       "<table border=\"1\" class=\"dataframe\">\n",
       "  <thead>\n",
       "    <tr style=\"text-align: right;\">\n",
       "      <th></th>\n",
       "      <th>accel_x</th>\n",
       "      <th>accel_y</th>\n",
       "      <th>accel_z</th>\n",
       "      <th>gyro_x</th>\n",
       "      <th>gyro_y</th>\n",
       "      <th>gyro_z</th>\n",
       "      <th>user</th>\n",
       "      <th>activity</th>\n",
       "    </tr>\n",
       "  </thead>\n",
       "  <tbody>\n",
       "    <tr>\n",
       "      <th>0</th>\n",
       "      <td>0.07</td>\n",
       "      <td>0.01</td>\n",
       "      <td>1.12</td>\n",
       "      <td>-18.95</td>\n",
       "      <td>31.57</td>\n",
       "      <td>39.55</td>\n",
       "      <td>Ramana</td>\n",
       "      <td>Idle</td>\n",
       "    </tr>\n",
       "    <tr>\n",
       "      <th>1</th>\n",
       "      <td>-0.03</td>\n",
       "      <td>0.01</td>\n",
       "      <td>1.11</td>\n",
       "      <td>-12.48</td>\n",
       "      <td>13.93</td>\n",
       "      <td>48.70</td>\n",
       "      <td>Ramana</td>\n",
       "      <td>Idle</td>\n",
       "    </tr>\n",
       "    <tr>\n",
       "      <th>2</th>\n",
       "      <td>-0.07</td>\n",
       "      <td>0.00</td>\n",
       "      <td>1.13</td>\n",
       "      <td>-10.77</td>\n",
       "      <td>-0.04</td>\n",
       "      <td>48.89</td>\n",
       "      <td>Ramana</td>\n",
       "      <td>Idle</td>\n",
       "    </tr>\n",
       "    <tr>\n",
       "      <th>3</th>\n",
       "      <td>-0.01</td>\n",
       "      <td>-0.03</td>\n",
       "      <td>1.10</td>\n",
       "      <td>-19.50</td>\n",
       "      <td>-5.90</td>\n",
       "      <td>36.31</td>\n",
       "      <td>Ramana</td>\n",
       "      <td>Idle</td>\n",
       "    </tr>\n",
       "    <tr>\n",
       "      <th>4</th>\n",
       "      <td>0.15</td>\n",
       "      <td>-0.07</td>\n",
       "      <td>1.13</td>\n",
       "      <td>-13.82</td>\n",
       "      <td>-3.10</td>\n",
       "      <td>30.27</td>\n",
       "      <td>Ramana</td>\n",
       "      <td>Idle</td>\n",
       "    </tr>\n",
       "    <tr>\n",
       "      <th>...</th>\n",
       "      <td>...</td>\n",
       "      <td>...</td>\n",
       "      <td>...</td>\n",
       "      <td>...</td>\n",
       "      <td>...</td>\n",
       "      <td>...</td>\n",
       "      <td>...</td>\n",
       "      <td>...</td>\n",
       "    </tr>\n",
       "    <tr>\n",
       "      <th>40795</th>\n",
       "      <td>-0.06</td>\n",
       "      <td>-0.03</td>\n",
       "      <td>0.88</td>\n",
       "      <td>3.12</td>\n",
       "      <td>-2.15</td>\n",
       "      <td>-0.13</td>\n",
       "      <td>Zeon</td>\n",
       "      <td>Walking</td>\n",
       "    </tr>\n",
       "    <tr>\n",
       "      <th>40796</th>\n",
       "      <td>0.01</td>\n",
       "      <td>0.07</td>\n",
       "      <td>0.98</td>\n",
       "      <td>-6.89</td>\n",
       "      <td>-4.59</td>\n",
       "      <td>7.56</td>\n",
       "      <td>Zeon</td>\n",
       "      <td>Walking</td>\n",
       "    </tr>\n",
       "    <tr>\n",
       "      <th>40797</th>\n",
       "      <td>0.02</td>\n",
       "      <td>0.11</td>\n",
       "      <td>0.96</td>\n",
       "      <td>-14.88</td>\n",
       "      <td>-10.45</td>\n",
       "      <td>5.18</td>\n",
       "      <td>Zeon</td>\n",
       "      <td>Walking</td>\n",
       "    </tr>\n",
       "    <tr>\n",
       "      <th>40798</th>\n",
       "      <td>-0.03</td>\n",
       "      <td>0.20</td>\n",
       "      <td>0.73</td>\n",
       "      <td>33.88</td>\n",
       "      <td>-10.51</td>\n",
       "      <td>-11.36</td>\n",
       "      <td>Zeon</td>\n",
       "      <td>Walking</td>\n",
       "    </tr>\n",
       "    <tr>\n",
       "      <th>40799</th>\n",
       "      <td>-0.10</td>\n",
       "      <td>0.23</td>\n",
       "      <td>0.68</td>\n",
       "      <td>58.97</td>\n",
       "      <td>-22.84</td>\n",
       "      <td>-4.65</td>\n",
       "      <td>Zeon</td>\n",
       "      <td>Walking</td>\n",
       "    </tr>\n",
       "  </tbody>\n",
       "</table>\n",
       "<p>40800 rows × 8 columns</p>\n",
       "</div>"
      ],
      "text/plain": [
       "       accel_x  accel_y  accel_z  gyro_x  gyro_y  gyro_z    user activity\n",
       "0         0.07     0.01     1.12  -18.95   31.57   39.55  Ramana     Idle\n",
       "1        -0.03     0.01     1.11  -12.48   13.93   48.70  Ramana     Idle\n",
       "2        -0.07     0.00     1.13  -10.77   -0.04   48.89  Ramana     Idle\n",
       "3        -0.01    -0.03     1.10  -19.50   -5.90   36.31  Ramana     Idle\n",
       "4         0.15    -0.07     1.13  -13.82   -3.10   30.27  Ramana     Idle\n",
       "...        ...      ...      ...     ...     ...     ...     ...      ...\n",
       "40795    -0.06    -0.03     0.88    3.12   -2.15   -0.13    Zeon  Walking\n",
       "40796     0.01     0.07     0.98   -6.89   -4.59    7.56    Zeon  Walking\n",
       "40797     0.02     0.11     0.96  -14.88  -10.45    5.18    Zeon  Walking\n",
       "40798    -0.03     0.20     0.73   33.88  -10.51  -11.36    Zeon  Walking\n",
       "40799    -0.10     0.23     0.68   58.97  -22.84   -4.65    Zeon  Walking\n",
       "\n",
       "[40800 rows x 8 columns]"
      ]
     },
     "execution_count": 2,
     "metadata": {},
     "output_type": "execute_result"
    }
   ],
   "source": [
    "# data = pd.read_csv(\"Sisfall_dataset/processed_data.csv\")\n",
    "\n",
    "# data\n",
    "\n",
    "data = pd.read_csv(\"data/combined_data_new.csv\")\n",
    "\n",
    "data"
   ]
  },
  {
   "cell_type": "code",
   "execution_count": 3,
   "id": "82de05e7",
   "metadata": {},
   "outputs": [],
   "source": [
    "# data = data[data['activity']!=\"D18\"]\n",
    "# data = data[data['activity']!=\"D19\"]\n",
    "data = data[data['activity']!=\"Jogging\"]"
   ]
  },
  {
   "cell_type": "code",
   "execution_count": 4,
   "id": "60def274",
   "metadata": {},
   "outputs": [
    {
     "data": {
      "text/plain": [
       "['Fall', 'Idle', 'Sitting action', 'Walking']"
      ]
     },
     "execution_count": 4,
     "metadata": {},
     "output_type": "execute_result"
    }
   ],
   "source": [
    "# All data collected in 20Hz sample rate.\n",
    "\n",
    "# Set display upto 3 decimal places\n",
    "pd.options.display.float_format = '{:.3f}'.format\n",
    "\n",
    "# Labels are all the activity groups\n",
    "# LABELS = list(data.groupby([\"broad_mapped_activity\"]).groups.keys())\n",
    "LABELS = list(data.groupby([\"activity\"]).groups.keys())\n",
    "\n",
    "no_of_features = 6\n",
    "\n",
    "# The number of steps within one time segment (window size)\n",
    "TIME_PERIODS = 60\n",
    "# The steps to take from one segment to the next; if this value is equal to\n",
    "# TIME_PERIODS, then there is no overlap between the segments\n",
    "STEP_DISTANCE = 15\n",
    "\n",
    "LABELS"
   ]
  },
  {
   "cell_type": "code",
   "execution_count": 5,
   "id": "9b72317a",
   "metadata": {},
   "outputs": [
    {
     "name": "stdout",
     "output_type": "stream",
     "text": [
      "(28740, 8)\n"
     ]
    },
    {
     "data": {
      "text/html": [
       "<div>\n",
       "<style scoped>\n",
       "    .dataframe tbody tr th:only-of-type {\n",
       "        vertical-align: middle;\n",
       "    }\n",
       "\n",
       "    .dataframe tbody tr th {\n",
       "        vertical-align: top;\n",
       "    }\n",
       "\n",
       "    .dataframe thead th {\n",
       "        text-align: right;\n",
       "    }\n",
       "</style>\n",
       "<table border=\"1\" class=\"dataframe\">\n",
       "  <thead>\n",
       "    <tr style=\"text-align: right;\">\n",
       "      <th></th>\n",
       "      <th>accel_x</th>\n",
       "      <th>accel_y</th>\n",
       "      <th>accel_z</th>\n",
       "      <th>gyro_x</th>\n",
       "      <th>gyro_y</th>\n",
       "      <th>gyro_z</th>\n",
       "      <th>user</th>\n",
       "      <th>activity</th>\n",
       "    </tr>\n",
       "  </thead>\n",
       "  <tbody>\n",
       "    <tr>\n",
       "      <th>28740</th>\n",
       "      <td>-0.100</td>\n",
       "      <td>0.010</td>\n",
       "      <td>0.920</td>\n",
       "      <td>1.110</td>\n",
       "      <td>-3.210</td>\n",
       "      <td>-0.460</td>\n",
       "      <td>Zeon</td>\n",
       "      <td>Fall</td>\n",
       "    </tr>\n",
       "    <tr>\n",
       "      <th>28741</th>\n",
       "      <td>-0.100</td>\n",
       "      <td>0.010</td>\n",
       "      <td>0.920</td>\n",
       "      <td>3.610</td>\n",
       "      <td>-5.650</td>\n",
       "      <td>1.860</td>\n",
       "      <td>Zeon</td>\n",
       "      <td>Fall</td>\n",
       "    </tr>\n",
       "    <tr>\n",
       "      <th>28742</th>\n",
       "      <td>-0.090</td>\n",
       "      <td>0.010</td>\n",
       "      <td>0.930</td>\n",
       "      <td>3.490</td>\n",
       "      <td>-7.300</td>\n",
       "      <td>1.980</td>\n",
       "      <td>Zeon</td>\n",
       "      <td>Fall</td>\n",
       "    </tr>\n",
       "    <tr>\n",
       "      <th>28743</th>\n",
       "      <td>-0.090</td>\n",
       "      <td>0.010</td>\n",
       "      <td>0.930</td>\n",
       "      <td>3.910</td>\n",
       "      <td>-7.480</td>\n",
       "      <td>1.800</td>\n",
       "      <td>Zeon</td>\n",
       "      <td>Fall</td>\n",
       "    </tr>\n",
       "    <tr>\n",
       "      <th>28744</th>\n",
       "      <td>-0.080</td>\n",
       "      <td>0.010</td>\n",
       "      <td>0.930</td>\n",
       "      <td>3.670</td>\n",
       "      <td>-5.290</td>\n",
       "      <td>2.230</td>\n",
       "      <td>Zeon</td>\n",
       "      <td>Fall</td>\n",
       "    </tr>\n",
       "    <tr>\n",
       "      <th>...</th>\n",
       "      <td>...</td>\n",
       "      <td>...</td>\n",
       "      <td>...</td>\n",
       "      <td>...</td>\n",
       "      <td>...</td>\n",
       "      <td>...</td>\n",
       "      <td>...</td>\n",
       "      <td>...</td>\n",
       "    </tr>\n",
       "    <tr>\n",
       "      <th>40795</th>\n",
       "      <td>-0.060</td>\n",
       "      <td>-0.030</td>\n",
       "      <td>0.880</td>\n",
       "      <td>3.120</td>\n",
       "      <td>-2.150</td>\n",
       "      <td>-0.130</td>\n",
       "      <td>Zeon</td>\n",
       "      <td>Walking</td>\n",
       "    </tr>\n",
       "    <tr>\n",
       "      <th>40796</th>\n",
       "      <td>0.010</td>\n",
       "      <td>0.070</td>\n",
       "      <td>0.980</td>\n",
       "      <td>-6.890</td>\n",
       "      <td>-4.590</td>\n",
       "      <td>7.560</td>\n",
       "      <td>Zeon</td>\n",
       "      <td>Walking</td>\n",
       "    </tr>\n",
       "    <tr>\n",
       "      <th>40797</th>\n",
       "      <td>0.020</td>\n",
       "      <td>0.110</td>\n",
       "      <td>0.960</td>\n",
       "      <td>-14.880</td>\n",
       "      <td>-10.450</td>\n",
       "      <td>5.180</td>\n",
       "      <td>Zeon</td>\n",
       "      <td>Walking</td>\n",
       "    </tr>\n",
       "    <tr>\n",
       "      <th>40798</th>\n",
       "      <td>-0.030</td>\n",
       "      <td>0.200</td>\n",
       "      <td>0.730</td>\n",
       "      <td>33.880</td>\n",
       "      <td>-10.510</td>\n",
       "      <td>-11.360</td>\n",
       "      <td>Zeon</td>\n",
       "      <td>Walking</td>\n",
       "    </tr>\n",
       "    <tr>\n",
       "      <th>40799</th>\n",
       "      <td>-0.100</td>\n",
       "      <td>0.230</td>\n",
       "      <td>0.680</td>\n",
       "      <td>58.970</td>\n",
       "      <td>-22.840</td>\n",
       "      <td>-4.650</td>\n",
       "      <td>Zeon</td>\n",
       "      <td>Walking</td>\n",
       "    </tr>\n",
       "  </tbody>\n",
       "</table>\n",
       "<p>12060 rows × 8 columns</p>\n",
       "</div>"
      ],
      "text/plain": [
       "       accel_x  accel_y  accel_z  gyro_x  gyro_y  gyro_z  user activity\n",
       "28740   -0.100    0.010    0.920   1.110  -3.210  -0.460  Zeon     Fall\n",
       "28741   -0.100    0.010    0.920   3.610  -5.650   1.860  Zeon     Fall\n",
       "28742   -0.090    0.010    0.930   3.490  -7.300   1.980  Zeon     Fall\n",
       "28743   -0.090    0.010    0.930   3.910  -7.480   1.800  Zeon     Fall\n",
       "28744   -0.080    0.010    0.930   3.670  -5.290   2.230  Zeon     Fall\n",
       "...        ...      ...      ...     ...     ...     ...   ...      ...\n",
       "40795   -0.060   -0.030    0.880   3.120  -2.150  -0.130  Zeon  Walking\n",
       "40796    0.010    0.070    0.980  -6.890  -4.590   7.560  Zeon  Walking\n",
       "40797    0.020    0.110    0.960 -14.880 -10.450   5.180  Zeon  Walking\n",
       "40798   -0.030    0.200    0.730  33.880 -10.510 -11.360  Zeon  Walking\n",
       "40799   -0.100    0.230    0.680  58.970 -22.840  -4.650  Zeon  Walking\n",
       "\n",
       "[12060 rows x 8 columns]"
      ]
     },
     "execution_count": 5,
     "metadata": {},
     "output_type": "execute_result"
    }
   ],
   "source": [
    "# # split the data into training and test set\n",
    "# Training_data = data[~data[\"user\"].isin(['SA17', 'SA18', 'SA19', 'SA20', 'SA21'])]\n",
    "# print(Training_data.shape)\n",
    "# Test_data = data[data[\"user\"].isin(['SA17', 'SA18', 'SA19', 'SA20', 'SA21'])]\n",
    "# Test_data\n",
    "\n",
    "# split the data into training and test set\n",
    "Training_data = data[data[\"user\"].isin(['Ramana','Wamika', 'Wira'])]\n",
    "# zeon_data = data[data[\"user\"].isin(['zeon'])]\n",
    "# Training_data = Training_data.append(zeon_data[~zeon_data[\"activity\"].isin([\"climbing stairs\"])])\n",
    "print(Training_data.shape)\n",
    "Test_data = data[data[\"user\"].isin(['Zeon'])]\n",
    "# Test_data = Test_data.append(zeon_data[zeon_data[\"activity\"].isin([\"climbing stairs\"])])\n",
    "Test_data"
   ]
  },
  {
   "cell_type": "code",
   "execution_count": 6,
   "id": "a9038bee",
   "metadata": {},
   "outputs": [
    {
     "name": "stdout",
     "output_type": "stream",
     "text": [
      "['Fall', 'Idle', 'Sitting action', 'Walking']\n"
     ]
    },
    {
     "data": {
      "text/html": [
       "<div>\n",
       "<style scoped>\n",
       "    .dataframe tbody tr th:only-of-type {\n",
       "        vertical-align: middle;\n",
       "    }\n",
       "\n",
       "    .dataframe tbody tr th {\n",
       "        vertical-align: top;\n",
       "    }\n",
       "\n",
       "    .dataframe thead th {\n",
       "        text-align: right;\n",
       "    }\n",
       "</style>\n",
       "<table border=\"1\" class=\"dataframe\">\n",
       "  <thead>\n",
       "    <tr style=\"text-align: right;\">\n",
       "      <th></th>\n",
       "      <th>accel_x</th>\n",
       "      <th>accel_y</th>\n",
       "      <th>accel_z</th>\n",
       "      <th>gyro_x</th>\n",
       "      <th>gyro_y</th>\n",
       "      <th>gyro_z</th>\n",
       "      <th>user</th>\n",
       "      <th>activity</th>\n",
       "      <th>encoded_label</th>\n",
       "    </tr>\n",
       "  </thead>\n",
       "  <tbody>\n",
       "    <tr>\n",
       "      <th>0</th>\n",
       "      <td>0.070</td>\n",
       "      <td>0.010</td>\n",
       "      <td>1.120</td>\n",
       "      <td>-18.950</td>\n",
       "      <td>31.570</td>\n",
       "      <td>39.550</td>\n",
       "      <td>Ramana</td>\n",
       "      <td>Idle</td>\n",
       "      <td>1</td>\n",
       "    </tr>\n",
       "    <tr>\n",
       "      <th>1</th>\n",
       "      <td>-0.030</td>\n",
       "      <td>0.010</td>\n",
       "      <td>1.110</td>\n",
       "      <td>-12.480</td>\n",
       "      <td>13.930</td>\n",
       "      <td>48.700</td>\n",
       "      <td>Ramana</td>\n",
       "      <td>Idle</td>\n",
       "      <td>1</td>\n",
       "    </tr>\n",
       "    <tr>\n",
       "      <th>2</th>\n",
       "      <td>-0.070</td>\n",
       "      <td>0.000</td>\n",
       "      <td>1.130</td>\n",
       "      <td>-10.770</td>\n",
       "      <td>-0.040</td>\n",
       "      <td>48.890</td>\n",
       "      <td>Ramana</td>\n",
       "      <td>Idle</td>\n",
       "      <td>1</td>\n",
       "    </tr>\n",
       "    <tr>\n",
       "      <th>3</th>\n",
       "      <td>-0.010</td>\n",
       "      <td>-0.030</td>\n",
       "      <td>1.100</td>\n",
       "      <td>-19.500</td>\n",
       "      <td>-5.900</td>\n",
       "      <td>36.310</td>\n",
       "      <td>Ramana</td>\n",
       "      <td>Idle</td>\n",
       "      <td>1</td>\n",
       "    </tr>\n",
       "    <tr>\n",
       "      <th>4</th>\n",
       "      <td>0.150</td>\n",
       "      <td>-0.070</td>\n",
       "      <td>1.130</td>\n",
       "      <td>-13.820</td>\n",
       "      <td>-3.100</td>\n",
       "      <td>30.270</td>\n",
       "      <td>Ramana</td>\n",
       "      <td>Idle</td>\n",
       "      <td>1</td>\n",
       "    </tr>\n",
       "    <tr>\n",
       "      <th>...</th>\n",
       "      <td>...</td>\n",
       "      <td>...</td>\n",
       "      <td>...</td>\n",
       "      <td>...</td>\n",
       "      <td>...</td>\n",
       "      <td>...</td>\n",
       "      <td>...</td>\n",
       "      <td>...</td>\n",
       "      <td>...</td>\n",
       "    </tr>\n",
       "    <tr>\n",
       "      <th>28735</th>\n",
       "      <td>-0.050</td>\n",
       "      <td>-0.040</td>\n",
       "      <td>0.570</td>\n",
       "      <td>-23.040</td>\n",
       "      <td>1.300</td>\n",
       "      <td>-11.610</td>\n",
       "      <td>Wira</td>\n",
       "      <td>Walking</td>\n",
       "      <td>3</td>\n",
       "    </tr>\n",
       "    <tr>\n",
       "      <th>28736</th>\n",
       "      <td>-0.070</td>\n",
       "      <td>-0.100</td>\n",
       "      <td>0.560</td>\n",
       "      <td>-15.160</td>\n",
       "      <td>-9.380</td>\n",
       "      <td>-12.100</td>\n",
       "      <td>Wira</td>\n",
       "      <td>Walking</td>\n",
       "      <td>3</td>\n",
       "    </tr>\n",
       "    <tr>\n",
       "      <th>28737</th>\n",
       "      <td>0.110</td>\n",
       "      <td>-0.060</td>\n",
       "      <td>0.650</td>\n",
       "      <td>3.820</td>\n",
       "      <td>2.580</td>\n",
       "      <td>5.970</td>\n",
       "      <td>Wira</td>\n",
       "      <td>Walking</td>\n",
       "      <td>3</td>\n",
       "    </tr>\n",
       "    <tr>\n",
       "      <th>28738</th>\n",
       "      <td>0.050</td>\n",
       "      <td>-0.010</td>\n",
       "      <td>0.700</td>\n",
       "      <td>-1.860</td>\n",
       "      <td>17.290</td>\n",
       "      <td>-20.100</td>\n",
       "      <td>Wira</td>\n",
       "      <td>Walking</td>\n",
       "      <td>3</td>\n",
       "    </tr>\n",
       "    <tr>\n",
       "      <th>28739</th>\n",
       "      <td>-0.100</td>\n",
       "      <td>-0.050</td>\n",
       "      <td>0.690</td>\n",
       "      <td>-12.910</td>\n",
       "      <td>18.090</td>\n",
       "      <td>-37.800</td>\n",
       "      <td>Wira</td>\n",
       "      <td>Walking</td>\n",
       "      <td>3</td>\n",
       "    </tr>\n",
       "  </tbody>\n",
       "</table>\n",
       "<p>28740 rows × 9 columns</p>\n",
       "</div>"
      ],
      "text/plain": [
       "       accel_x  accel_y  accel_z  gyro_x  gyro_y  gyro_z    user activity  \\\n",
       "0        0.070    0.010    1.120 -18.950  31.570  39.550  Ramana     Idle   \n",
       "1       -0.030    0.010    1.110 -12.480  13.930  48.700  Ramana     Idle   \n",
       "2       -0.070    0.000    1.130 -10.770  -0.040  48.890  Ramana     Idle   \n",
       "3       -0.010   -0.030    1.100 -19.500  -5.900  36.310  Ramana     Idle   \n",
       "4        0.150   -0.070    1.130 -13.820  -3.100  30.270  Ramana     Idle   \n",
       "...        ...      ...      ...     ...     ...     ...     ...      ...   \n",
       "28735   -0.050   -0.040    0.570 -23.040   1.300 -11.610    Wira  Walking   \n",
       "28736   -0.070   -0.100    0.560 -15.160  -9.380 -12.100    Wira  Walking   \n",
       "28737    0.110   -0.060    0.650   3.820   2.580   5.970    Wira  Walking   \n",
       "28738    0.050   -0.010    0.700  -1.860  17.290 -20.100    Wira  Walking   \n",
       "28739   -0.100   -0.050    0.690 -12.910  18.090 -37.800    Wira  Walking   \n",
       "\n",
       "       encoded_label  \n",
       "0                  1  \n",
       "1                  1  \n",
       "2                  1  \n",
       "3                  1  \n",
       "4                  1  \n",
       "...              ...  \n",
       "28735              3  \n",
       "28736              3  \n",
       "28737              3  \n",
       "28738              3  \n",
       "28739              3  \n",
       "\n",
       "[28740 rows x 9 columns]"
      ]
     },
     "execution_count": 6,
     "metadata": {},
     "output_type": "execute_result"
    }
   ],
   "source": [
    "# # Encode labels\n",
    "le = preprocessing.LabelEncoder()\n",
    "le.fit(LABELS)\n",
    "Training_data['encoded_label'] = le.transform(Training_data['activity'].values.ravel())\n",
    "print(list(le.classes_))\n",
    "Training_data\n",
    "# Training_data['encoded_label'] = 0\n",
    "# activity = {'Sitting action': 0, 'Fall': 1, 'Walking': 2, 'climbing stairs': 3, 'getting up': 4}\n",
    "# for i in range(0, len(Training_data)):\n",
    "#     Training_data['encoded_label'].iloc[i] = activity[Training_data['activity'].iloc[i]]\n",
    "# Training_data"
   ]
  },
  {
   "cell_type": "code",
   "execution_count": 7,
   "id": "8c1c6137",
   "metadata": {},
   "outputs": [],
   "source": [
    "def normalize_features(data, mu, sigma):\n",
    "    print(\"mean: \", mu)\n",
    "    print(\"standard deviation: \", sigma)\n",
    "    return (data - mu)/sigma\n",
    "#     maxim = np.max(data, axis=0)\n",
    "#     minim = np.min(data, axis=0)\n",
    "#     return (data - minim)/(maxim - minim)"
   ]
  },
  {
   "cell_type": "code",
   "execution_count": 8,
   "id": "05ed09d4",
   "metadata": {},
   "outputs": [
    {
     "name": "stdout",
     "output_type": "stream",
     "text": [
      "accel_x\n",
      "mean:  0.04569659011830065\n",
      "standard deviation:  0.39364945576561455\n",
      "accel_y\n",
      "mean:  -0.04667049408489638\n",
      "standard deviation:  0.7887451362981683\n",
      "accel_z\n",
      "mean:  0.8193719554627664\n",
      "standard deviation:  0.8280885411621361\n",
      "gyro_x\n",
      "mean:  0.04278531663187139\n",
      "standard deviation:  87.75105207254057\n",
      "gyro_y\n",
      "mean:  0.8072567849686795\n",
      "standard deviation:  59.09748109827988\n",
      "gyro_z\n",
      "mean:  -0.6344224077940189\n",
      "standard deviation:  51.21752423835156\n"
     ]
    },
    {
     "data": {
      "text/html": [
       "<div>\n",
       "<style scoped>\n",
       "    .dataframe tbody tr th:only-of-type {\n",
       "        vertical-align: middle;\n",
       "    }\n",
       "\n",
       "    .dataframe tbody tr th {\n",
       "        vertical-align: top;\n",
       "    }\n",
       "\n",
       "    .dataframe thead th {\n",
       "        text-align: right;\n",
       "    }\n",
       "</style>\n",
       "<table border=\"1\" class=\"dataframe\">\n",
       "  <thead>\n",
       "    <tr style=\"text-align: right;\">\n",
       "      <th></th>\n",
       "      <th>accel_x</th>\n",
       "      <th>accel_y</th>\n",
       "      <th>accel_z</th>\n",
       "      <th>gyro_x</th>\n",
       "      <th>gyro_y</th>\n",
       "      <th>gyro_z</th>\n",
       "      <th>user</th>\n",
       "      <th>activity</th>\n",
       "      <th>encoded_label</th>\n",
       "    </tr>\n",
       "  </thead>\n",
       "  <tbody>\n",
       "    <tr>\n",
       "      <th>0</th>\n",
       "      <td>0.062</td>\n",
       "      <td>0.072</td>\n",
       "      <td>0.363</td>\n",
       "      <td>-0.216</td>\n",
       "      <td>0.521</td>\n",
       "      <td>0.785</td>\n",
       "      <td>Ramana</td>\n",
       "      <td>Idle</td>\n",
       "      <td>1</td>\n",
       "    </tr>\n",
       "    <tr>\n",
       "      <th>1</th>\n",
       "      <td>-0.192</td>\n",
       "      <td>0.072</td>\n",
       "      <td>0.351</td>\n",
       "      <td>-0.143</td>\n",
       "      <td>0.222</td>\n",
       "      <td>0.963</td>\n",
       "      <td>Ramana</td>\n",
       "      <td>Idle</td>\n",
       "      <td>1</td>\n",
       "    </tr>\n",
       "    <tr>\n",
       "      <th>2</th>\n",
       "      <td>-0.294</td>\n",
       "      <td>0.059</td>\n",
       "      <td>0.375</td>\n",
       "      <td>-0.123</td>\n",
       "      <td>-0.014</td>\n",
       "      <td>0.967</td>\n",
       "      <td>Ramana</td>\n",
       "      <td>Idle</td>\n",
       "      <td>1</td>\n",
       "    </tr>\n",
       "    <tr>\n",
       "      <th>3</th>\n",
       "      <td>-0.141</td>\n",
       "      <td>0.021</td>\n",
       "      <td>0.339</td>\n",
       "      <td>-0.223</td>\n",
       "      <td>-0.113</td>\n",
       "      <td>0.721</td>\n",
       "      <td>Ramana</td>\n",
       "      <td>Idle</td>\n",
       "      <td>1</td>\n",
       "    </tr>\n",
       "    <tr>\n",
       "      <th>4</th>\n",
       "      <td>0.265</td>\n",
       "      <td>-0.030</td>\n",
       "      <td>0.375</td>\n",
       "      <td>-0.158</td>\n",
       "      <td>-0.066</td>\n",
       "      <td>0.603</td>\n",
       "      <td>Ramana</td>\n",
       "      <td>Idle</td>\n",
       "      <td>1</td>\n",
       "    </tr>\n",
       "    <tr>\n",
       "      <th>...</th>\n",
       "      <td>...</td>\n",
       "      <td>...</td>\n",
       "      <td>...</td>\n",
       "      <td>...</td>\n",
       "      <td>...</td>\n",
       "      <td>...</td>\n",
       "      <td>...</td>\n",
       "      <td>...</td>\n",
       "      <td>...</td>\n",
       "    </tr>\n",
       "    <tr>\n",
       "      <th>28735</th>\n",
       "      <td>-0.243</td>\n",
       "      <td>0.008</td>\n",
       "      <td>-0.301</td>\n",
       "      <td>-0.263</td>\n",
       "      <td>0.008</td>\n",
       "      <td>-0.214</td>\n",
       "      <td>Wira</td>\n",
       "      <td>Walking</td>\n",
       "      <td>3</td>\n",
       "    </tr>\n",
       "    <tr>\n",
       "      <th>28736</th>\n",
       "      <td>-0.294</td>\n",
       "      <td>-0.068</td>\n",
       "      <td>-0.313</td>\n",
       "      <td>-0.173</td>\n",
       "      <td>-0.172</td>\n",
       "      <td>-0.224</td>\n",
       "      <td>Wira</td>\n",
       "      <td>Walking</td>\n",
       "      <td>3</td>\n",
       "    </tr>\n",
       "    <tr>\n",
       "      <th>28737</th>\n",
       "      <td>0.163</td>\n",
       "      <td>-0.017</td>\n",
       "      <td>-0.205</td>\n",
       "      <td>0.043</td>\n",
       "      <td>0.030</td>\n",
       "      <td>0.129</td>\n",
       "      <td>Wira</td>\n",
       "      <td>Walking</td>\n",
       "      <td>3</td>\n",
       "    </tr>\n",
       "    <tr>\n",
       "      <th>28738</th>\n",
       "      <td>0.011</td>\n",
       "      <td>0.046</td>\n",
       "      <td>-0.144</td>\n",
       "      <td>-0.022</td>\n",
       "      <td>0.279</td>\n",
       "      <td>-0.380</td>\n",
       "      <td>Wira</td>\n",
       "      <td>Walking</td>\n",
       "      <td>3</td>\n",
       "    </tr>\n",
       "    <tr>\n",
       "      <th>28739</th>\n",
       "      <td>-0.370</td>\n",
       "      <td>-0.004</td>\n",
       "      <td>-0.156</td>\n",
       "      <td>-0.148</td>\n",
       "      <td>0.292</td>\n",
       "      <td>-0.726</td>\n",
       "      <td>Wira</td>\n",
       "      <td>Walking</td>\n",
       "      <td>3</td>\n",
       "    </tr>\n",
       "  </tbody>\n",
       "</table>\n",
       "<p>28740 rows × 9 columns</p>\n",
       "</div>"
      ],
      "text/plain": [
       "       accel_x  accel_y  accel_z  gyro_x  gyro_y  gyro_z    user activity  \\\n",
       "0        0.062    0.072    0.363  -0.216   0.521   0.785  Ramana     Idle   \n",
       "1       -0.192    0.072    0.351  -0.143   0.222   0.963  Ramana     Idle   \n",
       "2       -0.294    0.059    0.375  -0.123  -0.014   0.967  Ramana     Idle   \n",
       "3       -0.141    0.021    0.339  -0.223  -0.113   0.721  Ramana     Idle   \n",
       "4        0.265   -0.030    0.375  -0.158  -0.066   0.603  Ramana     Idle   \n",
       "...        ...      ...      ...     ...     ...     ...     ...      ...   \n",
       "28735   -0.243    0.008   -0.301  -0.263   0.008  -0.214    Wira  Walking   \n",
       "28736   -0.294   -0.068   -0.313  -0.173  -0.172  -0.224    Wira  Walking   \n",
       "28737    0.163   -0.017   -0.205   0.043   0.030   0.129    Wira  Walking   \n",
       "28738    0.011    0.046   -0.144  -0.022   0.279  -0.380    Wira  Walking   \n",
       "28739   -0.370   -0.004   -0.156  -0.148   0.292  -0.726    Wira  Walking   \n",
       "\n",
       "       encoded_label  \n",
       "0                  1  \n",
       "1                  1  \n",
       "2                  1  \n",
       "3                  1  \n",
       "4                  1  \n",
       "...              ...  \n",
       "28735              3  \n",
       "28736              3  \n",
       "28737              3  \n",
       "28738              3  \n",
       "28739              3  \n",
       "\n",
       "[28740 rows x 9 columns]"
      ]
     },
     "execution_count": 8,
     "metadata": {},
     "output_type": "execute_result"
    }
   ],
   "source": [
    "mu = []\n",
    "sigma = []\n",
    "for i in range(0,6):\n",
    "    print(Training_data.columns[i])\n",
    "    mu.append(np.mean(Training_data.iloc[:, i], axis=0))\n",
    "    sigma.append(np.std(Training_data.iloc[:, i], axis=0))\n",
    "    Training_data.iloc[:, i] = normalize_features(Training_data.iloc[:, i], mu[i], sigma[i])\n",
    "    \n",
    "Training_data"
   ]
  },
  {
   "cell_type": "code",
   "execution_count": 9,
   "id": "f1ded0a1",
   "metadata": {
    "scrolled": false
   },
   "outputs": [],
   "source": [
    "def create_segments(data):\n",
    "\n",
    "    segments = []\n",
    "    labels = []\n",
    "    for i in range(0, len(data) - TIME_PERIODS, STEP_DISTANCE):\n",
    "        accel_xs = data['accel_x'].values[i: i + TIME_PERIODS]\n",
    "        accel_ys = data['accel_y'].values[i: i + TIME_PERIODS]\n",
    "        accel_zs = data['accel_z'].values[i: i + TIME_PERIODS]\n",
    "        gyro_xs = data['gyro_x'].values[i: i + TIME_PERIODS]\n",
    "        gyro_ys = data['gyro_y'].values[i: i + TIME_PERIODS]\n",
    "        gyro_zs = data['gyro_z'].values[i: i + TIME_PERIODS]\n",
    "#         mag_xs = data['mag_x'].values[i: i + TIME_PERIODS]\n",
    "#         mag_ys = data['mag_y'].values[i: i + TIME_PERIODS]\n",
    "#         mag_zs = data['mag_z'].values[i: i + TIME_PERIODS]\n",
    "        \n",
    "#         #Features\n",
    "#         #mean\n",
    "#         accel_x_mean = np.full(TIME_PERIODS, accel_xs.mean())\n",
    "#     #     y_mean = np.full(TIME_PERIODS, ys.mean())\n",
    "#         accel_z_mean = np.full(TIME_PERIODS, accel_zs.mean())\n",
    "#         gyro_x_mean = np.full(TIME_PERIODS, gyro_xs.mean())\n",
    "#     #     pitch_mean = np.full(TIME_PERIODS, pitchs.mean())\n",
    "#         gyro_z_mean = np.full(TIME_PERIODS, gyro_zs.mean())\n",
    "#         #standard deviation\n",
    "#         accel_x_std = np.full(TIME_PERIODS, accel_xs.std())\n",
    "#         accel_y_std = np.full(TIME_PERIODS, accel_ys.std())\n",
    "#         accel_z_std = np.full(TIME_PERIODS, accel_zs.std())\n",
    "#         gyro_x_std = np.full(TIME_PERIODS, gyro_xs.std())\n",
    "#         gyro_y_std = np.full(TIME_PERIODS, gyro_ys.std())\n",
    "#         gyro_z_std = np.full(TIME_PERIODS, gyro_zs.std())\n",
    "#         #min\n",
    "#         accel_x_min = np.full(TIME_PERIODS, accel_xs.min())\n",
    "#         accel_y_min = np.full(TIME_PERIODS, accel_ys.min())\n",
    "#         accel_z_min = np.full(TIME_PERIODS, accel_zs.min())\n",
    "#         gyro_x_min = np.full(TIME_PERIODS, gyro_xs.min())\n",
    "#     #     pitch_min = np.full(TIME_PERIODS, pitchs.min())\n",
    "#     #     yaw_min = np.full(TIME_PERIODS, yaws.min())\n",
    "    \n",
    "#         #energy, here ** represents exponentiation\n",
    "#         accel_x_eng = np.full(TIME_PERIODS, np.sum(accel_xs**2)/TIME_PERIODS) \n",
    "#         accel_y_eng = np.full(TIME_PERIODS, np.sum(accel_ys**2)/TIME_PERIODS)\n",
    "#         accel_z_eng = np.full(TIME_PERIODS, np.sum(accel_zs**2)/TIME_PERIODS)\n",
    "#         #median absolute deviation (MAD)\n",
    "#         accel_x_mad = np.full(TIME_PERIODS, stats.median_abs_deviation(accel_xs))\n",
    "#     #     y_mad = np.full(TIME_PERIODS, stats.median_abs_deviation(ys))\n",
    "#         accel_z_mad = np.full(TIME_PERIODS, stats.median_abs_deviation(accel_zs))\n",
    "#     #     roll_mad = np.full(TIME_PERIODS, stats.median_abs_deviation(rolls))\n",
    "#         gyro_y_mad = np.full(TIME_PERIODS, stats.median_abs_deviation(gyro_ys))\n",
    "#         gyro_z_mad = np.full(TIME_PERIODS, stats.median_abs_deviation(gyro_zs))\n",
    "#         # signal magnitude area\n",
    "#         accel_sma = np.full(TIME_PERIODS, (np.sum(np.abs(accel_xs)) + np.sum(np.abs(accel_ys)) + np.sum(np.abs(accel_zs))) / TIME_PERIODS)\n",
    "#         gyro_sma = np.full(TIME_PERIODS, (np.sum(np.abs(gyro_xs)) + np.sum(np.abs(gyro_ys)) + np.sum(np.abs(gyro_zs))) / TIME_PERIODS)\n",
    "# #         # get frequency domain signal\n",
    "# #         x_freq = np.abs(np.fft.fft(xs))[1:51]\n",
    "# #         y_freq = np.abs(np.fft.fft(ys))[1:51]\n",
    "# #         z_freq = np.abs(np.fft.fft(zs))[1:51]\n",
    "# #         roll_freq = np.abs(np.fft.fft(rolls))[1:51]\n",
    "# #         pitch_freq = np.abs(np.fft.fft(pitchs))[1:51]\n",
    "# #         yaw_freq = np.abs(np.fft.fft(yaws))[1:51]\n",
    "# #         # freq mean\n",
    "# #         x_freq_mean = np.full(TIME_PERIODS, x_freq.mean())\n",
    "# #         y_freq_mean = np.full(TIME_PERIODS, y_freq.mean())\n",
    "# #         z_freq_mean = np.full(TIME_PERIODS, z_freq.mean())\n",
    "# #         roll_freq_mean = np.full(TIME_PERIODS, roll_freq.mean())\n",
    "# #         pitch_freq_mean = np.full(TIME_PERIODS, pitch_freq.mean())\n",
    "# #         yaw_freq_mean = np.full(TIME_PERIODS, yaw_freq.mean())\n",
    "# #         #freq standard deviation\n",
    "# #         x_freq_std = np.full(TIME_PERIODS, x_freq.std())\n",
    "# #         y_freq_std = np.full(TIME_PERIODS, y_freq.std())\n",
    "# #         z_freq_std = np.full(TIME_PERIODS, z_freq.std())\n",
    "# #         roll_freq_std = np.full(TIME_PERIODS, roll_freq.std())\n",
    "# #         pitch_freq_std = np.full(TIME_PERIODS, pitch_freq.std())\n",
    "# #         yaw_freq_std = np.full(TIME_PERIODS, yaw_freq.std())\n",
    "\n",
    "        # Retrieve the most often used label in this segment\n",
    "        label = stats.mode(data['encoded_label'][i: i + TIME_PERIODS])[0][0]\n",
    "        \n",
    "#         segments.append([accel_xs, accel_ys, accel_zs, gyro_xs, gyro_ys, gyro_zs, accel_x_mean,\\\n",
    "#                          accel_z_mean, gyro_x_mean, gyro_z_mean, accel_x_std, accel_y_std, accel_z_std, gyro_x_std,  gyro_y_std, \\\n",
    "#                          gyro_z_std, accel_x_min, accel_y_min, accel_z_min, gyro_x_min, accel_x_eng, accel_y_eng, accel_z_eng, \\\n",
    "#                          accel_x_mad, accel_z_mad, gyro_y_mad, gyro_z_mad, accel_sma, gyro_sma])\n",
    "        segments.append([accel_xs, accel_ys, accel_zs, gyro_xs, gyro_ys, gyro_zs])\n",
    "        labels.append(label)\n",
    "\n",
    "    # Bring the segments into a better shape\n",
    "    x_data = np.asarray(segments, dtype= np.float32).reshape(-1, TIME_PERIODS, no_of_features)\n",
    "    y_data = np.asarray(labels)\n",
    "    return x_data, y_data\n"
   ]
  },
  {
   "cell_type": "code",
   "execution_count": 10,
   "id": "f6e2060b",
   "metadata": {},
   "outputs": [
    {
     "name": "stdout",
     "output_type": "stream",
     "text": [
      "x shape:  (1912, 60, 6)\n",
      "y shape:  (1912,)\n"
     ]
    }
   ],
   "source": [
    "x_train, y_train = create_segments(Training_data)\n",
    "np.set_printoptions(threshold=np.inf)\n",
    "print(\"x shape: \",x_train.shape)\n",
    "print(\"y shape: \",y_train.shape)"
   ]
  },
  {
   "cell_type": "code",
   "execution_count": 11,
   "id": "a323b887",
   "metadata": {},
   "outputs": [
    {
     "data": {
      "text/plain": [
       "(1912, 360)"
      ]
     },
     "execution_count": 11,
     "metadata": {},
     "output_type": "execute_result"
    }
   ],
   "source": [
    "x_train = x_train.reshape(x_train.shape[0], TIME_PERIODS*no_of_features)\n",
    "x_train.shape"
   ]
  },
  {
   "cell_type": "code",
   "execution_count": 12,
   "id": "be095318",
   "metadata": {},
   "outputs": [
    {
     "name": "stdout",
     "output_type": "stream",
     "text": [
      "New y_train shape:  (1912, 4)\n"
     ]
    }
   ],
   "source": [
    "# Convert type for Keras otherwise Keras cannot process the data\n",
    "x_train = x_train.astype(\"float32\")\n",
    "y_train = y_train.astype(\"float32\")\n",
    "\n",
    "# One-hot encoding of y_train labels (only execute once!)\n",
    "y_train = np_utils.to_categorical(y_train, len(LABELS))\n",
    "print('New y_train shape: ', y_train.shape)"
   ]
  },
  {
   "cell_type": "markdown",
   "id": "3c0df1e7",
   "metadata": {},
   "source": [
    "### 1D-CNN Model"
   ]
  },
  {
   "cell_type": "code",
   "execution_count": 13,
   "id": "1d6345fe",
   "metadata": {},
   "outputs": [
    {
     "name": "stdout",
     "output_type": "stream",
     "text": [
      "Model: \"sequential\"\n",
      "_________________________________________________________________\n",
      " Layer (type)                Output Shape              Param #   \n",
      "=================================================================\n",
      " reshape (Reshape)           (None, 60, 6)             0         \n",
      "                                                                 \n",
      " conv1d (Conv1D)             (None, 58, 800)           15200     \n",
      "                                                                 \n",
      " max_pooling1d (MaxPooling1D  (None, 19, 800)          0         \n",
      " )                                                               \n",
      "                                                                 \n",
      " conv1d_1 (Conv1D)           (None, 17, 100)           240100    \n",
      "                                                                 \n",
      " max_pooling1d_1 (MaxPooling  (None, 5, 100)           0         \n",
      " 1D)                                                             \n",
      "                                                                 \n",
      " conv1d_2 (Conv1D)           (None, 3, 80)             24080     \n",
      "                                                                 \n",
      " global_average_pooling1d (G  (None, 80)               0         \n",
      " lobalAveragePooling1D)                                          \n",
      "                                                                 \n",
      " dropout (Dropout)           (None, 80)                0         \n",
      "                                                                 \n",
      " dense (Dense)               (None, 4)                 324       \n",
      "                                                                 \n",
      "=================================================================\n",
      "Total params: 279,704\n",
      "Trainable params: 279,704\n",
      "Non-trainable params: 0\n",
      "_________________________________________________________________\n",
      "None\n"
     ]
    }
   ],
   "source": [
    "model_m = Sequential()\n",
    "model_m.add(Reshape((TIME_PERIODS,no_of_features), input_shape=(TIME_PERIODS*no_of_features,)))\n",
    "model_m.add(Conv1D(800, 3, activation='relu'))\n",
    "model_m.add(MaxPooling1D(3))\n",
    "model_m.add(Conv1D(100, 3, activation='relu'))\n",
    "model_m.add(MaxPooling1D(3))\n",
    "model_m.add(Conv1D(80, 3, activation='relu'))\n",
    "model_m.add(GlobalAveragePooling1D())\n",
    "model_m.add(Dropout(0.3))\n",
    "model_m.add(Dense(len(LABELS), activation='softmax'))\n",
    "print(model_m.summary())"
   ]
  },
  {
   "cell_type": "code",
   "execution_count": 183,
   "id": "249787e7",
   "metadata": {
    "scrolled": true
   },
   "outputs": [
    {
     "name": "stdout",
     "output_type": "stream",
     "text": [
      "Epoch 1/100\n",
      "10/10 [==============================] - 5s 278ms/step - loss: 1.1901 - accuracy: 0.3316\n",
      "Epoch 2/100\n",
      "10/10 [==============================] - 1s 131ms/step - loss: 0.8352 - accuracy: 0.8394\n",
      "Epoch 3/100\n",
      "10/10 [==============================] - 1s 130ms/step - loss: 0.4571 - accuracy: 0.9116\n",
      "Epoch 4/100\n",
      "10/10 [==============================] - 1s 130ms/step - loss: 0.2718 - accuracy: 0.9414\n",
      "Epoch 5/100\n",
      "10/10 [==============================] - 1s 130ms/step - loss: 0.1610 - accuracy: 0.9587\n",
      "Epoch 6/100\n",
      "10/10 [==============================] - 1s 131ms/step - loss: 0.1144 - accuracy: 0.9702\n",
      "Epoch 7/100\n",
      "10/10 [==============================] - 1s 132ms/step - loss: 0.0888 - accuracy: 0.9733\n",
      "Epoch 8/100\n",
      "10/10 [==============================] - 1s 130ms/step - loss: 0.0791 - accuracy: 0.9817\n",
      "Epoch 9/100\n",
      "10/10 [==============================] - 1s 132ms/step - loss: 0.0732 - accuracy: 0.9827\n",
      "Epoch 10/100\n",
      "10/10 [==============================] - 1s 132ms/step - loss: 0.0658 - accuracy: 0.9822\n"
     ]
    }
   ],
   "source": [
    "callbacks_list = [\n",
    "    keras.callbacks.EarlyStopping(monitor='accuracy', patience=1)\n",
    "]\n",
    "\n",
    "opt = optimizers.SGD(learning_rate=0.01, momentum=0.9)\n",
    "\n",
    "model_m.compile(loss='categorical_crossentropy',\n",
    "                optimizer='adam', metrics=['accuracy'])\n",
    "\n",
    "BATCH_SIZE = 200\n",
    "EPOCHS = 100\n",
    "\n",
    "history = model_m.fit(x_train,\n",
    "                      y_train,\n",
    "                      batch_size=BATCH_SIZE,\n",
    "                      epochs=EPOCHS,\n",
    "                      callbacks=callbacks_list,\n",
    "                      verbose=1)"
   ]
  },
  {
   "cell_type": "code",
   "execution_count": 184,
   "id": "b99f141c",
   "metadata": {},
   "outputs": [
    {
     "data": {
      "image/png": "[encoded data removed]",
      "text/plain": [
       "<Figure size 432x288 with 1 Axes>"
      ]
     },
     "metadata": {
      "needs_background": "light"
     },
     "output_type": "display_data"
    }
   ],
   "source": [
    "# summarize history for accuracy and loss\n",
    "plt.figure(figsize=(6, 4))\n",
    "plt.plot(history.history['accuracy'], \"g--\", label=\"Accuracy of training data\")\n",
    "# plt.plot(history.history['val_accuracy'], \"g\", label=\"Accuracy of validation data\")\n",
    "plt.plot(history.history['loss'], \"r--\", label=\"Loss of training data\")\n",
    "# plt.plot(history.history['val_loss'], \"r\", label=\"Loss of validation data\")\n",
    "plt.title('Model Accuracy and Loss')\n",
    "plt.ylabel('Accuracy and Loss')\n",
    "plt.xlabel('Training Epoch')\n",
    "plt.ylim(0)\n",
    "plt.legend()\n",
    "plt.show()"
   ]
  },
  {
   "cell_type": "code",
   "execution_count": 20,
   "id": "7a9d9d46",
   "metadata": {},
   "outputs": [
    {
     "name": "stdout",
     "output_type": "stream",
     "text": [
      "['Fall', 'Idle', 'Sitting action', 'Walking']\n",
      "accel_x\n",
      "mean:  0.04569659011830065\n",
      "standard deviation:  0.39364945576561455\n",
      "accel_y\n",
      "mean:  -0.04667049408489638\n",
      "standard deviation:  0.7887451362981683\n",
      "accel_z\n",
      "mean:  0.8193719554627664\n",
      "standard deviation:  0.8280885411621361\n",
      "gyro_x\n",
      "mean:  0.04278531663187139\n",
      "standard deviation:  87.75105207254057\n",
      "gyro_y\n",
      "mean:  0.8072567849686795\n",
      "standard deviation:  59.09748109827988\n",
      "gyro_z\n",
      "mean:  -0.6344224077940189\n",
      "standard deviation:  51.21752423835156\n",
      "x shape:  (800, 60, 6)\n",
      "y shape:  (800,)\n"
     ]
    },
    {
     "data": {
      "text/plain": [
       "(800, 4)"
      ]
     },
     "execution_count": 20,
     "metadata": {},
     "output_type": "execute_result"
    }
   ],
   "source": [
    "# Set input_shape / reshape for Keras\n",
    "# Encode labels\n",
    "Test_data['encoded_label'] = le.transform(Test_data['activity'].values.ravel())\n",
    "print(list(le.classes_))\n",
    "\n",
    "for i in range(0,6):\n",
    "    print(data.columns[i])\n",
    "    Test_data.iloc[:, i] = normalize_features(Test_data.iloc[:, i], mu[i], sigma[i])\n",
    "    \n",
    "x_test, y_test = create_segments(Test_data)\n",
    "print(\"x shape: \",x_test.shape)\n",
    "print(\"y shape: \",y_test.shape)\n",
    "\n",
    "x_test = x_test.reshape(x_test.shape[0], TIME_PERIODS*no_of_features)\n",
    "\n",
    "x_test = x_test.astype(\"float32\")\n",
    "y_test = y_test.astype(\"float32\")\n",
    "\n",
    "y_test = np_utils.to_categorical(y_test, len(LABELS))\n",
    "y_test.shape"
   ]
  },
  {
   "cell_type": "code",
   "execution_count": 186,
   "id": "e221a205",
   "metadata": {},
   "outputs": [
    {
     "name": "stdout",
     "output_type": "stream",
     "text": [
      "25/25 [==============================] - 1s 12ms/step - loss: 0.0843 - accuracy: 0.9787\n",
      "\n",
      "Accuracy on test data: 0.98\n",
      "\n",
      "Loss on test data: 0.08\n"
     ]
    }
   ],
   "source": [
    "score = model_m.evaluate(x_test, y_test, verbose=1)\n",
    "\n",
    "print(\"\\nAccuracy on test data: %0.2f\" % score[1])\n",
    "print(\"\\nLoss on test data: %0.2f\" % score[0])"
   ]
  },
  {
   "cell_type": "code",
   "execution_count": 21,
   "id": "e4bb077d",
   "metadata": {},
   "outputs": [],
   "source": [
    "def show_confusion_matrix(validations, predictions):\n",
    "\n",
    "    matrix = metrics.confusion_matrix(validations, predictions)\n",
    "    plt.figure(figsize=(6, 4))\n",
    "    sns.heatmap(matrix,\n",
    "                cmap=\"coolwarm\",\n",
    "                linecolor='white',\n",
    "                linewidths=1,\n",
    "                xticklabels=LABELS,\n",
    "                yticklabels=LABELS,\n",
    "                annot=True,\n",
    "                fmt=\"d\")\n",
    "    plt.title(\"Confusion Matrix\")\n",
    "    plt.ylabel(\"True Label\")\n",
    "    plt.xlabel(\"Predicted Label\")\n",
    "    plt.show()"
   ]
  },
  {
   "cell_type": "code",
   "execution_count": 188,
   "id": "8b9d6ce5",
   "metadata": {},
   "outputs": [
    {
     "data": {
      "image/png": "[encoded data removed]",
      "text/plain": [
       "<Figure size 432x288 with 2 Axes>"
      ]
     },
     "metadata": {
      "needs_background": "light"
     },
     "output_type": "display_data"
    },
    {
     "name": "stdout",
     "output_type": "stream",
     "text": [
      "\n",
      "--- Classification report for test data ---\n",
      "\n",
      "              precision    recall  f1-score   support\n",
      "\n",
      "           0       1.00      0.93      0.96       167\n",
      "           1       1.00      0.99      0.99       209\n",
      "           2       0.94      1.00      0.97       255\n",
      "           3       0.99      0.99      0.99       169\n",
      "\n",
      "    accuracy                           0.98       800\n",
      "   macro avg       0.98      0.98      0.98       800\n",
      "weighted avg       0.98      0.98      0.98       800\n",
      "\n"
     ]
    }
   ],
   "source": [
    "y_pred_test = model_m.predict(x_test)\n",
    "# Take the class with the highest probability from the test predictions\n",
    "max_y_pred_test = np.argmax(y_pred_test, axis=1)\n",
    "max_y_test = np.argmax(y_test, axis=1)\n",
    "\n",
    "show_confusion_matrix(max_y_test, max_y_pred_test)\n",
    "\n",
    "print(\"\\n--- Classification report for test data ---\\n\")\n",
    "\n",
    "print(classification_report(max_y_test, max_y_pred_test))"
   ]
  },
  {
   "cell_type": "code",
   "execution_count": 189,
   "id": "8c111944",
   "metadata": {},
   "outputs": [],
   "source": [
    "model_m.save('best_model_cnn.h5')"
   ]
  },
  {
   "cell_type": "code",
   "execution_count": 190,
   "id": "bd84906a",
   "metadata": {},
   "outputs": [
    {
     "name": "stdout",
     "output_type": "stream",
     "text": [
      "[0.04569659011830065, -0.04667049408489638, 0.8193719554627664, 0.04278531663187139, 0.8072567849686795, -0.6344224077940189]\n",
      "[0.39364945576561455, 0.7887451362981683, 0.8280885411621361, 87.75105207254057, 59.09748109827988, 51.21752423835156]\n"
     ]
    }
   ],
   "source": [
    "print(mu)\n",
    "print(sigma)"
   ]
  },
  {
   "cell_type": "markdown",
   "id": "c7464269",
   "metadata": {},
   "source": [
    "### LSTM Model"
   ]
  },
  {
   "cell_type": "code",
   "execution_count": 40,
   "id": "96b75034",
   "metadata": {},
   "outputs": [
    {
     "name": "stdout",
     "output_type": "stream",
     "text": [
      "Model: \"sequential_4\"\n",
      "_________________________________________________________________\n",
      " Layer (type)                Output Shape              Param #   \n",
      "=================================================================\n",
      " lstm_3 (LSTM)               (None, 250)               257000    \n",
      "                                                                 \n",
      " dropout_4 (Dropout)         (None, 250)               0         \n",
      "                                                                 \n",
      " dense_7 (Dense)             (None, 200)               50200     \n",
      "                                                                 \n",
      " dense_8 (Dense)             (None, 5)                 1005      \n",
      "                                                                 \n",
      "=================================================================\n",
      "Total params: 308,205\n",
      "Trainable params: 308,205\n",
      "Non-trainable params: 0\n",
      "_________________________________________________________________\n",
      "None\n"
     ]
    }
   ],
   "source": [
    "model_lstm = Sequential()\n",
    "model_lstm.add(LSTM(250, input_shape=(TIME_PERIODS,no_of_features)))\n",
    "model_lstm.add(Dropout(0.3))\n",
    "model_lstm.add(Dense(200, activation='relu'))\n",
    "model_lstm.add(Dense(len(LABELS), activation='softmax'))\n",
    "print(model_lstm.summary())"
   ]
  },
  {
   "cell_type": "code",
   "execution_count": 41,
   "id": "599d0234",
   "metadata": {},
   "outputs": [
    {
     "data": {
      "text/plain": [
       "(2476, 60, 6)"
      ]
     },
     "execution_count": 41,
     "metadata": {},
     "output_type": "execute_result"
    }
   ],
   "source": [
    "x_train = x_train.reshape(x_train.shape[0], TIME_PERIODS, no_of_features)\n",
    "x_train.shape"
   ]
  },
  {
   "cell_type": "code",
   "execution_count": 42,
   "id": "7da4c090",
   "metadata": {
    "scrolled": true
   },
   "outputs": [
    {
     "name": "stdout",
     "output_type": "stream",
     "text": [
      "Epoch 1/50\n",
      "13/13 [==============================] - 4s 133ms/step - loss: 1.4416 - accuracy: 0.3538\n",
      "Epoch 2/50\n",
      "13/13 [==============================] - 2s 134ms/step - loss: 0.9374 - accuracy: 0.6224\n",
      "Epoch 3/50\n",
      "13/13 [==============================] - 2s 132ms/step - loss: 0.7363 - accuracy: 0.6939\n",
      "Epoch 4/50\n",
      "13/13 [==============================] - 2s 133ms/step - loss: 0.5769 - accuracy: 0.7423\n",
      "Epoch 5/50\n",
      "13/13 [==============================] - 2s 133ms/step - loss: 0.5512 - accuracy: 0.7649\n",
      "Epoch 6/50\n",
      "13/13 [==============================] - 2s 133ms/step - loss: 0.4326 - accuracy: 0.8017\n",
      "Epoch 7/50\n",
      "13/13 [==============================] - 2s 133ms/step - loss: 0.4040 - accuracy: 0.8174\n",
      "Epoch 8/50\n",
      "13/13 [==============================] - 2s 134ms/step - loss: 0.3766 - accuracy: 0.8251\n",
      "Epoch 9/50\n",
      "13/13 [==============================] - 2s 132ms/step - loss: 0.3719 - accuracy: 0.8304\n",
      "Epoch 10/50\n",
      "13/13 [==============================] - 2s 133ms/step - loss: 0.3584 - accuracy: 0.8340\n",
      "Epoch 11/50\n",
      "13/13 [==============================] - 2s 133ms/step - loss: 0.3491 - accuracy: 0.8449\n",
      "Epoch 12/50\n",
      "13/13 [==============================] - 2s 133ms/step - loss: 0.3259 - accuracy: 0.8554\n",
      "Epoch 13/50\n",
      "13/13 [==============================] - 2s 133ms/step - loss: 0.2983 - accuracy: 0.8679\n",
      "Epoch 14/50\n",
      "13/13 [==============================] - 2s 131ms/step - loss: 0.2871 - accuracy: 0.8736\n",
      "Epoch 15/50\n",
      "13/13 [==============================] - 2s 132ms/step - loss: 0.2672 - accuracy: 0.8845\n",
      "Epoch 16/50\n",
      "13/13 [==============================] - 2s 133ms/step - loss: 0.2715 - accuracy: 0.8809\n",
      "Epoch 17/50\n",
      "13/13 [==============================] - 2s 132ms/step - loss: 0.2602 - accuracy: 0.8857\n",
      "Epoch 18/50\n",
      "13/13 [==============================] - 2s 136ms/step - loss: 0.2554 - accuracy: 0.8897\n",
      "Epoch 19/50\n",
      "13/13 [==============================] - 2s 134ms/step - loss: 0.2383 - accuracy: 0.8978\n",
      "Epoch 20/50\n",
      "13/13 [==============================] - 2s 134ms/step - loss: 0.2147 - accuracy: 0.9095\n",
      "Epoch 21/50\n",
      "13/13 [==============================] - 2s 133ms/step - loss: 0.1896 - accuracy: 0.9160\n",
      "Epoch 22/50\n",
      "13/13 [==============================] - 2s 133ms/step - loss: 0.2022 - accuracy: 0.9192\n",
      "Epoch 23/50\n",
      "13/13 [==============================] - 2s 133ms/step - loss: 0.1966 - accuracy: 0.9204\n",
      "Epoch 24/50\n",
      "13/13 [==============================] - 2s 133ms/step - loss: 0.1838 - accuracy: 0.9184\n",
      "Epoch 25/50\n",
      "13/13 [==============================] - 2s 133ms/step - loss: 0.1762 - accuracy: 0.9192\n",
      "Epoch 26/50\n",
      "13/13 [==============================] - 2s 134ms/step - loss: 0.1619 - accuracy: 0.9317\n",
      "Epoch 27/50\n",
      "13/13 [==============================] - 2s 133ms/step - loss: 0.1727 - accuracy: 0.9326\n",
      "Epoch 28/50\n",
      "13/13 [==============================] - 2s 135ms/step - loss: 0.1573 - accuracy: 0.9358\n",
      "Epoch 29/50\n",
      "13/13 [==============================] - 2s 133ms/step - loss: 0.1581 - accuracy: 0.9334\n",
      "Epoch 30/50\n",
      "13/13 [==============================] - 2s 133ms/step - loss: 0.1542 - accuracy: 0.9358\n",
      "Epoch 31/50\n",
      "13/13 [==============================] - 2s 134ms/step - loss: 0.1707 - accuracy: 0.9253\n",
      "Epoch 32/50\n",
      "13/13 [==============================] - 2s 133ms/step - loss: 0.1411 - accuracy: 0.9374\n",
      "Epoch 33/50\n",
      "13/13 [==============================] - 2s 133ms/step - loss: 0.1395 - accuracy: 0.9443\n",
      "Epoch 34/50\n",
      "13/13 [==============================] - 2s 134ms/step - loss: 0.1564 - accuracy: 0.9386\n",
      "Epoch 35/50\n",
      "13/13 [==============================] - 2s 135ms/step - loss: 0.1732 - accuracy: 0.9285\n",
      "Epoch 36/50\n",
      "13/13 [==============================] - 2s 134ms/step - loss: 0.1576 - accuracy: 0.9334\n"
     ]
    }
   ],
   "source": [
    "callbacks_list = [\n",
    "    keras.callbacks.EarlyStopping(monitor='loss', patience=3)\n",
    "]\n",
    "\n",
    "# opt = optimizers.RMSprop(learning_rate=0.001, momentum=0.9)\n",
    "\n",
    "model_lstm.compile(loss='categorical_crossentropy', optimizer='adam', metrics=['accuracy'])\n",
    "\n",
    "BATCH_SIZE = 200\n",
    "EPOCHS = 50\n",
    "\n",
    "history = model_lstm.fit(x_train,\n",
    "                      y_train,\n",
    "                      batch_size=BATCH_SIZE,\n",
    "                      epochs=EPOCHS,\n",
    "                      callbacks=callbacks_list,\n",
    "                      verbose=1)"
   ]
  },
  {
   "cell_type": "code",
   "execution_count": 43,
   "id": "03c133b2",
   "metadata": {},
   "outputs": [
    {
     "data": {
      "image/png": "[encoded data removed]",
      "text/plain": [
       "<Figure size 432x288 with 1 Axes>"
      ]
     },
     "metadata": {
      "needs_background": "light"
     },
     "output_type": "display_data"
    }
   ],
   "source": [
    "# summarize history for accuracy and loss\n",
    "plt.figure(figsize=(6, 4))\n",
    "plt.plot(history.history['accuracy'], \"g--\", label=\"Accuracy of training data\")\n",
    "# plt.plot(history.history['val_accuracy'], \"g\", label=\"Accuracy of validation data\")\n",
    "plt.plot(history.history['loss'], \"r--\", label=\"Loss of training data\")\n",
    "# plt.plot(history.history['val_loss'], \"r\", label=\"Loss of validation data\")\n",
    "plt.title('Model Accuracy and Loss')\n",
    "plt.ylabel('Accuracy and Loss')\n",
    "plt.xlabel('Training Epoch')\n",
    "plt.ylim(0)\n",
    "plt.legend()\n",
    "plt.show()"
   ]
  },
  {
   "cell_type": "code",
   "execution_count": 44,
   "id": "d3bca8ed",
   "metadata": {},
   "outputs": [
    {
     "data": {
      "text/plain": [
       "(984, 60, 6)"
      ]
     },
     "execution_count": 44,
     "metadata": {},
     "output_type": "execute_result"
    }
   ],
   "source": [
    "x_test = x_test.reshape(x_test.shape[0], TIME_PERIODS, no_of_features)\n",
    "x_test.shape"
   ]
  },
  {
   "cell_type": "code",
   "execution_count": 45,
   "id": "dd51cfae",
   "metadata": {},
   "outputs": [
    {
     "name": "stdout",
     "output_type": "stream",
     "text": [
      "31/31 [==============================] - 1s 21ms/step - loss: 0.5878 - accuracy: 0.7967\n",
      "\n",
      "Accuracy on test data: 0.80\n",
      "\n",
      "Loss on test data: 0.59\n"
     ]
    }
   ],
   "source": [
    "score = model_lstm.evaluate(x_test, y_test, verbose=1)\n",
    "\n",
    "print(\"\\nAccuracy on test data: %0.2f\" % score[1])\n",
    "print(\"\\nLoss on test data: %0.2f\" % score[0])"
   ]
  },
  {
   "cell_type": "code",
   "execution_count": 46,
   "id": "11f27a2e",
   "metadata": {},
   "outputs": [
    {
     "data": {
      "image/png": "[encoded data removed]",
      "text/plain": [
       "<Figure size 432x288 with 2 Axes>"
      ]
     },
     "metadata": {
      "needs_background": "light"
     },
     "output_type": "display_data"
    },
    {
     "name": "stdout",
     "output_type": "stream",
     "text": [
      "\n",
      "--- Classification report for test data ---\n",
      "\n",
      "              precision    recall  f1-score   support\n",
      "\n",
      "           0       0.60      0.90      0.72       177\n",
      "           1       0.95      1.00      0.97       159\n",
      "           2       0.81      0.90      0.86       208\n",
      "           3       0.87      0.80      0.84       269\n",
      "           4       0.88      0.36      0.51       171\n",
      "\n",
      "    accuracy                           0.80       984\n",
      "   macro avg       0.82      0.79      0.78       984\n",
      "weighted avg       0.82      0.80      0.78       984\n",
      "\n"
     ]
    }
   ],
   "source": [
    "y_pred_test = model_lstm.predict(x_test)\n",
    "# Take the class with the highest probability from the test predictions\n",
    "max_y_pred_test = np.argmax(y_pred_test, axis=1)\n",
    "max_y_test = np.argmax(y_test, axis=1)\n",
    "\n",
    "show_confusion_matrix(max_y_test, max_y_pred_test)\n",
    "\n",
    "print(\"\\n--- Classification report for test data ---\\n\")\n",
    "\n",
    "print(classification_report(max_y_test, max_y_pred_test))"
   ]
  },
  {
   "cell_type": "code",
   "execution_count": 47,
   "id": "ce1d55ae",
   "metadata": {},
   "outputs": [],
   "source": [
    "model_lstm.save('best_model_lstm.h5')"
   ]
  },
  {
   "cell_type": "markdown",
   "id": "080892e0",
   "metadata": {},
   "source": [
    "### 1D CNN + LSTM Model"
   ]
  },
  {
   "cell_type": "code",
   "execution_count": 94,
   "id": "cd822796",
   "metadata": {},
   "outputs": [
    {
     "name": "stdout",
     "output_type": "stream",
     "text": [
      "Model: \"sequential_7\"\n",
      "_________________________________________________________________\n",
      " Layer (type)                Output Shape              Param #   \n",
      "=================================================================\n",
      " conv1d_15 (Conv1D)          (None, 58, 100)           1900      \n",
      "                                                                 \n",
      " max_pooling1d_10 (MaxPoolin  (None, 19, 100)          0         \n",
      " g1D)                                                            \n",
      "                                                                 \n",
      " lstm_5 (LSTM)               (None, 19, 250)           351000    \n",
      "                                                                 \n",
      " conv1d_16 (Conv1D)          (None, 17, 100)           75100     \n",
      "                                                                 \n",
      " max_pooling1d_11 (MaxPoolin  (None, 5, 100)           0         \n",
      " g1D)                                                            \n",
      "                                                                 \n",
      " conv1d_17 (Conv1D)          (None, 3, 80)             24080     \n",
      "                                                                 \n",
      " global_average_pooling1d_5   (None, 80)               0         \n",
      " (GlobalAveragePooling1D)                                        \n",
      "                                                                 \n",
      " dropout_7 (Dropout)         (None, 80)                0         \n",
      "                                                                 \n",
      " dense_12 (Dense)            (None, 100)               8100      \n",
      "                                                                 \n",
      " dense_13 (Dense)            (None, 5)                 505       \n",
      "                                                                 \n",
      "=================================================================\n",
      "Total params: 460,685\n",
      "Trainable params: 460,685\n",
      "Non-trainable params: 0\n",
      "_________________________________________________________________\n",
      "None\n"
     ]
    }
   ],
   "source": [
    "model_lsnet = Sequential()\n",
    "model_lsnet.add(Conv1D(100, 3, activation='relu', input_shape=(TIME_PERIODS,no_of_features)))\n",
    "model_lsnet.add(MaxPooling1D(3))\n",
    "model_lsnet.add(LSTM(250, return_sequences=True))\n",
    "model_lsnet.add(Conv1D(100, 3, activation='relu'))\n",
    "model_lsnet.add(MaxPooling1D(3))\n",
    "model_lsnet.add(Conv1D(80, 3, activation='relu'))\n",
    "model_lsnet.add(GlobalAveragePooling1D())\n",
    "model_lsnet.add(Dropout(0.4))\n",
    "model_lsnet.add(Dense(100, activation='relu'))\n",
    "model_lsnet.add(Dense(len(LABELS), activation='softmax'))\n",
    "print(model_lsnet.summary())"
   ]
  },
  {
   "cell_type": "code",
   "execution_count": 95,
   "id": "d6d31add",
   "metadata": {},
   "outputs": [
    {
     "data": {
      "text/plain": [
       "(2476, 60, 6)"
      ]
     },
     "execution_count": 95,
     "metadata": {},
     "output_type": "execute_result"
    }
   ],
   "source": [
    "x_train = x_train.reshape(x_train.shape[0], TIME_PERIODS, no_of_features)\n",
    "x_train.shape"
   ]
  },
  {
   "cell_type": "code",
   "execution_count": 96,
   "id": "d5c82411",
   "metadata": {
    "scrolled": true
   },
   "outputs": [
    {
     "name": "stdout",
     "output_type": "stream",
     "text": [
      "Epoch 1/100\n",
      "13/13 [==============================] - 3s 90ms/step - loss: 1.3615 - accuracy: 0.3788\n",
      "Epoch 2/100\n",
      "13/13 [==============================] - 1s 88ms/step - loss: 0.7693 - accuracy: 0.6494\n",
      "Epoch 3/100\n",
      "13/13 [==============================] - 1s 88ms/step - loss: 0.5081 - accuracy: 0.7658\n",
      "Epoch 4/100\n",
      "13/13 [==============================] - 1s 87ms/step - loss: 0.3825 - accuracy: 0.8102\n",
      "Epoch 5/100\n",
      "13/13 [==============================] - 1s 88ms/step - loss: 0.2778 - accuracy: 0.8772\n",
      "Epoch 6/100\n",
      "13/13 [==============================] - 1s 88ms/step - loss: 0.2331 - accuracy: 0.9011\n",
      "Epoch 7/100\n",
      "13/13 [==============================] - 1s 89ms/step - loss: 0.2136 - accuracy: 0.9095\n",
      "Epoch 8/100\n",
      "13/13 [==============================] - 1s 88ms/step - loss: 0.2272 - accuracy: 0.9200\n",
      "Epoch 9/100\n",
      "13/13 [==============================] - 1s 87ms/step - loss: 0.1756 - accuracy: 0.9321\n",
      "Epoch 10/100\n",
      "13/13 [==============================] - 1s 88ms/step - loss: 0.1555 - accuracy: 0.9410\n",
      "Epoch 11/100\n",
      "13/13 [==============================] - 1s 88ms/step - loss: 0.1351 - accuracy: 0.9406\n",
      "Epoch 12/100\n",
      "13/13 [==============================] - 1s 88ms/step - loss: 0.1148 - accuracy: 0.9523\n",
      "Epoch 13/100\n",
      "13/13 [==============================] - 1s 87ms/step - loss: 0.1161 - accuracy: 0.9600\n",
      "Epoch 14/100\n",
      "13/13 [==============================] - 1s 88ms/step - loss: 0.1168 - accuracy: 0.9552\n",
      "Epoch 15/100\n",
      "13/13 [==============================] - 1s 88ms/step - loss: 0.0913 - accuracy: 0.9661\n",
      "Epoch 16/100\n",
      "13/13 [==============================] - 1s 88ms/step - loss: 0.0712 - accuracy: 0.9746\n",
      "Epoch 17/100\n",
      "13/13 [==============================] - 1s 89ms/step - loss: 0.0627 - accuracy: 0.9770\n",
      "Epoch 18/100\n",
      "13/13 [==============================] - 1s 90ms/step - loss: 0.0737 - accuracy: 0.9750\n",
      "Epoch 19/100\n",
      "13/13 [==============================] - 1s 91ms/step - loss: 0.1016 - accuracy: 0.9649\n",
      "Epoch 20/100\n",
      "13/13 [==============================] - 1s 88ms/step - loss: 0.0791 - accuracy: 0.9709\n"
     ]
    }
   ],
   "source": [
    "callbacks_list = [\n",
    "    keras.callbacks.EarlyStopping(monitor='loss', patience=3)\n",
    "]\n",
    "\n",
    "opt = optimizers.RMSprop(learning_rate=0.001, momentum=0.9)\n",
    "\n",
    "model_lsnet.compile(loss='categorical_crossentropy', optimizer=opt, metrics=['accuracy'])\n",
    "\n",
    "BATCH_SIZE = 200\n",
    "EPOCHS = 100\n",
    "\n",
    "history = model_lsnet.fit(x_train,\n",
    "                      y_train,\n",
    "                      batch_size=BATCH_SIZE,\n",
    "                      epochs=EPOCHS,\n",
    "                      callbacks=callbacks_list,\n",
    "                      verbose=1)"
   ]
  },
  {
   "cell_type": "code",
   "execution_count": 97,
   "id": "79495a5e",
   "metadata": {},
   "outputs": [
    {
     "data": {
      "image/png": "[encoded data removed]",
      "text/plain": [
       "<Figure size 432x288 with 1 Axes>"
      ]
     },
     "metadata": {
      "needs_background": "light"
     },
     "output_type": "display_data"
    }
   ],
   "source": [
    "# summarize history for accuracy and loss\n",
    "plt.figure(figsize=(6, 4))\n",
    "plt.plot(history.history['accuracy'], \"g--\", label=\"Accuracy of training data\")\n",
    "# plt.plot(history.history['val_accuracy'], \"g\", label=\"Accuracy of validation data\")\n",
    "plt.plot(history.history['loss'], \"r--\", label=\"Loss of training data\")\n",
    "# plt.plot(history.history['val_loss'], \"r\", label=\"Loss of validation data\")\n",
    "plt.title('Model Accuracy and Loss')\n",
    "plt.ylabel('Accuracy and Loss')\n",
    "plt.xlabel('Training Epoch')\n",
    "plt.ylim(0)\n",
    "plt.legend()\n",
    "plt.show()"
   ]
  },
  {
   "cell_type": "code",
   "execution_count": 98,
   "id": "fbd9fc0f",
   "metadata": {},
   "outputs": [
    {
     "data": {
      "text/plain": [
       "(984, 60, 6)"
      ]
     },
     "execution_count": 98,
     "metadata": {},
     "output_type": "execute_result"
    }
   ],
   "source": [
    "x_test = x_test.reshape(x_test.shape[0], TIME_PERIODS, no_of_features)\n",
    "x_test.shape"
   ]
  },
  {
   "cell_type": "code",
   "execution_count": 99,
   "id": "e2537d84",
   "metadata": {},
   "outputs": [
    {
     "name": "stdout",
     "output_type": "stream",
     "text": [
      "31/31 [==============================] - 1s 15ms/step - loss: 0.5862 - accuracy: 0.9085\n",
      "\n",
      "Accuracy on test data: 0.91\n",
      "\n",
      "Loss on test data: 0.59\n"
     ]
    }
   ],
   "source": [
    "score = model_lsnet.evaluate(x_test, y_test, verbose=1)\n",
    "\n",
    "print(\"\\nAccuracy on test data: %0.2f\" % score[1])\n",
    "print(\"\\nLoss on test data: %0.2f\" % score[0])"
   ]
  },
  {
   "cell_type": "code",
   "execution_count": 100,
   "id": "8127c99e",
   "metadata": {},
   "outputs": [
    {
     "data": {
      "image/png": "[encoded data removed]",
      "text/plain": [
       "<Figure size 432x288 with 2 Axes>"
      ]
     },
     "metadata": {
      "needs_background": "light"
     },
     "output_type": "display_data"
    },
    {
     "name": "stdout",
     "output_type": "stream",
     "text": [
      "\n",
      "--- Classification report for test data ---\n",
      "\n",
      "              precision    recall  f1-score   support\n",
      "\n",
      "           0       0.90      0.97      0.93       177\n",
      "           1       0.89      1.00      0.94       159\n",
      "           2       0.86      0.95      0.90       208\n",
      "           3       0.94      0.82      0.88       269\n",
      "           4       0.97      0.85      0.91       171\n",
      "\n",
      "    accuracy                           0.91       984\n",
      "   macro avg       0.91      0.92      0.91       984\n",
      "weighted avg       0.91      0.91      0.91       984\n",
      "\n"
     ]
    }
   ],
   "source": [
    "y_pred_test = model_lsnet.predict(x_test)\n",
    "# Take the class with the highest probability from the test predictions\n",
    "max_y_pred_test = np.argmax(y_pred_test, axis=1)\n",
    "max_y_test = np.argmax(y_test, axis=1)\n",
    "\n",
    "show_confusion_matrix(max_y_test, max_y_pred_test)\n",
    "\n",
    "print(\"\\n--- Classification report for test data ---\\n\")\n",
    "\n",
    "print(classification_report(max_y_test, max_y_pred_test))"
   ]
  },
  {
   "cell_type": "code",
   "execution_count": 101,
   "id": "0ef8b2e5",
   "metadata": {},
   "outputs": [],
   "source": [
    "model_lsnet.save('best_model_lsnet.h5')"
   ]
  },
  {
   "cell_type": "markdown",
   "id": "e97358b0",
   "metadata": {},
   "source": [
    "### Transfer Learning with LSNET model trained from Sisfall data"
   ]
  },
  {
   "cell_type": "code",
   "execution_count": 14,
   "id": "73615258",
   "metadata": {},
   "outputs": [
    {
     "name": "stdout",
     "output_type": "stream",
     "text": [
      "<keras.layers.core.reshape.Reshape object at 0x000001C1D3172A60>\n",
      "<keras.layers.convolutional.Conv1D object at 0x000001C1D31729A0>\n",
      "<keras.layers.pooling.MaxPooling1D object at 0x000001C1D426EBB0>\n",
      "<keras.layers.convolutional.Conv1D object at 0x000001C1D428A220>\n",
      "<keras.layers.pooling.MaxPooling1D object at 0x000001C1D428AD30>\n",
      "<keras.layers.convolutional.Conv1D object at 0x000001C1D42916D0>\n",
      "<keras.layers.pooling.GlobalAveragePooling1D object at 0x000001C1D4296370>\n"
     ]
    }
   ],
   "source": [
    "from tensorflow.keras import Model \n",
    "model_pretrained = keras.models.load_model('best_model_cnn_online_data.h5')\n",
    "model_pretrained.layers\n",
    "\n",
    "for layer in model_pretrained.layers[:-2]:\n",
    "    print(layer)\n",
    "    layer.trainable = False"
   ]
  },
  {
   "cell_type": "code",
   "execution_count": 15,
   "id": "70564fb1",
   "metadata": {},
   "outputs": [
    {
     "name": "stdout",
     "output_type": "stream",
     "text": [
      "Model: \"model\"\n",
      "_________________________________________________________________\n",
      " Layer (type)                Output Shape              Param #   \n",
      "=================================================================\n",
      " reshape_input (InputLayer)  [(None, 360)]             0         \n",
      "                                                                 \n",
      " reshape (Reshape)           (None, 60, 6)             0         \n",
      "                                                                 \n",
      " conv1d (Conv1D)             (None, 58, 100)           1900      \n",
      "                                                                 \n",
      " max_pooling1d (MaxPooling1D  (None, 19, 100)          0         \n",
      " )                                                               \n",
      "                                                                 \n",
      " conv1d_1 (Conv1D)           (None, 17, 120)           36120     \n",
      "                                                                 \n",
      " max_pooling1d_1 (MaxPooling  (None, 5, 120)           0         \n",
      " 1D)                                                             \n",
      "                                                                 \n",
      " conv1d_2 (Conv1D)           (None, 3, 80)             28880     \n",
      "                                                                 \n",
      " global_average_pooling1d (G  (None, 80)               0         \n",
      " lobalAveragePooling1D)                                          \n",
      "                                                                 \n",
      " dense_1 (Dense)             (None, 512)               41472     \n",
      "                                                                 \n",
      " dropout_1 (Dropout)         (None, 512)               0         \n",
      "                                                                 \n",
      " dense_2 (Dense)             (None, 512)               262656    \n",
      "                                                                 \n",
      " dropout_2 (Dropout)         (None, 512)               0         \n",
      "                                                                 \n",
      " dense_3 (Dense)             (None, 4)                 2052      \n",
      "                                                                 \n",
      "=================================================================\n",
      "Total params: 373,080\n",
      "Trainable params: 306,180\n",
      "Non-trainable params: 66,900\n",
      "_________________________________________________________________\n"
     ]
    }
   ],
   "source": [
    "x = model_pretrained.layers[6].output\n",
    "# x = GlobalAveragePooling1D()(x)\n",
    "# x = Dropout(0.3)(x)\n",
    "x = Dense(units=512, activation='relu')(x)\n",
    "x = Dropout(0.3)(x)\n",
    "x = Dense(units=512, activation='relu')(x)\n",
    "x = Dropout(0.3)(x)\n",
    "output  = Dense(len(LABELS), activation='softmax')(x)\n",
    "model_tr = Model(model_pretrained.input, output)\n",
    "\n",
    "model_tr.summary()"
   ]
  },
  {
   "cell_type": "code",
   "execution_count": 16,
   "id": "87edf253",
   "metadata": {},
   "outputs": [
    {
     "data": {
      "text/plain": [
       "(1912, 360)"
      ]
     },
     "execution_count": 16,
     "metadata": {},
     "output_type": "execute_result"
    }
   ],
   "source": [
    "x_train = x_train.reshape(x_train.shape[0], TIME_PERIODS * no_of_features)\n",
    "x_train.shape"
   ]
  },
  {
   "cell_type": "code",
   "execution_count": 17,
   "id": "881a5d68",
   "metadata": {
    "scrolled": true
   },
   "outputs": [
    {
     "name": "stdout",
     "output_type": "stream",
     "text": [
      "Epoch 1/100\n",
      "10/10 [==============================] - 4s 45ms/step - loss: 0.9585 - accuracy: 0.6642\n",
      "Epoch 2/100\n",
      "10/10 [==============================] - 0s 19ms/step - loss: 0.4396 - accuracy: 0.9085\n",
      "Epoch 3/100\n",
      "10/10 [==============================] - 0s 21ms/step - loss: 0.2357 - accuracy: 0.9425\n",
      "Epoch 4/100\n",
      "10/10 [==============================] - 0s 19ms/step - loss: 0.1600 - accuracy: 0.9529\n",
      "Epoch 5/100\n",
      "10/10 [==============================] - 0s 19ms/step - loss: 0.1323 - accuracy: 0.9608\n",
      "Epoch 6/100\n",
      "10/10 [==============================] - 0s 20ms/step - loss: 0.1093 - accuracy: 0.9676\n",
      "Epoch 7/100\n",
      "10/10 [==============================] - 0s 18ms/step - loss: 0.0979 - accuracy: 0.9712\n",
      "Epoch 8/100\n",
      "10/10 [==============================] - 0s 18ms/step - loss: 0.0924 - accuracy: 0.9712\n",
      "Epoch 9/100\n",
      "10/10 [==============================] - 0s 19ms/step - loss: 0.0880 - accuracy: 0.9744\n",
      "Epoch 10/100\n",
      "10/10 [==============================] - 0s 18ms/step - loss: 0.0756 - accuracy: 0.9770\n",
      "Epoch 11/100\n",
      "10/10 [==============================] - 0s 18ms/step - loss: 0.0664 - accuracy: 0.9817\n",
      "Epoch 12/100\n",
      "10/10 [==============================] - 0s 18ms/step - loss: 0.0650 - accuracy: 0.9817\n",
      "Epoch 13/100\n",
      "10/10 [==============================] - 0s 18ms/step - loss: 0.0611 - accuracy: 0.9838\n",
      "Epoch 14/100\n",
      "10/10 [==============================] - 0s 18ms/step - loss: 0.0620 - accuracy: 0.9822\n",
      "Epoch 15/100\n",
      "10/10 [==============================] - 0s 18ms/step - loss: 0.0595 - accuracy: 0.9801\n",
      "Epoch 16/100\n",
      "10/10 [==============================] - 0s 18ms/step - loss: 0.0536 - accuracy: 0.9838\n",
      "Epoch 17/100\n",
      "10/10 [==============================] - 0s 18ms/step - loss: 0.0496 - accuracy: 0.9869\n",
      "Epoch 18/100\n",
      "10/10 [==============================] - 0s 20ms/step - loss: 0.0519 - accuracy: 0.9848\n",
      "Epoch 19/100\n",
      "10/10 [==============================] - 0s 22ms/step - loss: 0.0414 - accuracy: 0.9895\n",
      "Epoch 20/100\n",
      "10/10 [==============================] - 0s 22ms/step - loss: 0.0419 - accuracy: 0.9880\n",
      "Epoch 21/100\n",
      "10/10 [==============================] - 0s 20ms/step - loss: 0.0378 - accuracy: 0.9869\n",
      "Epoch 22/100\n",
      "10/10 [==============================] - 0s 20ms/step - loss: 0.0369 - accuracy: 0.9906\n",
      "Epoch 23/100\n",
      "10/10 [==============================] - 0s 25ms/step - loss: 0.0404 - accuracy: 0.9890\n",
      "Epoch 24/100\n",
      "10/10 [==============================] - 0s 18ms/step - loss: 0.0323 - accuracy: 0.9901\n",
      "Epoch 25/100\n",
      "10/10 [==============================] - 0s 18ms/step - loss: 0.0380 - accuracy: 0.9885\n",
      "Epoch 26/100\n",
      "10/10 [==============================] - 0s 19ms/step - loss: 0.0367 - accuracy: 0.9885\n",
      "Epoch 27/100\n",
      "10/10 [==============================] - 0s 18ms/step - loss: 0.0311 - accuracy: 0.9901\n",
      "Epoch 28/100\n",
      "10/10 [==============================] - 0s 18ms/step - loss: 0.0296 - accuracy: 0.9916\n",
      "Epoch 29/100\n",
      "10/10 [==============================] - 0s 19ms/step - loss: 0.0336 - accuracy: 0.9906\n",
      "Epoch 30/100\n",
      "10/10 [==============================] - 0s 18ms/step - loss: 0.0411 - accuracy: 0.9874\n",
      "Epoch 31/100\n",
      "10/10 [==============================] - 0s 18ms/step - loss: 0.0384 - accuracy: 0.9874\n"
     ]
    }
   ],
   "source": [
    "callbacks_list = [\n",
    "    keras.callbacks.EarlyStopping(monitor='loss', patience=3)\n",
    "]\n",
    "\n",
    "opt = optimizers.SGD(learning_rate=0.01, momentum = 0.9)\n",
    "\n",
    "model_tr.compile(loss='categorical_crossentropy', optimizer='adam', metrics=['accuracy'])\n",
    "\n",
    "BATCH_SIZE = 200\n",
    "EPOCHS = 100\n",
    "\n",
    "history = model_tr.fit(x_train,\n",
    "                      y_train,\n",
    "                      batch_size=BATCH_SIZE,\n",
    "                      epochs=EPOCHS,\n",
    "                      callbacks=callbacks_list,\n",
    "                      verbose=1)"
   ]
  },
  {
   "cell_type": "code",
   "execution_count": 18,
   "id": "433575e4",
   "metadata": {},
   "outputs": [
    {
     "data": {
      "image/png": "[encoded data removed]",
      "text/plain": [
       "<Figure size 432x288 with 1 Axes>"
      ]
     },
     "metadata": {
      "needs_background": "light"
     },
     "output_type": "display_data"
    }
   ],
   "source": [
    "# summarize history for accuracy and loss\n",
    "plt.figure(figsize=(6, 4))\n",
    "plt.plot(history.history['accuracy'], \"g--\", label=\"Accuracy of training data\")\n",
    "# plt.plot(history.history['val_accuracy'], \"g\", label=\"Accuracy of validation data\")\n",
    "plt.plot(history.history['loss'], \"r--\", label=\"Loss of training data\")\n",
    "# plt.plot(history.history['val_loss'], \"r\", label=\"Loss of validation data\")\n",
    "plt.title('Model Accuracy and Loss')\n",
    "plt.ylabel('Accuracy and Loss')\n",
    "plt.xlabel('Training Epoch')\n",
    "plt.ylim(0)\n",
    "plt.legend()\n",
    "plt.show()"
   ]
  },
  {
   "cell_type": "code",
   "execution_count": 19,
   "id": "be1d173b",
   "metadata": {},
   "outputs": [
    {
     "ename": "NameError",
     "evalue": "name 'x_test' is not defined",
     "output_type": "error",
     "traceback": [
      "\u001b[1;31m---------------------------------------------------------------------------\u001b[0m",
      "\u001b[1;31mNameError\u001b[0m                                 Traceback (most recent call last)",
      "\u001b[1;32m<ipython-input-19-8ce96a50fcea>\u001b[0m in \u001b[0;36m<module>\u001b[1;34m\u001b[0m\n\u001b[1;32m----> 1\u001b[1;33m \u001b[0mx_test\u001b[0m \u001b[1;33m=\u001b[0m \u001b[0mx_test\u001b[0m\u001b[1;33m.\u001b[0m\u001b[0mreshape\u001b[0m\u001b[1;33m(\u001b[0m\u001b[0mx_test\u001b[0m\u001b[1;33m.\u001b[0m\u001b[0mshape\u001b[0m\u001b[1;33m[\u001b[0m\u001b[1;36m0\u001b[0m\u001b[1;33m]\u001b[0m\u001b[1;33m,\u001b[0m \u001b[0mTIME_PERIODS\u001b[0m \u001b[1;33m*\u001b[0m \u001b[0mno_of_features\u001b[0m\u001b[1;33m)\u001b[0m\u001b[1;33m\u001b[0m\u001b[1;33m\u001b[0m\u001b[0m\n\u001b[0m\u001b[0;32m      2\u001b[0m \u001b[0mx_test\u001b[0m\u001b[1;33m.\u001b[0m\u001b[0mshape\u001b[0m\u001b[1;33m\u001b[0m\u001b[1;33m\u001b[0m\u001b[0m\n",
      "\u001b[1;31mNameError\u001b[0m: name 'x_test' is not defined"
     ]
    }
   ],
   "source": [
    "x_test = x_test.reshape(x_test.shape[0], TIME_PERIODS * no_of_features)\n",
    "x_test.shape"
   ]
  },
  {
   "cell_type": "code",
   "execution_count": 108,
   "id": "06723b9a",
   "metadata": {},
   "outputs": [
    {
     "name": "stdout",
     "output_type": "stream",
     "text": [
      "31/31 [==============================] - 0s 10ms/step - loss: 0.5292 - accuracy: 0.8547\n",
      "\n",
      "Accuracy on test data: 0.85\n",
      "\n",
      "Loss on test data: 0.53\n"
     ]
    }
   ],
   "source": [
    "score = model_tr.evaluate(x_test, y_test, verbose=1)\n",
    "\n",
    "print(\"\\nAccuracy on test data: %0.2f\" % score[1])\n",
    "print(\"\\nLoss on test data: %0.2f\" % score[0])"
   ]
  },
  {
   "cell_type": "code",
   "execution_count": 109,
   "id": "ece3c5f8",
   "metadata": {},
   "outputs": [
    {
     "data": {
      "image/png": "[encoded data removed]",
      "text/plain": [
       "<Figure size 432x288 with 2 Axes>"
      ]
     },
     "metadata": {
      "needs_background": "light"
     },
     "output_type": "display_data"
    },
    {
     "name": "stdout",
     "output_type": "stream",
     "text": [
      "\n",
      "--- Classification report for test data ---\n",
      "\n",
      "              precision    recall  f1-score   support\n",
      "\n",
      "           0       0.68      0.98      0.80       177\n",
      "           1       0.99      1.00      0.99       159\n",
      "           2       0.81      0.96      0.87       208\n",
      "           3       0.97      0.83      0.89       269\n",
      "           4       0.98      0.51      0.67       171\n",
      "\n",
      "    accuracy                           0.85       984\n",
      "   macro avg       0.88      0.85      0.85       984\n",
      "weighted avg       0.89      0.85      0.85       984\n",
      "\n"
     ]
    }
   ],
   "source": [
    "y_pred_test = model_tr.predict(x_test)\n",
    "# Take the class with the highest probability from the test predictions\n",
    "max_y_pred_test = np.argmax(y_pred_test, axis=1)\n",
    "max_y_test = np.argmax(y_test, axis=1)\n",
    "\n",
    "show_confusion_matrix(max_y_test, max_y_pred_test)\n",
    "\n",
    "print(\"\\n--- Classification report for test data ---\\n\")\n",
    "\n",
    "print(classification_report(max_y_test, max_y_pred_test))"
   ]
  },
  {
   "cell_type": "code",
   "execution_count": 33,
   "id": "4d1ab121",
   "metadata": {},
   "outputs": [],
   "source": [
    "model_tr.save('best_model_tr.h5')"
   ]
  },
  {
   "cell_type": "markdown",
   "id": "7a6e05cb",
   "metadata": {},
   "source": [
    "### RNN Model"
   ]
  },
  {
   "cell_type": "code",
   "execution_count": 99,
   "id": "d67cceec",
   "metadata": {},
   "outputs": [
    {
     "name": "stdout",
     "output_type": "stream",
     "text": [
      "Model: \"sequential_6\"\n",
      "_________________________________________________________________\n",
      " Layer (type)                Output Shape              Param #   \n",
      "=================================================================\n",
      " embedding (Embedding)       (None, None, 64)          23040     \n",
      "                                                                 \n",
      " gru (GRU)                   (None, None, 128)         74496     \n",
      "                                                                 \n",
      " simple_rnn (SimpleRNN)      (None, 64)                12352     \n",
      "                                                                 \n",
      " dropout_6 (Dropout)         (None, 64)                0         \n",
      "                                                                 \n",
      " dense_8 (Dense)             (None, 5)                 325       \n",
      "                                                                 \n",
      "=================================================================\n",
      "Total params: 110,213\n",
      "Trainable params: 110,213\n",
      "Non-trainable params: 0\n",
      "_________________________________________________________________\n"
     ]
    }
   ],
   "source": [
    "model_rnn = keras.Sequential()\n",
    "model_rnn.add(Embedding(input_dim=TIME_PERIODS*no_of_features, output_dim=64))\n",
    "\n",
    "# The output of GRU will be a 3D tensor of shape (batch_size, timesteps, 256)\n",
    "model_rnn.add(GRU(128, return_sequences=True))\n",
    "\n",
    "# The output of SimpleRNN will be a 2D tensor of shape (batch_size, 128)\n",
    "model_rnn.add(SimpleRNN(64))\n",
    "model_rnn.add(Dropout(0.4))\n",
    "model_rnn.add(Dense(len(LABELS), activation='softmax'))\n",
    "\n",
    "model_rnn.summary()"
   ]
  },
  {
   "cell_type": "code",
   "execution_count": 100,
   "id": "627c2801",
   "metadata": {},
   "outputs": [
    {
     "data": {
      "text/plain": [
       "(2476, 360)"
      ]
     },
     "execution_count": 100,
     "metadata": {},
     "output_type": "execute_result"
    }
   ],
   "source": [
    "x_train = x_train.reshape(x_train.shape[0], TIME_PERIODS*no_of_features)\n",
    "x_train.shape"
   ]
  },
  {
   "cell_type": "code",
   "execution_count": 101,
   "id": "e9b1a6d8",
   "metadata": {
    "scrolled": true
   },
   "outputs": [
    {
     "name": "stdout",
     "output_type": "stream",
     "text": [
      "Epoch 1/50\n",
      "13/13 [==============================] - 10s 636ms/step - loss: 1.6220 - accuracy: 0.2161\n",
      "Epoch 2/50\n",
      "13/13 [==============================] - 8s 624ms/step - loss: 1.6044 - accuracy: 0.2407\n",
      "Epoch 3/50\n",
      "13/13 [==============================] - 8s 637ms/step - loss: 1.6161 - accuracy: 0.2508\n",
      "Epoch 4/50\n",
      "13/13 [==============================] - 10s 739ms/step - loss: 1.5962 - accuracy: 0.2682\n",
      "Epoch 5/50\n",
      "13/13 [==============================] - 10s 784ms/step - loss: 1.5713 - accuracy: 0.2896\n",
      "Epoch 6/50\n",
      "13/13 [==============================] - 10s 762ms/step - loss: 1.5989 - accuracy: 0.2815\n"
     ]
    }
   ],
   "source": [
    "callbacks_list = [\n",
    "    keras.callbacks.EarlyStopping(monitor='accuracy', patience=1)\n",
    "]\n",
    "\n",
    "# opt = optimizers.SGD(learning_rate=0.01, momentum=0.9)\n",
    "\n",
    "model_rnn.compile(loss='categorical_crossentropy', optimizer='adam', metrics=['accuracy'])\n",
    "\n",
    "BATCH_SIZE = 200\n",
    "EPOCHS = 50\n",
    "\n",
    "history = model_rnn.fit(x_train,\n",
    "                      y_train,\n",
    "                      batch_size=BATCH_SIZE,\n",
    "                      epochs=EPOCHS,\n",
    "                      callbacks=callbacks_list,\n",
    "                      verbose=1)"
   ]
  },
  {
   "cell_type": "code",
   "execution_count": 102,
   "id": "2c815cec",
   "metadata": {},
   "outputs": [
    {
     "data": {
      "image/png": "[encoded data removed]",
      "text/plain": [
       "<Figure size 432x288 with 1 Axes>"
      ]
     },
     "metadata": {
      "needs_background": "light"
     },
     "output_type": "display_data"
    }
   ],
   "source": [
    "# summarize history for accuracy and loss\n",
    "plt.figure(figsize=(6, 4))\n",
    "plt.plot(history.history['accuracy'], \"g--\", label=\"Accuracy of training data\")\n",
    "# plt.plot(history.history['val_accuracy'], \"g\", label=\"Accuracy of validation data\")\n",
    "plt.plot(history.history['loss'], \"r--\", label=\"Loss of training data\")\n",
    "# plt.plot(history.history['val_loss'], \"r\", label=\"Loss of validation data\")\n",
    "plt.title('Model Accuracy and Loss')\n",
    "plt.ylabel('Accuracy and Loss')\n",
    "plt.xlabel('Training Epoch')\n",
    "plt.ylim(0)\n",
    "plt.legend()\n",
    "plt.show()"
   ]
  },
  {
   "cell_type": "code",
   "execution_count": 106,
   "id": "371bef1d",
   "metadata": {},
   "outputs": [
    {
     "data": {
      "text/plain": [
       "(8723, 360)"
      ]
     },
     "execution_count": 106,
     "metadata": {},
     "output_type": "execute_result"
    }
   ],
   "source": [
    "x_test = x_test.reshape(x_test.shape[0], TIME_PERIODS*no_of_features)\n",
    "x_test.shape"
   ]
  },
  {
   "cell_type": "code",
   "execution_count": 107,
   "id": "5545c8ab",
   "metadata": {},
   "outputs": [
    {
     "name": "stdout",
     "output_type": "stream",
     "text": [
      "273/273 [==============================] - 28s 99ms/step - loss: 1.2816 - accuracy: 0.5012\n",
      "\n",
      "Accuracy on test data: 0.50\n",
      "\n",
      "Loss on test data: 1.28\n"
     ]
    }
   ],
   "source": [
    "score = model_rnn.evaluate(x_test, y_test, verbose=1)\n",
    "\n",
    "print(\"\\nAccuracy on test data: %0.2f\" % score[1])\n",
    "print(\"\\nLoss on test data: %0.2f\" % score[0])"
   ]
  },
  {
   "cell_type": "code",
   "execution_count": 110,
   "id": "705e83e2",
   "metadata": {},
   "outputs": [],
   "source": [
    "y_pred_test = model_rnn.predict(x_test)\n",
    "# Take the class with the highest probability from the test predictions\n",
    "max_y_pred_test = np.argmax(y_pred_test, axis=1)\n",
    "max_y_test = np.argmax(y_test, axis=1)\n",
    "\n",
    "show_confusion_matrix(max_y_test, max_y_pred_test)\n",
    "\n",
    "print(\"\\n--- Classification report for test data ---\\n\")\n",
    "\n",
    "print(classification_report(max_y_test, max_y_pred_test))"
   ]
  },
  {
   "cell_type": "markdown",
   "id": "13bb57cd",
   "metadata": {},
   "source": [
    "# Making Predictions"
   ]
  },
  {
   "cell_type": "code",
   "execution_count": 104,
   "id": "0cbe1028",
   "metadata": {},
   "outputs": [
    {
     "name": "stdout",
     "output_type": "stream",
     "text": [
      "['Fall' 'Sitting action' 'Walking' 'climbing stairs' 'getting up']\n",
      "       accel_x  accel_y  accel_z  gyro_x  gyro_y  gyro_z    user  \\\n",
      "16980    0.357    0.057    1.386  -0.070   0.229  -0.021  wamika   \n",
      "16981    0.325    0.090    1.406   0.010   0.322  -0.081  wamika   \n",
      "16982    0.294    0.124    1.406   0.017   0.314  -0.071  wamika   \n",
      "16983    0.262    0.090    1.406  -0.020   0.318  -0.044  wamika   \n",
      "16984    0.325    0.124    1.425  -0.006   0.374  -0.032  wamika   \n",
      "...        ...      ...      ...     ...     ...     ...     ...   \n",
      "53215   -0.053    0.124   -0.637   0.013  -0.177  -0.399    zeon   \n",
      "53216   -0.053    0.124   -0.637  -0.221  -0.019  -0.093    zeon   \n",
      "53217   -0.053    0.124   -0.637   0.265   0.299   0.334    zeon   \n",
      "53218   -0.053    0.124   -0.637   0.139   0.077   0.639    zeon   \n",
      "53219   -0.053    0.124   -0.637  -0.239  -0.177   0.456    zeon   \n",
      "\n",
      "              activity  encoded_label  \n",
      "16980             Fall              0  \n",
      "16981             Fall              0  \n",
      "16982             Fall              0  \n",
      "16983             Fall              0  \n",
      "16984             Fall              0  \n",
      "...                ...            ...  \n",
      "53215  climbing stairs              3  \n",
      "53216  climbing stairs              3  \n",
      "53217  climbing stairs              3  \n",
      "53218  climbing stairs              3  \n",
      "53219  climbing stairs              3  \n",
      "\n",
      "[14820 rows x 9 columns]\n",
      "test data shape:  (984, 360)\n",
      "Predictions: [0 0 0 0 0 0 0 0 0 0 0 0 0 0 0 0 0 0 0 0 0 0 0 0 0 0 0 0 0 0 0 0 0 0 0 0 0\n",
      " 0 0 0 0 0 0 0 0 0 0 0 0 0 0 0 0 0 0 0 0 0 0 0 0 0 0 0 0 0 0 0 0 0 0 0 0 0\n",
      " 0 0 0 0 0 0 0 0 0 0 0 0 0 0 0 0 0 0 0 0 0 0 0 0 0 0 0 0 0 0 0 0 0 0 0 0 0\n",
      " 0 0 0 0 0 0 0 0 0 0 0 0 0 0 0 0 0 0 0 0 0 0 0 0 0 0 0 0 0 0 0 0 0 0 0 0 0\n",
      " 0 0 0 0 0 0 0 0 0 0 0 0 1 1 4 4 4 4 4 4 4 4 4 4 4 4 4 4 4 4 4 4 4 4 4 4 4\n",
      " 4 4 4 4 4 4 1 4 4 4 4 4 4 4 4 4 1 4 1 1 4 4 4 4 4 4 4 4 4 4 4 4 4 4 4 4 4\n",
      " 4 1 4 4 4 4 1 4 4 4 4 4 4 4 4 4 4 4 1 4 4 1 1 4 4 4 1 4 4 4 4 4 4 4 4 4 4\n",
      " 4 4 4 4 4 4 3 4 4 4 4 4 4 1 3 4 1 1 4 4 4 4 4 4 4 1 1 4 4 4 4 4 4 4 4 4 4\n",
      " 4 4 4 4 4 4 4 4 4 4 4 4 4 4 4 4 4 4 4 4 4 4 4 4 4 4 4 4 4 4 4 4 1 4 1 0 1\n",
      " 1 1 1 1 1 1 1 1 1 1 1 1 1 1 1 1 1 1 4 1 1 1 1 1 1 1 1 1 1 1 1 1 1 1 1 1 1\n",
      " 1 1 1 1 1 1 1 1 1 1 1 1 1 1 1 1 1 1 1 1 1 1 1 1 1 1 1 1 1 1 1 1 1 1 1 1 1\n",
      " 1 1 1 1 1 1 1 1 1 1 1 1 1 1 1 1 1 1 1 1 1 1 1 1 1 1 1 1 1 1 1 1 1 1 1 1 1\n",
      " 1 1 1 1 1 1 1 1 1 1 1 1 1 1 1 1 1 1 1 1 1 1 1 1 1 1 1 1 1 1 1 1 1 1 1 1 1\n",
      " 1 1 1 1 1 1 1 1 1 1 1 1 1 1 1 1 1 1 1 1 1 1 1 1 1 3 3 2 2 2 2 2 2 2 2 2 2\n",
      " 2 2 2 2 2 2 2 2 2 2 2 2 2 2 2 2 2 2 2 2 2 2 2 2 2 2 2 2 2 2 2 2 2 2 2 2 2\n",
      " 2 2 2 2 2 2 2 2 2 2 2 2 2 2 2 2 2 2 2 2 2 2 2 2 2 2 2 2 2 2 2 2 2 2 2 2 2\n",
      " 3 2 3 3 2 2 3 2 2 2 2 2 2 2 2 2 2 2 2 2 2 2 2 2 2 2 2 2 2 2 2 2 2 2 2 2 2\n",
      " 2 2 2 2 2 2 2 2 2 2 3 2 2 2 2 2 2 2 2 2 2 2 2 2 2 2 2 2 2 2 2 2 2 2 2 2 2\n",
      " 2 2 2 2 2 2 2 2 2 2 2 2 2 2 2 2 2 2 2 2 2 2 2 2 2 2 3 2 2 2 2 2 2 3 2 2 2\n",
      " 2 2 2 2 2 2 2 2 2 2 2 2 2 2 3 3 3 3 3 3 3 3 3 3 3 3 3 3 2 3 3 3 3 3 3 3 3\n",
      " 3 3 3 3 3 3 3 3 3 3 3 3 3 3 3 3 3 3 3 3 3 2 2 2 2 3 3 3 3 3 2 2 2 3 3 3 3\n",
      " 3 3 3 3 3 3 3 3 3 3 3 3 3 3 3 3 3 3 3 3 3 3 3 3 3 3 3 3 3 3 3 3 3 3 3 3 3\n",
      " 3 3 3 3 3 3 3 3 3 3 3 3 3 3 3 3 3 3 3 3 3 3 3 3 3 3 3 3 3 3 3 3 2 2 2 3 3\n",
      " 3 3 2 2 2 2 3 3 3 3 3 3 3 3 3 3 2 3 3 2 2 2 3 3 3 2 3 3 3 3 3 3 3 3 3 3 3\n",
      " 3 3 3 3 3 3 3 3 3 3 3 3 3 2 2 2 2 3 3 3 2 2 2 2 2 2 3 3 3 3 3 3 3 3 3 3 3\n",
      " 3 3 3 3 3 3 3 3 3 3 3 3 3 3 3 3 3 3 3 3 3 3 2 3 3 3 3 3 3 3 3 3 3 2 2 2 3\n",
      " 3 3 3 3 3 3 3 3 3 3 3 3 3 3 3 3 3 3 3 3 3 3]\n",
      "Actual: [0 0 0 0 0 0 0 0 0 0 0 0 0 0 0 0 0 0 0 0 0 0 0 0 0 0 0 0 0 0 0 0 0 0 0 0 0\n",
      " 0 0 0 0 0 0 0 0 0 0 0 0 0 0 0 0 0 0 0 0 0 0 0 0 0 0 0 0 0 0 0 0 0 0 0 0 0\n",
      " 0 0 0 0 0 0 0 0 0 0 0 0 0 0 0 0 0 0 0 0 0 0 0 0 0 0 0 0 0 0 0 0 0 0 0 0 0\n",
      " 0 0 0 0 0 0 0 0 0 0 0 0 0 0 0 0 0 0 0 0 0 0 0 0 0 0 0 0 0 0 0 0 0 0 0 0 0\n",
      " 0 0 0 0 0 0 0 0 0 0 0 4 4 4 4 4 4 4 4 4 4 4 4 4 4 4 4 4 4 4 4 4 4 4 4 4 4\n",
      " 4 4 4 4 4 4 4 4 4 4 4 4 4 4 4 4 4 4 4 4 4 4 4 4 4 4 4 4 4 4 4 4 4 4 4 4 4\n",
      " 4 4 4 4 4 4 4 4 4 4 4 4 4 4 4 4 4 4 4 4 4 4 4 4 4 4 4 4 4 4 4 4 4 4 4 4 4\n",
      " 4 4 4 4 4 4 4 4 4 4 4 4 4 4 4 4 4 4 4 4 4 4 4 4 4 4 4 4 4 4 4 4 4 4 4 4 4\n",
      " 4 4 4 4 4 4 4 4 4 4 4 4 4 4 4 4 4 4 4 4 4 4 4 4 4 4 4 4 4 4 4 4 4 4 1 1 1\n",
      " 1 1 1 1 1 1 1 1 1 1 1 1 1 1 1 1 1 1 1 1 1 1 1 1 1 1 1 1 1 1 1 1 1 1 1 1 1\n",
      " 1 1 1 1 1 1 1 1 1 1 1 1 1 1 1 1 1 1 1 1 1 1 1 1 1 1 1 1 1 1 1 1 1 1 1 1 1\n",
      " 1 1 1 1 1 1 1 1 1 1 1 1 1 1 1 1 1 1 1 1 1 1 1 1 1 1 1 1 1 1 1 1 1 1 1 1 1\n",
      " 1 1 1 1 1 1 1 1 1 1 1 1 1 1 1 1 1 1 1 1 1 1 1 1 1 1 1 1 1 1 1 1 1 1 1 1 1\n",
      " 1 1 1 1 1 1 1 1 1 1 1 1 1 1 1 1 1 1 1 1 1 1 1 1 1 1 2 2 2 2 2 2 2 2 2 2 2\n",
      " 2 2 2 2 2 2 2 2 2 2 2 2 2 2 2 2 2 2 2 2 2 2 2 2 2 2 2 2 2 2 2 2 2 2 2 2 2\n",
      " 2 2 2 2 2 2 2 2 2 2 2 2 2 2 2 2 2 2 2 2 2 2 2 2 2 2 2 2 2 2 2 2 2 2 2 2 2\n",
      " 2 2 2 2 2 2 2 2 2 2 2 2 2 2 2 2 2 2 2 2 2 2 2 2 2 2 2 2 2 2 2 2 2 2 2 2 2\n",
      " 2 2 2 2 2 2 2 2 2 2 2 2 2 2 2 2 2 2 2 2 2 2 2 2 2 2 2 2 2 2 2 2 2 2 2 2 2\n",
      " 2 2 2 2 2 2 2 2 2 2 2 2 2 2 2 2 2 2 2 2 2 2 2 2 2 2 2 2 2 2 2 2 2 2 2 2 2\n",
      " 2 2 2 2 2 2 2 2 2 2 2 2 3 3 3 3 3 3 3 3 3 3 3 3 3 3 3 3 3 3 3 3 3 3 3 3 3\n",
      " 3 3 3 3 3 3 3 3 3 3 3 3 3 3 3 3 3 3 3 3 3 3 3 3 3 3 3 3 3 3 3 3 3 3 3 3 3\n",
      " 3 3 3 3 3 3 3 3 3 3 3 3 3 3 3 3 3 3 3 3 3 3 3 3 3 3 3 3 3 3 3 3 3 3 3 3 3\n",
      " 3 3 3 3 3 3 3 3 3 3 3 3 3 3 3 3 3 3 3 3 3 3 3 3 3 3 3 3 3 3 3 3 3 3 3 3 3\n",
      " 3 3 3 3 3 3 3 3 3 3 3 3 3 3 3 3 3 3 3 3 3 3 3 3 3 3 3 3 3 3 3 3 3 3 3 3 3\n",
      " 3 3 3 3 3 3 3 3 3 3 3 3 3 3 3 3 3 3 3 3 3 3 3 3 3 3 3 3 3 3 3 3 3 3 3 3 3\n",
      " 3 3 3 3 3 3 3 3 3 3 3 3 3 3 3 3 3 3 3 3 3 3 3 3 3 3 3 3 3 3 3 3 3 3 3 3 3\n",
      " 3 3 3 3 3 3 3 3 3 3 3 3 3 3 3 3 3 3 3 3 3 3]\n"
     ]
    }
   ],
   "source": [
    "data = pd.read_csv(\"data/combined_data.csv\")\n",
    "data = data[data['activity']!=\"Jogging\"]\n",
    "\n",
    "Test_data = data[data[\"user\"].isin(['wamika'])]\n",
    "Test_data = Test_data.append(zeon_data[zeon_data[\"activity\"].isin([\"climbing stairs\"])])\n",
    "\n",
    "activity = {'Sitting action': 0, 'Fall': 1, 'Walking': 2, 'climbing stairs': 3, 'getting up': 4}\n",
    "le = preprocessing.LabelEncoder()\n",
    "Test_data['encoded_label'] = le.fit_transform(Test_data['activity'].values.ravel())\n",
    "print(le.classes_)\n",
    "\n",
    "mu = [0.016859139784946162, -0.036989516129032354, 0.3306317204301088, -0.716561021505379, -0.41315268817204404, 0.056315860215054955]\n",
    "sigma = [0.3169782064815828, 0.298379167917324, 0.5189035834200442, 55.572584842376756, 31.52775141330042, 32.75767648225105]\n",
    "\n",
    "\n",
    "def normalize_features(data, mu_data, sigma_data):\n",
    "    return (data - mu_data)/sigma_data\n",
    "\n",
    "for i in range(0,6):\n",
    "        Test_data.iloc[:, i] = normalize_features(Test_data.iloc[:, i], mu[i], sigma[i])\n",
    "        \n",
    "# Test_data = Test_data[100000:105000]\n",
    "print(Test_data)\n",
    "\n",
    "x_test_data, y_test_labels = create_segments(Test_data)\n",
    "x_test_data = x_test_data.reshape(x_test_data.shape[0], TIME_PERIODS*no_of_features)\n",
    "print(\"test data shape: \", x_test_data.shape)\n",
    "\n",
    "model = keras.models.load_model('best_model_cnn.h5')\n",
    "\n",
    "x_test_data = x_test_data.astype(\"float32\")\n",
    "\n",
    "pred = model.predict(x_test_data)\n",
    "prediction = np.argmax(pred, axis=1)\n",
    "print(\"Predictions:\", prediction)\n",
    "print(\"Actual:\", y_test_labels)"
   ]
  },
  {
   "cell_type": "code",
   "execution_count": null,
   "id": "159dda0b",
   "metadata": {},
   "outputs": [],
   "source": []
  }
 ],
 "metadata": {
  "kernelspec": {
   "display_name": "Python 3",
   "language": "python",
   "name": "python3"
  },
  "language_info": {
   "codemirror_mode": {
    "name": "ipython",
    "version": 3
   },
   "file_extension": ".py",
   "mimetype": "text/x-python",
   "name": "python",
   "nbconvert_exporter": "python",
   "pygments_lexer": "ipython3",
   "version": "3.8.8"
  }
 },
 "nbformat": 4,
 "nbformat_minor": 5
}
