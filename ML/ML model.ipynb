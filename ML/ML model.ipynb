{
 "cells": [
  {
   "cell_type": "markdown",
   "id": "5cc33925",
   "metadata": {},
   "source": [
    "# Training public data"
   ]
  },
  {
   "cell_type": "markdown",
   "id": "31dc97d2",
   "metadata": {},
   "source": [
    "code written by following this github: https://github.com/ni79ls/har-keras-cnn"
   ]
  },
  {
   "cell_type": "code",
   "execution_count": 2,
   "id": "93aab5a6",
   "metadata": {},
   "outputs": [],
   "source": [
    "from matplotlib import pyplot as plt\n",
    "%matplotlib inline\n",
    "import numpy as np\n",
    "import pandas as pd\n",
    "import seaborn as sns\n",
    "from scipy import stats\n",
    "import math\n",
    "\n",
    "from sklearn import metrics\n",
    "from sklearn.metrics import classification_report\n",
    "from sklearn import preprocessing\n",
    "from sklearn.model_selection import train_test_split\n",
    "\n",
    "import keras\n",
    "import tensorflow as tf\n",
    "from keras.models import Sequential\n",
    "from keras.layers import Dense, Dropout, Flatten, Reshape, GlobalAveragePooling1D\n",
    "from keras.layers import Conv1D, MaxPooling1D, LSTM, Embedding, SimpleRNN, GRU\n",
    "from keras.utils import np_utils\n",
    "from tensorflow.keras import optimizers\n",
    "\n",
    "import warnings\n",
    "warnings.filterwarnings('ignore')"
   ]
  },
  {
   "cell_type": "code",
   "execution_count": 86,
   "id": "750464c1",
   "metadata": {},
   "outputs": [
    {
     "data": {
      "text/html": [
       "<div>\n",
       "<style scoped>\n",
       "    .dataframe tbody tr th:only-of-type {\n",
       "        vertical-align: middle;\n",
       "    }\n",
       "\n",
       "    .dataframe tbody tr th {\n",
       "        vertical-align: top;\n",
       "    }\n",
       "\n",
       "    .dataframe thead th {\n",
       "        text-align: right;\n",
       "    }\n",
       "</style>\n",
       "<table border=\"1\" class=\"dataframe\">\n",
       "  <thead>\n",
       "    <tr style=\"text-align: right;\">\n",
       "      <th></th>\n",
       "      <th>accel_x</th>\n",
       "      <th>accel_y</th>\n",
       "      <th>accel_z</th>\n",
       "      <th>gyro_x</th>\n",
       "      <th>gyro_y</th>\n",
       "      <th>gyro_z</th>\n",
       "      <th>user</th>\n",
       "      <th>activity</th>\n",
       "      <th>mapped_activity</th>\n",
       "      <th>broad_mapped_activity</th>\n",
       "    </tr>\n",
       "  </thead>\n",
       "  <tbody>\n",
       "    <tr>\n",
       "      <th>0</th>\n",
       "      <td>0.066</td>\n",
       "      <td>-0.699</td>\n",
       "      <td>-0.387</td>\n",
       "      <td>-1.099</td>\n",
       "      <td>-30.762</td>\n",
       "      <td>-21.484</td>\n",
       "      <td>SA01</td>\n",
       "      <td>D01</td>\n",
       "      <td>Walking</td>\n",
       "      <td>Walking</td>\n",
       "    </tr>\n",
       "    <tr>\n",
       "      <th>1</th>\n",
       "      <td>-0.195</td>\n",
       "      <td>-1.395</td>\n",
       "      <td>-0.027</td>\n",
       "      <td>-10.864</td>\n",
       "      <td>-46.753</td>\n",
       "      <td>-3.174</td>\n",
       "      <td>SA01</td>\n",
       "      <td>D01</td>\n",
       "      <td>Walking</td>\n",
       "      <td>Walking</td>\n",
       "    </tr>\n",
       "    <tr>\n",
       "      <th>2</th>\n",
       "      <td>0.336</td>\n",
       "      <td>-0.891</td>\n",
       "      <td>-0.246</td>\n",
       "      <td>31.860</td>\n",
       "      <td>-22.217</td>\n",
       "      <td>8.057</td>\n",
       "      <td>SA01</td>\n",
       "      <td>D01</td>\n",
       "      <td>Walking</td>\n",
       "      <td>Walking</td>\n",
       "    </tr>\n",
       "    <tr>\n",
       "      <th>3</th>\n",
       "      <td>0.273</td>\n",
       "      <td>-1.000</td>\n",
       "      <td>-0.062</td>\n",
       "      <td>2.625</td>\n",
       "      <td>-11.353</td>\n",
       "      <td>29.053</td>\n",
       "      <td>SA01</td>\n",
       "      <td>D01</td>\n",
       "      <td>Walking</td>\n",
       "      <td>Walking</td>\n",
       "    </tr>\n",
       "    <tr>\n",
       "      <th>4</th>\n",
       "      <td>0.047</td>\n",
       "      <td>-0.828</td>\n",
       "      <td>-0.074</td>\n",
       "      <td>7.263</td>\n",
       "      <td>15.869</td>\n",
       "      <td>26.184</td>\n",
       "      <td>SA01</td>\n",
       "      <td>D01</td>\n",
       "      <td>Walking</td>\n",
       "      <td>Walking</td>\n",
       "    </tr>\n",
       "    <tr>\n",
       "      <th>...</th>\n",
       "      <td>...</td>\n",
       "      <td>...</td>\n",
       "      <td>...</td>\n",
       "      <td>...</td>\n",
       "      <td>...</td>\n",
       "      <td>...</td>\n",
       "      <td>...</td>\n",
       "      <td>...</td>\n",
       "      <td>...</td>\n",
       "      <td>...</td>\n",
       "    </tr>\n",
       "    <tr>\n",
       "      <th>412897</th>\n",
       "      <td>0.988</td>\n",
       "      <td>-0.066</td>\n",
       "      <td>-0.023</td>\n",
       "      <td>26.917</td>\n",
       "      <td>-10.498</td>\n",
       "      <td>-15.625</td>\n",
       "      <td>SA21</td>\n",
       "      <td>F12</td>\n",
       "      <td>Lateral fall</td>\n",
       "      <td>Fall</td>\n",
       "    </tr>\n",
       "    <tr>\n",
       "      <th>412898</th>\n",
       "      <td>1.031</td>\n",
       "      <td>0.066</td>\n",
       "      <td>0.203</td>\n",
       "      <td>-14.954</td>\n",
       "      <td>16.235</td>\n",
       "      <td>26.184</td>\n",
       "      <td>SA21</td>\n",
       "      <td>F12</td>\n",
       "      <td>Lateral fall</td>\n",
       "      <td>Fall</td>\n",
       "    </tr>\n",
       "    <tr>\n",
       "      <th>412899</th>\n",
       "      <td>0.941</td>\n",
       "      <td>-0.188</td>\n",
       "      <td>0.359</td>\n",
       "      <td>-25.879</td>\n",
       "      <td>32.410</td>\n",
       "      <td>11.841</td>\n",
       "      <td>SA21</td>\n",
       "      <td>F12</td>\n",
       "      <td>Lateral fall</td>\n",
       "      <td>Fall</td>\n",
       "    </tr>\n",
       "    <tr>\n",
       "      <th>412900</th>\n",
       "      <td>0.859</td>\n",
       "      <td>-0.102</td>\n",
       "      <td>0.375</td>\n",
       "      <td>12.451</td>\n",
       "      <td>37.842</td>\n",
       "      <td>-2.136</td>\n",
       "      <td>SA21</td>\n",
       "      <td>F12</td>\n",
       "      <td>Lateral fall</td>\n",
       "      <td>Fall</td>\n",
       "    </tr>\n",
       "    <tr>\n",
       "      <th>412901</th>\n",
       "      <td>0.941</td>\n",
       "      <td>0.031</td>\n",
       "      <td>0.434</td>\n",
       "      <td>0.366</td>\n",
       "      <td>39.917</td>\n",
       "      <td>7.935</td>\n",
       "      <td>SA21</td>\n",
       "      <td>F12</td>\n",
       "      <td>Lateral fall</td>\n",
       "      <td>Fall</td>\n",
       "    </tr>\n",
       "  </tbody>\n",
       "</table>\n",
       "<p>412902 rows × 10 columns</p>\n",
       "</div>"
      ],
      "text/plain": [
       "        accel_x  accel_y  accel_z  gyro_x  gyro_y  gyro_z  user activity  \\\n",
       "0         0.066   -0.699   -0.387  -1.099 -30.762 -21.484  SA01      D01   \n",
       "1        -0.195   -1.395   -0.027 -10.864 -46.753  -3.174  SA01      D01   \n",
       "2         0.336   -0.891   -0.246  31.860 -22.217   8.057  SA01      D01   \n",
       "3         0.273   -1.000   -0.062   2.625 -11.353  29.053  SA01      D01   \n",
       "4         0.047   -0.828   -0.074   7.263  15.869  26.184  SA01      D01   \n",
       "...         ...      ...      ...     ...     ...     ...   ...      ...   \n",
       "412897    0.988   -0.066   -0.023  26.917 -10.498 -15.625  SA21      F12   \n",
       "412898    1.031    0.066    0.203 -14.954  16.235  26.184  SA21      F12   \n",
       "412899    0.941   -0.188    0.359 -25.879  32.410  11.841  SA21      F12   \n",
       "412900    0.859   -0.102    0.375  12.451  37.842  -2.136  SA21      F12   \n",
       "412901    0.941    0.031    0.434   0.366  39.917   7.935  SA21      F12   \n",
       "\n",
       "       mapped_activity broad_mapped_activity  \n",
       "0              Walking               Walking  \n",
       "1              Walking               Walking  \n",
       "2              Walking               Walking  \n",
       "3              Walking               Walking  \n",
       "4              Walking               Walking  \n",
       "...                ...                   ...  \n",
       "412897    Lateral fall                  Fall  \n",
       "412898    Lateral fall                  Fall  \n",
       "412899    Lateral fall                  Fall  \n",
       "412900    Lateral fall                  Fall  \n",
       "412901    Lateral fall                  Fall  \n",
       "\n",
       "[412902 rows x 10 columns]"
      ]
     },
     "execution_count": 86,
     "metadata": {},
     "output_type": "execute_result"
    }
   ],
   "source": [
    "data = pd.read_csv(\"Sisfall_dataset/processed_data.csv\")\n",
    "\n",
    "data"
   ]
  },
  {
   "cell_type": "code",
   "execution_count": 87,
   "id": "82de05e7",
   "metadata": {},
   "outputs": [],
   "source": [
    "data = data[data['activity']!=\"D18\"]\n",
    "data = data[data['activity']!=\"D19\"]"
   ]
  },
  {
   "cell_type": "code",
   "execution_count": 11,
   "id": "60def274",
   "metadata": {},
   "outputs": [
    {
     "data": {
      "text/plain": [
       "['Fall',\n",
       " 'Gentle jump',\n",
       " 'Jogging',\n",
       " 'Sitting action',\n",
       " 'Stumble',\n",
       " 'Walking',\n",
       " 'climbing stairs',\n",
       " 'getting up']"
      ]
     },
     "execution_count": 11,
     "metadata": {},
     "output_type": "execute_result"
    }
   ],
   "source": [
    "# All data collected in 20Hz sample rate.\n",
    "\n",
    "# Set display upto 3 decimal places\n",
    "pd.options.display.float_format = '{:.3f}'.format\n",
    "\n",
    "# Labels are all the activity groups\n",
    "LABELS = list(data.groupby([\"broad_mapped_activity\"]).groups.keys())\n",
    "\n",
    "no_of_features = 6\n",
    "\n",
    "# The number of steps within one time segment (window size)\n",
    "TIME_PERIODS = 60\n",
    "# The steps to take from one segment to the next; if this value is equal to\n",
    "# TIME_PERIODS, then there is no overlap between the segments\n",
    "STEP_DISTANCE = 15\n",
    "\n",
    "LABELS"
   ]
  },
  {
   "cell_type": "code",
   "execution_count": 89,
   "id": "9b72317a",
   "metadata": {},
   "outputs": [
    {
     "name": "stdout",
     "output_type": "stream",
     "text": [
      "(262802, 10)\n"
     ]
    },
    {
     "data": {
      "text/html": [
       "<div>\n",
       "<style scoped>\n",
       "    .dataframe tbody tr th:only-of-type {\n",
       "        vertical-align: middle;\n",
       "    }\n",
       "\n",
       "    .dataframe tbody tr th {\n",
       "        vertical-align: top;\n",
       "    }\n",
       "\n",
       "    .dataframe thead th {\n",
       "        text-align: right;\n",
       "    }\n",
       "</style>\n",
       "<table border=\"1\" class=\"dataframe\">\n",
       "  <thead>\n",
       "    <tr style=\"text-align: right;\">\n",
       "      <th></th>\n",
       "      <th>accel_x</th>\n",
       "      <th>accel_y</th>\n",
       "      <th>accel_z</th>\n",
       "      <th>gyro_x</th>\n",
       "      <th>gyro_y</th>\n",
       "      <th>gyro_z</th>\n",
       "      <th>user</th>\n",
       "      <th>activity</th>\n",
       "      <th>mapped_activity</th>\n",
       "      <th>broad_mapped_activity</th>\n",
       "    </tr>\n",
       "  </thead>\n",
       "  <tbody>\n",
       "    <tr>\n",
       "      <th>16000</th>\n",
       "      <td>0.168</td>\n",
       "      <td>-0.918</td>\n",
       "      <td>-0.219</td>\n",
       "      <td>-0.488</td>\n",
       "      <td>5.127</td>\n",
       "      <td>-13.367</td>\n",
       "      <td>SA17</td>\n",
       "      <td>D01</td>\n",
       "      <td>Walking</td>\n",
       "      <td>Walking</td>\n",
       "    </tr>\n",
       "    <tr>\n",
       "      <th>16001</th>\n",
       "      <td>0.121</td>\n",
       "      <td>-0.906</td>\n",
       "      <td>-0.207</td>\n",
       "      <td>-4.211</td>\n",
       "      <td>6.775</td>\n",
       "      <td>-4.517</td>\n",
       "      <td>SA17</td>\n",
       "      <td>D01</td>\n",
       "      <td>Walking</td>\n",
       "      <td>Walking</td>\n",
       "    </tr>\n",
       "    <tr>\n",
       "      <th>16002</th>\n",
       "      <td>0.109</td>\n",
       "      <td>-0.953</td>\n",
       "      <td>-0.160</td>\n",
       "      <td>-9.766</td>\n",
       "      <td>2.808</td>\n",
       "      <td>0.854</td>\n",
       "      <td>SA17</td>\n",
       "      <td>D01</td>\n",
       "      <td>Walking</td>\n",
       "      <td>Walking</td>\n",
       "    </tr>\n",
       "    <tr>\n",
       "      <th>16003</th>\n",
       "      <td>0.113</td>\n",
       "      <td>-0.965</td>\n",
       "      <td>-0.184</td>\n",
       "      <td>-7.080</td>\n",
       "      <td>-6.897</td>\n",
       "      <td>5.798</td>\n",
       "      <td>SA17</td>\n",
       "      <td>D01</td>\n",
       "      <td>Walking</td>\n",
       "      <td>Walking</td>\n",
       "    </tr>\n",
       "    <tr>\n",
       "      <th>16004</th>\n",
       "      <td>0.129</td>\n",
       "      <td>-0.980</td>\n",
       "      <td>-0.168</td>\n",
       "      <td>-4.333</td>\n",
       "      <td>-14.709</td>\n",
       "      <td>5.005</td>\n",
       "      <td>SA17</td>\n",
       "      <td>D01</td>\n",
       "      <td>Walking</td>\n",
       "      <td>Walking</td>\n",
       "    </tr>\n",
       "    <tr>\n",
       "      <th>...</th>\n",
       "      <td>...</td>\n",
       "      <td>...</td>\n",
       "      <td>...</td>\n",
       "      <td>...</td>\n",
       "      <td>...</td>\n",
       "      <td>...</td>\n",
       "      <td>...</td>\n",
       "      <td>...</td>\n",
       "      <td>...</td>\n",
       "      <td>...</td>\n",
       "    </tr>\n",
       "    <tr>\n",
       "      <th>412897</th>\n",
       "      <td>0.988</td>\n",
       "      <td>-0.066</td>\n",
       "      <td>-0.023</td>\n",
       "      <td>26.917</td>\n",
       "      <td>-10.498</td>\n",
       "      <td>-15.625</td>\n",
       "      <td>SA21</td>\n",
       "      <td>F12</td>\n",
       "      <td>Lateral fall</td>\n",
       "      <td>Fall</td>\n",
       "    </tr>\n",
       "    <tr>\n",
       "      <th>412898</th>\n",
       "      <td>1.031</td>\n",
       "      <td>0.066</td>\n",
       "      <td>0.203</td>\n",
       "      <td>-14.954</td>\n",
       "      <td>16.235</td>\n",
       "      <td>26.184</td>\n",
       "      <td>SA21</td>\n",
       "      <td>F12</td>\n",
       "      <td>Lateral fall</td>\n",
       "      <td>Fall</td>\n",
       "    </tr>\n",
       "    <tr>\n",
       "      <th>412899</th>\n",
       "      <td>0.941</td>\n",
       "      <td>-0.188</td>\n",
       "      <td>0.359</td>\n",
       "      <td>-25.879</td>\n",
       "      <td>32.410</td>\n",
       "      <td>11.841</td>\n",
       "      <td>SA21</td>\n",
       "      <td>F12</td>\n",
       "      <td>Lateral fall</td>\n",
       "      <td>Fall</td>\n",
       "    </tr>\n",
       "    <tr>\n",
       "      <th>412900</th>\n",
       "      <td>0.859</td>\n",
       "      <td>-0.102</td>\n",
       "      <td>0.375</td>\n",
       "      <td>12.451</td>\n",
       "      <td>37.842</td>\n",
       "      <td>-2.136</td>\n",
       "      <td>SA21</td>\n",
       "      <td>F12</td>\n",
       "      <td>Lateral fall</td>\n",
       "      <td>Fall</td>\n",
       "    </tr>\n",
       "    <tr>\n",
       "      <th>412901</th>\n",
       "      <td>0.941</td>\n",
       "      <td>0.031</td>\n",
       "      <td>0.434</td>\n",
       "      <td>0.366</td>\n",
       "      <td>39.917</td>\n",
       "      <td>7.935</td>\n",
       "      <td>SA21</td>\n",
       "      <td>F12</td>\n",
       "      <td>Lateral fall</td>\n",
       "      <td>Fall</td>\n",
       "    </tr>\n",
       "  </tbody>\n",
       "</table>\n",
       "<p>130900 rows × 10 columns</p>\n",
       "</div>"
      ],
      "text/plain": [
       "        accel_x  accel_y  accel_z  gyro_x  gyro_y  gyro_z  user activity  \\\n",
       "16000     0.168   -0.918   -0.219  -0.488   5.127 -13.367  SA17      D01   \n",
       "16001     0.121   -0.906   -0.207  -4.211   6.775  -4.517  SA17      D01   \n",
       "16002     0.109   -0.953   -0.160  -9.766   2.808   0.854  SA17      D01   \n",
       "16003     0.113   -0.965   -0.184  -7.080  -6.897   5.798  SA17      D01   \n",
       "16004     0.129   -0.980   -0.168  -4.333 -14.709   5.005  SA17      D01   \n",
       "...         ...      ...      ...     ...     ...     ...   ...      ...   \n",
       "412897    0.988   -0.066   -0.023  26.917 -10.498 -15.625  SA21      F12   \n",
       "412898    1.031    0.066    0.203 -14.954  16.235  26.184  SA21      F12   \n",
       "412899    0.941   -0.188    0.359 -25.879  32.410  11.841  SA21      F12   \n",
       "412900    0.859   -0.102    0.375  12.451  37.842  -2.136  SA21      F12   \n",
       "412901    0.941    0.031    0.434   0.366  39.917   7.935  SA21      F12   \n",
       "\n",
       "       mapped_activity broad_mapped_activity  \n",
       "16000          Walking               Walking  \n",
       "16001          Walking               Walking  \n",
       "16002          Walking               Walking  \n",
       "16003          Walking               Walking  \n",
       "16004          Walking               Walking  \n",
       "...                ...                   ...  \n",
       "412897    Lateral fall                  Fall  \n",
       "412898    Lateral fall                  Fall  \n",
       "412899    Lateral fall                  Fall  \n",
       "412900    Lateral fall                  Fall  \n",
       "412901    Lateral fall                  Fall  \n",
       "\n",
       "[130900 rows x 10 columns]"
      ]
     },
     "execution_count": 89,
     "metadata": {},
     "output_type": "execute_result"
    }
   ],
   "source": [
    "# split the data into training and test set\n",
    "Training_data = data[~data[\"user\"].isin(['SA17', 'SA18', 'SA19', 'SA20', 'SA21'])]\n",
    "print(Training_data.shape)\n",
    "Test_data = data[data[\"user\"].isin(['SA17', 'SA18', 'SA19', 'SA20', 'SA21'])]\n",
    "Test_data"
   ]
  },
  {
   "cell_type": "code",
   "execution_count": 90,
   "id": "a9038bee",
   "metadata": {},
   "outputs": [
    {
     "name": "stdout",
     "output_type": "stream",
     "text": [
      "['Fall', 'Jogging', 'Sitting action', 'Walking', 'climbing stairs', 'getting up']\n"
     ]
    }
   ],
   "source": [
    "# Encode labels\n",
    "le = preprocessing.LabelEncoder()\n",
    "Training_data['encoded_label'] = le.fit_transform(Training_data['broad_mapped_activity'].values.ravel())\n",
    "print(list(le.classes_))"
   ]
  },
  {
   "cell_type": "code",
   "execution_count": 91,
   "id": "8c1c6137",
   "metadata": {},
   "outputs": [],
   "source": [
    "def normalize_features(data, mu, sigma):\n",
    "    print(\"mean: \", mu)\n",
    "    print(\"standard deviation: \", sigma)\n",
    "    return (data - mu)/sigma\n",
    "#     maxim = np.max(data, axis=0)\n",
    "#     minim = np.min(data, axis=0)\n",
    "#     return (data - minim)/(maxim - minim)"
   ]
  },
  {
   "cell_type": "code",
   "execution_count": 92,
   "id": "05ed09d4",
   "metadata": {},
   "outputs": [
    {
     "name": "stdout",
     "output_type": "stream",
     "text": [
      "accel_x\n",
      "mean:  0.012236175547560521\n",
      "standard deviation:  0.34769250871819196\n",
      "accel_y\n",
      "mean:  -0.844028325626327\n",
      "standard deviation:  0.5536567307930977\n",
      "accel_z\n",
      "mean:  -0.1543912455955434\n",
      "standard deviation:  0.42467598155613845\n",
      "gyro_x\n",
      "mean:  0.2556826382272823\n",
      "standard deviation:  35.02454787273533\n",
      "gyro_y\n",
      "mean:  1.5261069734771806\n",
      "standard deviation:  35.0604674029397\n",
      "gyro_z\n",
      "mean:  -0.2920010667935128\n",
      "standard deviation:  27.524737149885194\n"
     ]
    },
    {
     "data": {
      "text/html": [
       "<div>\n",
       "<style scoped>\n",
       "    .dataframe tbody tr th:only-of-type {\n",
       "        vertical-align: middle;\n",
       "    }\n",
       "\n",
       "    .dataframe tbody tr th {\n",
       "        vertical-align: top;\n",
       "    }\n",
       "\n",
       "    .dataframe thead th {\n",
       "        text-align: right;\n",
       "    }\n",
       "</style>\n",
       "<table border=\"1\" class=\"dataframe\">\n",
       "  <thead>\n",
       "    <tr style=\"text-align: right;\">\n",
       "      <th></th>\n",
       "      <th>accel_x</th>\n",
       "      <th>accel_y</th>\n",
       "      <th>accel_z</th>\n",
       "      <th>gyro_x</th>\n",
       "      <th>gyro_y</th>\n",
       "      <th>gyro_z</th>\n",
       "      <th>user</th>\n",
       "      <th>activity</th>\n",
       "      <th>mapped_activity</th>\n",
       "      <th>broad_mapped_activity</th>\n",
       "      <th>encoded_label</th>\n",
       "    </tr>\n",
       "  </thead>\n",
       "  <tbody>\n",
       "    <tr>\n",
       "      <th>0</th>\n",
       "      <td>0.156</td>\n",
       "      <td>0.262</td>\n",
       "      <td>-0.547</td>\n",
       "      <td>-0.039</td>\n",
       "      <td>-0.921</td>\n",
       "      <td>-0.770</td>\n",
       "      <td>SA01</td>\n",
       "      <td>D01</td>\n",
       "      <td>Walking</td>\n",
       "      <td>Walking</td>\n",
       "      <td>3</td>\n",
       "    </tr>\n",
       "    <tr>\n",
       "      <th>1</th>\n",
       "      <td>-0.597</td>\n",
       "      <td>-0.994</td>\n",
       "      <td>0.299</td>\n",
       "      <td>-0.317</td>\n",
       "      <td>-1.377</td>\n",
       "      <td>-0.105</td>\n",
       "      <td>SA01</td>\n",
       "      <td>D01</td>\n",
       "      <td>Walking</td>\n",
       "      <td>Walking</td>\n",
       "      <td>3</td>\n",
       "    </tr>\n",
       "    <tr>\n",
       "      <th>2</th>\n",
       "      <td>0.931</td>\n",
       "      <td>-0.084</td>\n",
       "      <td>-0.216</td>\n",
       "      <td>0.902</td>\n",
       "      <td>-0.677</td>\n",
       "      <td>0.303</td>\n",
       "      <td>SA01</td>\n",
       "      <td>D01</td>\n",
       "      <td>Walking</td>\n",
       "      <td>Walking</td>\n",
       "      <td>3</td>\n",
       "    </tr>\n",
       "    <tr>\n",
       "      <th>3</th>\n",
       "      <td>0.751</td>\n",
       "      <td>-0.282</td>\n",
       "      <td>0.216</td>\n",
       "      <td>0.068</td>\n",
       "      <td>-0.367</td>\n",
       "      <td>1.066</td>\n",
       "      <td>SA01</td>\n",
       "      <td>D01</td>\n",
       "      <td>Walking</td>\n",
       "      <td>Walking</td>\n",
       "      <td>3</td>\n",
       "    </tr>\n",
       "    <tr>\n",
       "      <th>4</th>\n",
       "      <td>0.100</td>\n",
       "      <td>0.029</td>\n",
       "      <td>0.189</td>\n",
       "      <td>0.200</td>\n",
       "      <td>0.409</td>\n",
       "      <td>0.962</td>\n",
       "      <td>SA01</td>\n",
       "      <td>D01</td>\n",
       "      <td>Walking</td>\n",
       "      <td>Walking</td>\n",
       "      <td>3</td>\n",
       "    </tr>\n",
       "    <tr>\n",
       "      <th>...</th>\n",
       "      <td>...</td>\n",
       "      <td>...</td>\n",
       "      <td>...</td>\n",
       "      <td>...</td>\n",
       "      <td>...</td>\n",
       "      <td>...</td>\n",
       "      <td>...</td>\n",
       "      <td>...</td>\n",
       "      <td>...</td>\n",
       "      <td>...</td>\n",
       "      <td>...</td>\n",
       "    </tr>\n",
       "    <tr>\n",
       "      <th>409897</th>\n",
       "      <td>2.796</td>\n",
       "      <td>1.793</td>\n",
       "      <td>-0.216</td>\n",
       "      <td>0.028</td>\n",
       "      <td>-0.099</td>\n",
       "      <td>-0.102</td>\n",
       "      <td>SA11</td>\n",
       "      <td>F12</td>\n",
       "      <td>Lateral fall</td>\n",
       "      <td>Fall</td>\n",
       "      <td>0</td>\n",
       "    </tr>\n",
       "    <tr>\n",
       "      <th>409898</th>\n",
       "      <td>2.774</td>\n",
       "      <td>1.856</td>\n",
       "      <td>-0.216</td>\n",
       "      <td>0.054</td>\n",
       "      <td>-0.063</td>\n",
       "      <td>-0.074</td>\n",
       "      <td>SA11</td>\n",
       "      <td>F12</td>\n",
       "      <td>Lateral fall</td>\n",
       "      <td>Fall</td>\n",
       "      <td>0</td>\n",
       "    </tr>\n",
       "    <tr>\n",
       "      <th>409899</th>\n",
       "      <td>2.807</td>\n",
       "      <td>1.821</td>\n",
       "      <td>-0.225</td>\n",
       "      <td>0.083</td>\n",
       "      <td>-0.028</td>\n",
       "      <td>-0.023</td>\n",
       "      <td>SA11</td>\n",
       "      <td>F12</td>\n",
       "      <td>Lateral fall</td>\n",
       "      <td>Fall</td>\n",
       "      <td>0</td>\n",
       "    </tr>\n",
       "    <tr>\n",
       "      <th>409900</th>\n",
       "      <td>2.751</td>\n",
       "      <td>1.835</td>\n",
       "      <td>-0.234</td>\n",
       "      <td>0.090</td>\n",
       "      <td>0.023</td>\n",
       "      <td>-0.005</td>\n",
       "      <td>SA11</td>\n",
       "      <td>F12</td>\n",
       "      <td>Lateral fall</td>\n",
       "      <td>Fall</td>\n",
       "      <td>0</td>\n",
       "    </tr>\n",
       "    <tr>\n",
       "      <th>409901</th>\n",
       "      <td>2.785</td>\n",
       "      <td>1.821</td>\n",
       "      <td>-0.198</td>\n",
       "      <td>0.059</td>\n",
       "      <td>0.017</td>\n",
       "      <td>-0.009</td>\n",
       "      <td>SA11</td>\n",
       "      <td>F12</td>\n",
       "      <td>Lateral fall</td>\n",
       "      <td>Fall</td>\n",
       "      <td>0</td>\n",
       "    </tr>\n",
       "  </tbody>\n",
       "</table>\n",
       "<p>262802 rows × 11 columns</p>\n",
       "</div>"
      ],
      "text/plain": [
       "        accel_x  accel_y  accel_z  gyro_x  gyro_y  gyro_z  user activity  \\\n",
       "0         0.156    0.262   -0.547  -0.039  -0.921  -0.770  SA01      D01   \n",
       "1        -0.597   -0.994    0.299  -0.317  -1.377  -0.105  SA01      D01   \n",
       "2         0.931   -0.084   -0.216   0.902  -0.677   0.303  SA01      D01   \n",
       "3         0.751   -0.282    0.216   0.068  -0.367   1.066  SA01      D01   \n",
       "4         0.100    0.029    0.189   0.200   0.409   0.962  SA01      D01   \n",
       "...         ...      ...      ...     ...     ...     ...   ...      ...   \n",
       "409897    2.796    1.793   -0.216   0.028  -0.099  -0.102  SA11      F12   \n",
       "409898    2.774    1.856   -0.216   0.054  -0.063  -0.074  SA11      F12   \n",
       "409899    2.807    1.821   -0.225   0.083  -0.028  -0.023  SA11      F12   \n",
       "409900    2.751    1.835   -0.234   0.090   0.023  -0.005  SA11      F12   \n",
       "409901    2.785    1.821   -0.198   0.059   0.017  -0.009  SA11      F12   \n",
       "\n",
       "       mapped_activity broad_mapped_activity  encoded_label  \n",
       "0              Walking               Walking              3  \n",
       "1              Walking               Walking              3  \n",
       "2              Walking               Walking              3  \n",
       "3              Walking               Walking              3  \n",
       "4              Walking               Walking              3  \n",
       "...                ...                   ...            ...  \n",
       "409897    Lateral fall                  Fall              0  \n",
       "409898    Lateral fall                  Fall              0  \n",
       "409899    Lateral fall                  Fall              0  \n",
       "409900    Lateral fall                  Fall              0  \n",
       "409901    Lateral fall                  Fall              0  \n",
       "\n",
       "[262802 rows x 11 columns]"
      ]
     },
     "execution_count": 92,
     "metadata": {},
     "output_type": "execute_result"
    }
   ],
   "source": [
    "mu = []\n",
    "sigma = []\n",
    "for i in range(0,6):\n",
    "    print(Training_data.columns[i])\n",
    "    mu.append(np.mean(Training_data.iloc[:, i], axis=0))\n",
    "    sigma.append(np.std(Training_data.iloc[:, i], axis=0))\n",
    "    Training_data.iloc[:, i] = normalize_features(Training_data.iloc[:, i], mu[i], sigma[i])\n",
    "    \n",
    "Training_data"
   ]
  },
  {
   "cell_type": "code",
   "execution_count": 3,
   "id": "f1ded0a1",
   "metadata": {
    "scrolled": false
   },
   "outputs": [],
   "source": [
    "def create_segments(data):\n",
    "\n",
    "    segments = []\n",
    "    labels = []\n",
    "    for i in range(0, len(data) - TIME_PERIODS, STEP_DISTANCE):\n",
    "        accel_xs = data['accel_x'].values[i: i + TIME_PERIODS]\n",
    "        accel_ys = data['accel_y'].values[i: i + TIME_PERIODS]\n",
    "        accel_zs = data['accel_z'].values[i: i + TIME_PERIODS]\n",
    "        gyro_xs = data['gyro_x'].values[i: i + TIME_PERIODS]\n",
    "        gyro_ys = data['gyro_y'].values[i: i + TIME_PERIODS]\n",
    "        gyro_zs = data['gyro_z'].values[i: i + TIME_PERIODS]\n",
    "#         mag_xs = data['mag_x'].values[i: i + TIME_PERIODS]\n",
    "#         mag_ys = data['mag_y'].values[i: i + TIME_PERIODS]\n",
    "#         mag_zs = data['mag_z'].values[i: i + TIME_PERIODS]\n",
    "        \n",
    "#         #Features\n",
    "#         #mean\n",
    "#         accel_x_mean = np.full(TIME_PERIODS, accel_xs.mean())\n",
    "#     #     y_mean = np.full(TIME_PERIODS, ys.mean())\n",
    "#         accel_z_mean = np.full(TIME_PERIODS, accel_zs.mean())\n",
    "#         gyro_x_mean = np.full(TIME_PERIODS, gyro_xs.mean())\n",
    "#     #     pitch_mean = np.full(TIME_PERIODS, pitchs.mean())\n",
    "#         gyro_z_mean = np.full(TIME_PERIODS, gyro_zs.mean())\n",
    "#         #standard deviation\n",
    "#         accel_x_std = np.full(TIME_PERIODS, accel_xs.std())\n",
    "#         accel_y_std = np.full(TIME_PERIODS, accel_ys.std())\n",
    "#         accel_z_std = np.full(TIME_PERIODS, accel_zs.std())\n",
    "#         gyro_x_std = np.full(TIME_PERIODS, gyro_xs.std())\n",
    "#         gyro_y_std = np.full(TIME_PERIODS, gyro_ys.std())\n",
    "#         gyro_z_std = np.full(TIME_PERIODS, gyro_zs.std())\n",
    "#         #min\n",
    "#         accel_x_min = np.full(TIME_PERIODS, accel_xs.min())\n",
    "#         accel_y_min = np.full(TIME_PERIODS, accel_ys.min())\n",
    "#         accel_z_min = np.full(TIME_PERIODS, accel_zs.min())\n",
    "#         gyro_x_min = np.full(TIME_PERIODS, gyro_xs.min())\n",
    "#     #     pitch_min = np.full(TIME_PERIODS, pitchs.min())\n",
    "#     #     yaw_min = np.full(TIME_PERIODS, yaws.min())\n",
    "    \n",
    "#         #energy, here ** represents exponentiation\n",
    "#         accel_x_eng = np.full(TIME_PERIODS, np.sum(accel_xs**2)/TIME_PERIODS) \n",
    "#         accel_y_eng = np.full(TIME_PERIODS, np.sum(accel_ys**2)/TIME_PERIODS)\n",
    "#         accel_z_eng = np.full(TIME_PERIODS, np.sum(accel_zs**2)/TIME_PERIODS)\n",
    "#         #median absolute deviation (MAD)\n",
    "#         accel_x_mad = np.full(TIME_PERIODS, stats.median_abs_deviation(accel_xs))\n",
    "#     #     y_mad = np.full(TIME_PERIODS, stats.median_abs_deviation(ys))\n",
    "#         accel_z_mad = np.full(TIME_PERIODS, stats.median_abs_deviation(accel_zs))\n",
    "#     #     roll_mad = np.full(TIME_PERIODS, stats.median_abs_deviation(rolls))\n",
    "#         gyro_y_mad = np.full(TIME_PERIODS, stats.median_abs_deviation(gyro_ys))\n",
    "#         gyro_z_mad = np.full(TIME_PERIODS, stats.median_abs_deviation(gyro_zs))\n",
    "#         # signal magnitude area\n",
    "#         accel_sma = np.full(TIME_PERIODS, (np.sum(np.abs(accel_xs)) + np.sum(np.abs(accel_ys)) + np.sum(np.abs(accel_zs))) / TIME_PERIODS)\n",
    "#         gyro_sma = np.full(TIME_PERIODS, (np.sum(np.abs(gyro_xs)) + np.sum(np.abs(gyro_ys)) + np.sum(np.abs(gyro_zs))) / TIME_PERIODS)\n",
    "# #         # get frequency domain signal\n",
    "# #         x_freq = np.abs(np.fft.fft(xs))[1:51]\n",
    "# #         y_freq = np.abs(np.fft.fft(ys))[1:51]\n",
    "# #         z_freq = np.abs(np.fft.fft(zs))[1:51]\n",
    "# #         roll_freq = np.abs(np.fft.fft(rolls))[1:51]\n",
    "# #         pitch_freq = np.abs(np.fft.fft(pitchs))[1:51]\n",
    "# #         yaw_freq = np.abs(np.fft.fft(yaws))[1:51]\n",
    "# #         # freq mean\n",
    "# #         x_freq_mean = np.full(TIME_PERIODS, x_freq.mean())\n",
    "# #         y_freq_mean = np.full(TIME_PERIODS, y_freq.mean())\n",
    "# #         z_freq_mean = np.full(TIME_PERIODS, z_freq.mean())\n",
    "# #         roll_freq_mean = np.full(TIME_PERIODS, roll_freq.mean())\n",
    "# #         pitch_freq_mean = np.full(TIME_PERIODS, pitch_freq.mean())\n",
    "# #         yaw_freq_mean = np.full(TIME_PERIODS, yaw_freq.mean())\n",
    "# #         #freq standard deviation\n",
    "# #         x_freq_std = np.full(TIME_PERIODS, x_freq.std())\n",
    "# #         y_freq_std = np.full(TIME_PERIODS, y_freq.std())\n",
    "# #         z_freq_std = np.full(TIME_PERIODS, z_freq.std())\n",
    "# #         roll_freq_std = np.full(TIME_PERIODS, roll_freq.std())\n",
    "# #         pitch_freq_std = np.full(TIME_PERIODS, pitch_freq.std())\n",
    "# #         yaw_freq_std = np.full(TIME_PERIODS, yaw_freq.std())\n",
    "\n",
    "        # Retrieve the most often used label in this segment\n",
    "        label = stats.mode(data['encoded_label'][i: i + TIME_PERIODS])[0][0]\n",
    "        \n",
    "#         segments.append([accel_xs, accel_ys, accel_zs, gyro_xs, gyro_ys, gyro_zs, accel_x_mean,\\\n",
    "#                          accel_z_mean, gyro_x_mean, gyro_z_mean, accel_x_std, accel_y_std, accel_z_std, gyro_x_std,  gyro_y_std, \\\n",
    "#                          gyro_z_std, accel_x_min, accel_y_min, accel_z_min, gyro_x_min, accel_x_eng, accel_y_eng, accel_z_eng, \\\n",
    "#                          accel_x_mad, accel_z_mad, gyro_y_mad, gyro_z_mad, accel_sma, gyro_sma])\n",
    "        segments.append([accel_xs, accel_ys, accel_zs, gyro_xs, gyro_ys, gyro_zs])\n",
    "        labels.append(label)\n",
    "\n",
    "    # Bring the segments into a better shape\n",
    "    x_data = np.asarray(segments, dtype= np.float32).reshape(-1, TIME_PERIODS, no_of_features)\n",
    "    y_data = np.asarray(labels)\n",
    "    return x_data, y_data\n"
   ]
  },
  {
   "cell_type": "code",
   "execution_count": 94,
   "id": "f6e2060b",
   "metadata": {},
   "outputs": [
    {
     "name": "stdout",
     "output_type": "stream",
     "text": [
      "x shape:  (17517, 60, 6)\n",
      "y shape:  (17517,)\n"
     ]
    }
   ],
   "source": [
    "x_train, y_train = create_segments(Training_data)\n",
    "np.set_printoptions(threshold=np.inf)\n",
    "print(\"x shape: \",x_train.shape)\n",
    "print(\"y shape: \",y_train.shape)"
   ]
  },
  {
   "cell_type": "code",
   "execution_count": 95,
   "id": "a323b887",
   "metadata": {},
   "outputs": [
    {
     "data": {
      "text/plain": [
       "(17517, 360)"
      ]
     },
     "execution_count": 95,
     "metadata": {},
     "output_type": "execute_result"
    }
   ],
   "source": [
    "x_train = x_train.reshape(x_train.shape[0], TIME_PERIODS*no_of_features)\n",
    "x_train.shape"
   ]
  },
  {
   "cell_type": "code",
   "execution_count": 96,
   "id": "be095318",
   "metadata": {},
   "outputs": [
    {
     "name": "stdout",
     "output_type": "stream",
     "text": [
      "New y_train shape:  (17517, 6)\n"
     ]
    }
   ],
   "source": [
    "# Convert type for Keras otherwise Keras cannot process the data\n",
    "x_train = x_train.astype(\"float32\")\n",
    "y_train = y_train.astype(\"float32\")\n",
    "\n",
    "# One-hot encoding of y_train labels (only execute once!)\n",
    "y_train = np_utils.to_categorical(y_train, len(LABELS))\n",
    "print('New y_train shape: ', y_train.shape)"
   ]
  },
  {
   "cell_type": "markdown",
   "id": "3c0df1e7",
   "metadata": {},
   "source": [
    "### 1D-CNN Model"
   ]
  },
  {
   "cell_type": "code",
   "execution_count": 13,
   "id": "1d6345fe",
   "metadata": {},
   "outputs": [
    {
     "name": "stdout",
     "output_type": "stream",
     "text": [
      "Model: \"sequential\"\n",
      "_________________________________________________________________\n",
      " Layer (type)                Output Shape              Param #   \n",
      "=================================================================\n",
      " reshape (Reshape)           (None, 60, 6)             0         \n",
      "                                                                 \n",
      " conv1d (Conv1D)             (None, 58, 100)           1900      \n",
      "                                                                 \n",
      " max_pooling1d (MaxPooling1D  (None, 19, 100)          0         \n",
      " )                                                               \n",
      "                                                                 \n",
      " conv1d_1 (Conv1D)           (None, 17, 120)           36120     \n",
      "                                                                 \n",
      " max_pooling1d_1 (MaxPooling  (None, 5, 120)           0         \n",
      " 1D)                                                             \n",
      "                                                                 \n",
      " conv1d_2 (Conv1D)           (None, 3, 80)             28880     \n",
      "                                                                 \n",
      " global_average_pooling1d (G  (None, 80)               0         \n",
      " lobalAveragePooling1D)                                          \n",
      "                                                                 \n",
      " dropout (Dropout)           (None, 80)                0         \n",
      "                                                                 \n",
      " dense (Dense)               (None, 6)                 486       \n",
      "                                                                 \n",
      "=================================================================\n",
      "Total params: 67,386\n",
      "Trainable params: 67,386\n",
      "Non-trainable params: 0\n",
      "_________________________________________________________________\n",
      "None\n"
     ]
    }
   ],
   "source": [
    "model_m = Sequential()\n",
    "model_m.add(Reshape((TIME_PERIODS,no_of_features), input_shape=(TIME_PERIODS*no_of_features,)))\n",
    "model_m.add(Conv1D(100, 3, activation='relu'))\n",
    "model_m.add(MaxPooling1D(3))\n",
    "model_m.add(Conv1D(120, 3, activation='relu'))\n",
    "model_m.add(MaxPooling1D(3))\n",
    "model_m.add(Conv1D(80, 3, activation='relu'))\n",
    "model_m.add(GlobalAveragePooling1D())\n",
    "model_m.add(Dropout(0.3))\n",
    "model_m.add(Dense(len(LABELS), activation='softmax'))\n",
    "print(model_m.summary())"
   ]
  },
  {
   "cell_type": "code",
   "execution_count": 14,
   "id": "249787e7",
   "metadata": {
    "scrolled": true
   },
   "outputs": [
    {
     "name": "stdout",
     "output_type": "stream",
     "text": [
      "Epoch 1/50\n",
      "88/88 [==============================] - 4s 18ms/step - loss: 1.3027 - accuracy: 0.5355\n",
      "Epoch 2/50\n",
      "88/88 [==============================] - 1s 13ms/step - loss: 0.8421 - accuracy: 0.7034\n",
      "Epoch 3/50\n",
      "88/88 [==============================] - 1s 13ms/step - loss: 0.7311 - accuracy: 0.7391\n",
      "Epoch 4/50\n",
      "88/88 [==============================] - 1s 13ms/step - loss: 0.6622 - accuracy: 0.7609\n",
      "Epoch 5/50\n",
      "88/88 [==============================] - 1s 14ms/step - loss: 0.6180 - accuracy: 0.7772\n",
      "Epoch 6/50\n",
      "88/88 [==============================] - 1s 14ms/step - loss: 0.5835 - accuracy: 0.7919\n",
      "Epoch 7/50\n",
      "88/88 [==============================] - 1s 13ms/step - loss: 0.5517 - accuracy: 0.8020\n",
      "Epoch 8/50\n",
      "88/88 [==============================] - 1s 13ms/step - loss: 0.5412 - accuracy: 0.8061\n",
      "Epoch 9/50\n",
      "88/88 [==============================] - 1s 13ms/step - loss: 0.5137 - accuracy: 0.8159\n",
      "Epoch 10/50\n",
      "88/88 [==============================] - 1s 13ms/step - loss: 0.4951 - accuracy: 0.8211\n",
      "Epoch 11/50\n",
      "88/88 [==============================] - 1s 15ms/step - loss: 0.4873 - accuracy: 0.8194\n",
      "Epoch 12/50\n",
      "88/88 [==============================] - 1s 14ms/step - loss: 0.4736 - accuracy: 0.8246\n",
      "Epoch 13/50\n",
      "88/88 [==============================] - 1s 13ms/step - loss: 0.4559 - accuracy: 0.8294\n",
      "Epoch 14/50\n",
      "88/88 [==============================] - 1s 13ms/step - loss: 0.4404 - accuracy: 0.8374\n",
      "Epoch 15/50\n",
      "88/88 [==============================] - 1s 13ms/step - loss: 0.4465 - accuracy: 0.8330\n",
      "Epoch 16/50\n",
      "88/88 [==============================] - 1s 13ms/step - loss: 0.4259 - accuracy: 0.8418\n",
      "Epoch 17/50\n",
      "88/88 [==============================] - 1s 13ms/step - loss: 0.4168 - accuracy: 0.8443\n",
      "Epoch 18/50\n",
      "88/88 [==============================] - 1s 13ms/step - loss: 0.4126 - accuracy: 0.8463\n",
      "Epoch 19/50\n",
      "88/88 [==============================] - 1s 13ms/step - loss: 0.4048 - accuracy: 0.8488\n",
      "Epoch 20/50\n",
      "88/88 [==============================] - 1s 13ms/step - loss: 0.4025 - accuracy: 0.8467\n",
      "Epoch 21/50\n",
      "88/88 [==============================] - 1s 13ms/step - loss: 0.3889 - accuracy: 0.8516\n",
      "Epoch 22/50\n",
      "88/88 [==============================] - 1s 13ms/step - loss: 0.3842 - accuracy: 0.8544\n",
      "Epoch 23/50\n",
      "88/88 [==============================] - 1s 13ms/step - loss: 0.3769 - accuracy: 0.8578\n",
      "Epoch 24/50\n",
      "88/88 [==============================] - 1s 13ms/step - loss: 0.3672 - accuracy: 0.8587\n",
      "Epoch 25/50\n",
      "88/88 [==============================] - 1s 14ms/step - loss: 0.3610 - accuracy: 0.8628\n",
      "Epoch 26/50\n",
      "88/88 [==============================] - 1s 13ms/step - loss: 0.3587 - accuracy: 0.8604\n",
      "Epoch 27/50\n",
      "88/88 [==============================] - 1s 13ms/step - loss: 0.3550 - accuracy: 0.8626\n"
     ]
    }
   ],
   "source": [
    "callbacks_list = [\n",
    "    keras.callbacks.EarlyStopping(monitor='accuracy', patience=2)\n",
    "]\n",
    "\n",
    "opt = optimizers.SGD(learning_rate=0.01, momentum=0.9)\n",
    "\n",
    "model_m.compile(loss='categorical_crossentropy',\n",
    "                optimizer=opt, metrics=['accuracy'])\n",
    "\n",
    "BATCH_SIZE = 200\n",
    "EPOCHS = 50\n",
    "\n",
    "history = model_m.fit(x_train,\n",
    "                      y_train,\n",
    "                      batch_size=BATCH_SIZE,\n",
    "                      epochs=EPOCHS,\n",
    "                      callbacks=callbacks_list,\n",
    "                      verbose=1)"
   ]
  },
  {
   "cell_type": "code",
   "execution_count": 15,
   "id": "b99f141c",
   "metadata": {},
   "outputs": [
    {
     "data": {
      "image/png": "[encoded data removed]",
      "text/plain": [
       "<Figure size 432x288 with 1 Axes>"
      ]
     },
     "metadata": {
      "needs_background": "light"
     },
     "output_type": "display_data"
    }
   ],
   "source": [
    "# summarize history for accuracy and loss\n",
    "plt.figure(figsize=(6, 4))\n",
    "plt.plot(history.history['accuracy'], \"g--\", label=\"Accuracy of training data\")\n",
    "# plt.plot(history.history['val_accuracy'], \"g\", label=\"Accuracy of validation data\")\n",
    "plt.plot(history.history['loss'], \"r--\", label=\"Loss of training data\")\n",
    "# plt.plot(history.history['val_loss'], \"r\", label=\"Loss of validation data\")\n",
    "plt.title('Model Accuracy and Loss')\n",
    "plt.ylabel('Accuracy and Loss')\n",
    "plt.xlabel('Training Epoch')\n",
    "plt.ylim(0)\n",
    "plt.legend()\n",
    "plt.show()"
   ]
  },
  {
   "cell_type": "code",
   "execution_count": 97,
   "id": "7a9d9d46",
   "metadata": {},
   "outputs": [
    {
     "name": "stdout",
     "output_type": "stream",
     "text": [
      "['Fall', 'Jogging', 'Sitting action', 'Walking', 'climbing stairs', 'getting up']\n",
      "accel_x\n",
      "mean:  0.012236175547560521\n",
      "standard deviation:  0.34769250871819196\n",
      "accel_y\n",
      "mean:  -0.844028325626327\n",
      "standard deviation:  0.5536567307930977\n",
      "accel_z\n",
      "mean:  -0.1543912455955434\n",
      "standard deviation:  0.42467598155613845\n",
      "gyro_x\n",
      "mean:  0.2556826382272823\n",
      "standard deviation:  35.02454787273533\n",
      "gyro_y\n",
      "mean:  1.5261069734771806\n",
      "standard deviation:  35.0604674029397\n",
      "gyro_z\n",
      "mean:  -0.2920010667935128\n",
      "standard deviation:  27.524737149885194\n",
      "x shape:  (8723, 60, 6)\n",
      "y shape:  (8723,)\n"
     ]
    },
    {
     "data": {
      "text/plain": [
       "(8723, 6)"
      ]
     },
     "execution_count": 97,
     "metadata": {},
     "output_type": "execute_result"
    }
   ],
   "source": [
    "# Set input_shape / reshape for Keras\n",
    "# Encode labels\n",
    "Test_data['encoded_label'] = le.transform(Test_data['broad_mapped_activity'].values.ravel())\n",
    "print(list(le.classes_))\n",
    "\n",
    "for i in range(0,6):\n",
    "    print(data.columns[i])\n",
    "    Test_data.iloc[:, i] = normalize_features(Test_data.iloc[:, i], mu[i], sigma[i])\n",
    "    \n",
    "x_test, y_test = create_segments(Test_data)\n",
    "print(\"x shape: \",x_test.shape)\n",
    "print(\"y shape: \",y_test.shape)\n",
    "\n",
    "x_test = x_test.reshape(x_test.shape[0], TIME_PERIODS*no_of_features)\n",
    "\n",
    "x_test = x_test.astype(\"float32\")\n",
    "y_test = y_test.astype(\"float32\")\n",
    "\n",
    "y_test = np_utils.to_categorical(y_test, len(LABELS))\n",
    "y_test.shape"
   ]
  },
  {
   "cell_type": "code",
   "execution_count": 17,
   "id": "e221a205",
   "metadata": {},
   "outputs": [
    {
     "name": "stdout",
     "output_type": "stream",
     "text": [
      "273/273 [==============================] - 2s 4ms/step - loss: 0.4633 - accuracy: 0.8251\n",
      "\n",
      "Accuracy on test data: 0.83\n",
      "\n",
      "Loss on test data: 0.46\n"
     ]
    }
   ],
   "source": [
    "score = model_m.evaluate(x_test, y_test, verbose=1)\n",
    "\n",
    "print(\"\\nAccuracy on test data: %0.2f\" % score[1])\n",
    "print(\"\\nLoss on test data: %0.2f\" % score[0])"
   ]
  },
  {
   "cell_type": "code",
   "execution_count": 98,
   "id": "e4bb077d",
   "metadata": {},
   "outputs": [],
   "source": [
    "def show_confusion_matrix(validations, predictions):\n",
    "\n",
    "    matrix = metrics.confusion_matrix(validations, predictions)\n",
    "    plt.figure(figsize=(6, 4))\n",
    "    sns.heatmap(matrix,\n",
    "                cmap=\"coolwarm\",\n",
    "                linecolor='white',\n",
    "                linewidths=1,\n",
    "                xticklabels=LABELS,\n",
    "                yticklabels=LABELS,\n",
    "                annot=True,\n",
    "                fmt=\"d\")\n",
    "    plt.title(\"Confusion Matrix\")\n",
    "    plt.ylabel(\"True Label\")\n",
    "    plt.xlabel(\"Predicted Label\")\n",
    "    plt.show()"
   ]
  },
  {
   "cell_type": "code",
   "execution_count": 19,
   "id": "8b9d6ce5",
   "metadata": {},
   "outputs": [
    {
     "data": {
      "image/png": "[encoded data removed]",
      "text/plain": [
       "<Figure size 432x288 with 2 Axes>"
      ]
     },
     "metadata": {
      "needs_background": "light"
     },
     "output_type": "display_data"
    },
    {
     "name": "stdout",
     "output_type": "stream",
     "text": [
      "\n",
      "--- Classification report for test data ---\n",
      "\n",
      "              precision    recall  f1-score   support\n",
      "\n",
      "           0       0.89      0.69      0.78      1211\n",
      "           1       0.98      0.97      0.97      1147\n",
      "           2       0.80      0.62      0.70       953\n",
      "           3       0.91      0.85      0.88      1992\n",
      "           4       0.72      0.74      0.73      1300\n",
      "           5       0.74      0.94      0.83      2120\n",
      "\n",
      "    accuracy                           0.83      8723\n",
      "   macro avg       0.84      0.80      0.81      8723\n",
      "weighted avg       0.83      0.83      0.82      8723\n",
      "\n"
     ]
    }
   ],
   "source": [
    "y_pred_test = model_m.predict(x_test)\n",
    "# Take the class with the highest probability from the test predictions\n",
    "max_y_pred_test = np.argmax(y_pred_test, axis=1)\n",
    "max_y_test = np.argmax(y_test, axis=1)\n",
    "\n",
    "show_confusion_matrix(max_y_test, max_y_pred_test)\n",
    "\n",
    "print(\"\\n--- Classification report for test data ---\\n\")\n",
    "\n",
    "print(classification_report(max_y_test, max_y_pred_test))"
   ]
  },
  {
   "cell_type": "code",
   "execution_count": 20,
   "id": "8c111944",
   "metadata": {},
   "outputs": [],
   "source": [
    "model_m.save('best_model_cnn.h5')"
   ]
  },
  {
   "cell_type": "markdown",
   "id": "c7464269",
   "metadata": {},
   "source": [
    "### LSTM Model"
   ]
  },
  {
   "cell_type": "code",
   "execution_count": 54,
   "id": "96b75034",
   "metadata": {},
   "outputs": [
    {
     "name": "stdout",
     "output_type": "stream",
     "text": [
      "Model: \"sequential_6\"\n",
      "_________________________________________________________________\n",
      " Layer (type)                Output Shape              Param #   \n",
      "=================================================================\n",
      " lstm_6 (LSTM)               (None, 200)               165600    \n",
      "                                                                 \n",
      " dropout_6 (Dropout)         (None, 200)               0         \n",
      "                                                                 \n",
      " dense_12 (Dense)            (None, 100)               20100     \n",
      "                                                                 \n",
      " dense_13 (Dense)            (None, 6)                 606       \n",
      "                                                                 \n",
      "=================================================================\n",
      "Total params: 186,306\n",
      "Trainable params: 186,306\n",
      "Non-trainable params: 0\n",
      "_________________________________________________________________\n",
      "None\n"
     ]
    }
   ],
   "source": [
    "model_lstm = Sequential()\n",
    "model_lstm.add(LSTM(200, input_shape=(TIME_PERIODS,no_of_features)))\n",
    "model_lstm.add(Dropout(0.4))\n",
    "model_lstm.add(Dense(100, activation='relu'))\n",
    "model_lstm.add(Dense(len(LABELS), activation='softmax'))\n",
    "print(model_lstm.summary())"
   ]
  },
  {
   "cell_type": "code",
   "execution_count": 55,
   "id": "599d0234",
   "metadata": {},
   "outputs": [
    {
     "data": {
      "text/plain": [
       "(17517, 60, 6)"
      ]
     },
     "execution_count": 55,
     "metadata": {},
     "output_type": "execute_result"
    }
   ],
   "source": [
    "x_train = x_train.reshape(x_train.shape[0], TIME_PERIODS, no_of_features)\n",
    "x_train.shape"
   ]
  },
  {
   "cell_type": "code",
   "execution_count": 56,
   "id": "7da4c090",
   "metadata": {
    "scrolled": true
   },
   "outputs": [
    {
     "name": "stdout",
     "output_type": "stream",
     "text": [
      "Epoch 1/50\n",
      "88/88 [==============================] - 6s 43ms/step - loss: 0.4438 - accuracy: 0.2925\n",
      "Epoch 2/50\n",
      "88/88 [==============================] - 4s 42ms/step - loss: 0.3451 - accuracy: 0.4948\n",
      "Epoch 3/50\n",
      "88/88 [==============================] - 4s 43ms/step - loss: 0.2717 - accuracy: 0.6438\n",
      "Epoch 4/50\n",
      "88/88 [==============================] - 4s 43ms/step - loss: 0.2163 - accuracy: 0.7290\n",
      "Epoch 5/50\n",
      "88/88 [==============================] - 4s 43ms/step - loss: 0.1918 - accuracy: 0.7633\n",
      "Epoch 6/50\n",
      "88/88 [==============================] - 4s 43ms/step - loss: 0.1703 - accuracy: 0.7896\n",
      "Epoch 7/50\n",
      "88/88 [==============================] - 4s 43ms/step - loss: 0.1581 - accuracy: 0.8073\n",
      "Epoch 8/50\n",
      "88/88 [==============================] - 4s 43ms/step - loss: 0.1462 - accuracy: 0.8181\n",
      "Epoch 9/50\n",
      "88/88 [==============================] - 4s 43ms/step - loss: 0.1388 - accuracy: 0.8274\n",
      "Epoch 10/50\n",
      "88/88 [==============================] - 4s 43ms/step - loss: 0.1288 - accuracy: 0.8395\n",
      "Epoch 11/50\n",
      "88/88 [==============================] - 4s 43ms/step - loss: 0.1268 - accuracy: 0.8399\n",
      "Epoch 12/50\n",
      "88/88 [==============================] - 4s 43ms/step - loss: 0.1224 - accuracy: 0.8483\n",
      "Epoch 13/50\n",
      "88/88 [==============================] - 4s 43ms/step - loss: 0.1165 - accuracy: 0.8538\n",
      "Epoch 14/50\n",
      "88/88 [==============================] - 4s 43ms/step - loss: 0.1152 - accuracy: 0.8556\n",
      "Epoch 15/50\n",
      "88/88 [==============================] - 4s 43ms/step - loss: 0.1114 - accuracy: 0.8602\n",
      "Epoch 16/50\n",
      "88/88 [==============================] - 4s 44ms/step - loss: 0.1086 - accuracy: 0.8642\n",
      "Epoch 17/50\n",
      "88/88 [==============================] - 4s 43ms/step - loss: 0.1023 - accuracy: 0.8751\n",
      "Epoch 18/50\n",
      "88/88 [==============================] - 4s 44ms/step - loss: 0.0999 - accuracy: 0.8774\n",
      "Epoch 19/50\n",
      "88/88 [==============================] - 4s 43ms/step - loss: 0.0978 - accuracy: 0.8799\n",
      "Epoch 20/50\n",
      "88/88 [==============================] - 4s 43ms/step - loss: 0.0962 - accuracy: 0.8827\n",
      "Epoch 21/50\n",
      "88/88 [==============================] - 4s 43ms/step - loss: 0.0932 - accuracy: 0.8836\n",
      "Epoch 22/50\n",
      "88/88 [==============================] - 4s 43ms/step - loss: 0.0880 - accuracy: 0.8921\n",
      "Epoch 23/50\n",
      "88/88 [==============================] - 4s 43ms/step - loss: 0.0881 - accuracy: 0.8917\n",
      "Epoch 24/50\n",
      "88/88 [==============================] - 4s 43ms/step - loss: 0.0860 - accuracy: 0.8935\n",
      "Epoch 25/50\n",
      "88/88 [==============================] - 4s 43ms/step - loss: 0.0799 - accuracy: 0.9039\n",
      "Epoch 26/50\n",
      "88/88 [==============================] - 4s 43ms/step - loss: 0.0806 - accuracy: 0.9020\n",
      "Epoch 27/50\n",
      "88/88 [==============================] - 4s 43ms/step - loss: 0.0805 - accuracy: 0.9018\n"
     ]
    }
   ],
   "source": [
    "callbacks_list = [\n",
    "    keras.callbacks.EarlyStopping(monitor='accuracy', patience=2)\n",
    "]\n",
    "\n",
    "opt = optimizers.Adam(learning_rate=0.001)\n",
    "\n",
    "model_lstm.compile(loss='binary_crossentropy', optimizer=opt, metrics=['accuracy'])\n",
    "\n",
    "BATCH_SIZE = 200\n",
    "EPOCHS = 50\n",
    "\n",
    "history = model_lstm.fit(x_train,\n",
    "                      y_train,\n",
    "                      batch_size=BATCH_SIZE,\n",
    "                      epochs=EPOCHS,\n",
    "                      callbacks=callbacks_list,\n",
    "                      verbose=1)"
   ]
  },
  {
   "cell_type": "code",
   "execution_count": 57,
   "id": "03c133b2",
   "metadata": {},
   "outputs": [
    {
     "data": {
      "image/png": "[encoded data removed]",
      "text/plain": [
       "<Figure size 432x288 with 1 Axes>"
      ]
     },
     "metadata": {
      "needs_background": "light"
     },
     "output_type": "display_data"
    }
   ],
   "source": [
    "# summarize history for accuracy and loss\n",
    "plt.figure(figsize=(6, 4))\n",
    "plt.plot(history.history['accuracy'], \"g--\", label=\"Accuracy of training data\")\n",
    "# plt.plot(history.history['val_accuracy'], \"g\", label=\"Accuracy of validation data\")\n",
    "plt.plot(history.history['loss'], \"r--\", label=\"Loss of training data\")\n",
    "# plt.plot(history.history['val_loss'], \"r\", label=\"Loss of validation data\")\n",
    "plt.title('Model Accuracy and Loss')\n",
    "plt.ylabel('Accuracy and Loss')\n",
    "plt.xlabel('Training Epoch')\n",
    "plt.ylim(0)\n",
    "plt.legend()\n",
    "plt.show()"
   ]
  },
  {
   "cell_type": "code",
   "execution_count": 58,
   "id": "d3bca8ed",
   "metadata": {},
   "outputs": [
    {
     "data": {
      "text/plain": [
       "(8723, 60, 6)"
      ]
     },
     "execution_count": 58,
     "metadata": {},
     "output_type": "execute_result"
    }
   ],
   "source": [
    "x_test = x_test.reshape(x_test.shape[0], TIME_PERIODS, no_of_features)\n",
    "x_test.shape"
   ]
  },
  {
   "cell_type": "code",
   "execution_count": 59,
   "id": "dd51cfae",
   "metadata": {},
   "outputs": [
    {
     "name": "stdout",
     "output_type": "stream",
     "text": [
      "273/273 [==============================] - 2s 7ms/step - loss: 0.1979 - accuracy: 0.7965\n",
      "\n",
      "Accuracy on test data: 0.80\n",
      "\n",
      "Loss on test data: 0.20\n"
     ]
    }
   ],
   "source": [
    "score = model_lstm.evaluate(x_test, y_test, verbose=1)\n",
    "\n",
    "print(\"\\nAccuracy on test data: %0.2f\" % score[1])\n",
    "print(\"\\nLoss on test data: %0.2f\" % score[0])"
   ]
  },
  {
   "cell_type": "code",
   "execution_count": 60,
   "id": "11f27a2e",
   "metadata": {},
   "outputs": [
    {
     "data": {
      "image/png": "[encoded data removed]",
      "text/plain": [
       "<Figure size 432x288 with 2 Axes>"
      ]
     },
     "metadata": {
      "needs_background": "light"
     },
     "output_type": "display_data"
    },
    {
     "name": "stdout",
     "output_type": "stream",
     "text": [
      "\n",
      "--- Classification report for test data ---\n",
      "\n",
      "              precision    recall  f1-score   support\n",
      "\n",
      "           0       0.79      0.76      0.78      1211\n",
      "           1       0.98      0.94      0.96      1147\n",
      "           2       0.71      0.57      0.64       953\n",
      "           3       0.89      0.85      0.87      1992\n",
      "           4       0.63      0.76      0.69      1300\n",
      "           5       0.77      0.81      0.79      2120\n",
      "\n",
      "    accuracy                           0.80      8723\n",
      "   macro avg       0.80      0.78      0.79      8723\n",
      "weighted avg       0.80      0.80      0.80      8723\n",
      "\n"
     ]
    }
   ],
   "source": [
    "y_pred_test = model_lstm.predict(x_test)\n",
    "# Take the class with the highest probability from the test predictions\n",
    "max_y_pred_test = np.argmax(y_pred_test, axis=1)\n",
    "max_y_test = np.argmax(y_test, axis=1)\n",
    "\n",
    "show_confusion_matrix(max_y_test, max_y_pred_test)\n",
    "\n",
    "print(\"\\n--- Classification report for test data ---\\n\")\n",
    "\n",
    "print(classification_report(max_y_test, max_y_pred_test))"
   ]
  },
  {
   "cell_type": "code",
   "execution_count": 61,
   "id": "ce1d55ae",
   "metadata": {},
   "outputs": [],
   "source": [
    "model_lstm.save('best_model_lstm.h5')"
   ]
  },
  {
   "cell_type": "markdown",
   "id": "080892e0",
   "metadata": {},
   "source": [
    "### 1D CNN + LSTM Model"
   ]
  },
  {
   "cell_type": "code",
   "execution_count": 116,
   "id": "cd822796",
   "metadata": {},
   "outputs": [
    {
     "name": "stdout",
     "output_type": "stream",
     "text": [
      "Model: \"sequential_20\"\n",
      "_________________________________________________________________\n",
      " Layer (type)                Output Shape              Param #   \n",
      "=================================================================\n",
      " conv1d_10 (Conv1D)          (None, 58, 100)           1900      \n",
      "                                                                 \n",
      " lstm_12 (LSTM)              (None, 58, 200)           240800    \n",
      "                                                                 \n",
      " conv1d_11 (Conv1D)          (None, 56, 100)           60100     \n",
      "                                                                 \n",
      " max_pooling1d_5 (MaxPooling  (None, 18, 100)          0         \n",
      " 1D)                                                             \n",
      "                                                                 \n",
      " conv1d_12 (Conv1D)          (None, 16, 80)            24080     \n",
      "                                                                 \n",
      " global_average_pooling1d_2   (None, 80)               0         \n",
      " (GlobalAveragePooling1D)                                        \n",
      "                                                                 \n",
      " dropout_11 (Dropout)        (None, 80)                0         \n",
      "                                                                 \n",
      " dense_24 (Dense)            (None, 100)               8100      \n",
      "                                                                 \n",
      " dense_25 (Dense)            (None, 6)                 606       \n",
      "                                                                 \n",
      "=================================================================\n",
      "Total params: 335,586\n",
      "Trainable params: 335,586\n",
      "Non-trainable params: 0\n",
      "_________________________________________________________________\n",
      "None\n"
     ]
    }
   ],
   "source": [
    "model_lsnet = Sequential()\n",
    "model_lsnet.add(Conv1D(100, 3, activation='relu', input_shape=(TIME_PERIODS,no_of_features)))\n",
    "model_lsnet.add(LSTM(200, return_sequences=True))\n",
    "model_lsnet.add(Conv1D(100, 3, activation='relu'))\n",
    "model_lsnet.add(MaxPooling1D(3))\n",
    "model_lsnet.add(Conv1D(80, 3, activation='relu'))\n",
    "model_lsnet.add(GlobalAveragePooling1D())\n",
    "model_lsnet.add(Dropout(0.4))\n",
    "model_lsnet.add(Dense(100, activation='relu'))\n",
    "model_lsnet.add(Dense(len(LABELS), activation='softmax'))\n",
    "print(model_lsnet.summary())"
   ]
  },
  {
   "cell_type": "code",
   "execution_count": 117,
   "id": "d6d31add",
   "metadata": {},
   "outputs": [
    {
     "data": {
      "text/plain": [
       "(17517, 60, 6)"
      ]
     },
     "execution_count": 117,
     "metadata": {},
     "output_type": "execute_result"
    }
   ],
   "source": [
    "x_train = x_train.reshape(x_train.shape[0], TIME_PERIODS, no_of_features)\n",
    "x_train.shape"
   ]
  },
  {
   "cell_type": "code",
   "execution_count": 118,
   "id": "d5c82411",
   "metadata": {
    "scrolled": true
   },
   "outputs": [
    {
     "name": "stdout",
     "output_type": "stream",
     "text": [
      "Epoch 1/50\n",
      "88/88 [==============================] - 12s 84ms/step - loss: 0.3686 - accuracy: 0.4852\n",
      "Epoch 2/50\n",
      "88/88 [==============================] - 7s 78ms/step - loss: 0.2576 - accuracy: 0.6694\n",
      "Epoch 3/50\n",
      "88/88 [==============================] - 7s 79ms/step - loss: 0.2257 - accuracy: 0.7180\n",
      "Epoch 4/50\n",
      "88/88 [==============================] - 20s 228ms/step - loss: 0.1970 - accuracy: 0.7651\n",
      "Epoch 5/50\n",
      "88/88 [==============================] - 18s 199ms/step - loss: 0.1761 - accuracy: 0.7869\n",
      "Epoch 6/50\n",
      "88/88 [==============================] - 17s 196ms/step - loss: 0.1560 - accuracy: 0.8078\n",
      "Epoch 7/50\n",
      "88/88 [==============================] - 17s 193ms/step - loss: 0.1446 - accuracy: 0.8257\n",
      "Epoch 8/50\n",
      "88/88 [==============================] - 17s 193ms/step - loss: 0.1375 - accuracy: 0.8318\n",
      "Epoch 9/50\n",
      "88/88 [==============================] - 17s 195ms/step - loss: 0.1297 - accuracy: 0.8411\n",
      "Epoch 10/50\n",
      "88/88 [==============================] - 22s 249ms/step - loss: 0.1246 - accuracy: 0.8432\n",
      "Epoch 11/50\n",
      "88/88 [==============================] - 19s 214ms/step - loss: 0.1224 - accuracy: 0.8460\n",
      "Epoch 12/50\n",
      "88/88 [==============================] - 17s 195ms/step - loss: 0.1172 - accuracy: 0.8537\n",
      "Epoch 13/50\n",
      "88/88 [==============================] - 17s 196ms/step - loss: 0.1144 - accuracy: 0.8522\n",
      "Epoch 14/50\n",
      "88/88 [==============================] - 17s 196ms/step - loss: 0.1101 - accuracy: 0.8619\n",
      "Epoch 15/50\n",
      "88/88 [==============================] - 17s 195ms/step - loss: 0.1075 - accuracy: 0.8649\n",
      "Epoch 16/50\n",
      "88/88 [==============================] - 17s 195ms/step - loss: 0.1007 - accuracy: 0.8717\n",
      "Epoch 17/50\n",
      "88/88 [==============================] - 17s 195ms/step - loss: 0.1003 - accuracy: 0.8745\n",
      "Epoch 18/50\n",
      "88/88 [==============================] - 17s 194ms/step - loss: 0.0926 - accuracy: 0.8837\n",
      "Epoch 19/50\n",
      "88/88 [==============================] - 17s 195ms/step - loss: 0.0945 - accuracy: 0.8791\n",
      "Epoch 20/50\n",
      "88/88 [==============================] - 17s 195ms/step - loss: 0.0908 - accuracy: 0.8854\n",
      "Epoch 21/50\n",
      "88/88 [==============================] - 17s 196ms/step - loss: 0.0869 - accuracy: 0.8916\n",
      "Epoch 22/50\n",
      "88/88 [==============================] - 17s 196ms/step - loss: 0.0829 - accuracy: 0.8972\n",
      "Epoch 23/50\n",
      "88/88 [==============================] - 17s 195ms/step - loss: 0.0792 - accuracy: 0.9011\n",
      "Epoch 24/50\n",
      "88/88 [==============================] - 17s 194ms/step - loss: 0.0769 - accuracy: 0.9016\n",
      "Epoch 25/50\n",
      "88/88 [==============================] - 17s 195ms/step - loss: 0.0750 - accuracy: 0.9064\n",
      "Epoch 26/50\n",
      "88/88 [==============================] - 17s 195ms/step - loss: 0.0725 - accuracy: 0.9100\n",
      "Epoch 27/50\n",
      "88/88 [==============================] - 17s 195ms/step - loss: 0.0700 - accuracy: 0.9130\n",
      "Epoch 28/50\n",
      "88/88 [==============================] - 17s 195ms/step - loss: 0.0658 - accuracy: 0.9198\n",
      "Epoch 29/50\n",
      "88/88 [==============================] - 17s 195ms/step - loss: 0.0633 - accuracy: 0.9215\n",
      "Epoch 30/50\n",
      "88/88 [==============================] - 17s 195ms/step - loss: 0.0628 - accuracy: 0.9217\n",
      "Epoch 31/50\n",
      "88/88 [==============================] - 17s 194ms/step - loss: 0.0641 - accuracy: 0.9210\n",
      "Epoch 32/50\n",
      "88/88 [==============================] - 17s 195ms/step - loss: 0.0604 - accuracy: 0.9269\n",
      "Epoch 33/50\n",
      "88/88 [==============================] - 17s 195ms/step - loss: 0.0534 - accuracy: 0.9349\n",
      "Epoch 34/50\n",
      "88/88 [==============================] - 17s 195ms/step - loss: 0.0538 - accuracy: 0.9339\n",
      "Epoch 35/50\n",
      "88/88 [==============================] - 17s 196ms/step - loss: 0.0547 - accuracy: 0.9351\n",
      "Epoch 36/50\n",
      "88/88 [==============================] - 17s 195ms/step - loss: 0.0508 - accuracy: 0.9373\n",
      "Epoch 37/50\n",
      "88/88 [==============================] - 17s 195ms/step - loss: 0.0505 - accuracy: 0.9384\n",
      "Epoch 38/50\n",
      "88/88 [==============================] - 17s 194ms/step - loss: 0.0447 - accuracy: 0.9450\n",
      "Epoch 39/50\n",
      "88/88 [==============================] - 17s 195ms/step - loss: 0.0472 - accuracy: 0.9423\n",
      "Epoch 40/50\n",
      "88/88 [==============================] - 17s 195ms/step - loss: 0.0476 - accuracy: 0.9427\n"
     ]
    }
   ],
   "source": [
    "callbacks_list = [\n",
    "    keras.callbacks.EarlyStopping(monitor='accuracy', patience=2)\n",
    "]\n",
    "\n",
    "opt = optimizers.Adam(learning_rate=0.001)\n",
    "\n",
    "model_lsnet.compile(loss='binary_crossentropy', optimizer=opt, metrics=['accuracy'])\n",
    "\n",
    "BATCH_SIZE = 200\n",
    "EPOCHS = 50\n",
    "\n",
    "history = model_lsnet.fit(x_train,\n",
    "                      y_train,\n",
    "                      batch_size=BATCH_SIZE,\n",
    "                      epochs=EPOCHS,\n",
    "                      callbacks=callbacks_list,\n",
    "                      verbose=1)"
   ]
  },
  {
   "cell_type": "code",
   "execution_count": 119,
   "id": "79495a5e",
   "metadata": {},
   "outputs": [
    {
     "data": {
      "image/png": "[encoded data removed]",
      "text/plain": [
       "<Figure size 432x288 with 1 Axes>"
      ]
     },
     "metadata": {
      "needs_background": "light"
     },
     "output_type": "display_data"
    }
   ],
   "source": [
    "# summarize history for accuracy and loss\n",
    "plt.figure(figsize=(6, 4))\n",
    "plt.plot(history.history['accuracy'], \"g--\", label=\"Accuracy of training data\")\n",
    "# plt.plot(history.history['val_accuracy'], \"g\", label=\"Accuracy of validation data\")\n",
    "plt.plot(history.history['loss'], \"r--\", label=\"Loss of training data\")\n",
    "# plt.plot(history.history['val_loss'], \"r\", label=\"Loss of validation data\")\n",
    "plt.title('Model Accuracy and Loss')\n",
    "plt.ylabel('Accuracy and Loss')\n",
    "plt.xlabel('Training Epoch')\n",
    "plt.ylim(0)\n",
    "plt.legend()\n",
    "plt.show()"
   ]
  },
  {
   "cell_type": "code",
   "execution_count": 120,
   "id": "fbd9fc0f",
   "metadata": {},
   "outputs": [
    {
     "data": {
      "text/plain": [
       "(8723, 60, 6)"
      ]
     },
     "execution_count": 120,
     "metadata": {},
     "output_type": "execute_result"
    }
   ],
   "source": [
    "x_test = x_test.reshape(x_test.shape[0], TIME_PERIODS, no_of_features)\n",
    "x_test.shape"
   ]
  },
  {
   "cell_type": "code",
   "execution_count": 121,
   "id": "e2537d84",
   "metadata": {},
   "outputs": [
    {
     "name": "stdout",
     "output_type": "stream",
     "text": [
      "273/273 [==============================] - 6s 17ms/step - loss: 0.1966 - accuracy: 0.8278\n",
      "\n",
      "Accuracy on test data: 0.83\n",
      "\n",
      "Loss on test data: 0.20\n"
     ]
    }
   ],
   "source": [
    "score = model_lsnet.evaluate(x_test, y_test, verbose=1)\n",
    "\n",
    "print(\"\\nAccuracy on test data: %0.2f\" % score[1])\n",
    "print(\"\\nLoss on test data: %0.2f\" % score[0])"
   ]
  },
  {
   "cell_type": "code",
   "execution_count": 122,
   "id": "8127c99e",
   "metadata": {},
   "outputs": [
    {
     "data": {
      "image/png": "[encoded data removed]",
      "text/plain": [
       "<Figure size 432x288 with 2 Axes>"
      ]
     },
     "metadata": {
      "needs_background": "light"
     },
     "output_type": "display_data"
    },
    {
     "name": "stdout",
     "output_type": "stream",
     "text": [
      "\n",
      "--- Classification report for test data ---\n",
      "\n",
      "              precision    recall  f1-score   support\n",
      "\n",
      "           0       0.81      0.75      0.78      1211\n",
      "           1       0.96      0.99      0.97      1147\n",
      "           2       0.72      0.62      0.67       953\n",
      "           3       0.93      0.91      0.92      1992\n",
      "           4       0.73      0.82      0.77      1300\n",
      "           5       0.78      0.81      0.80      2120\n",
      "\n",
      "    accuracy                           0.83      8723\n",
      "   macro avg       0.82      0.82      0.82      8723\n",
      "weighted avg       0.83      0.83      0.83      8723\n",
      "\n"
     ]
    }
   ],
   "source": [
    "y_pred_test = model_lsnet.predict(x_test)\n",
    "# Take the class with the highest probability from the test predictions\n",
    "max_y_pred_test = np.argmax(y_pred_test, axis=1)\n",
    "max_y_test = np.argmax(y_test, axis=1)\n",
    "\n",
    "show_confusion_matrix(max_y_test, max_y_pred_test)\n",
    "\n",
    "print(\"\\n--- Classification report for test data ---\\n\")\n",
    "\n",
    "print(classification_report(max_y_test, max_y_pred_test))"
   ]
  },
  {
   "cell_type": "code",
   "execution_count": 123,
   "id": "0ef8b2e5",
   "metadata": {},
   "outputs": [],
   "source": [
    "model_lsnet.save('best_model_lsnet.h5')"
   ]
  },
  {
   "cell_type": "markdown",
   "id": "7a6e05cb",
   "metadata": {},
   "source": [
    "### RNN Model"
   ]
  },
  {
   "cell_type": "code",
   "execution_count": 79,
   "id": "d67cceec",
   "metadata": {},
   "outputs": [
    {
     "name": "stdout",
     "output_type": "stream",
     "text": [
      "Model: \"sequential_14\"\n",
      "_________________________________________________________________\n",
      " Layer (type)                Output Shape              Param #   \n",
      "=================================================================\n",
      " embedding_5 (Embedding)     (None, None, 64)          23040     \n",
      "                                                                 \n",
      " gru_5 (GRU)                 (None, None, 128)         74496     \n",
      "                                                                 \n",
      " simple_rnn_5 (SimpleRNN)    (None, 64)                12352     \n",
      "                                                                 \n",
      " dropout_8 (Dropout)         (None, 64)                0         \n",
      "                                                                 \n",
      " dense_19 (Dense)            (None, 6)                 390       \n",
      "                                                                 \n",
      "=================================================================\n",
      "Total params: 110,278\n",
      "Trainable params: 110,278\n",
      "Non-trainable params: 0\n",
      "_________________________________________________________________\n"
     ]
    }
   ],
   "source": [
    "model_rnn = keras.Sequential()\n",
    "model_rnn.add(Embedding(input_dim=TIME_PERIODS*no_of_features, output_dim=64))\n",
    "\n",
    "# The output of GRU will be a 3D tensor of shape (batch_size, timesteps, 256)\n",
    "model_rnn.add(GRU(128, return_sequences=True))\n",
    "\n",
    "# The output of SimpleRNN will be a 2D tensor of shape (batch_size, 128)\n",
    "model_rnn.add(SimpleRNN(64))\n",
    "model_rnn.add(Dropout(0.4))\n",
    "model_rnn.add(Dense(len(LABELS), activation='softmax'))\n",
    "\n",
    "model_rnn.summary()"
   ]
  },
  {
   "cell_type": "code",
   "execution_count": 80,
   "id": "627c2801",
   "metadata": {},
   "outputs": [
    {
     "data": {
      "text/plain": [
       "(17517, 360)"
      ]
     },
     "execution_count": 80,
     "metadata": {},
     "output_type": "execute_result"
    }
   ],
   "source": [
    "x_train = x_train.reshape(x_train.shape[0], TIME_PERIODS*no_of_features)\n",
    "x_train.shape"
   ]
  },
  {
   "cell_type": "code",
   "execution_count": 82,
   "id": "e9b1a6d8",
   "metadata": {
    "scrolled": true
   },
   "outputs": [
    {
     "name": "stdout",
     "output_type": "stream",
     "text": [
      "Epoch 1/50\n",
      "88/88 [==============================] - 154s 2s/step - loss: 1.5750 - accuracy: 0.3740\n",
      "Epoch 2/50\n",
      "88/88 [==============================] - 144s 2s/step - loss: 1.4819 - accuracy: 0.4450\n",
      "Epoch 3/50\n",
      "88/88 [==============================] - 151s 2s/step - loss: 1.4235 - accuracy: 0.4675\n",
      "Epoch 4/50\n",
      "88/88 [==============================] - 155s 2s/step - loss: 1.3584 - accuracy: 0.4896\n",
      "Epoch 5/50\n",
      "88/88 [==============================] - 155s 2s/step - loss: 1.3501 - accuracy: 0.4891\n"
     ]
    }
   ],
   "source": [
    "callbacks_list = [\n",
    "    keras.callbacks.EarlyStopping(monitor='accuracy', patience=1)\n",
    "]\n",
    "\n",
    "# opt = optimizers.SGD(learning_rate=0.01, momentum=0.9)\n",
    "\n",
    "model_rnn.compile(loss='categorical_crossentropy', optimizer='adam', metrics=['accuracy'])\n",
    "\n",
    "BATCH_SIZE = 200\n",
    "EPOCHS = 50\n",
    "\n",
    "history = model_rnn.fit(x_train,\n",
    "                      y_train,\n",
    "                      batch_size=BATCH_SIZE,\n",
    "                      epochs=EPOCHS,\n",
    "                      callbacks=callbacks_list,\n",
    "                      verbose=1)"
   ]
  },
  {
   "cell_type": "code",
   "execution_count": 83,
   "id": "2c815cec",
   "metadata": {},
   "outputs": [
    {
     "data": {
      "image/png": "[encoded data removed]",
      "text/plain": [
       "<Figure size 432x288 with 1 Axes>"
      ]
     },
     "metadata": {
      "needs_background": "light"
     },
     "output_type": "display_data"
    }
   ],
   "source": [
    "# summarize history for accuracy and loss\n",
    "plt.figure(figsize=(6, 4))\n",
    "plt.plot(history.history['accuracy'], \"g--\", label=\"Accuracy of training data\")\n",
    "# plt.plot(history.history['val_accuracy'], \"g\", label=\"Accuracy of validation data\")\n",
    "plt.plot(history.history['loss'], \"r--\", label=\"Loss of training data\")\n",
    "# plt.plot(history.history['val_loss'], \"r\", label=\"Loss of validation data\")\n",
    "plt.title('Model Accuracy and Loss')\n",
    "plt.ylabel('Accuracy and Loss')\n",
    "plt.xlabel('Training Epoch')\n",
    "plt.ylim(0)\n",
    "plt.legend()\n",
    "plt.show()"
   ]
  },
  {
   "cell_type": "code",
   "execution_count": 106,
   "id": "371bef1d",
   "metadata": {},
   "outputs": [
    {
     "data": {
      "text/plain": [
       "(8723, 360)"
      ]
     },
     "execution_count": 106,
     "metadata": {},
     "output_type": "execute_result"
    }
   ],
   "source": [
    "x_test = x_test.reshape(x_test.shape[0], TIME_PERIODS*no_of_features)\n",
    "x_test.shape"
   ]
  },
  {
   "cell_type": "code",
   "execution_count": 107,
   "id": "5545c8ab",
   "metadata": {},
   "outputs": [
    {
     "name": "stdout",
     "output_type": "stream",
     "text": [
      "273/273 [==============================] - 28s 99ms/step - loss: 1.2816 - accuracy: 0.5012\n",
      "\n",
      "Accuracy on test data: 0.50\n",
      "\n",
      "Loss on test data: 1.28\n"
     ]
    }
   ],
   "source": [
    "score = model_rnn.evaluate(x_test, y_test, verbose=1)\n",
    "\n",
    "print(\"\\nAccuracy on test data: %0.2f\" % score[1])\n",
    "print(\"\\nLoss on test data: %0.2f\" % score[0])"
   ]
  },
  {
   "cell_type": "code",
   "execution_count": 110,
   "id": "705e83e2",
   "metadata": {},
   "outputs": [],
   "source": [
    "y_pred_test = model_rnn.predict(x_test)\n",
    "# Take the class with the highest probability from the test predictions\n",
    "max_y_pred_test = np.argmax(y_pred_test, axis=1)\n",
    "max_y_test = np.argmax(y_test, axis=1)\n",
    "\n",
    "show_confusion_matrix(max_y_test, max_y_pred_test)\n",
    "\n",
    "print(\"\\n--- Classification report for test data ---\\n\")\n",
    "\n",
    "print(classification_report(max_y_test, max_y_pred_test))"
   ]
  },
  {
   "cell_type": "markdown",
   "id": "13bb57cd",
   "metadata": {},
   "source": [
    "# Making Predictions"
   ]
  },
  {
   "cell_type": "code",
   "execution_count": 32,
   "id": "0cbe1028",
   "metadata": {},
   "outputs": [
    {
     "name": "stdout",
     "output_type": "stream",
     "text": [
      "['Fall' 'Jogging' 'Sitting action' 'Walking' 'climbing stairs'\n",
      " 'getting up']\n",
      "        accel_x  accel_y  accel_z  gyro_x  gyro_y  gyro_z  user activity  \\\n",
      "324002   -0.069   -0.126    0.106   0.214   0.393  -0.612  SA19      F03   \n",
      "324003    0.111   -0.155    0.216  -0.119   0.762  -0.510  SA19      F03   \n",
      "324004   -0.406   -0.324    0.483  -0.197   0.883  -0.102  SA19      F03   \n",
      "324005   -0.833   -0.642    0.538   0.064   0.722  -0.034  SA19      F03   \n",
      "324006   -0.912   -0.832    0.897   0.411   0.487   0.146  SA19      F03   \n",
      "...         ...      ...      ...     ...     ...     ...   ...      ...   \n",
      "336997   -0.878   -0.853   -0.372  -0.699   0.524   1.188  SA21      F04   \n",
      "336998    0.852   -0.098   -0.676  -0.080   0.035   0.778  SA21      F04   \n",
      "336999    0.279   -0.500   -0.290  -0.009   0.834   0.370  SA21      F04   \n",
      "337000   -0.204   -0.035   -0.152   0.181   0.160  -0.227  SA21      F04   \n",
      "337001   -0.024    0.184    0.023   0.001   0.007  -0.542  SA21      F04   \n",
      "\n",
      "       mapped_activity broad_mapped_activity  encoded_label  \n",
      "324002         Walking               Walking              3  \n",
      "324003         Walking               Walking              3  \n",
      "324004         Walking               Walking              3  \n",
      "324005         Walking               Walking              3  \n",
      "324006         Walking               Walking              3  \n",
      "...                ...                   ...            ...  \n",
      "336997         Walking               Walking              3  \n",
      "336998         Walking               Walking              3  \n",
      "336999         Walking               Walking              3  \n",
      "337000         Walking               Walking              3  \n",
      "337001         Walking               Walking              3  \n",
      "\n",
      "[5000 rows x 11 columns]\n",
      "test data shape:  (330, 60, 6)\n",
      "Predictions: [0 0 0 2 0 0 3 3 3 3 3 3 0 0 2 2 2 0 0 3 3 3 3 3 3 3 0 0 0 2 0 0 3 3 3 3 3\n",
      " 3 3 0 0 0 0 0 0 0 3 3 3 3 3 3 0 0 0 0 2 0 0 2 3 3 3 3 3 0 3 0 0 0 0 0 3 3\n",
      " 3 3 3 3 3 3 3 0 0 0 0 0 2 3 3 3 3 3 0 3 0 0 0 0 0 3 3 3 3 3 3 3 0 0 0 0 0\n",
      " 0 3 2 3 3 3 3 3 0 0 0 0 0 0 0 3 3 3 3 3 0 0 0 0 0 0 0 0 3 4 4 3 3 3 0 0 0\n",
      " 0 0 0 0 2 4 4 3 3 3 0 0 0 0 0 0 0 3 3 3 3 4 4 4 0 0 0 0 0 0 0 3 3 3 3 3 3\n",
      " 0 0 0 0 0 0 0 3 3 4 3 3 3 0 0 0 0 0 0 0 1 3 3 3 3 0 0 0 0 0 0 0 0 0 3 3 3\n",
      " 3 3 0 0 0 0 0 0 0 0 1 3 3 3 3 3 0 0 0 0 0 0 0 0 3 3 3 3 3 0 0 0 0 0 0 0 0\n",
      " 3 3 3 3 3 3 0 0 0 0 0 0 0 3 3 3 3 3 3 3 3 0 0 0 0 0 0 3 3 3 3 3 3 3 3 0 3\n",
      " 0 0 0 3 3 3 3 3 3 3 3 3 0 0 0 0 3 3 3 3 3 3 3 3 3 3 0 0 0 3 3 3 3 3]\n",
      "Actual: [0 0 0 0 0 3 3 3 3 3 3 3 3 0 0 0 0 0 3 3 3 3 3 3 3 3 0 0 0 0 0 0 3 3 3 3 3\n",
      " 3 3 3 0 0 0 0 0 3 3 3 3 3 3 3 3 0 0 0 0 0 3 3 3 3 3 3 3 3 0 0 0 0 0 0 3 3\n",
      " 3 3 3 3 3 3 0 0 0 0 0 3 3 3 3 3 3 3 3 0 0 0 0 0 3 3 3 3 3 3 3 3 0 0 0 0 0\n",
      " 0 3 3 3 3 3 3 3 3 0 0 0 0 0 3 3 3 3 3 3 3 3 0 0 0 0 0 0 3 3 3 3 3 3 3 0 0\n",
      " 0 0 0 0 3 3 3 3 3 3 3 3 0 0 0 0 0 3 3 3 3 3 3 3 3 0 0 0 0 0 0 3 3 3 3 3 3\n",
      " 3 0 0 0 0 0 0 3 3 3 3 3 3 3 3 0 0 0 0 0 3 3 3 3 3 3 3 3 0 0 0 0 0 0 3 3 3\n",
      " 3 3 3 3 0 0 0 0 0 0 3 3 3 3 3 3 3 3 0 0 0 0 0 3 3 3 3 3 3 3 3 0 0 0 0 0 0\n",
      " 3 3 3 3 3 3 3 0 0 0 0 0 0 3 3 3 3 3 3 3 3 0 0 0 0 0 3 3 3 3 3 3 3 3 0 0 0\n",
      " 0 0 0 3 3 3 3 3 3 3 0 0 0 0 0 0 3 3 3 3 3 3 3 3 0 0 0 0 0 3 3 3 3 3]\n"
     ]
    }
   ],
   "source": [
    "data = pd.read_csv(\"Sisfall_dataset/processed_data.csv\")\n",
    "data = data[data['activity']!=\"D18\"]\n",
    "data = data[data['activity']!=\"D19\"]\n",
    "\n",
    "Test_data = data[data[\"user\"].isin(['SA17', 'SA18', 'SA19', 'SA20', 'SA21'])]\n",
    "\n",
    "activity = {'Fall': 0, 'Jogging': 1, 'Sitting action': 2, 'Walking': 3, 'climbing stairs': 4, 'getting up': 5}\n",
    "le = preprocessing.LabelEncoder()\n",
    "Test_data['encoded_label'] = le.fit_transform(Test_data['broad_mapped_activity'].values.ravel())\n",
    "print(le.classes_)\n",
    "\n",
    "mu = [0.012236175547560521, -0.844028325626327, -0.1543912455955434, 0.2556826382272823, 1.5261069734771806, -0.2920010667935128]\n",
    "sigma = [0.34769250871819196, 0.5536567307930977, 0.42467598155613845, 35.02454787273533, 35.0604674029397, 27.524737149885194]\n",
    "\n",
    "def normalize_features(data, mu_data, sigma_data):\n",
    "    return (data - mu_data)/sigma_data\n",
    "\n",
    "for i in range(0,6):\n",
    "        Test_data.iloc[:, i] = normalize_features(Test_data.iloc[:, i], mu[i], sigma[i])\n",
    "        \n",
    "Test_data = Test_data[100000:105000]\n",
    "print(Test_data)\n",
    "\n",
    "x_test_data, y_test_labels = create_segments(Test_data)\n",
    "print(\"test data shape: \", x_test_data.shape)\n",
    "\n",
    "model = keras.models.load_model('best_model_lstm.h5')\n",
    "\n",
    "x_test_data = x_test_data.astype(\"float32\")\n",
    "\n",
    "pred = model.predict(x_test_data)\n",
    "prediction = np.argmax(pred, axis=1)\n",
    "print(\"Predictions:\", prediction)\n",
    "print(\"Actual:\", y_test_labels)"
   ]
  },
  {
   "cell_type": "code",
   "execution_count": null,
   "id": "159dda0b",
   "metadata": {},
   "outputs": [],
   "source": []
  }
 ],
 "metadata": {
  "kernelspec": {
   "display_name": "Python 3",
   "language": "python",
   "name": "python3"
  },
  "language_info": {
   "codemirror_mode": {
    "name": "ipython",
    "version": 3
   },
   "file_extension": ".py",
   "mimetype": "text/x-python",
   "name": "python",
   "nbconvert_exporter": "python",
   "pygments_lexer": "ipython3",
   "version": "3.8.8"
  }
 },
 "nbformat": 4,
 "nbformat_minor": 5
}
