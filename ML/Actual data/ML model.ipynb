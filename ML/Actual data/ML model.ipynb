{
 "cells": [
  {
   "cell_type": "markdown",
   "id": "5cc33925",
   "metadata": {},
   "source": [
    "# Training Collected Data"
   ]
  },
  {
   "cell_type": "markdown",
   "id": "31dc97d2",
   "metadata": {},
   "source": [
    "code written by following this github: https://github.com/ni79ls/har-keras-cnn"
   ]
  },
  {
   "cell_type": "code",
   "execution_count": 57,
   "id": "93aab5a6",
   "metadata": {},
   "outputs": [],
   "source": [
    "from matplotlib import pyplot as plt\n",
    "%matplotlib inline\n",
    "import numpy as np\n",
    "import pandas as pd\n",
    "import seaborn as sns\n",
    "from scipy import stats\n",
    "import math\n",
    "\n",
    "from sklearn import metrics\n",
    "from sklearn.metrics import classification_report\n",
    "from sklearn import preprocessing\n",
    "from sklearn.model_selection import train_test_split\n",
    "\n",
    "import keras\n",
    "import tensorflow as tf\n",
    "from keras.models import Sequential\n",
    "from keras.layers import Dense, Dropout, Flatten, Reshape, GlobalAveragePooling1D\n",
    "from keras.layers import Conv1D, MaxPooling1D, LSTM, Embedding, SimpleRNN, GRU\n",
    "from keras.utils import np_utils\n",
    "from tensorflow.keras import optimizers\n",
    "\n",
    "import warnings\n",
    "warnings.filterwarnings('ignore')"
   ]
  },
  {
   "cell_type": "code",
   "execution_count": 58,
   "id": "750464c1",
   "metadata": {},
   "outputs": [
    {
     "data": {
      "text/html": [
       "<div>\n",
       "<style scoped>\n",
       "    .dataframe tbody tr th:only-of-type {\n",
       "        vertical-align: middle;\n",
       "    }\n",
       "\n",
       "    .dataframe tbody tr th {\n",
       "        vertical-align: top;\n",
       "    }\n",
       "\n",
       "    .dataframe thead th {\n",
       "        text-align: right;\n",
       "    }\n",
       "</style>\n",
       "<table border=\"1\" class=\"dataframe\">\n",
       "  <thead>\n",
       "    <tr style=\"text-align: right;\">\n",
       "      <th></th>\n",
       "      <th>accel_x</th>\n",
       "      <th>accel_y</th>\n",
       "      <th>accel_z</th>\n",
       "      <th>gyro_x</th>\n",
       "      <th>gyro_y</th>\n",
       "      <th>gyro_z</th>\n",
       "      <th>user</th>\n",
       "      <th>activity</th>\n",
       "    </tr>\n",
       "  </thead>\n",
       "  <tbody>\n",
       "    <tr>\n",
       "      <th>0</th>\n",
       "      <td>0.050</td>\n",
       "      <td>0.010</td>\n",
       "      <td>1.000</td>\n",
       "      <td>-5.910</td>\n",
       "      <td>-0.680</td>\n",
       "      <td>-2.780</td>\n",
       "      <td>Ramana</td>\n",
       "      <td>Fall</td>\n",
       "    </tr>\n",
       "    <tr>\n",
       "      <th>1</th>\n",
       "      <td>0.050</td>\n",
       "      <td>0.010</td>\n",
       "      <td>1.000</td>\n",
       "      <td>-1.950</td>\n",
       "      <td>-0.200</td>\n",
       "      <td>-1.310</td>\n",
       "      <td>Ramana</td>\n",
       "      <td>Fall</td>\n",
       "    </tr>\n",
       "    <tr>\n",
       "      <th>2</th>\n",
       "      <td>0.060</td>\n",
       "      <td>0.000</td>\n",
       "      <td>1.010</td>\n",
       "      <td>-1.330</td>\n",
       "      <td>0.110</td>\n",
       "      <td>-1.130</td>\n",
       "      <td>Ramana</td>\n",
       "      <td>Fall</td>\n",
       "    </tr>\n",
       "    <tr>\n",
       "      <th>3</th>\n",
       "      <td>0.060</td>\n",
       "      <td>0.010</td>\n",
       "      <td>1.000</td>\n",
       "      <td>-0.240</td>\n",
       "      <td>0.960</td>\n",
       "      <td>-0.820</td>\n",
       "      <td>Ramana</td>\n",
       "      <td>Fall</td>\n",
       "    </tr>\n",
       "    <tr>\n",
       "      <th>4</th>\n",
       "      <td>0.050</td>\n",
       "      <td>0.010</td>\n",
       "      <td>1.000</td>\n",
       "      <td>-0.110</td>\n",
       "      <td>1.330</td>\n",
       "      <td>-0.700</td>\n",
       "      <td>Ramana</td>\n",
       "      <td>Fall</td>\n",
       "    </tr>\n",
       "    <tr>\n",
       "      <th>...</th>\n",
       "      <td>...</td>\n",
       "      <td>...</td>\n",
       "      <td>...</td>\n",
       "      <td>...</td>\n",
       "      <td>...</td>\n",
       "      <td>...</td>\n",
       "      <td>...</td>\n",
       "      <td>...</td>\n",
       "    </tr>\n",
       "    <tr>\n",
       "      <th>42175</th>\n",
       "      <td>-0.060</td>\n",
       "      <td>-0.030</td>\n",
       "      <td>0.880</td>\n",
       "      <td>3.120</td>\n",
       "      <td>-2.150</td>\n",
       "      <td>-0.130</td>\n",
       "      <td>Zeon</td>\n",
       "      <td>Walking</td>\n",
       "    </tr>\n",
       "    <tr>\n",
       "      <th>42176</th>\n",
       "      <td>0.010</td>\n",
       "      <td>0.070</td>\n",
       "      <td>0.980</td>\n",
       "      <td>-6.890</td>\n",
       "      <td>-4.590</td>\n",
       "      <td>7.560</td>\n",
       "      <td>Zeon</td>\n",
       "      <td>Walking</td>\n",
       "    </tr>\n",
       "    <tr>\n",
       "      <th>42177</th>\n",
       "      <td>0.020</td>\n",
       "      <td>0.110</td>\n",
       "      <td>0.960</td>\n",
       "      <td>-14.880</td>\n",
       "      <td>-10.450</td>\n",
       "      <td>5.180</td>\n",
       "      <td>Zeon</td>\n",
       "      <td>Walking</td>\n",
       "    </tr>\n",
       "    <tr>\n",
       "      <th>42178</th>\n",
       "      <td>-0.030</td>\n",
       "      <td>0.200</td>\n",
       "      <td>0.730</td>\n",
       "      <td>33.880</td>\n",
       "      <td>-10.510</td>\n",
       "      <td>-11.360</td>\n",
       "      <td>Zeon</td>\n",
       "      <td>Walking</td>\n",
       "    </tr>\n",
       "    <tr>\n",
       "      <th>42179</th>\n",
       "      <td>-0.100</td>\n",
       "      <td>0.230</td>\n",
       "      <td>0.680</td>\n",
       "      <td>58.970</td>\n",
       "      <td>-22.840</td>\n",
       "      <td>-4.650</td>\n",
       "      <td>Zeon</td>\n",
       "      <td>Walking</td>\n",
       "    </tr>\n",
       "  </tbody>\n",
       "</table>\n",
       "<p>42180 rows × 8 columns</p>\n",
       "</div>"
      ],
      "text/plain": [
       "       accel_x  accel_y  accel_z  gyro_x  gyro_y  gyro_z    user activity\n",
       "0        0.050    0.010    1.000  -5.910  -0.680  -2.780  Ramana     Fall\n",
       "1        0.050    0.010    1.000  -1.950  -0.200  -1.310  Ramana     Fall\n",
       "2        0.060    0.000    1.010  -1.330   0.110  -1.130  Ramana     Fall\n",
       "3        0.060    0.010    1.000  -0.240   0.960  -0.820  Ramana     Fall\n",
       "4        0.050    0.010    1.000  -0.110   1.330  -0.700  Ramana     Fall\n",
       "...        ...      ...      ...     ...     ...     ...     ...      ...\n",
       "42175   -0.060   -0.030    0.880   3.120  -2.150  -0.130    Zeon  Walking\n",
       "42176    0.010    0.070    0.980  -6.890  -4.590   7.560    Zeon  Walking\n",
       "42177    0.020    0.110    0.960 -14.880 -10.450   5.180    Zeon  Walking\n",
       "42178   -0.030    0.200    0.730  33.880 -10.510 -11.360    Zeon  Walking\n",
       "42179   -0.100    0.230    0.680  58.970 -22.840  -4.650    Zeon  Walking\n",
       "\n",
       "[42180 rows x 8 columns]"
      ]
     },
     "execution_count": 58,
     "metadata": {},
     "output_type": "execute_result"
    }
   ],
   "source": [
    "data = pd.read_csv(\"new data/combined_data_new.csv\")\n",
    "\n",
    "data"
   ]
  },
  {
   "cell_type": "code",
   "execution_count": 59,
   "id": "82de05e7",
   "metadata": {},
   "outputs": [],
   "source": [
    "data = data[data['activity']!=\"Jogging\"]"
   ]
  },
  {
   "cell_type": "code",
   "execution_count": 60,
   "id": "60def274",
   "metadata": {},
   "outputs": [
    {
     "data": {
      "text/plain": [
       "['Fall', 'Idle', 'Sitting action', 'Walking']"
      ]
     },
     "execution_count": 60,
     "metadata": {},
     "output_type": "execute_result"
    }
   ],
   "source": [
    "# All data collected in 20Hz sample rate.\n",
    "\n",
    "# Set display upto 3 decimal places\n",
    "pd.options.display.float_format = '{:.3f}'.format\n",
    "\n",
    "# Labels are all the activity groups\n",
    "# LABELS = list(data.groupby([\"broad_mapped_activity\"]).groups.keys())\n",
    "LABELS = list(data.groupby([\"activity\"]).groups.keys())\n",
    "\n",
    "no_of_features = 6\n",
    "\n",
    "# The number of steps within one time segment (window size)\n",
    "TIME_PERIODS = 60\n",
    "# The steps to take from one segment to the next; if this value is equal to\n",
    "# TIME_PERIODS, then there is no overlap between the segments\n",
    "STEP_DISTANCE = 15\n",
    "\n",
    "LABELS"
   ]
  },
  {
   "cell_type": "code",
   "execution_count": 61,
   "id": "9b72317a",
   "metadata": {},
   "outputs": [
    {
     "name": "stdout",
     "output_type": "stream",
     "text": [
      "(30120, 8)\n"
     ]
    },
    {
     "data": {
      "text/html": [
       "<div>\n",
       "<style scoped>\n",
       "    .dataframe tbody tr th:only-of-type {\n",
       "        vertical-align: middle;\n",
       "    }\n",
       "\n",
       "    .dataframe tbody tr th {\n",
       "        vertical-align: top;\n",
       "    }\n",
       "\n",
       "    .dataframe thead th {\n",
       "        text-align: right;\n",
       "    }\n",
       "</style>\n",
       "<table border=\"1\" class=\"dataframe\">\n",
       "  <thead>\n",
       "    <tr style=\"text-align: right;\">\n",
       "      <th></th>\n",
       "      <th>accel_x</th>\n",
       "      <th>accel_y</th>\n",
       "      <th>accel_z</th>\n",
       "      <th>gyro_x</th>\n",
       "      <th>gyro_y</th>\n",
       "      <th>gyro_z</th>\n",
       "      <th>user</th>\n",
       "      <th>activity</th>\n",
       "    </tr>\n",
       "  </thead>\n",
       "  <tbody>\n",
       "    <tr>\n",
       "      <th>30120</th>\n",
       "      <td>-0.100</td>\n",
       "      <td>0.010</td>\n",
       "      <td>0.920</td>\n",
       "      <td>1.110</td>\n",
       "      <td>-3.210</td>\n",
       "      <td>-0.460</td>\n",
       "      <td>Zeon</td>\n",
       "      <td>Fall</td>\n",
       "    </tr>\n",
       "    <tr>\n",
       "      <th>30121</th>\n",
       "      <td>-0.100</td>\n",
       "      <td>0.010</td>\n",
       "      <td>0.920</td>\n",
       "      <td>3.610</td>\n",
       "      <td>-5.650</td>\n",
       "      <td>1.860</td>\n",
       "      <td>Zeon</td>\n",
       "      <td>Fall</td>\n",
       "    </tr>\n",
       "    <tr>\n",
       "      <th>30122</th>\n",
       "      <td>-0.090</td>\n",
       "      <td>0.010</td>\n",
       "      <td>0.930</td>\n",
       "      <td>3.490</td>\n",
       "      <td>-7.300</td>\n",
       "      <td>1.980</td>\n",
       "      <td>Zeon</td>\n",
       "      <td>Fall</td>\n",
       "    </tr>\n",
       "    <tr>\n",
       "      <th>30123</th>\n",
       "      <td>-0.090</td>\n",
       "      <td>0.010</td>\n",
       "      <td>0.930</td>\n",
       "      <td>3.910</td>\n",
       "      <td>-7.480</td>\n",
       "      <td>1.800</td>\n",
       "      <td>Zeon</td>\n",
       "      <td>Fall</td>\n",
       "    </tr>\n",
       "    <tr>\n",
       "      <th>30124</th>\n",
       "      <td>-0.080</td>\n",
       "      <td>0.010</td>\n",
       "      <td>0.930</td>\n",
       "      <td>3.670</td>\n",
       "      <td>-5.290</td>\n",
       "      <td>2.230</td>\n",
       "      <td>Zeon</td>\n",
       "      <td>Fall</td>\n",
       "    </tr>\n",
       "    <tr>\n",
       "      <th>...</th>\n",
       "      <td>...</td>\n",
       "      <td>...</td>\n",
       "      <td>...</td>\n",
       "      <td>...</td>\n",
       "      <td>...</td>\n",
       "      <td>...</td>\n",
       "      <td>...</td>\n",
       "      <td>...</td>\n",
       "    </tr>\n",
       "    <tr>\n",
       "      <th>42175</th>\n",
       "      <td>-0.060</td>\n",
       "      <td>-0.030</td>\n",
       "      <td>0.880</td>\n",
       "      <td>3.120</td>\n",
       "      <td>-2.150</td>\n",
       "      <td>-0.130</td>\n",
       "      <td>Zeon</td>\n",
       "      <td>Walking</td>\n",
       "    </tr>\n",
       "    <tr>\n",
       "      <th>42176</th>\n",
       "      <td>0.010</td>\n",
       "      <td>0.070</td>\n",
       "      <td>0.980</td>\n",
       "      <td>-6.890</td>\n",
       "      <td>-4.590</td>\n",
       "      <td>7.560</td>\n",
       "      <td>Zeon</td>\n",
       "      <td>Walking</td>\n",
       "    </tr>\n",
       "    <tr>\n",
       "      <th>42177</th>\n",
       "      <td>0.020</td>\n",
       "      <td>0.110</td>\n",
       "      <td>0.960</td>\n",
       "      <td>-14.880</td>\n",
       "      <td>-10.450</td>\n",
       "      <td>5.180</td>\n",
       "      <td>Zeon</td>\n",
       "      <td>Walking</td>\n",
       "    </tr>\n",
       "    <tr>\n",
       "      <th>42178</th>\n",
       "      <td>-0.030</td>\n",
       "      <td>0.200</td>\n",
       "      <td>0.730</td>\n",
       "      <td>33.880</td>\n",
       "      <td>-10.510</td>\n",
       "      <td>-11.360</td>\n",
       "      <td>Zeon</td>\n",
       "      <td>Walking</td>\n",
       "    </tr>\n",
       "    <tr>\n",
       "      <th>42179</th>\n",
       "      <td>-0.100</td>\n",
       "      <td>0.230</td>\n",
       "      <td>0.680</td>\n",
       "      <td>58.970</td>\n",
       "      <td>-22.840</td>\n",
       "      <td>-4.650</td>\n",
       "      <td>Zeon</td>\n",
       "      <td>Walking</td>\n",
       "    </tr>\n",
       "  </tbody>\n",
       "</table>\n",
       "<p>12060 rows × 8 columns</p>\n",
       "</div>"
      ],
      "text/plain": [
       "       accel_x  accel_y  accel_z  gyro_x  gyro_y  gyro_z  user activity\n",
       "30120   -0.100    0.010    0.920   1.110  -3.210  -0.460  Zeon     Fall\n",
       "30121   -0.100    0.010    0.920   3.610  -5.650   1.860  Zeon     Fall\n",
       "30122   -0.090    0.010    0.930   3.490  -7.300   1.980  Zeon     Fall\n",
       "30123   -0.090    0.010    0.930   3.910  -7.480   1.800  Zeon     Fall\n",
       "30124   -0.080    0.010    0.930   3.670  -5.290   2.230  Zeon     Fall\n",
       "...        ...      ...      ...     ...     ...     ...   ...      ...\n",
       "42175   -0.060   -0.030    0.880   3.120  -2.150  -0.130  Zeon  Walking\n",
       "42176    0.010    0.070    0.980  -6.890  -4.590   7.560  Zeon  Walking\n",
       "42177    0.020    0.110    0.960 -14.880 -10.450   5.180  Zeon  Walking\n",
       "42178   -0.030    0.200    0.730  33.880 -10.510 -11.360  Zeon  Walking\n",
       "42179   -0.100    0.230    0.680  58.970 -22.840  -4.650  Zeon  Walking\n",
       "\n",
       "[12060 rows x 8 columns]"
      ]
     },
     "execution_count": 61,
     "metadata": {},
     "output_type": "execute_result"
    }
   ],
   "source": [
    "# split the data into training and test set\n",
    "Training_data = data[data[\"user\"].isin(['Ramana','Wamika', 'Wira'])]\n",
    "# zeon_data = data[data[\"user\"].isin(['zeon'])]\n",
    "# Training_data = Training_data.append(zeon_data[~zeon_data[\"activity\"].isin([\"climbing stairs\"])])\n",
    "print(Training_data.shape)\n",
    "Test_data = data[data[\"user\"].isin(['Zeon'])]\n",
    "# Test_data = Test_data.append(zeon_data[zeon_data[\"activity\"].isin([\"climbing stairs\"])])\n",
    "Test_data"
   ]
  },
  {
   "cell_type": "code",
   "execution_count": 62,
   "id": "a9038bee",
   "metadata": {},
   "outputs": [
    {
     "name": "stdout",
     "output_type": "stream",
     "text": [
      "['Fall', 'Idle', 'Sitting action', 'Walking']\n"
     ]
    },
    {
     "data": {
      "text/html": [
       "<div>\n",
       "<style scoped>\n",
       "    .dataframe tbody tr th:only-of-type {\n",
       "        vertical-align: middle;\n",
       "    }\n",
       "\n",
       "    .dataframe tbody tr th {\n",
       "        vertical-align: top;\n",
       "    }\n",
       "\n",
       "    .dataframe thead th {\n",
       "        text-align: right;\n",
       "    }\n",
       "</style>\n",
       "<table border=\"1\" class=\"dataframe\">\n",
       "  <thead>\n",
       "    <tr style=\"text-align: right;\">\n",
       "      <th></th>\n",
       "      <th>accel_x</th>\n",
       "      <th>accel_y</th>\n",
       "      <th>accel_z</th>\n",
       "      <th>gyro_x</th>\n",
       "      <th>gyro_y</th>\n",
       "      <th>gyro_z</th>\n",
       "      <th>user</th>\n",
       "      <th>activity</th>\n",
       "      <th>encoded_label</th>\n",
       "    </tr>\n",
       "  </thead>\n",
       "  <tbody>\n",
       "    <tr>\n",
       "      <th>0</th>\n",
       "      <td>0.050</td>\n",
       "      <td>0.010</td>\n",
       "      <td>1.000</td>\n",
       "      <td>-5.910</td>\n",
       "      <td>-0.680</td>\n",
       "      <td>-2.780</td>\n",
       "      <td>Ramana</td>\n",
       "      <td>Fall</td>\n",
       "      <td>0</td>\n",
       "    </tr>\n",
       "    <tr>\n",
       "      <th>1</th>\n",
       "      <td>0.050</td>\n",
       "      <td>0.010</td>\n",
       "      <td>1.000</td>\n",
       "      <td>-1.950</td>\n",
       "      <td>-0.200</td>\n",
       "      <td>-1.310</td>\n",
       "      <td>Ramana</td>\n",
       "      <td>Fall</td>\n",
       "      <td>0</td>\n",
       "    </tr>\n",
       "    <tr>\n",
       "      <th>2</th>\n",
       "      <td>0.060</td>\n",
       "      <td>0.000</td>\n",
       "      <td>1.010</td>\n",
       "      <td>-1.330</td>\n",
       "      <td>0.110</td>\n",
       "      <td>-1.130</td>\n",
       "      <td>Ramana</td>\n",
       "      <td>Fall</td>\n",
       "      <td>0</td>\n",
       "    </tr>\n",
       "    <tr>\n",
       "      <th>3</th>\n",
       "      <td>0.060</td>\n",
       "      <td>0.010</td>\n",
       "      <td>1.000</td>\n",
       "      <td>-0.240</td>\n",
       "      <td>0.960</td>\n",
       "      <td>-0.820</td>\n",
       "      <td>Ramana</td>\n",
       "      <td>Fall</td>\n",
       "      <td>0</td>\n",
       "    </tr>\n",
       "    <tr>\n",
       "      <th>4</th>\n",
       "      <td>0.050</td>\n",
       "      <td>0.010</td>\n",
       "      <td>1.000</td>\n",
       "      <td>-0.110</td>\n",
       "      <td>1.330</td>\n",
       "      <td>-0.700</td>\n",
       "      <td>Ramana</td>\n",
       "      <td>Fall</td>\n",
       "      <td>0</td>\n",
       "    </tr>\n",
       "    <tr>\n",
       "      <th>...</th>\n",
       "      <td>...</td>\n",
       "      <td>...</td>\n",
       "      <td>...</td>\n",
       "      <td>...</td>\n",
       "      <td>...</td>\n",
       "      <td>...</td>\n",
       "      <td>...</td>\n",
       "      <td>...</td>\n",
       "      <td>...</td>\n",
       "    </tr>\n",
       "    <tr>\n",
       "      <th>30115</th>\n",
       "      <td>-0.050</td>\n",
       "      <td>-0.040</td>\n",
       "      <td>0.570</td>\n",
       "      <td>-23.040</td>\n",
       "      <td>1.300</td>\n",
       "      <td>-11.610</td>\n",
       "      <td>Wira</td>\n",
       "      <td>Walking</td>\n",
       "      <td>3</td>\n",
       "    </tr>\n",
       "    <tr>\n",
       "      <th>30116</th>\n",
       "      <td>-0.070</td>\n",
       "      <td>-0.100</td>\n",
       "      <td>0.560</td>\n",
       "      <td>-15.160</td>\n",
       "      <td>-9.380</td>\n",
       "      <td>-12.100</td>\n",
       "      <td>Wira</td>\n",
       "      <td>Walking</td>\n",
       "      <td>3</td>\n",
       "    </tr>\n",
       "    <tr>\n",
       "      <th>30117</th>\n",
       "      <td>0.110</td>\n",
       "      <td>-0.060</td>\n",
       "      <td>0.650</td>\n",
       "      <td>3.820</td>\n",
       "      <td>2.580</td>\n",
       "      <td>5.970</td>\n",
       "      <td>Wira</td>\n",
       "      <td>Walking</td>\n",
       "      <td>3</td>\n",
       "    </tr>\n",
       "    <tr>\n",
       "      <th>30118</th>\n",
       "      <td>0.050</td>\n",
       "      <td>-0.010</td>\n",
       "      <td>0.700</td>\n",
       "      <td>-1.860</td>\n",
       "      <td>17.290</td>\n",
       "      <td>-20.100</td>\n",
       "      <td>Wira</td>\n",
       "      <td>Walking</td>\n",
       "      <td>3</td>\n",
       "    </tr>\n",
       "    <tr>\n",
       "      <th>30119</th>\n",
       "      <td>-0.100</td>\n",
       "      <td>-0.050</td>\n",
       "      <td>0.690</td>\n",
       "      <td>-12.910</td>\n",
       "      <td>18.090</td>\n",
       "      <td>-37.800</td>\n",
       "      <td>Wira</td>\n",
       "      <td>Walking</td>\n",
       "      <td>3</td>\n",
       "    </tr>\n",
       "  </tbody>\n",
       "</table>\n",
       "<p>30120 rows × 9 columns</p>\n",
       "</div>"
      ],
      "text/plain": [
       "       accel_x  accel_y  accel_z  gyro_x  gyro_y  gyro_z    user activity  \\\n",
       "0        0.050    0.010    1.000  -5.910  -0.680  -2.780  Ramana     Fall   \n",
       "1        0.050    0.010    1.000  -1.950  -0.200  -1.310  Ramana     Fall   \n",
       "2        0.060    0.000    1.010  -1.330   0.110  -1.130  Ramana     Fall   \n",
       "3        0.060    0.010    1.000  -0.240   0.960  -0.820  Ramana     Fall   \n",
       "4        0.050    0.010    1.000  -0.110   1.330  -0.700  Ramana     Fall   \n",
       "...        ...      ...      ...     ...     ...     ...     ...      ...   \n",
       "30115   -0.050   -0.040    0.570 -23.040   1.300 -11.610    Wira  Walking   \n",
       "30116   -0.070   -0.100    0.560 -15.160  -9.380 -12.100    Wira  Walking   \n",
       "30117    0.110   -0.060    0.650   3.820   2.580   5.970    Wira  Walking   \n",
       "30118    0.050   -0.010    0.700  -1.860  17.290 -20.100    Wira  Walking   \n",
       "30119   -0.100   -0.050    0.690 -12.910  18.090 -37.800    Wira  Walking   \n",
       "\n",
       "       encoded_label  \n",
       "0                  0  \n",
       "1                  0  \n",
       "2                  0  \n",
       "3                  0  \n",
       "4                  0  \n",
       "...              ...  \n",
       "30115              3  \n",
       "30116              3  \n",
       "30117              3  \n",
       "30118              3  \n",
       "30119              3  \n",
       "\n",
       "[30120 rows x 9 columns]"
      ]
     },
     "execution_count": 62,
     "metadata": {},
     "output_type": "execute_result"
    }
   ],
   "source": [
    "# # Encode labels\n",
    "le = preprocessing.LabelEncoder()\n",
    "le.fit(LABELS)\n",
    "Training_data['encoded_label'] = le.transform(Training_data['activity'].values.ravel())\n",
    "print(list(le.classes_))\n",
    "Training_data"
   ]
  },
  {
   "cell_type": "code",
   "execution_count": 63,
   "id": "8c1c6137",
   "metadata": {},
   "outputs": [],
   "source": [
    "def normalize_features(data, mu, sigma):\n",
    "    print(\"mean: \", mu)\n",
    "    print(\"standard deviation: \", sigma)\n",
    "    return (data - mu)/sigma\n",
    "#     maxim = np.max(data, axis=0)\n",
    "#     minim = np.min(data, axis=0)\n",
    "#     return (data - minim)/(maxim - minim)"
   ]
  },
  {
   "cell_type": "code",
   "execution_count": 64,
   "id": "05ed09d4",
   "metadata": {},
   "outputs": [
    {
     "name": "stdout",
     "output_type": "stream",
     "text": [
      "accel_x\n",
      "mean:  0.05231241699867065\n",
      "standard deviation:  0.40801866511330726\n",
      "accel_y\n",
      "mean:  -0.05762715803452509\n",
      "standard deviation:  0.7795476927967934\n",
      "accel_z\n",
      "mean:  0.8252191235059748\n",
      "standard deviation:  0.8118311559818603\n",
      "gyro_x\n",
      "mean:  0.05676859229747714\n",
      "standard deviation:  86.05676081855844\n",
      "gyro_y\n",
      "mean:  0.7309349269588248\n",
      "standard deviation:  58.4324993489224\n",
      "gyro_z\n",
      "mean:  -0.8028837981407743\n",
      "standard deviation:  51.83655372696042\n"
     ]
    },
    {
     "data": {
      "text/html": [
       "<div>\n",
       "<style scoped>\n",
       "    .dataframe tbody tr th:only-of-type {\n",
       "        vertical-align: middle;\n",
       "    }\n",
       "\n",
       "    .dataframe tbody tr th {\n",
       "        vertical-align: top;\n",
       "    }\n",
       "\n",
       "    .dataframe thead th {\n",
       "        text-align: right;\n",
       "    }\n",
       "</style>\n",
       "<table border=\"1\" class=\"dataframe\">\n",
       "  <thead>\n",
       "    <tr style=\"text-align: right;\">\n",
       "      <th></th>\n",
       "      <th>accel_x</th>\n",
       "      <th>accel_y</th>\n",
       "      <th>accel_z</th>\n",
       "      <th>gyro_x</th>\n",
       "      <th>gyro_y</th>\n",
       "      <th>gyro_z</th>\n",
       "      <th>user</th>\n",
       "      <th>activity</th>\n",
       "      <th>encoded_label</th>\n",
       "    </tr>\n",
       "  </thead>\n",
       "  <tbody>\n",
       "    <tr>\n",
       "      <th>0</th>\n",
       "      <td>-0.006</td>\n",
       "      <td>0.087</td>\n",
       "      <td>0.215</td>\n",
       "      <td>-0.069</td>\n",
       "      <td>-0.024</td>\n",
       "      <td>-0.038</td>\n",
       "      <td>Ramana</td>\n",
       "      <td>Fall</td>\n",
       "      <td>0</td>\n",
       "    </tr>\n",
       "    <tr>\n",
       "      <th>1</th>\n",
       "      <td>-0.006</td>\n",
       "      <td>0.087</td>\n",
       "      <td>0.215</td>\n",
       "      <td>-0.023</td>\n",
       "      <td>-0.016</td>\n",
       "      <td>-0.010</td>\n",
       "      <td>Ramana</td>\n",
       "      <td>Fall</td>\n",
       "      <td>0</td>\n",
       "    </tr>\n",
       "    <tr>\n",
       "      <th>2</th>\n",
       "      <td>0.019</td>\n",
       "      <td>0.074</td>\n",
       "      <td>0.228</td>\n",
       "      <td>-0.016</td>\n",
       "      <td>-0.011</td>\n",
       "      <td>-0.006</td>\n",
       "      <td>Ramana</td>\n",
       "      <td>Fall</td>\n",
       "      <td>0</td>\n",
       "    </tr>\n",
       "    <tr>\n",
       "      <th>3</th>\n",
       "      <td>0.019</td>\n",
       "      <td>0.087</td>\n",
       "      <td>0.215</td>\n",
       "      <td>-0.003</td>\n",
       "      <td>0.004</td>\n",
       "      <td>-0.000</td>\n",
       "      <td>Ramana</td>\n",
       "      <td>Fall</td>\n",
       "      <td>0</td>\n",
       "    </tr>\n",
       "    <tr>\n",
       "      <th>4</th>\n",
       "      <td>-0.006</td>\n",
       "      <td>0.087</td>\n",
       "      <td>0.215</td>\n",
       "      <td>-0.002</td>\n",
       "      <td>0.010</td>\n",
       "      <td>0.002</td>\n",
       "      <td>Ramana</td>\n",
       "      <td>Fall</td>\n",
       "      <td>0</td>\n",
       "    </tr>\n",
       "    <tr>\n",
       "      <th>...</th>\n",
       "      <td>...</td>\n",
       "      <td>...</td>\n",
       "      <td>...</td>\n",
       "      <td>...</td>\n",
       "      <td>...</td>\n",
       "      <td>...</td>\n",
       "      <td>...</td>\n",
       "      <td>...</td>\n",
       "      <td>...</td>\n",
       "    </tr>\n",
       "    <tr>\n",
       "      <th>30115</th>\n",
       "      <td>-0.251</td>\n",
       "      <td>0.023</td>\n",
       "      <td>-0.314</td>\n",
       "      <td>-0.268</td>\n",
       "      <td>0.010</td>\n",
       "      <td>-0.208</td>\n",
       "      <td>Wira</td>\n",
       "      <td>Walking</td>\n",
       "      <td>3</td>\n",
       "    </tr>\n",
       "    <tr>\n",
       "      <th>30116</th>\n",
       "      <td>-0.300</td>\n",
       "      <td>-0.054</td>\n",
       "      <td>-0.327</td>\n",
       "      <td>-0.177</td>\n",
       "      <td>-0.173</td>\n",
       "      <td>-0.218</td>\n",
       "      <td>Wira</td>\n",
       "      <td>Walking</td>\n",
       "      <td>3</td>\n",
       "    </tr>\n",
       "    <tr>\n",
       "      <th>30117</th>\n",
       "      <td>0.141</td>\n",
       "      <td>-0.003</td>\n",
       "      <td>-0.216</td>\n",
       "      <td>0.044</td>\n",
       "      <td>0.032</td>\n",
       "      <td>0.131</td>\n",
       "      <td>Wira</td>\n",
       "      <td>Walking</td>\n",
       "      <td>3</td>\n",
       "    </tr>\n",
       "    <tr>\n",
       "      <th>30118</th>\n",
       "      <td>-0.006</td>\n",
       "      <td>0.061</td>\n",
       "      <td>-0.154</td>\n",
       "      <td>-0.022</td>\n",
       "      <td>0.283</td>\n",
       "      <td>-0.372</td>\n",
       "      <td>Wira</td>\n",
       "      <td>Walking</td>\n",
       "      <td>3</td>\n",
       "    </tr>\n",
       "    <tr>\n",
       "      <th>30119</th>\n",
       "      <td>-0.373</td>\n",
       "      <td>0.010</td>\n",
       "      <td>-0.167</td>\n",
       "      <td>-0.151</td>\n",
       "      <td>0.297</td>\n",
       "      <td>-0.714</td>\n",
       "      <td>Wira</td>\n",
       "      <td>Walking</td>\n",
       "      <td>3</td>\n",
       "    </tr>\n",
       "  </tbody>\n",
       "</table>\n",
       "<p>30120 rows × 9 columns</p>\n",
       "</div>"
      ],
      "text/plain": [
       "       accel_x  accel_y  accel_z  gyro_x  gyro_y  gyro_z    user activity  \\\n",
       "0       -0.006    0.087    0.215  -0.069  -0.024  -0.038  Ramana     Fall   \n",
       "1       -0.006    0.087    0.215  -0.023  -0.016  -0.010  Ramana     Fall   \n",
       "2        0.019    0.074    0.228  -0.016  -0.011  -0.006  Ramana     Fall   \n",
       "3        0.019    0.087    0.215  -0.003   0.004  -0.000  Ramana     Fall   \n",
       "4       -0.006    0.087    0.215  -0.002   0.010   0.002  Ramana     Fall   \n",
       "...        ...      ...      ...     ...     ...     ...     ...      ...   \n",
       "30115   -0.251    0.023   -0.314  -0.268   0.010  -0.208    Wira  Walking   \n",
       "30116   -0.300   -0.054   -0.327  -0.177  -0.173  -0.218    Wira  Walking   \n",
       "30117    0.141   -0.003   -0.216   0.044   0.032   0.131    Wira  Walking   \n",
       "30118   -0.006    0.061   -0.154  -0.022   0.283  -0.372    Wira  Walking   \n",
       "30119   -0.373    0.010   -0.167  -0.151   0.297  -0.714    Wira  Walking   \n",
       "\n",
       "       encoded_label  \n",
       "0                  0  \n",
       "1                  0  \n",
       "2                  0  \n",
       "3                  0  \n",
       "4                  0  \n",
       "...              ...  \n",
       "30115              3  \n",
       "30116              3  \n",
       "30117              3  \n",
       "30118              3  \n",
       "30119              3  \n",
       "\n",
       "[30120 rows x 9 columns]"
      ]
     },
     "execution_count": 64,
     "metadata": {},
     "output_type": "execute_result"
    }
   ],
   "source": [
    "mu = []\n",
    "sigma = []\n",
    "for i in range(0,6):\n",
    "    print(Training_data.columns[i])\n",
    "    mu.append(np.mean(Training_data.iloc[:, i], axis=0))\n",
    "    sigma.append(np.std(Training_data.iloc[:, i], axis=0))\n",
    "    Training_data.iloc[:, i] = normalize_features(Training_data.iloc[:, i], mu[i], sigma[i])\n",
    "    \n",
    "Training_data"
   ]
  },
  {
   "cell_type": "code",
   "execution_count": 65,
   "id": "f1ded0a1",
   "metadata": {
    "scrolled": false
   },
   "outputs": [],
   "source": [
    "def create_segments(data):\n",
    "\n",
    "    segments = []\n",
    "    labels = []\n",
    "    for i in range(0, len(data) - TIME_PERIODS, STEP_DISTANCE):\n",
    "        accel_xs = data['accel_x'].values[i: i + TIME_PERIODS]\n",
    "        accel_ys = data['accel_y'].values[i: i + TIME_PERIODS]\n",
    "        accel_zs = data['accel_z'].values[i: i + TIME_PERIODS]\n",
    "        gyro_xs = data['gyro_x'].values[i: i + TIME_PERIODS]\n",
    "        gyro_ys = data['gyro_y'].values[i: i + TIME_PERIODS]\n",
    "        gyro_zs = data['gyro_z'].values[i: i + TIME_PERIODS]\n",
    "#         mag_xs = data['mag_x'].values[i: i + TIME_PERIODS]\n",
    "#         mag_ys = data['mag_y'].values[i: i + TIME_PERIODS]\n",
    "#         mag_zs = data['mag_z'].values[i: i + TIME_PERIODS]\n",
    "        \n",
    "#         #Features\n",
    "#         #mean\n",
    "#         accel_x_mean = np.full(TIME_PERIODS, accel_xs.mean())\n",
    "#     #     y_mean = np.full(TIME_PERIODS, ys.mean())\n",
    "#         accel_z_mean = np.full(TIME_PERIODS, accel_zs.mean())\n",
    "#         gyro_x_mean = np.full(TIME_PERIODS, gyro_xs.mean())\n",
    "#     #     pitch_mean = np.full(TIME_PERIODS, pitchs.mean())\n",
    "#         gyro_z_mean = np.full(TIME_PERIODS, gyro_zs.mean())\n",
    "#         #standard deviation\n",
    "#         accel_x_std = np.full(TIME_PERIODS, accel_xs.std())\n",
    "#         accel_y_std = np.full(TIME_PERIODS, accel_ys.std())\n",
    "#         accel_z_std = np.full(TIME_PERIODS, accel_zs.std())\n",
    "#         gyro_x_std = np.full(TIME_PERIODS, gyro_xs.std())\n",
    "#         gyro_y_std = np.full(TIME_PERIODS, gyro_ys.std())\n",
    "#         gyro_z_std = np.full(TIME_PERIODS, gyro_zs.std())\n",
    "#         #min\n",
    "#         accel_x_min = np.full(TIME_PERIODS, accel_xs.min())\n",
    "#         accel_y_min = np.full(TIME_PERIODS, accel_ys.min())\n",
    "#         accel_z_min = np.full(TIME_PERIODS, accel_zs.min())\n",
    "#         gyro_x_min = np.full(TIME_PERIODS, gyro_xs.min())\n",
    "#     #     pitch_min = np.full(TIME_PERIODS, pitchs.min())\n",
    "#     #     yaw_min = np.full(TIME_PERIODS, yaws.min())\n",
    "    \n",
    "#         #energy, here ** represents exponentiation\n",
    "#         accel_x_eng = np.full(TIME_PERIODS, np.sum(accel_xs**2)/TIME_PERIODS) \n",
    "#         accel_y_eng = np.full(TIME_PERIODS, np.sum(accel_ys**2)/TIME_PERIODS)\n",
    "#         accel_z_eng = np.full(TIME_PERIODS, np.sum(accel_zs**2)/TIME_PERIODS)\n",
    "#         #median absolute deviation (MAD)\n",
    "#         accel_x_mad = np.full(TIME_PERIODS, stats.median_abs_deviation(accel_xs))\n",
    "#     #     y_mad = np.full(TIME_PERIODS, stats.median_abs_deviation(ys))\n",
    "#         accel_z_mad = np.full(TIME_PERIODS, stats.median_abs_deviation(accel_zs))\n",
    "#     #     roll_mad = np.full(TIME_PERIODS, stats.median_abs_deviation(rolls))\n",
    "#         gyro_y_mad = np.full(TIME_PERIODS, stats.median_abs_deviation(gyro_ys))\n",
    "#         gyro_z_mad = np.full(TIME_PERIODS, stats.median_abs_deviation(gyro_zs))\n",
    "#         # signal magnitude area\n",
    "#         accel_sma = np.full(TIME_PERIODS, (np.sum(np.abs(accel_xs)) + np.sum(np.abs(accel_ys)) + np.sum(np.abs(accel_zs))) / TIME_PERIODS)\n",
    "#         gyro_sma = np.full(TIME_PERIODS, (np.sum(np.abs(gyro_xs)) + np.sum(np.abs(gyro_ys)) + np.sum(np.abs(gyro_zs))) / TIME_PERIODS)\n",
    "# #         # get frequency domain signal\n",
    "# #         x_freq = np.abs(np.fft.fft(xs))[1:51]\n",
    "# #         y_freq = np.abs(np.fft.fft(ys))[1:51]\n",
    "# #         z_freq = np.abs(np.fft.fft(zs))[1:51]\n",
    "# #         roll_freq = np.abs(np.fft.fft(rolls))[1:51]\n",
    "# #         pitch_freq = np.abs(np.fft.fft(pitchs))[1:51]\n",
    "# #         yaw_freq = np.abs(np.fft.fft(yaws))[1:51]\n",
    "# #         # freq mean\n",
    "# #         x_freq_mean = np.full(TIME_PERIODS, x_freq.mean())\n",
    "# #         y_freq_mean = np.full(TIME_PERIODS, y_freq.mean())\n",
    "# #         z_freq_mean = np.full(TIME_PERIODS, z_freq.mean())\n",
    "# #         roll_freq_mean = np.full(TIME_PERIODS, roll_freq.mean())\n",
    "# #         pitch_freq_mean = np.full(TIME_PERIODS, pitch_freq.mean())\n",
    "# #         yaw_freq_mean = np.full(TIME_PERIODS, yaw_freq.mean())\n",
    "# #         #freq standard deviation\n",
    "# #         x_freq_std = np.full(TIME_PERIODS, x_freq.std())\n",
    "# #         y_freq_std = np.full(TIME_PERIODS, y_freq.std())\n",
    "# #         z_freq_std = np.full(TIME_PERIODS, z_freq.std())\n",
    "# #         roll_freq_std = np.full(TIME_PERIODS, roll_freq.std())\n",
    "# #         pitch_freq_std = np.full(TIME_PERIODS, pitch_freq.std())\n",
    "# #         yaw_freq_std = np.full(TIME_PERIODS, yaw_freq.std())\n",
    "\n",
    "        # Retrieve the most often used label in this segment\n",
    "        label = stats.mode(data['encoded_label'][i: i + TIME_PERIODS])[0][0]\n",
    "        \n",
    "#         segments.append([accel_xs, accel_ys, accel_zs, gyro_xs, gyro_ys, gyro_zs, accel_x_mean,\\\n",
    "#                          accel_z_mean, gyro_x_mean, gyro_z_mean, accel_x_std, accel_y_std, accel_z_std, gyro_x_std,  gyro_y_std, \\\n",
    "#                          gyro_z_std, accel_x_min, accel_y_min, accel_z_min, gyro_x_min, accel_x_eng, accel_y_eng, accel_z_eng, \\\n",
    "#                          accel_x_mad, accel_z_mad, gyro_y_mad, gyro_z_mad, accel_sma, gyro_sma])\n",
    "        segments.append([accel_xs, accel_ys, accel_zs, gyro_xs, gyro_ys, gyro_zs])\n",
    "        labels.append(label)\n",
    "\n",
    "    # Bring the segments into a better shape\n",
    "    x_data = np.asarray(segments, dtype= np.float32).reshape(-1, TIME_PERIODS, no_of_features)\n",
    "    y_data = np.asarray(labels)\n",
    "    return x_data, y_data\n"
   ]
  },
  {
   "cell_type": "code",
   "execution_count": 66,
   "id": "f6e2060b",
   "metadata": {},
   "outputs": [
    {
     "name": "stdout",
     "output_type": "stream",
     "text": [
      "x shape:  (2004, 60, 6)\n",
      "y shape:  (2004,)\n"
     ]
    }
   ],
   "source": [
    "x_train, y_train = create_segments(Training_data)\n",
    "np.set_printoptions(threshold=np.inf)\n",
    "print(\"x shape: \",x_train.shape)\n",
    "print(\"y shape: \",y_train.shape)"
   ]
  },
  {
   "cell_type": "code",
   "execution_count": 67,
   "id": "a323b887",
   "metadata": {},
   "outputs": [
    {
     "data": {
      "text/plain": [
       "(2004, 360)"
      ]
     },
     "execution_count": 67,
     "metadata": {},
     "output_type": "execute_result"
    }
   ],
   "source": [
    "x_train = x_train.reshape(x_train.shape[0], TIME_PERIODS*no_of_features)\n",
    "x_train.shape"
   ]
  },
  {
   "cell_type": "code",
   "execution_count": 68,
   "id": "be095318",
   "metadata": {},
   "outputs": [
    {
     "name": "stdout",
     "output_type": "stream",
     "text": [
      "New y_train shape:  (2004, 4)\n"
     ]
    }
   ],
   "source": [
    "# Convert type for Keras otherwise Keras cannot process the data\n",
    "x_train = x_train.astype(\"float32\")\n",
    "y_train = y_train.astype(\"float32\")\n",
    "\n",
    "# One-hot encoding of y_train labels (only execute once!)\n",
    "y_train = np_utils.to_categorical(y_train, len(LABELS))\n",
    "print('New y_train shape: ', y_train.shape)"
   ]
  },
  {
   "cell_type": "markdown",
   "id": "3c0df1e7",
   "metadata": {},
   "source": [
    "### 1D-CNN Model"
   ]
  },
  {
   "cell_type": "code",
   "execution_count": 72,
   "id": "1d6345fe",
   "metadata": {},
   "outputs": [
    {
     "name": "stdout",
     "output_type": "stream",
     "text": [
      "Model: \"sequential_6\"\n",
      "_________________________________________________________________\n",
      " Layer (type)                Output Shape              Param #   \n",
      "=================================================================\n",
      " reshape_3 (Reshape)         (None, 60, 6)             0         \n",
      "                                                                 \n",
      " conv1d_12 (Conv1D)          (None, 58, 100)           1900      \n",
      "                                                                 \n",
      " max_pooling1d_8 (MaxPooling  (None, 19, 100)          0         \n",
      " 1D)                                                             \n",
      "                                                                 \n",
      " conv1d_13 (Conv1D)          (None, 17, 100)           30100     \n",
      "                                                                 \n",
      " max_pooling1d_9 (MaxPooling  (None, 5, 100)           0         \n",
      " 1D)                                                             \n",
      "                                                                 \n",
      " conv1d_14 (Conv1D)          (None, 3, 80)             24080     \n",
      "                                                                 \n",
      " global_average_pooling1d_4   (None, 80)               0         \n",
      " (GlobalAveragePooling1D)                                        \n",
      "                                                                 \n",
      " dropout_8 (Dropout)         (None, 80)                0         \n",
      "                                                                 \n",
      " dense_11 (Dense)            (None, 4)                 324       \n",
      "                                                                 \n",
      "=================================================================\n",
      "Total params: 56,404\n",
      "Trainable params: 56,404\n",
      "Non-trainable params: 0\n",
      "_________________________________________________________________\n",
      "None\n"
     ]
    }
   ],
   "source": [
    "model_m = Sequential()\n",
    "model_m.add(Reshape((TIME_PERIODS,no_of_features), input_shape=(TIME_PERIODS*no_of_features,)))\n",
    "model_m.add(Conv1D(100, 3, activation='relu'))\n",
    "model_m.add(MaxPooling1D(3))\n",
    "model_m.add(Conv1D(100, 3, activation='relu'))\n",
    "model_m.add(MaxPooling1D(3))\n",
    "model_m.add(Conv1D(80, 3, activation='relu'))\n",
    "model_m.add(GlobalAveragePooling1D())\n",
    "model_m.add(Dropout(0.3))\n",
    "model_m.add(Dense(len(LABELS), activation='softmax'))\n",
    "print(model_m.summary())"
   ]
  },
  {
   "cell_type": "code",
   "execution_count": 73,
   "id": "249787e7",
   "metadata": {
    "scrolled": true
   },
   "outputs": [
    {
     "name": "stdout",
     "output_type": "stream",
     "text": [
      "Epoch 1/100\n",
      "11/11 [==============================] - 1s 25ms/step - loss: 1.2427 - accuracy: 0.2580\n",
      "Epoch 2/100\n",
      "11/11 [==============================] - 0s 14ms/step - loss: 1.0359 - accuracy: 0.5230\n",
      "Epoch 3/100\n",
      "11/11 [==============================] - 0s 13ms/step - loss: 0.7835 - accuracy: 0.8493\n",
      "Epoch 4/100\n",
      "11/11 [==============================] - 0s 13ms/step - loss: 0.5559 - accuracy: 0.9042\n",
      "Epoch 5/100\n",
      "11/11 [==============================] - 0s 13ms/step - loss: 0.3912 - accuracy: 0.9261\n",
      "Epoch 6/100\n",
      "11/11 [==============================] - 0s 13ms/step - loss: 0.2649 - accuracy: 0.9431\n",
      "Epoch 7/100\n",
      "11/11 [==============================] - 0s 14ms/step - loss: 0.2080 - accuracy: 0.9566\n",
      "Epoch 8/100\n",
      "11/11 [==============================] - 0s 13ms/step - loss: 0.2114 - accuracy: 0.9441\n",
      "Epoch 9/100\n",
      "11/11 [==============================] - 0s 13ms/step - loss: 0.1613 - accuracy: 0.9611\n",
      "Epoch 10/100\n",
      "11/11 [==============================] - 0s 13ms/step - loss: 0.1336 - accuracy: 0.9706\n",
      "Epoch 11/100\n",
      "11/11 [==============================] - 0s 14ms/step - loss: 0.1292 - accuracy: 0.9716\n",
      "Epoch 12/100\n",
      "11/11 [==============================] - 0s 13ms/step - loss: 0.1132 - accuracy: 0.9741\n",
      "Epoch 13/100\n",
      "11/11 [==============================] - 0s 13ms/step - loss: 0.1106 - accuracy: 0.9760\n",
      "Epoch 14/100\n",
      "11/11 [==============================] - 0s 14ms/step - loss: 0.1161 - accuracy: 0.9706\n",
      "Epoch 15/100\n",
      "11/11 [==============================] - 0s 14ms/step - loss: 0.1062 - accuracy: 0.9736\n"
     ]
    }
   ],
   "source": [
    "callbacks_list = [\n",
    "    keras.callbacks.EarlyStopping(monitor='accuracy', patience=2)\n",
    "]\n",
    "\n",
    "opt = optimizers.SGD(learning_rate=0.01, momentum=0.9)\n",
    "\n",
    "model_m.compile(loss='categorical_crossentropy',\n",
    "                optimizer='adam', metrics=['accuracy'])\n",
    "\n",
    "BATCH_SIZE = 200\n",
    "EPOCHS = 100\n",
    "\n",
    "history = model_m.fit(x_train,\n",
    "                      y_train,\n",
    "                      batch_size=BATCH_SIZE,\n",
    "                      epochs=EPOCHS,\n",
    "                      callbacks=callbacks_list,\n",
    "                      verbose=1)"
   ]
  },
  {
   "cell_type": "code",
   "execution_count": 74,
   "id": "b99f141c",
   "metadata": {},
   "outputs": [
    {
     "data": {
      "image/png": "[encoded data removed]",
      "text/plain": [
       "<Figure size 432x288 with 1 Axes>"
      ]
     },
     "metadata": {
      "needs_background": "light"
     },
     "output_type": "display_data"
    }
   ],
   "source": [
    "# summarize history for accuracy and loss\n",
    "plt.figure(figsize=(6, 4))\n",
    "plt.plot(history.history['accuracy'], \"g--\", label=\"Accuracy of training data\")\n",
    "# plt.plot(history.history['val_accuracy'], \"g\", label=\"Accuracy of validation data\")\n",
    "plt.plot(history.history['loss'], \"r--\", label=\"Loss of training data\")\n",
    "# plt.plot(history.history['val_loss'], \"r\", label=\"Loss of validation data\")\n",
    "plt.title('Model Accuracy and Loss')\n",
    "plt.ylabel('Accuracy and Loss')\n",
    "plt.xlabel('Training Epoch')\n",
    "plt.ylim(0)\n",
    "plt.legend()\n",
    "plt.show()"
   ]
  },
  {
   "cell_type": "code",
   "execution_count": 75,
   "id": "7a9d9d46",
   "metadata": {},
   "outputs": [
    {
     "name": "stdout",
     "output_type": "stream",
     "text": [
      "['Fall', 'Idle', 'Sitting action', 'Walking']\n",
      "accel_x\n",
      "mean:  0.05231241699867065\n",
      "standard deviation:  0.40801866511330726\n",
      "accel_y\n",
      "mean:  -0.05762715803452509\n",
      "standard deviation:  0.7795476927967934\n",
      "accel_z\n",
      "mean:  0.8252191235059748\n",
      "standard deviation:  0.8118311559818603\n",
      "gyro_x\n",
      "mean:  0.05676859229747714\n",
      "standard deviation:  86.05676081855844\n",
      "gyro_y\n",
      "mean:  0.7309349269588248\n",
      "standard deviation:  58.4324993489224\n",
      "gyro_z\n",
      "mean:  -0.8028837981407743\n",
      "standard deviation:  51.83655372696042\n",
      "x shape:  (800, 60, 6)\n",
      "y shape:  (800,)\n"
     ]
    },
    {
     "data": {
      "text/plain": [
       "(800, 4)"
      ]
     },
     "execution_count": 75,
     "metadata": {},
     "output_type": "execute_result"
    }
   ],
   "source": [
    "# Set input_shape / reshape for Keras\n",
    "# Encode labels\n",
    "Test_data['encoded_label'] = le.transform(Test_data['activity'].values.ravel())\n",
    "print(list(le.classes_))\n",
    "\n",
    "for i in range(0,6):\n",
    "    print(data.columns[i])\n",
    "    Test_data.iloc[:, i] = normalize_features(Test_data.iloc[:, i], mu[i], sigma[i])\n",
    "    \n",
    "x_test, y_test = create_segments(Test_data)\n",
    "print(\"x shape: \",x_test.shape)\n",
    "print(\"y shape: \",y_test.shape)\n",
    "\n",
    "x_test = x_test.reshape(x_test.shape[0], TIME_PERIODS*no_of_features)\n",
    "\n",
    "x_test = x_test.astype(\"float32\")\n",
    "y_test = y_test.astype(\"float32\")\n",
    "\n",
    "y_test = np_utils.to_categorical(y_test, len(LABELS))\n",
    "y_test.shape"
   ]
  },
  {
   "cell_type": "code",
   "execution_count": 76,
   "id": "e221a205",
   "metadata": {},
   "outputs": [
    {
     "name": "stdout",
     "output_type": "stream",
     "text": [
      "25/25 [==============================] - 0s 4ms/step - loss: 0.0638 - accuracy: 0.9862\n",
      "\n",
      "Accuracy on test data: 0.99\n",
      "\n",
      "Loss on test data: 0.06\n"
     ]
    }
   ],
   "source": [
    "score = model_m.evaluate(x_test, y_test, verbose=1)\n",
    "\n",
    "print(\"\\nAccuracy on test data: %0.2f\" % score[1])\n",
    "print(\"\\nLoss on test data: %0.2f\" % score[0])"
   ]
  },
  {
   "cell_type": "code",
   "execution_count": 77,
   "id": "e4bb077d",
   "metadata": {},
   "outputs": [],
   "source": [
    "def show_confusion_matrix(validations, predictions):\n",
    "\n",
    "    matrix = metrics.confusion_matrix(validations, predictions)\n",
    "    plt.figure(figsize=(6, 4))\n",
    "    sns.heatmap(matrix,\n",
    "                cmap=\"coolwarm\",\n",
    "                linecolor='white',\n",
    "                linewidths=1,\n",
    "                xticklabels=LABELS,\n",
    "                yticklabels=LABELS,\n",
    "                annot=True,\n",
    "                fmt=\"d\")\n",
    "    plt.title(\"Confusion Matrix\")\n",
    "    plt.ylabel(\"True Label\")\n",
    "    plt.xlabel(\"Predicted Label\")\n",
    "    plt.show()"
   ]
  },
  {
   "cell_type": "code",
   "execution_count": 78,
   "id": "8b9d6ce5",
   "metadata": {},
   "outputs": [
    {
     "data": {
      "image/png": "[encoded data removed]",
      "text/plain": [
       "<Figure size 432x288 with 2 Axes>"
      ]
     },
     "metadata": {
      "needs_background": "light"
     },
     "output_type": "display_data"
    },
    {
     "name": "stdout",
     "output_type": "stream",
     "text": [
      "\n",
      "--- Classification report for test data ---\n",
      "\n",
      "              precision    recall  f1-score   support\n",
      "\n",
      "           0       0.99      0.98      0.98       167\n",
      "           1       1.00      0.98      0.99       209\n",
      "           2       0.97      0.99      0.98       255\n",
      "           3       0.99      0.99      0.99       169\n",
      "\n",
      "    accuracy                           0.99       800\n",
      "   macro avg       0.99      0.99      0.99       800\n",
      "weighted avg       0.99      0.99      0.99       800\n",
      "\n"
     ]
    }
   ],
   "source": [
    "y_pred_test = model_m.predict(x_test)\n",
    "# Take the class with the highest probability from the test predictions\n",
    "max_y_pred_test = np.argmax(y_pred_test, axis=1)\n",
    "max_y_test = np.argmax(y_test, axis=1)\n",
    "\n",
    "show_confusion_matrix(max_y_test, max_y_pred_test)\n",
    "\n",
    "print(\"\\n--- Classification report for test data ---\\n\")\n",
    "\n",
    "print(classification_report(max_y_test, max_y_pred_test))"
   ]
  },
  {
   "cell_type": "code",
   "execution_count": 79,
   "id": "8c111944",
   "metadata": {},
   "outputs": [],
   "source": [
    "model_m.save('best_model_cnn.h5')"
   ]
  },
  {
   "cell_type": "code",
   "execution_count": 80,
   "id": "bd84906a",
   "metadata": {},
   "outputs": [
    {
     "name": "stdout",
     "output_type": "stream",
     "text": [
      "[0.05231241699867065, -0.05762715803452509, 0.8252191235059748, 0.05676859229747714, 0.7309349269588248, -0.8028837981407743]\n",
      "[0.40801866511330726, 0.7795476927967934, 0.8118311559818603, 86.05676081855844, 58.4324993489224, 51.83655372696042]\n"
     ]
    }
   ],
   "source": [
    "print(mu)\n",
    "print(sigma)"
   ]
  },
  {
   "cell_type": "markdown",
   "id": "c7464269",
   "metadata": {},
   "source": [
    "### LSTM Model"
   ]
  },
  {
   "cell_type": "code",
   "execution_count": 22,
   "id": "96b75034",
   "metadata": {},
   "outputs": [
    {
     "name": "stdout",
     "output_type": "stream",
     "text": [
      "Model: \"sequential_1\"\n",
      "_________________________________________________________________\n",
      " Layer (type)                Output Shape              Param #   \n",
      "=================================================================\n",
      " lstm (LSTM)                 (None, 250)               257000    \n",
      "                                                                 \n",
      " dropout_1 (Dropout)         (None, 250)               0         \n",
      "                                                                 \n",
      " dense_1 (Dense)             (None, 200)               50200     \n",
      "                                                                 \n",
      " dense_2 (Dense)             (None, 4)                 804       \n",
      "                                                                 \n",
      "=================================================================\n",
      "Total params: 308,004\n",
      "Trainable params: 308,004\n",
      "Non-trainable params: 0\n",
      "_________________________________________________________________\n",
      "None\n"
     ]
    }
   ],
   "source": [
    "model_lstm = Sequential()\n",
    "model_lstm.add(LSTM(250, input_shape=(TIME_PERIODS,no_of_features)))\n",
    "model_lstm.add(Dropout(0.3))\n",
    "model_lstm.add(Dense(200, activation='relu'))\n",
    "model_lstm.add(Dense(len(LABELS), activation='softmax'))\n",
    "print(model_lstm.summary())"
   ]
  },
  {
   "cell_type": "code",
   "execution_count": 23,
   "id": "599d0234",
   "metadata": {},
   "outputs": [
    {
     "data": {
      "text/plain": [
       "(2004, 60, 6)"
      ]
     },
     "execution_count": 23,
     "metadata": {},
     "output_type": "execute_result"
    }
   ],
   "source": [
    "x_train = x_train.reshape(x_train.shape[0], TIME_PERIODS, no_of_features)\n",
    "x_train.shape"
   ]
  },
  {
   "cell_type": "code",
   "execution_count": 24,
   "id": "7da4c090",
   "metadata": {
    "scrolled": true
   },
   "outputs": [
    {
     "name": "stdout",
     "output_type": "stream",
     "text": [
      "Epoch 1/50\n",
      "11/11 [==============================] - 3s 51ms/step - loss: 1.3181 - accuracy: 0.4760\n",
      "Epoch 2/50\n",
      "11/11 [==============================] - 1s 49ms/step - loss: 1.0010 - accuracy: 0.5180\n",
      "Epoch 3/50\n",
      "11/11 [==============================] - 1s 48ms/step - loss: 0.9052 - accuracy: 0.5464\n",
      "Epoch 4/50\n",
      "11/11 [==============================] - 1s 48ms/step - loss: 0.8214 - accuracy: 0.5983\n",
      "Epoch 5/50\n",
      "11/11 [==============================] - 1s 49ms/step - loss: 0.7343 - accuracy: 0.6642\n",
      "Epoch 6/50\n",
      "11/11 [==============================] - 1s 48ms/step - loss: 0.6536 - accuracy: 0.7590\n",
      "Epoch 7/50\n",
      "11/11 [==============================] - 1s 50ms/step - loss: 0.7357 - accuracy: 0.6831\n",
      "Epoch 8/50\n",
      "11/11 [==============================] - 1s 48ms/step - loss: 0.6056 - accuracy: 0.7420\n",
      "Epoch 9/50\n",
      "11/11 [==============================] - 1s 49ms/step - loss: 0.5747 - accuracy: 0.7799\n",
      "Epoch 10/50\n",
      "11/11 [==============================] - 1s 50ms/step - loss: 0.4921 - accuracy: 0.8293\n",
      "Epoch 11/50\n",
      "11/11 [==============================] - 1s 49ms/step - loss: 0.3880 - accuracy: 0.8713\n",
      "Epoch 12/50\n",
      "11/11 [==============================] - 1s 49ms/step - loss: 0.3579 - accuracy: 0.8797\n",
      "Epoch 13/50\n",
      "11/11 [==============================] - 1s 50ms/step - loss: 0.3961 - accuracy: 0.8797\n",
      "Epoch 14/50\n",
      "11/11 [==============================] - 1s 49ms/step - loss: 0.3348 - accuracy: 0.8847\n",
      "Epoch 15/50\n",
      "11/11 [==============================] - 1s 49ms/step - loss: 0.2693 - accuracy: 0.9152\n",
      "Epoch 16/50\n",
      "11/11 [==============================] - 1s 50ms/step - loss: 0.2448 - accuracy: 0.9132\n",
      "Epoch 17/50\n",
      "11/11 [==============================] - 1s 50ms/step - loss: 0.2322 - accuracy: 0.9217\n",
      "Epoch 18/50\n",
      "11/11 [==============================] - 1s 49ms/step - loss: 0.2482 - accuracy: 0.9147\n",
      "Epoch 19/50\n",
      "11/11 [==============================] - 1s 49ms/step - loss: 0.2122 - accuracy: 0.9311\n",
      "Epoch 20/50\n",
      "11/11 [==============================] - 1s 49ms/step - loss: 0.3714 - accuracy: 0.8708\n",
      "Epoch 21/50\n",
      "11/11 [==============================] - 1s 49ms/step - loss: 0.2820 - accuracy: 0.9142\n",
      "Epoch 22/50\n",
      "11/11 [==============================] - 1s 48ms/step - loss: 0.2193 - accuracy: 0.9316\n"
     ]
    }
   ],
   "source": [
    "callbacks_list = [\n",
    "    keras.callbacks.EarlyStopping(monitor='loss', patience=3)\n",
    "]\n",
    "\n",
    "# opt = optimizers.RMSprop(learning_rate=0.001, momentum=0.9)\n",
    "\n",
    "model_lstm.compile(loss='categorical_crossentropy', optimizer='adam', metrics=['accuracy'])\n",
    "\n",
    "BATCH_SIZE = 200\n",
    "EPOCHS = 50\n",
    "\n",
    "history = model_lstm.fit(x_train,\n",
    "                      y_train,\n",
    "                      batch_size=BATCH_SIZE,\n",
    "                      epochs=EPOCHS,\n",
    "                      callbacks=callbacks_list,\n",
    "                      verbose=1)"
   ]
  },
  {
   "cell_type": "code",
   "execution_count": 25,
   "id": "03c133b2",
   "metadata": {},
   "outputs": [
    {
     "data": {
      "image/png": "[encoded data removed]",
      "text/plain": [
       "<Figure size 432x288 with 1 Axes>"
      ]
     },
     "metadata": {
      "needs_background": "light"
     },
     "output_type": "display_data"
    }
   ],
   "source": [
    "# summarize history for accuracy and loss\n",
    "plt.figure(figsize=(6, 4))\n",
    "plt.plot(history.history['accuracy'], \"g--\", label=\"Accuracy of training data\")\n",
    "# plt.plot(history.history['val_accuracy'], \"g\", label=\"Accuracy of validation data\")\n",
    "plt.plot(history.history['loss'], \"r--\", label=\"Loss of training data\")\n",
    "# plt.plot(history.history['val_loss'], \"r\", label=\"Loss of validation data\")\n",
    "plt.title('Model Accuracy and Loss')\n",
    "plt.ylabel('Accuracy and Loss')\n",
    "plt.xlabel('Training Epoch')\n",
    "plt.ylim(0)\n",
    "plt.legend()\n",
    "plt.show()"
   ]
  },
  {
   "cell_type": "code",
   "execution_count": 26,
   "id": "d3bca8ed",
   "metadata": {},
   "outputs": [
    {
     "data": {
      "text/plain": [
       "(800, 60, 6)"
      ]
     },
     "execution_count": 26,
     "metadata": {},
     "output_type": "execute_result"
    }
   ],
   "source": [
    "x_test = x_test.reshape(x_test.shape[0], TIME_PERIODS, no_of_features)\n",
    "x_test.shape"
   ]
  },
  {
   "cell_type": "code",
   "execution_count": 27,
   "id": "dd51cfae",
   "metadata": {},
   "outputs": [
    {
     "name": "stdout",
     "output_type": "stream",
     "text": [
      "25/25 [==============================] - 1s 12ms/step - loss: 0.2642 - accuracy: 0.9150\n",
      "\n",
      "Accuracy on test data: 0.92\n",
      "\n",
      "Loss on test data: 0.26\n"
     ]
    }
   ],
   "source": [
    "score = model_lstm.evaluate(x_test, y_test, verbose=1)\n",
    "\n",
    "print(\"\\nAccuracy on test data: %0.2f\" % score[1])\n",
    "print(\"\\nLoss on test data: %0.2f\" % score[0])"
   ]
  },
  {
   "cell_type": "code",
   "execution_count": 28,
   "id": "11f27a2e",
   "metadata": {},
   "outputs": [
    {
     "data": {
      "image/png": "[encoded data removed]",
      "text/plain": [
       "<Figure size 432x288 with 2 Axes>"
      ]
     },
     "metadata": {
      "needs_background": "light"
     },
     "output_type": "display_data"
    },
    {
     "name": "stdout",
     "output_type": "stream",
     "text": [
      "\n",
      "--- Classification report for test data ---\n",
      "\n",
      "              precision    recall  f1-score   support\n",
      "\n",
      "           0       0.90      0.98      0.94       167\n",
      "           1       0.82      0.99      0.90       209\n",
      "           2       1.00      0.93      0.96       255\n",
      "           3       0.96      0.75      0.84       169\n",
      "\n",
      "    accuracy                           0.92       800\n",
      "   macro avg       0.92      0.91      0.91       800\n",
      "weighted avg       0.92      0.92      0.91       800\n",
      "\n"
     ]
    }
   ],
   "source": [
    "y_pred_test = model_lstm.predict(x_test)\n",
    "# Take the class with the highest probability from the test predictions\n",
    "max_y_pred_test = np.argmax(y_pred_test, axis=1)\n",
    "max_y_test = np.argmax(y_test, axis=1)\n",
    "\n",
    "show_confusion_matrix(max_y_test, max_y_pred_test)\n",
    "\n",
    "print(\"\\n--- Classification report for test data ---\\n\")\n",
    "\n",
    "print(classification_report(max_y_test, max_y_pred_test))"
   ]
  },
  {
   "cell_type": "code",
   "execution_count": 29,
   "id": "ce1d55ae",
   "metadata": {},
   "outputs": [],
   "source": [
    "model_lstm.save('best_model_lstm.h5')"
   ]
  },
  {
   "cell_type": "markdown",
   "id": "080892e0",
   "metadata": {},
   "source": [
    "### 1D CNN + LSTM Model"
   ]
  },
  {
   "cell_type": "code",
   "execution_count": 30,
   "id": "cd822796",
   "metadata": {},
   "outputs": [
    {
     "name": "stdout",
     "output_type": "stream",
     "text": [
      "Model: \"sequential_2\"\n",
      "_________________________________________________________________\n",
      " Layer (type)                Output Shape              Param #   \n",
      "=================================================================\n",
      " conv1d_3 (Conv1D)           (None, 58, 100)           1900      \n",
      "                                                                 \n",
      " max_pooling1d_2 (MaxPooling  (None, 19, 100)          0         \n",
      " 1D)                                                             \n",
      "                                                                 \n",
      " lstm_1 (LSTM)               (None, 19, 250)           351000    \n",
      "                                                                 \n",
      " conv1d_4 (Conv1D)           (None, 17, 100)           75100     \n",
      "                                                                 \n",
      " max_pooling1d_3 (MaxPooling  (None, 5, 100)           0         \n",
      " 1D)                                                             \n",
      "                                                                 \n",
      " conv1d_5 (Conv1D)           (None, 3, 80)             24080     \n",
      "                                                                 \n",
      " global_average_pooling1d_1   (None, 80)               0         \n",
      " (GlobalAveragePooling1D)                                        \n",
      "                                                                 \n",
      " dropout_2 (Dropout)         (None, 80)                0         \n",
      "                                                                 \n",
      " dense_3 (Dense)             (None, 100)               8100      \n",
      "                                                                 \n",
      " dense_4 (Dense)             (None, 4)                 404       \n",
      "                                                                 \n",
      "=================================================================\n",
      "Total params: 460,584\n",
      "Trainable params: 460,584\n",
      "Non-trainable params: 0\n",
      "_________________________________________________________________\n",
      "None\n"
     ]
    }
   ],
   "source": [
    "model_lsnet = Sequential()\n",
    "model_lsnet.add(Conv1D(100, 3, activation='relu', input_shape=(TIME_PERIODS,no_of_features)))\n",
    "model_lsnet.add(MaxPooling1D(3))\n",
    "model_lsnet.add(LSTM(250, return_sequences=True))\n",
    "model_lsnet.add(Conv1D(100, 3, activation='relu'))\n",
    "model_lsnet.add(MaxPooling1D(3))\n",
    "model_lsnet.add(Conv1D(80, 3, activation='relu'))\n",
    "model_lsnet.add(GlobalAveragePooling1D())\n",
    "model_lsnet.add(Dropout(0.4))\n",
    "model_lsnet.add(Dense(100, activation='relu'))\n",
    "model_lsnet.add(Dense(len(LABELS), activation='softmax'))\n",
    "print(model_lsnet.summary())"
   ]
  },
  {
   "cell_type": "code",
   "execution_count": 31,
   "id": "d6d31add",
   "metadata": {},
   "outputs": [
    {
     "data": {
      "text/plain": [
       "(2004, 60, 6)"
      ]
     },
     "execution_count": 31,
     "metadata": {},
     "output_type": "execute_result"
    }
   ],
   "source": [
    "x_train = x_train.reshape(x_train.shape[0], TIME_PERIODS, no_of_features)\n",
    "x_train.shape"
   ]
  },
  {
   "cell_type": "code",
   "execution_count": 32,
   "id": "d5c82411",
   "metadata": {
    "scrolled": true
   },
   "outputs": [
    {
     "name": "stdout",
     "output_type": "stream",
     "text": [
      "Epoch 1/100\n",
      "11/11 [==============================] - 4s 47ms/step - loss: 1.1406 - accuracy: 0.5269\n",
      "Epoch 2/100\n",
      "11/11 [==============================] - 0s 34ms/step - loss: 1.2146 - accuracy: 0.6891\n",
      "Epoch 3/100\n",
      "11/11 [==============================] - 0s 34ms/step - loss: 0.4760 - accuracy: 0.8633\n",
      "Epoch 4/100\n",
      "11/11 [==============================] - 0s 33ms/step - loss: 0.2395 - accuracy: 0.9381\n",
      "Epoch 5/100\n",
      "11/11 [==============================] - 0s 34ms/step - loss: 0.1403 - accuracy: 0.9631\n",
      "Epoch 6/100\n",
      "11/11 [==============================] - 0s 35ms/step - loss: 0.1308 - accuracy: 0.9661\n",
      "Epoch 7/100\n",
      "11/11 [==============================] - 0s 34ms/step - loss: 0.0944 - accuracy: 0.9736\n",
      "Epoch 8/100\n",
      "11/11 [==============================] - 0s 34ms/step - loss: 0.0944 - accuracy: 0.9731\n",
      "Epoch 9/100\n",
      "11/11 [==============================] - 0s 34ms/step - loss: 0.0906 - accuracy: 0.9780\n",
      "Epoch 10/100\n",
      "11/11 [==============================] - 0s 34ms/step - loss: 0.0976 - accuracy: 0.9716\n",
      "Epoch 11/100\n",
      "11/11 [==============================] - 0s 34ms/step - loss: 0.1472 - accuracy: 0.9636\n"
     ]
    }
   ],
   "source": [
    "callbacks_list = [\n",
    "    keras.callbacks.EarlyStopping(monitor='accuracy', patience=2)\n",
    "]\n",
    "\n",
    "opt = optimizers.RMSprop(learning_rate=0.001, momentum=0.9)\n",
    "\n",
    "model_lsnet.compile(loss='categorical_crossentropy', optimizer=opt, metrics=['accuracy'])\n",
    "\n",
    "BATCH_SIZE = 200\n",
    "EPOCHS = 100\n",
    "\n",
    "history = model_lsnet.fit(x_train,\n",
    "                      y_train,\n",
    "                      batch_size=BATCH_SIZE,\n",
    "                      epochs=EPOCHS,\n",
    "                      callbacks=callbacks_list,\n",
    "                      verbose=1)"
   ]
  },
  {
   "cell_type": "code",
   "execution_count": 33,
   "id": "79495a5e",
   "metadata": {},
   "outputs": [
    {
     "data": {
      "image/png": "[encoded data removed]",
      "text/plain": [
       "<Figure size 432x288 with 1 Axes>"
      ]
     },
     "metadata": {
      "needs_background": "light"
     },
     "output_type": "display_data"
    }
   ],
   "source": [
    "# summarize history for accuracy and loss\n",
    "plt.figure(figsize=(6, 4))\n",
    "plt.plot(history.history['accuracy'], \"g--\", label=\"Accuracy of training data\")\n",
    "# plt.plot(history.history['val_accuracy'], \"g\", label=\"Accuracy of validation data\")\n",
    "plt.plot(history.history['loss'], \"r--\", label=\"Loss of training data\")\n",
    "# plt.plot(history.history['val_loss'], \"r\", label=\"Loss of validation data\")\n",
    "plt.title('Model Accuracy and Loss')\n",
    "plt.ylabel('Accuracy and Loss')\n",
    "plt.xlabel('Training Epoch')\n",
    "plt.ylim(0)\n",
    "plt.legend()\n",
    "plt.show()"
   ]
  },
  {
   "cell_type": "code",
   "execution_count": 34,
   "id": "fbd9fc0f",
   "metadata": {},
   "outputs": [
    {
     "data": {
      "text/plain": [
       "(800, 60, 6)"
      ]
     },
     "execution_count": 34,
     "metadata": {},
     "output_type": "execute_result"
    }
   ],
   "source": [
    "x_test = x_test.reshape(x_test.shape[0], TIME_PERIODS, no_of_features)\n",
    "x_test.shape"
   ]
  },
  {
   "cell_type": "code",
   "execution_count": 35,
   "id": "e2537d84",
   "metadata": {},
   "outputs": [
    {
     "name": "stdout",
     "output_type": "stream",
     "text": [
      "25/25 [==============================] - 1s 7ms/step - loss: 0.1734 - accuracy: 0.9600\n",
      "\n",
      "Accuracy on test data: 0.96\n",
      "\n",
      "Loss on test data: 0.17\n"
     ]
    }
   ],
   "source": [
    "score = model_lsnet.evaluate(x_test, y_test, verbose=1)\n",
    "\n",
    "print(\"\\nAccuracy on test data: %0.2f\" % score[1])\n",
    "print(\"\\nLoss on test data: %0.2f\" % score[0])"
   ]
  },
  {
   "cell_type": "code",
   "execution_count": 36,
   "id": "8127c99e",
   "metadata": {},
   "outputs": [
    {
     "data": {
      "image/png": "[encoded data removed]",
      "text/plain": [
       "<Figure size 432x288 with 2 Axes>"
      ]
     },
     "metadata": {
      "needs_background": "light"
     },
     "output_type": "display_data"
    },
    {
     "name": "stdout",
     "output_type": "stream",
     "text": [
      "\n",
      "--- Classification report for test data ---\n",
      "\n",
      "              precision    recall  f1-score   support\n",
      "\n",
      "           0       1.00      0.96      0.98       167\n",
      "           1       0.91      0.99      0.95       209\n",
      "           2       0.95      0.99      0.97       255\n",
      "           3       1.00      0.88      0.93       169\n",
      "\n",
      "    accuracy                           0.96       800\n",
      "   macro avg       0.97      0.95      0.96       800\n",
      "weighted avg       0.96      0.96      0.96       800\n",
      "\n"
     ]
    }
   ],
   "source": [
    "y_pred_test = model_lsnet.predict(x_test)\n",
    "# Take the class with the highest probability from the test predictions\n",
    "max_y_pred_test = np.argmax(y_pred_test, axis=1)\n",
    "max_y_test = np.argmax(y_test, axis=1)\n",
    "\n",
    "show_confusion_matrix(max_y_test, max_y_pred_test)\n",
    "\n",
    "print(\"\\n--- Classification report for test data ---\\n\")\n",
    "\n",
    "print(classification_report(max_y_test, max_y_pred_test))"
   ]
  },
  {
   "cell_type": "code",
   "execution_count": 37,
   "id": "0ef8b2e5",
   "metadata": {},
   "outputs": [],
   "source": [
    "model_lsnet.save('best_model_lsnet.h5')"
   ]
  },
  {
   "cell_type": "markdown",
   "id": "e97358b0",
   "metadata": {},
   "source": [
    "### Transfer Learning with CNN model trained from Sisfall data"
   ]
  },
  {
   "cell_type": "code",
   "execution_count": 38,
   "id": "73615258",
   "metadata": {},
   "outputs": [
    {
     "name": "stdout",
     "output_type": "stream",
     "text": [
      "<keras.layers.core.reshape.Reshape object at 0x000001CD710FDD60>\n",
      "<keras.layers.convolutional.Conv1D object at 0x000001CCDB104550>\n",
      "<keras.layers.pooling.MaxPooling1D object at 0x000001CD95C9C9D0>\n",
      "<keras.layers.convolutional.Conv1D object at 0x000001CD9B241280>\n",
      "<keras.layers.pooling.MaxPooling1D object at 0x000001CD9B246EB0>\n",
      "<keras.layers.convolutional.Conv1D object at 0x000001CD9B2460A0>\n",
      "<keras.layers.pooling.GlobalAveragePooling1D object at 0x000001CD9B24F310>\n"
     ]
    }
   ],
   "source": [
    "from tensorflow.keras import Model \n",
    "model_pretrained = keras.models.load_model('best_model_cnn_online_data.h5')\n",
    "model_pretrained.layers\n",
    "\n",
    "for layer in model_pretrained.layers[:-2]:\n",
    "    print(layer)\n",
    "    layer.trainable = False"
   ]
  },
  {
   "cell_type": "code",
   "execution_count": 39,
   "id": "70564fb1",
   "metadata": {},
   "outputs": [
    {
     "name": "stdout",
     "output_type": "stream",
     "text": [
      "Model: \"model\"\n",
      "_________________________________________________________________\n",
      " Layer (type)                Output Shape              Param #   \n",
      "=================================================================\n",
      " reshape_input (InputLayer)  [(None, 360)]             0         \n",
      "                                                                 \n",
      " reshape (Reshape)           (None, 60, 6)             0         \n",
      "                                                                 \n",
      " conv1d (Conv1D)             (None, 58, 100)           1900      \n",
      "                                                                 \n",
      " max_pooling1d (MaxPooling1D  (None, 19, 100)          0         \n",
      " )                                                               \n",
      "                                                                 \n",
      " conv1d_1 (Conv1D)           (None, 17, 120)           36120     \n",
      "                                                                 \n",
      " max_pooling1d_1 (MaxPooling  (None, 5, 120)           0         \n",
      " 1D)                                                             \n",
      "                                                                 \n",
      " conv1d_2 (Conv1D)           (None, 3, 80)             28880     \n",
      "                                                                 \n",
      " global_average_pooling1d (G  (None, 80)               0         \n",
      " lobalAveragePooling1D)                                          \n",
      "                                                                 \n",
      " dense_5 (Dense)             (None, 512)               41472     \n",
      "                                                                 \n",
      " dropout_3 (Dropout)         (None, 512)               0         \n",
      "                                                                 \n",
      " dense_6 (Dense)             (None, 512)               262656    \n",
      "                                                                 \n",
      " dropout_4 (Dropout)         (None, 512)               0         \n",
      "                                                                 \n",
      " dense_7 (Dense)             (None, 4)                 2052      \n",
      "                                                                 \n",
      "=================================================================\n",
      "Total params: 373,080\n",
      "Trainable params: 306,180\n",
      "Non-trainable params: 66,900\n",
      "_________________________________________________________________\n"
     ]
    }
   ],
   "source": [
    "x = model_pretrained.layers[6].output\n",
    "# x = GlobalAveragePooling1D()(x)\n",
    "# x = Dropout(0.3)(x)\n",
    "x = Dense(units=512, activation='relu')(x)\n",
    "x = Dropout(0.3)(x)\n",
    "x = Dense(units=512, activation='relu')(x)\n",
    "x = Dropout(0.3)(x)\n",
    "output  = Dense(len(LABELS), activation='softmax')(x)\n",
    "model_tr = Model(model_pretrained.input, output)\n",
    "\n",
    "model_tr.summary()"
   ]
  },
  {
   "cell_type": "code",
   "execution_count": 40,
   "id": "87edf253",
   "metadata": {},
   "outputs": [
    {
     "data": {
      "text/plain": [
       "(2004, 360)"
      ]
     },
     "execution_count": 40,
     "metadata": {},
     "output_type": "execute_result"
    }
   ],
   "source": [
    "x_train = x_train.reshape(x_train.shape[0], TIME_PERIODS * no_of_features)\n",
    "x_train.shape"
   ]
  },
  {
   "cell_type": "code",
   "execution_count": 41,
   "id": "881a5d68",
   "metadata": {
    "scrolled": true
   },
   "outputs": [
    {
     "name": "stdout",
     "output_type": "stream",
     "text": [
      "Epoch 1/100\n",
      "11/11 [==============================] - 1s 14ms/step - loss: 0.9657 - accuracy: 0.6687\n",
      "Epoch 2/100\n",
      "11/11 [==============================] - 0s 9ms/step - loss: 0.4471 - accuracy: 0.9067\n",
      "Epoch 3/100\n",
      "11/11 [==============================] - 0s 10ms/step - loss: 0.2908 - accuracy: 0.9276\n",
      "Epoch 4/100\n",
      "11/11 [==============================] - 0s 10ms/step - loss: 0.2251 - accuracy: 0.9336\n",
      "Epoch 5/100\n",
      "11/11 [==============================] - 0s 10ms/step - loss: 0.1766 - accuracy: 0.9536\n",
      "Epoch 6/100\n",
      "11/11 [==============================] - 0s 10ms/step - loss: 0.1779 - accuracy: 0.9486\n",
      "Epoch 7/100\n",
      "11/11 [==============================] - 0s 10ms/step - loss: 0.1558 - accuracy: 0.9531\n",
      "Epoch 8/100\n",
      "11/11 [==============================] - 0s 9ms/step - loss: 0.1395 - accuracy: 0.9601\n",
      "Epoch 9/100\n",
      "11/11 [==============================] - 0s 9ms/step - loss: 0.1442 - accuracy: 0.9556\n",
      "Epoch 10/100\n",
      "11/11 [==============================] - 0s 9ms/step - loss: 0.1365 - accuracy: 0.9601\n",
      "Epoch 11/100\n",
      "11/11 [==============================] - 0s 9ms/step - loss: 0.1273 - accuracy: 0.9641\n",
      "Epoch 12/100\n",
      "11/11 [==============================] - 0s 8ms/step - loss: 0.1148 - accuracy: 0.9661\n",
      "Epoch 13/100\n",
      "11/11 [==============================] - 0s 9ms/step - loss: 0.1084 - accuracy: 0.9671\n",
      "Epoch 14/100\n",
      "11/11 [==============================] - 0s 9ms/step - loss: 0.1085 - accuracy: 0.9696\n",
      "Epoch 15/100\n",
      "11/11 [==============================] - 0s 9ms/step - loss: 0.1030 - accuracy: 0.9706\n",
      "Epoch 16/100\n",
      "11/11 [==============================] - 0s 9ms/step - loss: 0.0968 - accuracy: 0.9726\n",
      "Epoch 17/100\n",
      "11/11 [==============================] - 0s 9ms/step - loss: 0.0910 - accuracy: 0.9750\n",
      "Epoch 18/100\n",
      "11/11 [==============================] - 0s 8ms/step - loss: 0.0865 - accuracy: 0.9775\n",
      "Epoch 19/100\n",
      "11/11 [==============================] - 0s 9ms/step - loss: 0.0877 - accuracy: 0.9755\n",
      "Epoch 20/100\n",
      "11/11 [==============================] - 0s 8ms/step - loss: 0.0874 - accuracy: 0.9780\n",
      "Epoch 21/100\n",
      "11/11 [==============================] - 0s 9ms/step - loss: 0.0864 - accuracy: 0.9746\n",
      "Epoch 22/100\n",
      "11/11 [==============================] - 0s 10ms/step - loss: 0.1040 - accuracy: 0.9731\n",
      "Epoch 23/100\n",
      "11/11 [==============================] - 0s 10ms/step - loss: 0.0985 - accuracy: 0.9711\n",
      "Epoch 24/100\n",
      "11/11 [==============================] - 0s 9ms/step - loss: 0.1436 - accuracy: 0.9566\n"
     ]
    }
   ],
   "source": [
    "callbacks_list = [\n",
    "    keras.callbacks.EarlyStopping(monitor='loss', patience=3)\n",
    "]\n",
    "\n",
    "opt = optimizers.SGD(learning_rate=0.01, momentum = 0.9)\n",
    "\n",
    "model_tr.compile(loss='categorical_crossentropy', optimizer='adam', metrics=['accuracy'])\n",
    "\n",
    "BATCH_SIZE = 200\n",
    "EPOCHS = 100\n",
    "\n",
    "history = model_tr.fit(x_train,\n",
    "                      y_train,\n",
    "                      batch_size=BATCH_SIZE,\n",
    "                      epochs=EPOCHS,\n",
    "                      callbacks=callbacks_list,\n",
    "                      verbose=1)"
   ]
  },
  {
   "cell_type": "code",
   "execution_count": 42,
   "id": "433575e4",
   "metadata": {},
   "outputs": [
    {
     "data": {
      "image/png": "[encoded data removed]",
      "text/plain": [
       "<Figure size 432x288 with 1 Axes>"
      ]
     },
     "metadata": {
      "needs_background": "light"
     },
     "output_type": "display_data"
    }
   ],
   "source": [
    "# summarize history for accuracy and loss\n",
    "plt.figure(figsize=(6, 4))\n",
    "plt.plot(history.history['accuracy'], \"g--\", label=\"Accuracy of training data\")\n",
    "# plt.plot(history.history['val_accuracy'], \"g\", label=\"Accuracy of validation data\")\n",
    "plt.plot(history.history['loss'], \"r--\", label=\"Loss of training data\")\n",
    "# plt.plot(history.history['val_loss'], \"r\", label=\"Loss of validation data\")\n",
    "plt.title('Model Accuracy and Loss')\n",
    "plt.ylabel('Accuracy and Loss')\n",
    "plt.xlabel('Training Epoch')\n",
    "plt.ylim(0)\n",
    "plt.legend()\n",
    "plt.show()"
   ]
  },
  {
   "cell_type": "code",
   "execution_count": 43,
   "id": "be1d173b",
   "metadata": {},
   "outputs": [
    {
     "data": {
      "text/plain": [
       "(800, 360)"
      ]
     },
     "execution_count": 43,
     "metadata": {},
     "output_type": "execute_result"
    }
   ],
   "source": [
    "x_test = x_test.reshape(x_test.shape[0], TIME_PERIODS * no_of_features)\n",
    "x_test.shape"
   ]
  },
  {
   "cell_type": "code",
   "execution_count": 44,
   "id": "06723b9a",
   "metadata": {},
   "outputs": [
    {
     "name": "stdout",
     "output_type": "stream",
     "text": [
      "25/25 [==============================] - 1s 4ms/step - loss: 0.0630 - accuracy: 0.9812\n",
      "\n",
      "Accuracy on test data: 0.98\n",
      "\n",
      "Loss on test data: 0.06\n"
     ]
    }
   ],
   "source": [
    "score = model_tr.evaluate(x_test, y_test, verbose=1)\n",
    "\n",
    "print(\"\\nAccuracy on test data: %0.2f\" % score[1])\n",
    "print(\"\\nLoss on test data: %0.2f\" % score[0])"
   ]
  },
  {
   "cell_type": "code",
   "execution_count": 45,
   "id": "ece3c5f8",
   "metadata": {},
   "outputs": [
    {
     "data": {
      "image/png": "[encoded data removed]",
      "text/plain": [
       "<Figure size 432x288 with 2 Axes>"
      ]
     },
     "metadata": {
      "needs_background": "light"
     },
     "output_type": "display_data"
    },
    {
     "name": "stdout",
     "output_type": "stream",
     "text": [
      "\n",
      "--- Classification report for test data ---\n",
      "\n",
      "              precision    recall  f1-score   support\n",
      "\n",
      "           0       1.00      0.95      0.97       167\n",
      "           1       0.99      0.99      0.99       209\n",
      "           2       0.95      0.99      0.97       255\n",
      "           3       0.99      1.00      1.00       169\n",
      "\n",
      "    accuracy                           0.98       800\n",
      "   macro avg       0.98      0.98      0.98       800\n",
      "weighted avg       0.98      0.98      0.98       800\n",
      "\n"
     ]
    }
   ],
   "source": [
    "y_pred_test = model_tr.predict(x_test)\n",
    "# Take the class with the highest probability from the test predictions\n",
    "max_y_pred_test = np.argmax(y_pred_test, axis=1)\n",
    "max_y_test = np.argmax(y_test, axis=1)\n",
    "\n",
    "show_confusion_matrix(max_y_test, max_y_pred_test)\n",
    "\n",
    "print(\"\\n--- Classification report for test data ---\\n\")\n",
    "\n",
    "print(classification_report(max_y_test, max_y_pred_test))"
   ]
  },
  {
   "cell_type": "code",
   "execution_count": 46,
   "id": "4d1ab121",
   "metadata": {},
   "outputs": [],
   "source": [
    "model_tr.save('best_model_tr.h5')"
   ]
  },
  {
   "cell_type": "markdown",
   "id": "7a6e05cb",
   "metadata": {},
   "source": [
    "### RNN Model"
   ]
  },
  {
   "cell_type": "code",
   "execution_count": 47,
   "id": "d67cceec",
   "metadata": {},
   "outputs": [
    {
     "name": "stdout",
     "output_type": "stream",
     "text": [
      "Model: \"sequential_3\"\n",
      "_________________________________________________________________\n",
      " Layer (type)                Output Shape              Param #   \n",
      "=================================================================\n",
      " embedding (Embedding)       (None, None, 64)          23040     \n",
      "                                                                 \n",
      " gru (GRU)                   (None, None, 128)         74496     \n",
      "                                                                 \n",
      " simple_rnn (SimpleRNN)      (None, 64)                12352     \n",
      "                                                                 \n",
      " dropout_5 (Dropout)         (None, 64)                0         \n",
      "                                                                 \n",
      " dense_8 (Dense)             (None, 4)                 260       \n",
      "                                                                 \n",
      "=================================================================\n",
      "Total params: 110,148\n",
      "Trainable params: 110,148\n",
      "Non-trainable params: 0\n",
      "_________________________________________________________________\n"
     ]
    }
   ],
   "source": [
    "model_rnn = keras.Sequential()\n",
    "model_rnn.add(Embedding(input_dim=TIME_PERIODS*no_of_features, output_dim=64))\n",
    "\n",
    "# The output of GRU will be a 3D tensor of shape (batch_size, timesteps, 256)\n",
    "model_rnn.add(GRU(128, return_sequences=True))\n",
    "\n",
    "# The output of SimpleRNN will be a 2D tensor of shape (batch_size, 128)\n",
    "model_rnn.add(SimpleRNN(64))\n",
    "model_rnn.add(Dropout(0.4))\n",
    "model_rnn.add(Dense(len(LABELS), activation='softmax'))\n",
    "\n",
    "model_rnn.summary()"
   ]
  },
  {
   "cell_type": "code",
   "execution_count": 48,
   "id": "627c2801",
   "metadata": {},
   "outputs": [
    {
     "data": {
      "text/plain": [
       "(2004, 360)"
      ]
     },
     "execution_count": 48,
     "metadata": {},
     "output_type": "execute_result"
    }
   ],
   "source": [
    "x_train = x_train.reshape(x_train.shape[0], TIME_PERIODS*no_of_features)\n",
    "x_train.shape"
   ]
  },
  {
   "cell_type": "code",
   "execution_count": 49,
   "id": "e9b1a6d8",
   "metadata": {
    "scrolled": true
   },
   "outputs": [
    {
     "name": "stdout",
     "output_type": "stream",
     "text": [
      "Epoch 1/50\n",
      "11/11 [==============================] - 10s 630ms/step - loss: 1.3743 - accuracy: 0.2829\n",
      "Epoch 2/50\n",
      "11/11 [==============================] - 8s 756ms/step - loss: 1.3441 - accuracy: 0.3378\n",
      "Epoch 3/50\n",
      "11/11 [==============================] - 10s 893ms/step - loss: 1.3642 - accuracy: 0.3353\n"
     ]
    }
   ],
   "source": [
    "callbacks_list = [\n",
    "    keras.callbacks.EarlyStopping(monitor='accuracy', patience=1)\n",
    "]\n",
    "\n",
    "# opt = optimizers.SGD(learning_rate=0.01, momentum=0.9)\n",
    "\n",
    "model_rnn.compile(loss='categorical_crossentropy', optimizer='adam', metrics=['accuracy'])\n",
    "\n",
    "BATCH_SIZE = 200\n",
    "EPOCHS = 50\n",
    "\n",
    "history = model_rnn.fit(x_train,\n",
    "                      y_train,\n",
    "                      batch_size=BATCH_SIZE,\n",
    "                      epochs=EPOCHS,\n",
    "                      callbacks=callbacks_list,\n",
    "                      verbose=1)"
   ]
  },
  {
   "cell_type": "code",
   "execution_count": 50,
   "id": "2c815cec",
   "metadata": {},
   "outputs": [
    {
     "data": {
      "image/png": "[encoded data removed]",
      "text/plain": [
       "<Figure size 432x288 with 1 Axes>"
      ]
     },
     "metadata": {
      "needs_background": "light"
     },
     "output_type": "display_data"
    }
   ],
   "source": [
    "# summarize history for accuracy and loss\n",
    "plt.figure(figsize=(6, 4))\n",
    "plt.plot(history.history['accuracy'], \"g--\", label=\"Accuracy of training data\")\n",
    "# plt.plot(history.history['val_accuracy'], \"g\", label=\"Accuracy of validation data\")\n",
    "plt.plot(history.history['loss'], \"r--\", label=\"Loss of training data\")\n",
    "# plt.plot(history.history['val_loss'], \"r\", label=\"Loss of validation data\")\n",
    "plt.title('Model Accuracy and Loss')\n",
    "plt.ylabel('Accuracy and Loss')\n",
    "plt.xlabel('Training Epoch')\n",
    "plt.ylim(0)\n",
    "plt.legend()\n",
    "plt.show()"
   ]
  },
  {
   "cell_type": "code",
   "execution_count": 51,
   "id": "371bef1d",
   "metadata": {},
   "outputs": [
    {
     "data": {
      "text/plain": [
       "(800, 360)"
      ]
     },
     "execution_count": 51,
     "metadata": {},
     "output_type": "execute_result"
    }
   ],
   "source": [
    "x_test = x_test.reshape(x_test.shape[0], TIME_PERIODS*no_of_features)\n",
    "x_test.shape"
   ]
  },
  {
   "cell_type": "code",
   "execution_count": 52,
   "id": "5545c8ab",
   "metadata": {},
   "outputs": [
    {
     "name": "stdout",
     "output_type": "stream",
     "text": [
      "25/25 [==============================] - 2s 69ms/step - loss: 1.3728 - accuracy: 0.3250\n",
      "\n",
      "Accuracy on test data: 0.32\n",
      "\n",
      "Loss on test data: 1.37\n"
     ]
    }
   ],
   "source": [
    "score = model_rnn.evaluate(x_test, y_test, verbose=1)\n",
    "\n",
    "print(\"\\nAccuracy on test data: %0.2f\" % score[1])\n",
    "print(\"\\nLoss on test data: %0.2f\" % score[0])"
   ]
  },
  {
   "cell_type": "code",
   "execution_count": 53,
   "id": "705e83e2",
   "metadata": {},
   "outputs": [
    {
     "data": {
      "image/png": "[encoded data removed]",
      "text/plain": [
       "<Figure size 432x288 with 2 Axes>"
      ]
     },
     "metadata": {
      "needs_background": "light"
     },
     "output_type": "display_data"
    },
    {
     "name": "stdout",
     "output_type": "stream",
     "text": [
      "\n",
      "--- Classification report for test data ---\n",
      "\n",
      "              precision    recall  f1-score   support\n",
      "\n",
      "           0       1.00      0.03      0.06       167\n",
      "           1       0.00      0.00      0.00       209\n",
      "           2       0.35      1.00      0.52       255\n",
      "           3       0.00      0.00      0.00       169\n",
      "\n",
      "    accuracy                           0.33       800\n",
      "   macro avg       0.34      0.26      0.14       800\n",
      "weighted avg       0.32      0.33      0.18       800\n",
      "\n"
     ]
    }
   ],
   "source": [
    "y_pred_test = model_rnn.predict(x_test)\n",
    "# Take the class with the highest probability from the test predictions\n",
    "max_y_pred_test = np.argmax(y_pred_test, axis=1)\n",
    "max_y_test = np.argmax(y_test, axis=1)\n",
    "\n",
    "show_confusion_matrix(max_y_test, max_y_pred_test)\n",
    "\n",
    "print(\"\\n--- Classification report for test data ---\\n\")\n",
    "\n",
    "print(classification_report(max_y_test, max_y_pred_test))"
   ]
  },
  {
   "cell_type": "markdown",
   "id": "13bb57cd",
   "metadata": {},
   "source": [
    "# Making Predictions"
   ]
  },
  {
   "cell_type": "code",
   "execution_count": 83,
   "id": "0cbe1028",
   "metadata": {},
   "outputs": [
    {
     "name": "stdout",
     "output_type": "stream",
     "text": [
      "['Fall' 'Idle' 'Sitting action' 'Walking']\n",
      "       accel_x  accel_y  accel_z  gyro_x  gyro_y  gyro_z  user activity  \\\n",
      "30120   -0.373    0.087    0.117   0.012  -0.067   0.007  Zeon     Fall   \n",
      "30121   -0.373    0.087    0.117   0.041  -0.109   0.051  Zeon     Fall   \n",
      "30122   -0.349    0.087    0.129   0.040  -0.137   0.054  Zeon     Fall   \n",
      "30123   -0.349    0.087    0.129   0.045  -0.141   0.050  Zeon     Fall   \n",
      "30124   -0.324    0.087    0.129   0.042  -0.103   0.059  Zeon     Fall   \n",
      "...        ...      ...      ...     ...     ...     ...   ...      ...   \n",
      "42175   -0.275    0.035    0.067   0.036  -0.049   0.013  Zeon  Walking   \n",
      "42176   -0.104    0.164    0.191  -0.081  -0.091   0.161  Zeon  Walking   \n",
      "42177   -0.079    0.215    0.166  -0.174  -0.191   0.115  Zeon  Walking   \n",
      "42178   -0.202    0.330   -0.117   0.393  -0.192  -0.204  Zeon  Walking   \n",
      "42179   -0.373    0.369   -0.179   0.685  -0.403  -0.074  Zeon  Walking   \n",
      "\n",
      "       encoded_label  \n",
      "30120              0  \n",
      "30121              0  \n",
      "30122              0  \n",
      "30123              0  \n",
      "30124              0  \n",
      "...              ...  \n",
      "42175              3  \n",
      "42176              3  \n",
      "42177              3  \n",
      "42178              3  \n",
      "42179              3  \n",
      "\n",
      "[12060 rows x 9 columns]\n",
      "test data shape:  (800, 360)\n",
      "Predictions: [0 0 0 2 2 0 0 0 0 0 0 0 0 0 0 0 2 0 0 0 0 0 0 0 0 0 0 0 0 0 0 0 0 0 0 0 0\n",
      " 0 0 0 0 0 0 0 0 0 0 0 0 0 0 0 0 0 0 0 0 0 0 0 0 0 0 0 0 0 0 0 0 0 0 0 0 0\n",
      " 0 0 0 0 0 0 0 0 0 0 0 0 0 0 0 0 0 0 0 0 0 0 0 0 0 0 0 0 0 0 0 0 0 0 0 0 0\n",
      " 0 0 0 0 0 0 0 0 0 0 0 0 0 0 0 3 0 0 0 0 0 0 0 0 0 0 0 0 0 0 0 0 0 0 0 0 0\n",
      " 0 0 0 0 0 0 0 0 0 0 0 0 0 0 0 0 0 0 0 0 2 2 2 2 2 2 2 2 2 2 2 2 2 2 2 2 2\n",
      " 2 2 2 2 2 2 2 2 2 2 2 2 2 2 2 2 2 2 2 2 2 2 2 2 2 2 2 2 2 2 2 2 2 2 2 2 2\n",
      " 2 2 2 2 2 2 2 2 2 2 2 2 2 2 2 2 2 2 2 2 2 2 2 2 2 2 2 2 2 2 2 2 2 2 2 2 2\n",
      " 2 2 2 2 2 2 2 2 2 2 2 2 2 2 2 2 2 2 2 2 2 2 2 2 2 2 2 2 2 2 2 2 2 2 2 2 1\n",
      " 1 1 1 1 1 1 1 1 1 1 1 1 1 1 1 1 1 1 1 1 1 1 2 1 1 1 1 1 1 1 1 1 1 1 1 1 1\n",
      " 1 1 1 1 1 1 1 1 1 1 1 1 1 1 1 1 1 1 1 1 1 1 1 1 1 1 1 1 1 1 1 1 1 1 1 1 1\n",
      " 1 1 1 1 1 1 1 1 1 1 1 1 1 1 1 1 1 1 1 1 1 1 1 1 1 1 1 1 1 1 1 1 1 1 1 1 1\n",
      " 1 1 1 1 1 1 1 1 1 1 1 1 1 1 1 1 1 1 1 1 1 1 1 1 1 1 1 1 1 1 1 1 1 1 1 1 1\n",
      " 1 1 1 1 1 1 1 1 1 1 1 1 1 1 1 1 1 1 1 1 1 1 1 1 1 1 1 1 1 1 1 1 1 1 1 1 1\n",
      " 1 1 1 1 1 1 1 1 1 1 1 1 1 1 1 1 1 1 1 1 2 2 2 2 2 2 2 2 2 2 2 2 2 2 2 2 2\n",
      " 2 2 2 2 2 2 2 2 2 2 2 2 2 2 2 2 2 2 2 2 2 2 2 2 2 2 2 2 2 2 2 2 2 2 2 2 2\n",
      " 2 2 2 2 2 2 2 2 2 2 2 2 2 2 2 2 2 2 2 2 2 2 2 2 2 2 2 2 2 2 2 2 2 2 2 2 2\n",
      " 2 2 2 2 2 2 2 2 2 2 2 2 2 2 2 2 2 2 2 2 2 2 2 2 2 2 2 2 2 2 2 2 2 2 2 1 2\n",
      " 2 2 2 3 3 3 3 3 3 3 3 3 3 3 3 3 3 3 3 3 3 3 3 3 3 3 3 3 3 3 3 3 3 3 3 3 3\n",
      " 3 3 3 3 3 3 3 3 3 3 3 3 3 3 3 3 3 3 3 3 3 3 3 3 3 3 3 3 3 3 3 3 3 3 3 3 3\n",
      " 3 3 3 3 3 3 3 3 3 3 3 3 3 3 3 3 3 3 3 3 3 3 3 3 3 3 3 3 3 3 3 3 3 3 3 3 3\n",
      " 3 3 3 3 3 3 3 3 3 3 3 3 3 3 3 3 3 3 3 3 3 3 3 3 3 3 3 3 3 3 3 3 3 3 3 3 3\n",
      " 3 3 3 3 3 3 3 3 3 3 3 3 3 3 3 3 3 3 3 3 3 3 3]\n",
      "Actual: [0 0 0 0 0 0 0 0 0 0 0 0 0 0 0 0 0 0 0 0 0 0 0 0 0 0 0 0 0 0 0 0 0 0 0 0 0\n",
      " 0 0 0 0 0 0 0 0 0 0 0 0 0 0 0 0 0 0 0 0 0 0 0 0 0 0 0 0 0 0 0 0 0 0 0 0 0\n",
      " 0 0 0 0 0 0 0 0 0 0 0 0 0 0 0 0 0 0 0 0 0 0 0 0 0 0 0 0 0 0 0 0 0 0 0 0 0\n",
      " 0 0 0 0 0 0 0 0 0 0 0 0 0 0 0 0 0 0 0 0 0 0 0 0 0 0 0 0 0 0 0 0 0 0 0 0 0\n",
      " 0 0 0 0 0 0 0 0 0 0 0 0 0 0 0 0 0 0 0 2 2 2 2 2 2 2 2 2 2 2 2 2 2 2 2 2 2\n",
      " 2 2 2 2 2 2 2 2 2 2 2 2 2 2 2 2 2 2 2 2 2 2 2 2 2 2 2 2 2 2 2 2 2 2 2 2 2\n",
      " 2 2 2 2 2 2 2 2 2 2 2 2 2 2 2 2 2 2 2 2 2 2 2 2 2 2 2 2 2 2 2 2 2 2 2 2 2\n",
      " 2 2 2 2 2 2 2 2 2 2 2 2 2 2 2 2 2 2 2 2 2 2 2 2 2 2 2 2 2 2 2 2 2 2 2 1 1\n",
      " 1 1 1 1 1 1 1 1 1 1 1 1 1 1 1 1 1 1 1 1 1 1 1 1 1 1 1 1 1 1 1 1 1 1 1 1 1\n",
      " 1 1 1 1 1 1 1 1 1 1 1 1 1 1 1 1 1 1 1 1 1 1 1 1 1 1 1 1 1 1 1 1 1 1 1 1 1\n",
      " 1 1 1 1 1 1 1 1 1 1 1 1 1 1 1 1 1 1 1 1 1 1 1 1 1 1 1 1 1 1 1 1 1 1 1 1 1\n",
      " 1 1 1 1 1 1 1 1 1 1 1 1 1 1 1 1 1 1 1 1 1 1 1 1 1 1 1 1 1 1 1 1 1 1 1 1 1\n",
      " 1 1 1 1 1 1 1 1 1 1 1 1 1 1 1 1 1 1 1 1 1 1 1 1 1 1 1 1 1 1 1 1 1 1 1 1 1\n",
      " 1 1 1 1 1 1 1 1 1 1 1 1 1 1 1 1 1 1 1 1 1 1 2 2 2 2 2 2 2 2 2 2 2 2 2 2 2\n",
      " 2 2 2 2 2 2 2 2 2 2 2 2 2 2 2 2 2 2 2 2 2 2 2 2 2 2 2 2 2 2 2 2 2 2 2 2 2\n",
      " 2 2 2 2 2 2 2 2 2 2 2 2 2 2 2 2 2 2 2 2 2 2 2 2 2 2 2 2 2 2 2 2 2 2 2 2 2\n",
      " 2 2 2 2 2 2 2 2 2 2 2 2 2 2 2 2 2 2 2 2 2 2 2 2 2 2 2 2 2 2 2 2 2 2 2 2 2\n",
      " 2 2 3 3 3 3 3 3 3 3 3 3 3 3 3 3 3 3 3 3 3 3 3 3 3 3 3 3 3 3 3 3 3 3 3 3 3\n",
      " 3 3 3 3 3 3 3 3 3 3 3 3 3 3 3 3 3 3 3 3 3 3 3 3 3 3 3 3 3 3 3 3 3 3 3 3 3\n",
      " 3 3 3 3 3 3 3 3 3 3 3 3 3 3 3 3 3 3 3 3 3 3 3 3 3 3 3 3 3 3 3 3 3 3 3 3 3\n",
      " 3 3 3 3 3 3 3 3 3 3 3 3 3 3 3 3 3 3 3 3 3 3 3 3 3 3 3 3 3 3 3 3 3 3 3 3 3\n",
      " 3 3 3 3 3 3 3 3 3 3 3 3 3 3 3 3 3 3 3 3 3 3 3]\n"
     ]
    }
   ],
   "source": [
    "data = pd.read_csv(\"new data/combined_data_new.csv\")\n",
    "data = data[data['activity']!=\"Jogging\"]\n",
    "\n",
    "Test_data = data[data[\"user\"].isin(['Zeon'])]\n",
    "\n",
    "activity = {'Fall': 0, 'Idle': 1, 'Sitting action': 2, 'Walking': 3}\n",
    "Test_data['encoded_label'] = le.transform(Test_data['activity'].values.ravel())\n",
    "print(le.classes_)\n",
    "\n",
    "mu = [0.05231241699867065, -0.05762715803452509, 0.8252191235059748, 0.05676859229747714, 0.7309349269588248, -0.8028837981407743]\n",
    "sigma = [0.40801866511330726, 0.7795476927967934, 0.8118311559818603, 86.05676081855844, 58.4324993489224, 51.83655372696042]\n",
    "\n",
    "\n",
    "def normalize_features(data, mu_data, sigma_data):\n",
    "    return (data - mu_data)/sigma_data\n",
    "\n",
    "for i in range(0,6):\n",
    "        Test_data.iloc[:, i] = normalize_features(Test_data.iloc[:, i], mu[i], sigma[i])\n",
    "        \n",
    "# Test_data = Test_data[100000:105000]\n",
    "print(Test_data)\n",
    "\n",
    "x_test_data, y_test_labels = create_segments(Test_data)\n",
    "x_test_data = x_test_data.reshape(x_test_data.shape[0], TIME_PERIODS*no_of_features)\n",
    "print(\"test data shape: \", x_test_data.shape)\n",
    "\n",
    "model = keras.models.load_model('best_model_cnn.h5')\n",
    "\n",
    "x_test_data = x_test_data.astype(\"float32\")\n",
    "\n",
    "pred = model.predict(x_test_data)\n",
    "prediction = np.argmax(pred, axis=1)\n",
    "print(\"Predictions:\", prediction)\n",
    "print(\"Actual:\", y_test_labels)"
   ]
  },
  {
   "cell_type": "code",
   "execution_count": null,
   "id": "159dda0b",
   "metadata": {},
   "outputs": [],
   "source": []
  }
 ],
 "metadata": {
  "kernelspec": {
   "display_name": "Python 3",
   "language": "python",
   "name": "python3"
  },
  "language_info": {
   "codemirror_mode": {
    "name": "ipython",
    "version": 3
   },
   "file_extension": ".py",
   "mimetype": "text/x-python",
   "name": "python",
   "nbconvert_exporter": "python",
   "pygments_lexer": "ipython3",
   "version": "3.8.8"
  }
 },
 "nbformat": 4,
 "nbformat_minor": 5
}
