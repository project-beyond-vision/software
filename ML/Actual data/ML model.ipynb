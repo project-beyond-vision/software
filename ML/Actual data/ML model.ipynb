{
 "cells": [
  {
   "cell_type": "markdown",
   "id": "5cc33925",
   "metadata": {},
   "source": [
    "# Training public data"
   ]
  },
  {
   "cell_type": "markdown",
   "id": "31dc97d2",
   "metadata": {},
   "source": [
    "code written by following this github: https://github.com/ni79ls/har-keras-cnn"
   ]
  },
  {
   "cell_type": "code",
   "execution_count": 59,
   "id": "93aab5a6",
   "metadata": {},
   "outputs": [],
   "source": [
    "from matplotlib import pyplot as plt\n",
    "%matplotlib inline\n",
    "import numpy as np\n",
    "import pandas as pd\n",
    "import seaborn as sns\n",
    "from scipy import stats\n",
    "import math\n",
    "\n",
    "from sklearn import metrics\n",
    "from sklearn.metrics import classification_report\n",
    "from sklearn import preprocessing\n",
    "from sklearn.model_selection import train_test_split\n",
    "\n",
    "import keras\n",
    "import tensorflow as tf\n",
    "from keras.models import Sequential\n",
    "from keras.layers import Dense, Dropout, Flatten, Reshape, GlobalAveragePooling1D\n",
    "from keras.layers import Conv1D, MaxPooling1D, LSTM, Embedding, SimpleRNN, GRU\n",
    "from keras.utils import np_utils\n",
    "from tensorflow.keras import optimizers\n",
    "\n",
    "import warnings\n",
    "warnings.filterwarnings('ignore')"
   ]
  },
  {
   "cell_type": "code",
   "execution_count": 60,
   "id": "750464c1",
   "metadata": {},
   "outputs": [
    {
     "data": {
      "text/html": [
       "<div>\n",
       "<style scoped>\n",
       "    .dataframe tbody tr th:only-of-type {\n",
       "        vertical-align: middle;\n",
       "    }\n",
       "\n",
       "    .dataframe tbody tr th {\n",
       "        vertical-align: top;\n",
       "    }\n",
       "\n",
       "    .dataframe thead th {\n",
       "        text-align: right;\n",
       "    }\n",
       "</style>\n",
       "<table border=\"1\" class=\"dataframe\">\n",
       "  <thead>\n",
       "    <tr style=\"text-align: right;\">\n",
       "      <th></th>\n",
       "      <th>accel_x</th>\n",
       "      <th>accel_y</th>\n",
       "      <th>accel_z</th>\n",
       "      <th>gyro_x</th>\n",
       "      <th>gyro_y</th>\n",
       "      <th>gyro_z</th>\n",
       "      <th>user</th>\n",
       "      <th>activity</th>\n",
       "    </tr>\n",
       "  </thead>\n",
       "  <tbody>\n",
       "    <tr>\n",
       "      <th>0</th>\n",
       "      <td>-0.060</td>\n",
       "      <td>0.020</td>\n",
       "      <td>1.010</td>\n",
       "      <td>3.150</td>\n",
       "      <td>-0.530</td>\n",
       "      <td>1.560</td>\n",
       "      <td>ramana</td>\n",
       "      <td>Fall</td>\n",
       "    </tr>\n",
       "    <tr>\n",
       "      <th>1</th>\n",
       "      <td>-0.060</td>\n",
       "      <td>0.060</td>\n",
       "      <td>1.030</td>\n",
       "      <td>-14.000</td>\n",
       "      <td>-2.360</td>\n",
       "      <td>2.290</td>\n",
       "      <td>ramana</td>\n",
       "      <td>Fall</td>\n",
       "    </tr>\n",
       "    <tr>\n",
       "      <th>2</th>\n",
       "      <td>-0.060</td>\n",
       "      <td>-0.010</td>\n",
       "      <td>1.010</td>\n",
       "      <td>-25.850</td>\n",
       "      <td>-4.800</td>\n",
       "      <td>0.460</td>\n",
       "      <td>ramana</td>\n",
       "      <td>Fall</td>\n",
       "    </tr>\n",
       "    <tr>\n",
       "      <th>3</th>\n",
       "      <td>-0.060</td>\n",
       "      <td>-0.030</td>\n",
       "      <td>1.000</td>\n",
       "      <td>-7.660</td>\n",
       "      <td>-4.800</td>\n",
       "      <td>6.260</td>\n",
       "      <td>ramana</td>\n",
       "      <td>Fall</td>\n",
       "    </tr>\n",
       "    <tr>\n",
       "      <th>4</th>\n",
       "      <td>-0.040</td>\n",
       "      <td>-0.020</td>\n",
       "      <td>1.040</td>\n",
       "      <td>-0.880</td>\n",
       "      <td>-3.160</td>\n",
       "      <td>4.120</td>\n",
       "      <td>ramana</td>\n",
       "      <td>Fall</td>\n",
       "    </tr>\n",
       "    <tr>\n",
       "      <th>...</th>\n",
       "      <td>...</td>\n",
       "      <td>...</td>\n",
       "      <td>...</td>\n",
       "      <td>...</td>\n",
       "      <td>...</td>\n",
       "      <td>...</td>\n",
       "      <td>...</td>\n",
       "      <td>...</td>\n",
       "    </tr>\n",
       "    <tr>\n",
       "      <th>56635</th>\n",
       "      <td>0.000</td>\n",
       "      <td>0.000</td>\n",
       "      <td>1.000</td>\n",
       "      <td>-2.000</td>\n",
       "      <td>1.000</td>\n",
       "      <td>-7.000</td>\n",
       "      <td>zeon</td>\n",
       "      <td>Walking</td>\n",
       "    </tr>\n",
       "    <tr>\n",
       "      <th>56636</th>\n",
       "      <td>0.000</td>\n",
       "      <td>0.000</td>\n",
       "      <td>1.000</td>\n",
       "      <td>-13.000</td>\n",
       "      <td>-1.000</td>\n",
       "      <td>-6.000</td>\n",
       "      <td>zeon</td>\n",
       "      <td>Walking</td>\n",
       "    </tr>\n",
       "    <tr>\n",
       "      <th>56637</th>\n",
       "      <td>0.000</td>\n",
       "      <td>0.000</td>\n",
       "      <td>1.000</td>\n",
       "      <td>0.000</td>\n",
       "      <td>0.000</td>\n",
       "      <td>-5.000</td>\n",
       "      <td>zeon</td>\n",
       "      <td>Walking</td>\n",
       "    </tr>\n",
       "    <tr>\n",
       "      <th>56638</th>\n",
       "      <td>0.000</td>\n",
       "      <td>0.000</td>\n",
       "      <td>0.000</td>\n",
       "      <td>-15.000</td>\n",
       "      <td>8.000</td>\n",
       "      <td>13.000</td>\n",
       "      <td>zeon</td>\n",
       "      <td>Walking</td>\n",
       "    </tr>\n",
       "    <tr>\n",
       "      <th>56639</th>\n",
       "      <td>0.000</td>\n",
       "      <td>0.000</td>\n",
       "      <td>0.000</td>\n",
       "      <td>28.000</td>\n",
       "      <td>6.000</td>\n",
       "      <td>12.000</td>\n",
       "      <td>zeon</td>\n",
       "      <td>Walking</td>\n",
       "    </tr>\n",
       "  </tbody>\n",
       "</table>\n",
       "<p>56640 rows × 8 columns</p>\n",
       "</div>"
      ],
      "text/plain": [
       "       accel_x  accel_y  accel_z  gyro_x  gyro_y  gyro_z    user activity\n",
       "0       -0.060    0.020    1.010   3.150  -0.530   1.560  ramana     Fall\n",
       "1       -0.060    0.060    1.030 -14.000  -2.360   2.290  ramana     Fall\n",
       "2       -0.060   -0.010    1.010 -25.850  -4.800   0.460  ramana     Fall\n",
       "3       -0.060   -0.030    1.000  -7.660  -4.800   6.260  ramana     Fall\n",
       "4       -0.040   -0.020    1.040  -0.880  -3.160   4.120  ramana     Fall\n",
       "...        ...      ...      ...     ...     ...     ...     ...      ...\n",
       "56635    0.000    0.000    1.000  -2.000   1.000  -7.000    zeon  Walking\n",
       "56636    0.000    0.000    1.000 -13.000  -1.000  -6.000    zeon  Walking\n",
       "56637    0.000    0.000    1.000   0.000   0.000  -5.000    zeon  Walking\n",
       "56638    0.000    0.000    0.000 -15.000   8.000  13.000    zeon  Walking\n",
       "56639    0.000    0.000    0.000  28.000   6.000  12.000    zeon  Walking\n",
       "\n",
       "[56640 rows x 8 columns]"
      ]
     },
     "execution_count": 60,
     "metadata": {},
     "output_type": "execute_result"
    }
   ],
   "source": [
    "# data = pd.read_csv(\"Sisfall_dataset/processed_data.csv\")\n",
    "\n",
    "# data\n",
    "\n",
    "data = pd.read_csv(\"data/combined_data.csv\")\n",
    "\n",
    "data"
   ]
  },
  {
   "cell_type": "code",
   "execution_count": 61,
   "id": "82de05e7",
   "metadata": {},
   "outputs": [],
   "source": [
    "# data = data[data['activity']!=\"D18\"]\n",
    "# data = data[data['activity']!=\"D19\"]\n",
    "data = data[data['activity']!=\"Jogging\"]"
   ]
  },
  {
   "cell_type": "code",
   "execution_count": 62,
   "id": "60def274",
   "metadata": {},
   "outputs": [
    {
     "data": {
      "text/plain": [
       "['Fall', 'Sitting action', 'Walking', 'climbing stairs', 'getting up']"
      ]
     },
     "execution_count": 62,
     "metadata": {},
     "output_type": "execute_result"
    }
   ],
   "source": [
    "# All data collected in 20Hz sample rate.\n",
    "\n",
    "# Set display upto 3 decimal places\n",
    "pd.options.display.float_format = '{:.3f}'.format\n",
    "\n",
    "# Labels are all the activity groups\n",
    "# LABELS = list(data.groupby([\"broad_mapped_activity\"]).groups.keys())\n",
    "LABELS = list(data.groupby([\"activity\"]).groups.keys())\n",
    "\n",
    "no_of_features = 6\n",
    "\n",
    "# The number of steps within one time segment (window size)\n",
    "TIME_PERIODS = 60\n",
    "# The steps to take from one segment to the next; if this value is equal to\n",
    "# TIME_PERIODS, then there is no overlap between the segments\n",
    "STEP_DISTANCE = 15\n",
    "\n",
    "LABELS"
   ]
  },
  {
   "cell_type": "code",
   "execution_count": 68,
   "id": "9b72317a",
   "metadata": {},
   "outputs": [
    {
     "name": "stdout",
     "output_type": "stream",
     "text": [
      "(37200, 8)\n"
     ]
    },
    {
     "data": {
      "text/html": [
       "<div>\n",
       "<style scoped>\n",
       "    .dataframe tbody tr th:only-of-type {\n",
       "        vertical-align: middle;\n",
       "    }\n",
       "\n",
       "    .dataframe tbody tr th {\n",
       "        vertical-align: top;\n",
       "    }\n",
       "\n",
       "    .dataframe thead th {\n",
       "        text-align: right;\n",
       "    }\n",
       "</style>\n",
       "<table border=\"1\" class=\"dataframe\">\n",
       "  <thead>\n",
       "    <tr style=\"text-align: right;\">\n",
       "      <th></th>\n",
       "      <th>accel_x</th>\n",
       "      <th>accel_y</th>\n",
       "      <th>accel_z</th>\n",
       "      <th>gyro_x</th>\n",
       "      <th>gyro_y</th>\n",
       "      <th>gyro_z</th>\n",
       "      <th>user</th>\n",
       "      <th>activity</th>\n",
       "    </tr>\n",
       "  </thead>\n",
       "  <tbody>\n",
       "    <tr>\n",
       "      <th>16980</th>\n",
       "      <td>0.130</td>\n",
       "      <td>-0.020</td>\n",
       "      <td>1.050</td>\n",
       "      <td>-4.590</td>\n",
       "      <td>6.800</td>\n",
       "      <td>-0.640</td>\n",
       "      <td>wamika</td>\n",
       "      <td>Fall</td>\n",
       "    </tr>\n",
       "    <tr>\n",
       "      <th>16981</th>\n",
       "      <td>0.120</td>\n",
       "      <td>-0.010</td>\n",
       "      <td>1.060</td>\n",
       "      <td>-0.140</td>\n",
       "      <td>9.730</td>\n",
       "      <td>-2.590</td>\n",
       "      <td>wamika</td>\n",
       "      <td>Fall</td>\n",
       "    </tr>\n",
       "    <tr>\n",
       "      <th>16982</th>\n",
       "      <td>0.110</td>\n",
       "      <td>-0.000</td>\n",
       "      <td>1.060</td>\n",
       "      <td>0.230</td>\n",
       "      <td>9.490</td>\n",
       "      <td>-2.280</td>\n",
       "      <td>wamika</td>\n",
       "      <td>Fall</td>\n",
       "    </tr>\n",
       "    <tr>\n",
       "      <th>16983</th>\n",
       "      <td>0.100</td>\n",
       "      <td>-0.010</td>\n",
       "      <td>1.060</td>\n",
       "      <td>-1.840</td>\n",
       "      <td>9.610</td>\n",
       "      <td>-1.370</td>\n",
       "      <td>wamika</td>\n",
       "      <td>Fall</td>\n",
       "    </tr>\n",
       "    <tr>\n",
       "      <th>16984</th>\n",
       "      <td>0.120</td>\n",
       "      <td>-0.000</td>\n",
       "      <td>1.070</td>\n",
       "      <td>-1.050</td>\n",
       "      <td>11.380</td>\n",
       "      <td>-1.000</td>\n",
       "      <td>wamika</td>\n",
       "      <td>Fall</td>\n",
       "    </tr>\n",
       "    <tr>\n",
       "      <th>...</th>\n",
       "      <td>...</td>\n",
       "      <td>...</td>\n",
       "      <td>...</td>\n",
       "      <td>...</td>\n",
       "      <td>...</td>\n",
       "      <td>...</td>\n",
       "      <td>...</td>\n",
       "      <td>...</td>\n",
       "    </tr>\n",
       "    <tr>\n",
       "      <th>53215</th>\n",
       "      <td>0.000</td>\n",
       "      <td>0.000</td>\n",
       "      <td>0.000</td>\n",
       "      <td>0.000</td>\n",
       "      <td>-6.000</td>\n",
       "      <td>-13.000</td>\n",
       "      <td>zeon</td>\n",
       "      <td>climbing stairs</td>\n",
       "    </tr>\n",
       "    <tr>\n",
       "      <th>53216</th>\n",
       "      <td>0.000</td>\n",
       "      <td>0.000</td>\n",
       "      <td>0.000</td>\n",
       "      <td>-13.000</td>\n",
       "      <td>-1.000</td>\n",
       "      <td>-3.000</td>\n",
       "      <td>zeon</td>\n",
       "      <td>climbing stairs</td>\n",
       "    </tr>\n",
       "    <tr>\n",
       "      <th>53217</th>\n",
       "      <td>0.000</td>\n",
       "      <td>0.000</td>\n",
       "      <td>0.000</td>\n",
       "      <td>14.000</td>\n",
       "      <td>9.000</td>\n",
       "      <td>11.000</td>\n",
       "      <td>zeon</td>\n",
       "      <td>climbing stairs</td>\n",
       "    </tr>\n",
       "    <tr>\n",
       "      <th>53218</th>\n",
       "      <td>0.000</td>\n",
       "      <td>0.000</td>\n",
       "      <td>0.000</td>\n",
       "      <td>7.000</td>\n",
       "      <td>2.000</td>\n",
       "      <td>21.000</td>\n",
       "      <td>zeon</td>\n",
       "      <td>climbing stairs</td>\n",
       "    </tr>\n",
       "    <tr>\n",
       "      <th>53219</th>\n",
       "      <td>0.000</td>\n",
       "      <td>0.000</td>\n",
       "      <td>0.000</td>\n",
       "      <td>-14.000</td>\n",
       "      <td>-6.000</td>\n",
       "      <td>15.000</td>\n",
       "      <td>zeon</td>\n",
       "      <td>climbing stairs</td>\n",
       "    </tr>\n",
       "  </tbody>\n",
       "</table>\n",
       "<p>14820 rows × 8 columns</p>\n",
       "</div>"
      ],
      "text/plain": [
       "       accel_x  accel_y  accel_z  gyro_x  gyro_y  gyro_z    user  \\\n",
       "16980    0.130   -0.020    1.050  -4.590   6.800  -0.640  wamika   \n",
       "16981    0.120   -0.010    1.060  -0.140   9.730  -2.590  wamika   \n",
       "16982    0.110   -0.000    1.060   0.230   9.490  -2.280  wamika   \n",
       "16983    0.100   -0.010    1.060  -1.840   9.610  -1.370  wamika   \n",
       "16984    0.120   -0.000    1.070  -1.050  11.380  -1.000  wamika   \n",
       "...        ...      ...      ...     ...     ...     ...     ...   \n",
       "53215    0.000    0.000    0.000   0.000  -6.000 -13.000    zeon   \n",
       "53216    0.000    0.000    0.000 -13.000  -1.000  -3.000    zeon   \n",
       "53217    0.000    0.000    0.000  14.000   9.000  11.000    zeon   \n",
       "53218    0.000    0.000    0.000   7.000   2.000  21.000    zeon   \n",
       "53219    0.000    0.000    0.000 -14.000  -6.000  15.000    zeon   \n",
       "\n",
       "              activity  \n",
       "16980             Fall  \n",
       "16981             Fall  \n",
       "16982             Fall  \n",
       "16983             Fall  \n",
       "16984             Fall  \n",
       "...                ...  \n",
       "53215  climbing stairs  \n",
       "53216  climbing stairs  \n",
       "53217  climbing stairs  \n",
       "53218  climbing stairs  \n",
       "53219  climbing stairs  \n",
       "\n",
       "[14820 rows x 8 columns]"
      ]
     },
     "execution_count": 68,
     "metadata": {},
     "output_type": "execute_result"
    }
   ],
   "source": [
    "# # split the data into training and test set\n",
    "# Training_data = data[~data[\"user\"].isin(['SA17', 'SA18', 'SA19', 'SA20', 'SA21'])]\n",
    "# print(Training_data.shape)\n",
    "# Test_data = data[data[\"user\"].isin(['SA17', 'SA18', 'SA19', 'SA20', 'SA21'])]\n",
    "# Test_data\n",
    "\n",
    "# split the data into training and test set\n",
    "Training_data = data[data[\"user\"].isin(['ramana', 'wira'])]\n",
    "zeon_data = data[data[\"user\"].isin(['zeon'])]\n",
    "Training_data = Training_data.append(zeon_data[~zeon_data[\"activity\"].isin([\"climbing stairs\"])])\n",
    "print(Training_data.shape)\n",
    "Test_data = data[data[\"user\"].isin(['wamika'])]\n",
    "Test_data = Test_data.append(zeon_data[zeon_data[\"activity\"].isin([\"climbing stairs\"])])\n",
    "Test_data"
   ]
  },
  {
   "cell_type": "code",
   "execution_count": 69,
   "id": "a9038bee",
   "metadata": {},
   "outputs": [
    {
     "name": "stdout",
     "output_type": "stream",
     "text": [
      "['Fall', 'Sitting action', 'Walking', 'climbing stairs', 'getting up']\n"
     ]
    }
   ],
   "source": [
    "# Encode labels\n",
    "le = preprocessing.LabelEncoder()\n",
    "Training_data['encoded_label'] = le.fit_transform(Training_data['activity'].values.ravel())\n",
    "print(list(le.classes_))"
   ]
  },
  {
   "cell_type": "code",
   "execution_count": 70,
   "id": "8c1c6137",
   "metadata": {},
   "outputs": [],
   "source": [
    "def normalize_features(data, mu, sigma):\n",
    "    print(\"mean: \", mu)\n",
    "    print(\"standard deviation: \", sigma)\n",
    "    return (data - mu)/sigma\n",
    "#     maxim = np.max(data, axis=0)\n",
    "#     minim = np.min(data, axis=0)\n",
    "#     return (data - minim)/(maxim - minim)"
   ]
  },
  {
   "cell_type": "code",
   "execution_count": 71,
   "id": "05ed09d4",
   "metadata": {},
   "outputs": [
    {
     "name": "stdout",
     "output_type": "stream",
     "text": [
      "accel_x\n",
      "mean:  0.016859139784946162\n",
      "standard deviation:  0.3169782064815828\n",
      "accel_y\n",
      "mean:  -0.036989516129032354\n",
      "standard deviation:  0.298379167917324\n",
      "accel_z\n",
      "mean:  0.3306317204301088\n",
      "standard deviation:  0.5189035834200442\n",
      "gyro_x\n",
      "mean:  -0.716561021505379\n",
      "standard deviation:  55.572584842376756\n",
      "gyro_y\n",
      "mean:  -0.41315268817204404\n",
      "standard deviation:  31.52775141330042\n",
      "gyro_z\n",
      "mean:  0.056315860215054955\n",
      "standard deviation:  32.75767648225105\n"
     ]
    },
    {
     "data": {
      "text/html": [
       "<div>\n",
       "<style scoped>\n",
       "    .dataframe tbody tr th:only-of-type {\n",
       "        vertical-align: middle;\n",
       "    }\n",
       "\n",
       "    .dataframe tbody tr th {\n",
       "        vertical-align: top;\n",
       "    }\n",
       "\n",
       "    .dataframe thead th {\n",
       "        text-align: right;\n",
       "    }\n",
       "</style>\n",
       "<table border=\"1\" class=\"dataframe\">\n",
       "  <thead>\n",
       "    <tr style=\"text-align: right;\">\n",
       "      <th></th>\n",
       "      <th>accel_x</th>\n",
       "      <th>accel_y</th>\n",
       "      <th>accel_z</th>\n",
       "      <th>gyro_x</th>\n",
       "      <th>gyro_y</th>\n",
       "      <th>gyro_z</th>\n",
       "      <th>user</th>\n",
       "      <th>activity</th>\n",
       "      <th>encoded_label</th>\n",
       "    </tr>\n",
       "  </thead>\n",
       "  <tbody>\n",
       "    <tr>\n",
       "      <th>0</th>\n",
       "      <td>-0.242</td>\n",
       "      <td>0.191</td>\n",
       "      <td>1.309</td>\n",
       "      <td>0.070</td>\n",
       "      <td>-0.004</td>\n",
       "      <td>0.046</td>\n",
       "      <td>ramana</td>\n",
       "      <td>Fall</td>\n",
       "      <td>0</td>\n",
       "    </tr>\n",
       "    <tr>\n",
       "      <th>1</th>\n",
       "      <td>-0.242</td>\n",
       "      <td>0.325</td>\n",
       "      <td>1.348</td>\n",
       "      <td>-0.239</td>\n",
       "      <td>-0.062</td>\n",
       "      <td>0.068</td>\n",
       "      <td>ramana</td>\n",
       "      <td>Fall</td>\n",
       "      <td>0</td>\n",
       "    </tr>\n",
       "    <tr>\n",
       "      <th>2</th>\n",
       "      <td>-0.242</td>\n",
       "      <td>0.090</td>\n",
       "      <td>1.309</td>\n",
       "      <td>-0.452</td>\n",
       "      <td>-0.139</td>\n",
       "      <td>0.012</td>\n",
       "      <td>ramana</td>\n",
       "      <td>Fall</td>\n",
       "      <td>0</td>\n",
       "    </tr>\n",
       "    <tr>\n",
       "      <th>3</th>\n",
       "      <td>-0.242</td>\n",
       "      <td>0.023</td>\n",
       "      <td>1.290</td>\n",
       "      <td>-0.125</td>\n",
       "      <td>-0.139</td>\n",
       "      <td>0.189</td>\n",
       "      <td>ramana</td>\n",
       "      <td>Fall</td>\n",
       "      <td>0</td>\n",
       "    </tr>\n",
       "    <tr>\n",
       "      <th>4</th>\n",
       "      <td>-0.179</td>\n",
       "      <td>0.057</td>\n",
       "      <td>1.367</td>\n",
       "      <td>-0.003</td>\n",
       "      <td>-0.087</td>\n",
       "      <td>0.124</td>\n",
       "      <td>ramana</td>\n",
       "      <td>Fall</td>\n",
       "      <td>0</td>\n",
       "    </tr>\n",
       "    <tr>\n",
       "      <th>...</th>\n",
       "      <td>...</td>\n",
       "      <td>...</td>\n",
       "      <td>...</td>\n",
       "      <td>...</td>\n",
       "      <td>...</td>\n",
       "      <td>...</td>\n",
       "      <td>...</td>\n",
       "      <td>...</td>\n",
       "      <td>...</td>\n",
       "    </tr>\n",
       "    <tr>\n",
       "      <th>56635</th>\n",
       "      <td>-0.053</td>\n",
       "      <td>0.124</td>\n",
       "      <td>1.290</td>\n",
       "      <td>-0.023</td>\n",
       "      <td>0.045</td>\n",
       "      <td>-0.215</td>\n",
       "      <td>zeon</td>\n",
       "      <td>Walking</td>\n",
       "      <td>2</td>\n",
       "    </tr>\n",
       "    <tr>\n",
       "      <th>56636</th>\n",
       "      <td>-0.053</td>\n",
       "      <td>0.124</td>\n",
       "      <td>1.290</td>\n",
       "      <td>-0.221</td>\n",
       "      <td>-0.019</td>\n",
       "      <td>-0.185</td>\n",
       "      <td>zeon</td>\n",
       "      <td>Walking</td>\n",
       "      <td>2</td>\n",
       "    </tr>\n",
       "    <tr>\n",
       "      <th>56637</th>\n",
       "      <td>-0.053</td>\n",
       "      <td>0.124</td>\n",
       "      <td>1.290</td>\n",
       "      <td>0.013</td>\n",
       "      <td>0.013</td>\n",
       "      <td>-0.154</td>\n",
       "      <td>zeon</td>\n",
       "      <td>Walking</td>\n",
       "      <td>2</td>\n",
       "    </tr>\n",
       "    <tr>\n",
       "      <th>56638</th>\n",
       "      <td>-0.053</td>\n",
       "      <td>0.124</td>\n",
       "      <td>-0.637</td>\n",
       "      <td>-0.257</td>\n",
       "      <td>0.267</td>\n",
       "      <td>0.395</td>\n",
       "      <td>zeon</td>\n",
       "      <td>Walking</td>\n",
       "      <td>2</td>\n",
       "    </tr>\n",
       "    <tr>\n",
       "      <th>56639</th>\n",
       "      <td>-0.053</td>\n",
       "      <td>0.124</td>\n",
       "      <td>-0.637</td>\n",
       "      <td>0.517</td>\n",
       "      <td>0.203</td>\n",
       "      <td>0.365</td>\n",
       "      <td>zeon</td>\n",
       "      <td>Walking</td>\n",
       "      <td>2</td>\n",
       "    </tr>\n",
       "  </tbody>\n",
       "</table>\n",
       "<p>37200 rows × 9 columns</p>\n",
       "</div>"
      ],
      "text/plain": [
       "       accel_x  accel_y  accel_z  gyro_x  gyro_y  gyro_z    user activity  \\\n",
       "0       -0.242    0.191    1.309   0.070  -0.004   0.046  ramana     Fall   \n",
       "1       -0.242    0.325    1.348  -0.239  -0.062   0.068  ramana     Fall   \n",
       "2       -0.242    0.090    1.309  -0.452  -0.139   0.012  ramana     Fall   \n",
       "3       -0.242    0.023    1.290  -0.125  -0.139   0.189  ramana     Fall   \n",
       "4       -0.179    0.057    1.367  -0.003  -0.087   0.124  ramana     Fall   \n",
       "...        ...      ...      ...     ...     ...     ...     ...      ...   \n",
       "56635   -0.053    0.124    1.290  -0.023   0.045  -0.215    zeon  Walking   \n",
       "56636   -0.053    0.124    1.290  -0.221  -0.019  -0.185    zeon  Walking   \n",
       "56637   -0.053    0.124    1.290   0.013   0.013  -0.154    zeon  Walking   \n",
       "56638   -0.053    0.124   -0.637  -0.257   0.267   0.395    zeon  Walking   \n",
       "56639   -0.053    0.124   -0.637   0.517   0.203   0.365    zeon  Walking   \n",
       "\n",
       "       encoded_label  \n",
       "0                  0  \n",
       "1                  0  \n",
       "2                  0  \n",
       "3                  0  \n",
       "4                  0  \n",
       "...              ...  \n",
       "56635              2  \n",
       "56636              2  \n",
       "56637              2  \n",
       "56638              2  \n",
       "56639              2  \n",
       "\n",
       "[37200 rows x 9 columns]"
      ]
     },
     "execution_count": 71,
     "metadata": {},
     "output_type": "execute_result"
    }
   ],
   "source": [
    "mu = []\n",
    "sigma = []\n",
    "for i in range(0,6):\n",
    "    print(Training_data.columns[i])\n",
    "    mu.append(np.mean(Training_data.iloc[:, i], axis=0))\n",
    "    sigma.append(np.std(Training_data.iloc[:, i], axis=0))\n",
    "    Training_data.iloc[:, i] = normalize_features(Training_data.iloc[:, i], mu[i], sigma[i])\n",
    "    \n",
    "Training_data"
   ]
  },
  {
   "cell_type": "code",
   "execution_count": 72,
   "id": "f1ded0a1",
   "metadata": {
    "scrolled": false
   },
   "outputs": [],
   "source": [
    "def create_segments(data):\n",
    "\n",
    "    segments = []\n",
    "    labels = []\n",
    "    for i in range(0, len(data) - TIME_PERIODS, STEP_DISTANCE):\n",
    "        accel_xs = data['accel_x'].values[i: i + TIME_PERIODS]\n",
    "        accel_ys = data['accel_y'].values[i: i + TIME_PERIODS]\n",
    "        accel_zs = data['accel_z'].values[i: i + TIME_PERIODS]\n",
    "        gyro_xs = data['gyro_x'].values[i: i + TIME_PERIODS]\n",
    "        gyro_ys = data['gyro_y'].values[i: i + TIME_PERIODS]\n",
    "        gyro_zs = data['gyro_z'].values[i: i + TIME_PERIODS]\n",
    "#         mag_xs = data['mag_x'].values[i: i + TIME_PERIODS]\n",
    "#         mag_ys = data['mag_y'].values[i: i + TIME_PERIODS]\n",
    "#         mag_zs = data['mag_z'].values[i: i + TIME_PERIODS]\n",
    "        \n",
    "#         #Features\n",
    "#         #mean\n",
    "#         accel_x_mean = np.full(TIME_PERIODS, accel_xs.mean())\n",
    "#     #     y_mean = np.full(TIME_PERIODS, ys.mean())\n",
    "#         accel_z_mean = np.full(TIME_PERIODS, accel_zs.mean())\n",
    "#         gyro_x_mean = np.full(TIME_PERIODS, gyro_xs.mean())\n",
    "#     #     pitch_mean = np.full(TIME_PERIODS, pitchs.mean())\n",
    "#         gyro_z_mean = np.full(TIME_PERIODS, gyro_zs.mean())\n",
    "#         #standard deviation\n",
    "#         accel_x_std = np.full(TIME_PERIODS, accel_xs.std())\n",
    "#         accel_y_std = np.full(TIME_PERIODS, accel_ys.std())\n",
    "#         accel_z_std = np.full(TIME_PERIODS, accel_zs.std())\n",
    "#         gyro_x_std = np.full(TIME_PERIODS, gyro_xs.std())\n",
    "#         gyro_y_std = np.full(TIME_PERIODS, gyro_ys.std())\n",
    "#         gyro_z_std = np.full(TIME_PERIODS, gyro_zs.std())\n",
    "#         #min\n",
    "#         accel_x_min = np.full(TIME_PERIODS, accel_xs.min())\n",
    "#         accel_y_min = np.full(TIME_PERIODS, accel_ys.min())\n",
    "#         accel_z_min = np.full(TIME_PERIODS, accel_zs.min())\n",
    "#         gyro_x_min = np.full(TIME_PERIODS, gyro_xs.min())\n",
    "#     #     pitch_min = np.full(TIME_PERIODS, pitchs.min())\n",
    "#     #     yaw_min = np.full(TIME_PERIODS, yaws.min())\n",
    "    \n",
    "#         #energy, here ** represents exponentiation\n",
    "#         accel_x_eng = np.full(TIME_PERIODS, np.sum(accel_xs**2)/TIME_PERIODS) \n",
    "#         accel_y_eng = np.full(TIME_PERIODS, np.sum(accel_ys**2)/TIME_PERIODS)\n",
    "#         accel_z_eng = np.full(TIME_PERIODS, np.sum(accel_zs**2)/TIME_PERIODS)\n",
    "#         #median absolute deviation (MAD)\n",
    "#         accel_x_mad = np.full(TIME_PERIODS, stats.median_abs_deviation(accel_xs))\n",
    "#     #     y_mad = np.full(TIME_PERIODS, stats.median_abs_deviation(ys))\n",
    "#         accel_z_mad = np.full(TIME_PERIODS, stats.median_abs_deviation(accel_zs))\n",
    "#     #     roll_mad = np.full(TIME_PERIODS, stats.median_abs_deviation(rolls))\n",
    "#         gyro_y_mad = np.full(TIME_PERIODS, stats.median_abs_deviation(gyro_ys))\n",
    "#         gyro_z_mad = np.full(TIME_PERIODS, stats.median_abs_deviation(gyro_zs))\n",
    "#         # signal magnitude area\n",
    "#         accel_sma = np.full(TIME_PERIODS, (np.sum(np.abs(accel_xs)) + np.sum(np.abs(accel_ys)) + np.sum(np.abs(accel_zs))) / TIME_PERIODS)\n",
    "#         gyro_sma = np.full(TIME_PERIODS, (np.sum(np.abs(gyro_xs)) + np.sum(np.abs(gyro_ys)) + np.sum(np.abs(gyro_zs))) / TIME_PERIODS)\n",
    "# #         # get frequency domain signal\n",
    "# #         x_freq = np.abs(np.fft.fft(xs))[1:51]\n",
    "# #         y_freq = np.abs(np.fft.fft(ys))[1:51]\n",
    "# #         z_freq = np.abs(np.fft.fft(zs))[1:51]\n",
    "# #         roll_freq = np.abs(np.fft.fft(rolls))[1:51]\n",
    "# #         pitch_freq = np.abs(np.fft.fft(pitchs))[1:51]\n",
    "# #         yaw_freq = np.abs(np.fft.fft(yaws))[1:51]\n",
    "# #         # freq mean\n",
    "# #         x_freq_mean = np.full(TIME_PERIODS, x_freq.mean())\n",
    "# #         y_freq_mean = np.full(TIME_PERIODS, y_freq.mean())\n",
    "# #         z_freq_mean = np.full(TIME_PERIODS, z_freq.mean())\n",
    "# #         roll_freq_mean = np.full(TIME_PERIODS, roll_freq.mean())\n",
    "# #         pitch_freq_mean = np.full(TIME_PERIODS, pitch_freq.mean())\n",
    "# #         yaw_freq_mean = np.full(TIME_PERIODS, yaw_freq.mean())\n",
    "# #         #freq standard deviation\n",
    "# #         x_freq_std = np.full(TIME_PERIODS, x_freq.std())\n",
    "# #         y_freq_std = np.full(TIME_PERIODS, y_freq.std())\n",
    "# #         z_freq_std = np.full(TIME_PERIODS, z_freq.std())\n",
    "# #         roll_freq_std = np.full(TIME_PERIODS, roll_freq.std())\n",
    "# #         pitch_freq_std = np.full(TIME_PERIODS, pitch_freq.std())\n",
    "# #         yaw_freq_std = np.full(TIME_PERIODS, yaw_freq.std())\n",
    "\n",
    "        # Retrieve the most often used label in this segment\n",
    "        label = stats.mode(data['encoded_label'][i: i + TIME_PERIODS])[0][0]\n",
    "        \n",
    "#         segments.append([accel_xs, accel_ys, accel_zs, gyro_xs, gyro_ys, gyro_zs, accel_x_mean,\\\n",
    "#                          accel_z_mean, gyro_x_mean, gyro_z_mean, accel_x_std, accel_y_std, accel_z_std, gyro_x_std,  gyro_y_std, \\\n",
    "#                          gyro_z_std, accel_x_min, accel_y_min, accel_z_min, gyro_x_min, accel_x_eng, accel_y_eng, accel_z_eng, \\\n",
    "#                          accel_x_mad, accel_z_mad, gyro_y_mad, gyro_z_mad, accel_sma, gyro_sma])\n",
    "        segments.append([accel_xs, accel_ys, accel_zs, gyro_xs, gyro_ys, gyro_zs])\n",
    "        labels.append(label)\n",
    "\n",
    "    # Bring the segments into a better shape\n",
    "    x_data = np.asarray(segments, dtype= np.float32).reshape(-1, TIME_PERIODS, no_of_features)\n",
    "    y_data = np.asarray(labels)\n",
    "    return x_data, y_data\n"
   ]
  },
  {
   "cell_type": "code",
   "execution_count": 73,
   "id": "f6e2060b",
   "metadata": {},
   "outputs": [
    {
     "name": "stdout",
     "output_type": "stream",
     "text": [
      "x shape:  (2476, 60, 6)\n",
      "y shape:  (2476,)\n"
     ]
    }
   ],
   "source": [
    "x_train, y_train = create_segments(Training_data)\n",
    "np.set_printoptions(threshold=np.inf)\n",
    "print(\"x shape: \",x_train.shape)\n",
    "print(\"y shape: \",y_train.shape)"
   ]
  },
  {
   "cell_type": "code",
   "execution_count": 74,
   "id": "a323b887",
   "metadata": {},
   "outputs": [
    {
     "data": {
      "text/plain": [
       "(2476, 360)"
      ]
     },
     "execution_count": 74,
     "metadata": {},
     "output_type": "execute_result"
    }
   ],
   "source": [
    "x_train = x_train.reshape(x_train.shape[0], TIME_PERIODS*no_of_features)\n",
    "x_train.shape"
   ]
  },
  {
   "cell_type": "code",
   "execution_count": 75,
   "id": "be095318",
   "metadata": {},
   "outputs": [
    {
     "name": "stdout",
     "output_type": "stream",
     "text": [
      "New y_train shape:  (2476, 5)\n"
     ]
    }
   ],
   "source": [
    "# Convert type for Keras otherwise Keras cannot process the data\n",
    "x_train = x_train.astype(\"float32\")\n",
    "y_train = y_train.astype(\"float32\")\n",
    "\n",
    "# One-hot encoding of y_train labels (only execute once!)\n",
    "y_train = np_utils.to_categorical(y_train, len(LABELS))\n",
    "print('New y_train shape: ', y_train.shape)"
   ]
  },
  {
   "cell_type": "markdown",
   "id": "3c0df1e7",
   "metadata": {},
   "source": [
    "### 1D-CNN Model"
   ]
  },
  {
   "cell_type": "code",
   "execution_count": 76,
   "id": "1d6345fe",
   "metadata": {},
   "outputs": [
    {
     "name": "stdout",
     "output_type": "stream",
     "text": [
      "Model: \"sequential_3\"\n",
      "_________________________________________________________________\n",
      " Layer (type)                Output Shape              Param #   \n",
      "=================================================================\n",
      " reshape_3 (Reshape)         (None, 60, 6)             0         \n",
      "                                                                 \n",
      " conv1d_9 (Conv1D)           (None, 58, 100)           1900      \n",
      "                                                                 \n",
      " max_pooling1d_6 (MaxPooling  (None, 19, 100)          0         \n",
      " 1D)                                                             \n",
      "                                                                 \n",
      " conv1d_10 (Conv1D)          (None, 17, 120)           36120     \n",
      "                                                                 \n",
      " max_pooling1d_7 (MaxPooling  (None, 5, 120)           0         \n",
      " 1D)                                                             \n",
      "                                                                 \n",
      " conv1d_11 (Conv1D)          (None, 3, 80)             28880     \n",
      "                                                                 \n",
      " global_average_pooling1d_3   (None, 80)               0         \n",
      " (GlobalAveragePooling1D)                                        \n",
      "                                                                 \n",
      " dropout_3 (Dropout)         (None, 80)                0         \n",
      "                                                                 \n",
      " dense_3 (Dense)             (None, 5)                 405       \n",
      "                                                                 \n",
      "=================================================================\n",
      "Total params: 67,305\n",
      "Trainable params: 67,305\n",
      "Non-trainable params: 0\n",
      "_________________________________________________________________\n",
      "None\n"
     ]
    }
   ],
   "source": [
    "model_m = Sequential()\n",
    "model_m.add(Reshape((TIME_PERIODS,no_of_features), input_shape=(TIME_PERIODS*no_of_features,)))\n",
    "model_m.add(Conv1D(100, 3, activation='relu'))\n",
    "model_m.add(MaxPooling1D(3))\n",
    "model_m.add(Conv1D(120, 3, activation='relu'))\n",
    "model_m.add(MaxPooling1D(3))\n",
    "model_m.add(Conv1D(80, 3, activation='relu'))\n",
    "model_m.add(GlobalAveragePooling1D())\n",
    "model_m.add(Dropout(0.3))\n",
    "model_m.add(Dense(len(LABELS), activation='softmax'))\n",
    "print(model_m.summary())"
   ]
  },
  {
   "cell_type": "code",
   "execution_count": 77,
   "id": "249787e7",
   "metadata": {
    "scrolled": true
   },
   "outputs": [
    {
     "name": "stdout",
     "output_type": "stream",
     "text": [
      "Epoch 1/50\n",
      "13/13 [==============================] - 1s 39ms/step - loss: 1.5494 - accuracy: 0.2108\n",
      "Epoch 2/50\n",
      "13/13 [==============================] - 0s 13ms/step - loss: 1.2895 - accuracy: 0.4628\n",
      "Epoch 3/50\n",
      "13/13 [==============================] - 0s 13ms/step - loss: 1.1186 - accuracy: 0.5061\n",
      "Epoch 4/50\n",
      "13/13 [==============================] - 0s 13ms/step - loss: 0.9560 - accuracy: 0.6026\n",
      "Epoch 5/50\n",
      "13/13 [==============================] - 0s 13ms/step - loss: 0.7946 - accuracy: 0.6882\n",
      "Epoch 6/50\n",
      "13/13 [==============================] - 0s 13ms/step - loss: 0.6782 - accuracy: 0.7266\n",
      "Epoch 7/50\n",
      "13/13 [==============================] - 0s 13ms/step - loss: 0.5745 - accuracy: 0.7763\n",
      "Epoch 8/50\n",
      "13/13 [==============================] - 0s 13ms/step - loss: 0.5240 - accuracy: 0.7924\n",
      "Epoch 9/50\n",
      "13/13 [==============================] - 0s 13ms/step - loss: 0.4787 - accuracy: 0.8142\n",
      "Epoch 10/50\n",
      "13/13 [==============================] - 0s 14ms/step - loss: 0.4414 - accuracy: 0.8340\n",
      "Epoch 11/50\n",
      "13/13 [==============================] - 0s 14ms/step - loss: 0.4225 - accuracy: 0.8340\n",
      "Epoch 12/50\n",
      "13/13 [==============================] - 0s 13ms/step - loss: 0.4024 - accuracy: 0.8473\n",
      "Epoch 13/50\n",
      "13/13 [==============================] - 0s 13ms/step - loss: 0.3868 - accuracy: 0.8558\n",
      "Epoch 14/50\n",
      "13/13 [==============================] - 0s 13ms/step - loss: 0.3629 - accuracy: 0.8590\n",
      "Epoch 15/50\n",
      "13/13 [==============================] - 0s 13ms/step - loss: 0.3432 - accuracy: 0.8683\n",
      "Epoch 16/50\n",
      "13/13 [==============================] - 0s 13ms/step - loss: 0.3267 - accuracy: 0.8748\n",
      "Epoch 17/50\n",
      "13/13 [==============================] - 0s 13ms/step - loss: 0.3178 - accuracy: 0.8821\n",
      "Epoch 18/50\n",
      "13/13 [==============================] - 0s 13ms/step - loss: 0.3061 - accuracy: 0.8837\n",
      "Epoch 19/50\n",
      "13/13 [==============================] - 0s 14ms/step - loss: 0.3022 - accuracy: 0.8881\n",
      "Epoch 20/50\n",
      "13/13 [==============================] - 0s 14ms/step - loss: 0.2945 - accuracy: 0.8881\n",
      "Epoch 21/50\n",
      "13/13 [==============================] - 0s 13ms/step - loss: 0.2830 - accuracy: 0.8885\n",
      "Epoch 22/50\n",
      "13/13 [==============================] - 0s 14ms/step - loss: 0.2786 - accuracy: 0.8954\n",
      "Epoch 23/50\n",
      "13/13 [==============================] - 0s 14ms/step - loss: 0.2793 - accuracy: 0.8966\n",
      "Epoch 24/50\n",
      "13/13 [==============================] - 0s 13ms/step - loss: 0.2673 - accuracy: 0.8926\n",
      "Epoch 25/50\n",
      "13/13 [==============================] - 0s 13ms/step - loss: 0.2572 - accuracy: 0.9067\n",
      "Epoch 26/50\n",
      "13/13 [==============================] - 0s 14ms/step - loss: 0.2549 - accuracy: 0.9011\n",
      "Epoch 27/50\n",
      "13/13 [==============================] - 0s 14ms/step - loss: 0.2503 - accuracy: 0.9015\n"
     ]
    }
   ],
   "source": [
    "callbacks_list = [\n",
    "    keras.callbacks.EarlyStopping(monitor='accuracy', patience=2)\n",
    "]\n",
    "\n",
    "opt = optimizers.SGD(learning_rate=0.01, momentum=0.9)\n",
    "\n",
    "model_m.compile(loss='categorical_crossentropy',\n",
    "                optimizer=opt, metrics=['accuracy'])\n",
    "\n",
    "BATCH_SIZE = 200\n",
    "EPOCHS = 50\n",
    "\n",
    "history = model_m.fit(x_train,\n",
    "                      y_train,\n",
    "                      batch_size=BATCH_SIZE,\n",
    "                      epochs=EPOCHS,\n",
    "                      callbacks=callbacks_list,\n",
    "                      verbose=1)"
   ]
  },
  {
   "cell_type": "code",
   "execution_count": 78,
   "id": "b99f141c",
   "metadata": {},
   "outputs": [
    {
     "data": {
      "image/png": "[encoded data removed]",
      "text/plain": [
       "<Figure size 432x288 with 1 Axes>"
      ]
     },
     "metadata": {
      "needs_background": "light"
     },
     "output_type": "display_data"
    }
   ],
   "source": [
    "# summarize history for accuracy and loss\n",
    "plt.figure(figsize=(6, 4))\n",
    "plt.plot(history.history['accuracy'], \"g--\", label=\"Accuracy of training data\")\n",
    "# plt.plot(history.history['val_accuracy'], \"g\", label=\"Accuracy of validation data\")\n",
    "plt.plot(history.history['loss'], \"r--\", label=\"Loss of training data\")\n",
    "# plt.plot(history.history['val_loss'], \"r\", label=\"Loss of validation data\")\n",
    "plt.title('Model Accuracy and Loss')\n",
    "plt.ylabel('Accuracy and Loss')\n",
    "plt.xlabel('Training Epoch')\n",
    "plt.ylim(0)\n",
    "plt.legend()\n",
    "plt.show()"
   ]
  },
  {
   "cell_type": "code",
   "execution_count": 79,
   "id": "7a9d9d46",
   "metadata": {},
   "outputs": [
    {
     "name": "stdout",
     "output_type": "stream",
     "text": [
      "['Fall', 'Sitting action', 'Walking', 'climbing stairs', 'getting up']\n",
      "accel_x\n",
      "mean:  0.016859139784946162\n",
      "standard deviation:  0.3169782064815828\n",
      "accel_y\n",
      "mean:  -0.036989516129032354\n",
      "standard deviation:  0.298379167917324\n",
      "accel_z\n",
      "mean:  0.3306317204301088\n",
      "standard deviation:  0.5189035834200442\n",
      "gyro_x\n",
      "mean:  -0.716561021505379\n",
      "standard deviation:  55.572584842376756\n",
      "gyro_y\n",
      "mean:  -0.41315268817204404\n",
      "standard deviation:  31.52775141330042\n",
      "gyro_z\n",
      "mean:  0.056315860215054955\n",
      "standard deviation:  32.75767648225105\n",
      "x shape:  (984, 60, 6)\n",
      "y shape:  (984,)\n"
     ]
    },
    {
     "data": {
      "text/plain": [
       "(984, 5)"
      ]
     },
     "execution_count": 79,
     "metadata": {},
     "output_type": "execute_result"
    }
   ],
   "source": [
    "# Set input_shape / reshape for Keras\n",
    "# Encode labels\n",
    "Test_data['encoded_label'] = le.transform(Test_data['activity'].values.ravel())\n",
    "print(list(le.classes_))\n",
    "\n",
    "for i in range(0,6):\n",
    "    print(data.columns[i])\n",
    "    Test_data.iloc[:, i] = normalize_features(Test_data.iloc[:, i], mu[i], sigma[i])\n",
    "    \n",
    "x_test, y_test = create_segments(Test_data)\n",
    "print(\"x shape: \",x_test.shape)\n",
    "print(\"y shape: \",y_test.shape)\n",
    "\n",
    "x_test = x_test.reshape(x_test.shape[0], TIME_PERIODS*no_of_features)\n",
    "\n",
    "x_test = x_test.astype(\"float32\")\n",
    "y_test = y_test.astype(\"float32\")\n",
    "\n",
    "y_test = np_utils.to_categorical(y_test, len(LABELS))\n",
    "y_test.shape"
   ]
  },
  {
   "cell_type": "code",
   "execution_count": 80,
   "id": "e221a205",
   "metadata": {},
   "outputs": [
    {
     "name": "stdout",
     "output_type": "stream",
     "text": [
      "31/31 [==============================] - 0s 9ms/step - loss: 0.3403 - accuracy: 0.9309\n",
      "\n",
      "Accuracy on test data: 0.93\n",
      "\n",
      "Loss on test data: 0.34\n"
     ]
    }
   ],
   "source": [
    "score = model_m.evaluate(x_test, y_test, verbose=1)\n",
    "\n",
    "print(\"\\nAccuracy on test data: %0.2f\" % score[1])\n",
    "print(\"\\nLoss on test data: %0.2f\" % score[0])"
   ]
  },
  {
   "cell_type": "code",
   "execution_count": 56,
   "id": "e4bb077d",
   "metadata": {},
   "outputs": [],
   "source": [
    "def show_confusion_matrix(validations, predictions):\n",
    "\n",
    "    matrix = metrics.confusion_matrix(validations, predictions)\n",
    "    plt.figure(figsize=(6, 4))\n",
    "    sns.heatmap(matrix,\n",
    "                cmap=\"coolwarm\",\n",
    "                linecolor='white',\n",
    "                linewidths=1,\n",
    "                xticklabels=LABELS,\n",
    "                yticklabels=LABELS,\n",
    "                annot=True,\n",
    "                fmt=\"d\")\n",
    "    plt.title(\"Confusion Matrix\")\n",
    "    plt.ylabel(\"True Label\")\n",
    "    plt.xlabel(\"Predicted Label\")\n",
    "    plt.show()"
   ]
  },
  {
   "cell_type": "code",
   "execution_count": 81,
   "id": "8b9d6ce5",
   "metadata": {},
   "outputs": [
    {
     "data": {
      "image/png": "[encoded data removed]",
      "text/plain": [
       "<Figure size 432x288 with 2 Axes>"
      ]
     },
     "metadata": {
      "needs_background": "light"
     },
     "output_type": "display_data"
    },
    {
     "name": "stdout",
     "output_type": "stream",
     "text": [
      "\n",
      "--- Classification report for test data ---\n",
      "\n",
      "              precision    recall  f1-score   support\n",
      "\n",
      "           0       0.99      1.00      0.99       159\n",
      "           1       0.91      0.98      0.94       177\n",
      "           2       0.85      0.96      0.90       208\n",
      "           3       0.95      0.87      0.91       269\n",
      "           4       0.99      0.88      0.93       171\n",
      "\n",
      "    accuracy                           0.93       984\n",
      "   macro avg       0.94      0.94      0.94       984\n",
      "weighted avg       0.94      0.93      0.93       984\n",
      "\n"
     ]
    }
   ],
   "source": [
    "y_pred_test = model_m.predict(x_test)\n",
    "# Take the class with the highest probability from the test predictions\n",
    "max_y_pred_test = np.argmax(y_pred_test, axis=1)\n",
    "max_y_test = np.argmax(y_test, axis=1)\n",
    "\n",
    "show_confusion_matrix(max_y_test, max_y_pred_test)\n",
    "\n",
    "print(\"\\n--- Classification report for test data ---\\n\")\n",
    "\n",
    "print(classification_report(max_y_test, max_y_pred_test))"
   ]
  },
  {
   "cell_type": "code",
   "execution_count": 82,
   "id": "8c111944",
   "metadata": {},
   "outputs": [],
   "source": [
    "model_m.save('best_model_cnn.h5')"
   ]
  },
  {
   "cell_type": "markdown",
   "id": "c7464269",
   "metadata": {},
   "source": [
    "### LSTM Model"
   ]
  },
  {
   "cell_type": "code",
   "execution_count": 83,
   "id": "96b75034",
   "metadata": {},
   "outputs": [
    {
     "name": "stdout",
     "output_type": "stream",
     "text": [
      "Model: \"sequential_4\"\n",
      "_________________________________________________________________\n",
      " Layer (type)                Output Shape              Param #   \n",
      "=================================================================\n",
      " lstm (LSTM)                 (None, 200)               165600    \n",
      "                                                                 \n",
      " dropout_4 (Dropout)         (None, 200)               0         \n",
      "                                                                 \n",
      " dense_4 (Dense)             (None, 100)               20100     \n",
      "                                                                 \n",
      " dense_5 (Dense)             (None, 5)                 505       \n",
      "                                                                 \n",
      "=================================================================\n",
      "Total params: 186,205\n",
      "Trainable params: 186,205\n",
      "Non-trainable params: 0\n",
      "_________________________________________________________________\n",
      "None\n"
     ]
    }
   ],
   "source": [
    "model_lstm = Sequential()\n",
    "model_lstm.add(LSTM(200, input_shape=(TIME_PERIODS,no_of_features)))\n",
    "model_lstm.add(Dropout(0.4))\n",
    "model_lstm.add(Dense(100, activation='relu'))\n",
    "model_lstm.add(Dense(len(LABELS), activation='softmax'))\n",
    "print(model_lstm.summary())"
   ]
  },
  {
   "cell_type": "code",
   "execution_count": 84,
   "id": "599d0234",
   "metadata": {},
   "outputs": [
    {
     "data": {
      "text/plain": [
       "(2476, 60, 6)"
      ]
     },
     "execution_count": 84,
     "metadata": {},
     "output_type": "execute_result"
    }
   ],
   "source": [
    "x_train = x_train.reshape(x_train.shape[0], TIME_PERIODS, no_of_features)\n",
    "x_train.shape"
   ]
  },
  {
   "cell_type": "code",
   "execution_count": 85,
   "id": "7da4c090",
   "metadata": {
    "scrolled": true
   },
   "outputs": [
    {
     "name": "stdout",
     "output_type": "stream",
     "text": [
      "Epoch 1/50\n",
      "13/13 [==============================] - 3s 42ms/step - loss: 0.6350 - accuracy: 0.2964\n",
      "Epoch 2/50\n",
      "13/13 [==============================] - 1s 40ms/step - loss: 0.4668 - accuracy: 0.3582\n",
      "Epoch 3/50\n",
      "13/13 [==============================] - 1s 40ms/step - loss: 0.3605 - accuracy: 0.5198\n",
      "Epoch 4/50\n",
      "13/13 [==============================] - 1s 40ms/step - loss: 0.2813 - accuracy: 0.6418\n",
      "Epoch 5/50\n",
      "13/13 [==============================] - 1s 40ms/step - loss: 0.2381 - accuracy: 0.6971\n",
      "Epoch 6/50\n",
      "13/13 [==============================] - 1s 40ms/step - loss: 0.2120 - accuracy: 0.7472\n",
      "Epoch 7/50\n",
      "13/13 [==============================] - 1s 40ms/step - loss: 0.1858 - accuracy: 0.7758\n",
      "Epoch 8/50\n",
      "13/13 [==============================] - 1s 41ms/step - loss: 0.1797 - accuracy: 0.7863\n",
      "Epoch 9/50\n",
      "13/13 [==============================] - 1s 41ms/step - loss: 0.1706 - accuracy: 0.7920\n",
      "Epoch 10/50\n",
      "13/13 [==============================] - 1s 40ms/step - loss: 0.1577 - accuracy: 0.8195\n",
      "Epoch 11/50\n",
      "13/13 [==============================] - 1s 40ms/step - loss: 0.1485 - accuracy: 0.8279\n",
      "Epoch 12/50\n",
      "13/13 [==============================] - 1s 40ms/step - loss: 0.1373 - accuracy: 0.8389\n",
      "Epoch 13/50\n",
      "13/13 [==============================] - 1s 40ms/step - loss: 0.1374 - accuracy: 0.8376\n",
      "Epoch 14/50\n",
      "13/13 [==============================] - 1s 40ms/step - loss: 0.1290 - accuracy: 0.8538\n",
      "Epoch 15/50\n",
      "13/13 [==============================] - 1s 40ms/step - loss: 0.1355 - accuracy: 0.8372\n",
      "Epoch 16/50\n",
      "13/13 [==============================] - 1s 40ms/step - loss: 0.1271 - accuracy: 0.8611\n",
      "Epoch 17/50\n",
      "13/13 [==============================] - 1s 41ms/step - loss: 0.1271 - accuracy: 0.8453\n",
      "Epoch 18/50\n",
      "13/13 [==============================] - 1s 41ms/step - loss: 0.1161 - accuracy: 0.8643\n",
      "Epoch 19/50\n",
      "13/13 [==============================] - 1s 40ms/step - loss: 0.1238 - accuracy: 0.8704\n",
      "Epoch 20/50\n",
      "13/13 [==============================] - 1s 40ms/step - loss: 0.1449 - accuracy: 0.8469\n",
      "Epoch 21/50\n",
      "13/13 [==============================] - 1s 40ms/step - loss: 0.1151 - accuracy: 0.8805\n",
      "Epoch 22/50\n",
      "13/13 [==============================] - 1s 40ms/step - loss: 0.1041 - accuracy: 0.8885\n",
      "Epoch 23/50\n",
      "13/13 [==============================] - 1s 40ms/step - loss: 0.0995 - accuracy: 0.8934\n",
      "Epoch 24/50\n",
      "13/13 [==============================] - 1s 39ms/step - loss: 0.1006 - accuracy: 0.8926\n",
      "Epoch 25/50\n",
      "13/13 [==============================] - 1s 40ms/step - loss: 0.1073 - accuracy: 0.8853\n"
     ]
    }
   ],
   "source": [
    "callbacks_list = [\n",
    "    keras.callbacks.EarlyStopping(monitor='accuracy', patience=2)\n",
    "]\n",
    "\n",
    "opt = optimizers.Adam(learning_rate=0.001)\n",
    "\n",
    "model_lstm.compile(loss='binary_crossentropy', optimizer=opt, metrics=['accuracy'])\n",
    "\n",
    "BATCH_SIZE = 200\n",
    "EPOCHS = 50\n",
    "\n",
    "history = model_lstm.fit(x_train,\n",
    "                      y_train,\n",
    "                      batch_size=BATCH_SIZE,\n",
    "                      epochs=EPOCHS,\n",
    "                      callbacks=callbacks_list,\n",
    "                      verbose=1)"
   ]
  },
  {
   "cell_type": "code",
   "execution_count": 86,
   "id": "03c133b2",
   "metadata": {},
   "outputs": [
    {
     "data": {
      "image/png": "[encoded data removed]",
      "text/plain": [
       "<Figure size 432x288 with 1 Axes>"
      ]
     },
     "metadata": {
      "needs_background": "light"
     },
     "output_type": "display_data"
    }
   ],
   "source": [
    "# summarize history for accuracy and loss\n",
    "plt.figure(figsize=(6, 4))\n",
    "plt.plot(history.history['accuracy'], \"g--\", label=\"Accuracy of training data\")\n",
    "# plt.plot(history.history['val_accuracy'], \"g\", label=\"Accuracy of validation data\")\n",
    "plt.plot(history.history['loss'], \"r--\", label=\"Loss of training data\")\n",
    "# plt.plot(history.history['val_loss'], \"r\", label=\"Loss of validation data\")\n",
    "plt.title('Model Accuracy and Loss')\n",
    "plt.ylabel('Accuracy and Loss')\n",
    "plt.xlabel('Training Epoch')\n",
    "plt.ylim(0)\n",
    "plt.legend()\n",
    "plt.show()"
   ]
  },
  {
   "cell_type": "code",
   "execution_count": 87,
   "id": "d3bca8ed",
   "metadata": {},
   "outputs": [
    {
     "data": {
      "text/plain": [
       "(984, 60, 6)"
      ]
     },
     "execution_count": 87,
     "metadata": {},
     "output_type": "execute_result"
    }
   ],
   "source": [
    "x_test = x_test.reshape(x_test.shape[0], TIME_PERIODS, no_of_features)\n",
    "x_test.shape"
   ]
  },
  {
   "cell_type": "code",
   "execution_count": 88,
   "id": "dd51cfae",
   "metadata": {},
   "outputs": [
    {
     "name": "stdout",
     "output_type": "stream",
     "text": [
      "31/31 [==============================] - 1s 11ms/step - loss: 0.2488 - accuracy: 0.7663\n",
      "\n",
      "Accuracy on test data: 0.77\n",
      "\n",
      "Loss on test data: 0.25\n"
     ]
    }
   ],
   "source": [
    "score = model_lstm.evaluate(x_test, y_test, verbose=1)\n",
    "\n",
    "print(\"\\nAccuracy on test data: %0.2f\" % score[1])\n",
    "print(\"\\nLoss on test data: %0.2f\" % score[0])"
   ]
  },
  {
   "cell_type": "code",
   "execution_count": 89,
   "id": "11f27a2e",
   "metadata": {},
   "outputs": [
    {
     "data": {
      "image/png": "[encoded data removed]",
      "text/plain": [
       "<Figure size 432x288 with 2 Axes>"
      ]
     },
     "metadata": {
      "needs_background": "light"
     },
     "output_type": "display_data"
    },
    {
     "name": "stdout",
     "output_type": "stream",
     "text": [
      "\n",
      "--- Classification report for test data ---\n",
      "\n",
      "              precision    recall  f1-score   support\n",
      "\n",
      "           0       0.99      1.00      1.00       159\n",
      "           1       0.52      1.00      0.68       177\n",
      "           2       0.82      0.94      0.87       208\n",
      "           3       0.93      0.81      0.87       269\n",
      "           4       0.44      0.02      0.04       171\n",
      "\n",
      "    accuracy                           0.77       984\n",
      "   macro avg       0.74      0.76      0.69       984\n",
      "weighted avg       0.76      0.77      0.71       984\n",
      "\n"
     ]
    }
   ],
   "source": [
    "y_pred_test = model_lstm.predict(x_test)\n",
    "# Take the class with the highest probability from the test predictions\n",
    "max_y_pred_test = np.argmax(y_pred_test, axis=1)\n",
    "max_y_test = np.argmax(y_test, axis=1)\n",
    "\n",
    "show_confusion_matrix(max_y_test, max_y_pred_test)\n",
    "\n",
    "print(\"\\n--- Classification report for test data ---\\n\")\n",
    "\n",
    "print(classification_report(max_y_test, max_y_pred_test))"
   ]
  },
  {
   "cell_type": "code",
   "execution_count": 91,
   "id": "ce1d55ae",
   "metadata": {},
   "outputs": [],
   "source": [
    "model_lstm.save('best_model_lstm.h5')"
   ]
  },
  {
   "cell_type": "markdown",
   "id": "080892e0",
   "metadata": {},
   "source": [
    "### 1D CNN + LSTM Model"
   ]
  },
  {
   "cell_type": "code",
   "execution_count": 90,
   "id": "cd822796",
   "metadata": {},
   "outputs": [
    {
     "name": "stdout",
     "output_type": "stream",
     "text": [
      "Model: \"sequential_5\"\n",
      "_________________________________________________________________\n",
      " Layer (type)                Output Shape              Param #   \n",
      "=================================================================\n",
      " conv1d_12 (Conv1D)          (None, 58, 100)           1900      \n",
      "                                                                 \n",
      " max_pooling1d_8 (MaxPooling  (None, 19, 100)          0         \n",
      " 1D)                                                             \n",
      "                                                                 \n",
      " lstm_1 (LSTM)               (None, 19, 200)           240800    \n",
      "                                                                 \n",
      " conv1d_13 (Conv1D)          (None, 17, 100)           60100     \n",
      "                                                                 \n",
      " max_pooling1d_9 (MaxPooling  (None, 5, 100)           0         \n",
      " 1D)                                                             \n",
      "                                                                 \n",
      " conv1d_14 (Conv1D)          (None, 3, 80)             24080     \n",
      "                                                                 \n",
      " global_average_pooling1d_4   (None, 80)               0         \n",
      " (GlobalAveragePooling1D)                                        \n",
      "                                                                 \n",
      " dropout_5 (Dropout)         (None, 80)                0         \n",
      "                                                                 \n",
      " dense_6 (Dense)             (None, 100)               8100      \n",
      "                                                                 \n",
      " dense_7 (Dense)             (None, 5)                 505       \n",
      "                                                                 \n",
      "=================================================================\n",
      "Total params: 335,485\n",
      "Trainable params: 335,485\n",
      "Non-trainable params: 0\n",
      "_________________________________________________________________\n",
      "None\n"
     ]
    }
   ],
   "source": [
    "model_lsnet = Sequential()\n",
    "model_lsnet.add(Conv1D(100, 3, activation='relu', input_shape=(TIME_PERIODS,no_of_features)))\n",
    "model_lsnet.add(MaxPooling1D(3))\n",
    "model_lsnet.add(LSTM(200, return_sequences=True))\n",
    "model_lsnet.add(Conv1D(100, 3, activation='relu'))\n",
    "model_lsnet.add(MaxPooling1D(3))\n",
    "model_lsnet.add(Conv1D(80, 3, activation='relu'))\n",
    "model_lsnet.add(GlobalAveragePooling1D())\n",
    "model_lsnet.add(Dropout(0.4))\n",
    "model_lsnet.add(Dense(100, activation='relu'))\n",
    "model_lsnet.add(Dense(len(LABELS), activation='softmax'))\n",
    "print(model_lsnet.summary())"
   ]
  },
  {
   "cell_type": "code",
   "execution_count": 92,
   "id": "d6d31add",
   "metadata": {},
   "outputs": [
    {
     "data": {
      "text/plain": [
       "(2476, 60, 6)"
      ]
     },
     "execution_count": 92,
     "metadata": {},
     "output_type": "execute_result"
    }
   ],
   "source": [
    "x_train = x_train.reshape(x_train.shape[0], TIME_PERIODS, no_of_features)\n",
    "x_train.shape"
   ]
  },
  {
   "cell_type": "code",
   "execution_count": 93,
   "id": "d5c82411",
   "metadata": {
    "scrolled": true
   },
   "outputs": [
    {
     "name": "stdout",
     "output_type": "stream",
     "text": [
      "Epoch 1/50\n",
      "13/13 [==============================] - 2s 44ms/step - loss: 0.5557 - accuracy: 0.2609\n",
      "Epoch 2/50\n",
      "13/13 [==============================] - 0s 30ms/step - loss: 0.4100 - accuracy: 0.4447\n",
      "Epoch 3/50\n",
      "13/13 [==============================] - 0s 30ms/step - loss: 0.3537 - accuracy: 0.5097\n",
      "Epoch 4/50\n",
      "13/13 [==============================] - 0s 30ms/step - loss: 0.3049 - accuracy: 0.5836\n",
      "Epoch 5/50\n",
      "13/13 [==============================] - 0s 30ms/step - loss: 0.2610 - accuracy: 0.6377\n",
      "Epoch 6/50\n",
      "13/13 [==============================] - 0s 31ms/step - loss: 0.2325 - accuracy: 0.6745\n",
      "Epoch 7/50\n",
      "13/13 [==============================] - 0s 31ms/step - loss: 0.2090 - accuracy: 0.7169\n",
      "Epoch 8/50\n",
      "13/13 [==============================] - 0s 30ms/step - loss: 0.1692 - accuracy: 0.7835\n",
      "Epoch 9/50\n",
      "13/13 [==============================] - 0s 30ms/step - loss: 0.1779 - accuracy: 0.7662\n",
      "Epoch 10/50\n",
      "13/13 [==============================] - 0s 29ms/step - loss: 0.1538 - accuracy: 0.8001\n",
      "Epoch 11/50\n",
      "13/13 [==============================] - 0s 30ms/step - loss: 0.1457 - accuracy: 0.7997\n",
      "Epoch 12/50\n",
      "13/13 [==============================] - 0s 30ms/step - loss: 0.1406 - accuracy: 0.8065\n",
      "Epoch 13/50\n",
      "13/13 [==============================] - 0s 30ms/step - loss: 0.1318 - accuracy: 0.8122\n",
      "Epoch 14/50\n",
      "13/13 [==============================] - 0s 30ms/step - loss: 0.1242 - accuracy: 0.8231\n",
      "Epoch 15/50\n",
      "13/13 [==============================] - 0s 31ms/step - loss: 0.1217 - accuracy: 0.8328\n",
      "Epoch 16/50\n",
      "13/13 [==============================] - 0s 30ms/step - loss: 0.1219 - accuracy: 0.8308\n",
      "Epoch 17/50\n",
      "13/13 [==============================] - 0s 29ms/step - loss: 0.1152 - accuracy: 0.8489\n",
      "Epoch 18/50\n",
      "13/13 [==============================] - 0s 30ms/step - loss: 0.1126 - accuracy: 0.8631\n",
      "Epoch 19/50\n",
      "13/13 [==============================] - 0s 30ms/step - loss: 0.1067 - accuracy: 0.8611\n",
      "Epoch 20/50\n",
      "13/13 [==============================] - 0s 30ms/step - loss: 0.1007 - accuracy: 0.8809\n",
      "Epoch 21/50\n",
      "13/13 [==============================] - 0s 31ms/step - loss: 0.0987 - accuracy: 0.8877\n",
      "Epoch 22/50\n",
      "13/13 [==============================] - 0s 31ms/step - loss: 0.0896 - accuracy: 0.8958\n",
      "Epoch 23/50\n",
      "13/13 [==============================] - 0s 32ms/step - loss: 0.0868 - accuracy: 0.9059\n",
      "Epoch 24/50\n",
      "13/13 [==============================] - 0s 32ms/step - loss: 0.0786 - accuracy: 0.9103\n",
      "Epoch 25/50\n",
      "13/13 [==============================] - 0s 32ms/step - loss: 0.0714 - accuracy: 0.9164\n",
      "Epoch 26/50\n",
      "13/13 [==============================] - 0s 32ms/step - loss: 0.0647 - accuracy: 0.9253\n",
      "Epoch 27/50\n",
      "13/13 [==============================] - 0s 31ms/step - loss: 0.0676 - accuracy: 0.9225\n",
      "Epoch 28/50\n",
      "13/13 [==============================] - 0s 30ms/step - loss: 0.0628 - accuracy: 0.9261\n",
      "Epoch 29/50\n",
      "13/13 [==============================] - 0s 30ms/step - loss: 0.0560 - accuracy: 0.9398\n",
      "Epoch 30/50\n",
      "13/13 [==============================] - 0s 30ms/step - loss: 0.0584 - accuracy: 0.9305\n",
      "Epoch 31/50\n",
      "13/13 [==============================] - 0s 30ms/step - loss: 0.0598 - accuracy: 0.9313\n"
     ]
    }
   ],
   "source": [
    "callbacks_list = [\n",
    "    keras.callbacks.EarlyStopping(monitor='accuracy', patience=2)\n",
    "]\n",
    "\n",
    "# opt = optimizers.RMSprop(learning_rate=0.001, momentum=0.9)\n",
    "\n",
    "model_lsnet.compile(loss='binary_crossentropy', optimizer='adam', metrics=['accuracy'])\n",
    "\n",
    "BATCH_SIZE = 200\n",
    "EPOCHS = 50\n",
    "\n",
    "history = model_lsnet.fit(x_train,\n",
    "                      y_train,\n",
    "                      batch_size=BATCH_SIZE,\n",
    "                      epochs=EPOCHS,\n",
    "                      callbacks=callbacks_list,\n",
    "                      verbose=1)"
   ]
  },
  {
   "cell_type": "code",
   "execution_count": 94,
   "id": "79495a5e",
   "metadata": {},
   "outputs": [
    {
     "data": {
      "image/png": "[encoded data removed]",
      "text/plain": [
       "<Figure size 432x288 with 1 Axes>"
      ]
     },
     "metadata": {
      "needs_background": "light"
     },
     "output_type": "display_data"
    }
   ],
   "source": [
    "# summarize history for accuracy and loss\n",
    "plt.figure(figsize=(6, 4))\n",
    "plt.plot(history.history['accuracy'], \"g--\", label=\"Accuracy of training data\")\n",
    "# plt.plot(history.history['val_accuracy'], \"g\", label=\"Accuracy of validation data\")\n",
    "plt.plot(history.history['loss'], \"r--\", label=\"Loss of training data\")\n",
    "# plt.plot(history.history['val_loss'], \"r\", label=\"Loss of validation data\")\n",
    "plt.title('Model Accuracy and Loss')\n",
    "plt.ylabel('Accuracy and Loss')\n",
    "plt.xlabel('Training Epoch')\n",
    "plt.ylim(0)\n",
    "plt.legend()\n",
    "plt.show()"
   ]
  },
  {
   "cell_type": "code",
   "execution_count": 95,
   "id": "fbd9fc0f",
   "metadata": {},
   "outputs": [
    {
     "data": {
      "text/plain": [
       "(984, 60, 6)"
      ]
     },
     "execution_count": 95,
     "metadata": {},
     "output_type": "execute_result"
    }
   ],
   "source": [
    "x_test = x_test.reshape(x_test.shape[0], TIME_PERIODS, no_of_features)\n",
    "x_test.shape"
   ]
  },
  {
   "cell_type": "code",
   "execution_count": 96,
   "id": "e2537d84",
   "metadata": {},
   "outputs": [
    {
     "name": "stdout",
     "output_type": "stream",
     "text": [
      "31/31 [==============================] - 1s 8ms/step - loss: 0.2459 - accuracy: 0.8161\n",
      "\n",
      "Accuracy on test data: 0.82\n",
      "\n",
      "Loss on test data: 0.25\n"
     ]
    }
   ],
   "source": [
    "score = model_lsnet.evaluate(x_test, y_test, verbose=1)\n",
    "\n",
    "print(\"\\nAccuracy on test data: %0.2f\" % score[1])\n",
    "print(\"\\nLoss on test data: %0.2f\" % score[0])"
   ]
  },
  {
   "cell_type": "code",
   "execution_count": 97,
   "id": "8127c99e",
   "metadata": {},
   "outputs": [
    {
     "data": {
      "image/png": "[encoded data removed]",
      "text/plain": [
       "<Figure size 432x288 with 2 Axes>"
      ]
     },
     "metadata": {
      "needs_background": "light"
     },
     "output_type": "display_data"
    },
    {
     "name": "stdout",
     "output_type": "stream",
     "text": [
      "\n",
      "--- Classification report for test data ---\n",
      "\n",
      "              precision    recall  f1-score   support\n",
      "\n",
      "           0       0.99      1.00      1.00       159\n",
      "           1       0.60      0.99      0.75       177\n",
      "           2       0.77      1.00      0.87       208\n",
      "           3       0.99      0.77      0.87       269\n",
      "           4       0.98      0.31      0.47       171\n",
      "\n",
      "    accuracy                           0.82       984\n",
      "   macro avg       0.87      0.81      0.79       984\n",
      "weighted avg       0.87      0.82      0.80       984\n",
      "\n"
     ]
    }
   ],
   "source": [
    "y_pred_test = model_lsnet.predict(x_test)\n",
    "# Take the class with the highest probability from the test predictions\n",
    "max_y_pred_test = np.argmax(y_pred_test, axis=1)\n",
    "max_y_test = np.argmax(y_test, axis=1)\n",
    "\n",
    "show_confusion_matrix(max_y_test, max_y_pred_test)\n",
    "\n",
    "print(\"\\n--- Classification report for test data ---\\n\")\n",
    "\n",
    "print(classification_report(max_y_test, max_y_pred_test))"
   ]
  },
  {
   "cell_type": "code",
   "execution_count": 98,
   "id": "0ef8b2e5",
   "metadata": {},
   "outputs": [],
   "source": [
    "model_lsnet.save('best_model_lsnet.h5')"
   ]
  },
  {
   "cell_type": "markdown",
   "id": "7a6e05cb",
   "metadata": {},
   "source": [
    "### RNN Model"
   ]
  },
  {
   "cell_type": "code",
   "execution_count": 99,
   "id": "d67cceec",
   "metadata": {},
   "outputs": [
    {
     "name": "stdout",
     "output_type": "stream",
     "text": [
      "Model: \"sequential_6\"\n",
      "_________________________________________________________________\n",
      " Layer (type)                Output Shape              Param #   \n",
      "=================================================================\n",
      " embedding (Embedding)       (None, None, 64)          23040     \n",
      "                                                                 \n",
      " gru (GRU)                   (None, None, 128)         74496     \n",
      "                                                                 \n",
      " simple_rnn (SimpleRNN)      (None, 64)                12352     \n",
      "                                                                 \n",
      " dropout_6 (Dropout)         (None, 64)                0         \n",
      "                                                                 \n",
      " dense_8 (Dense)             (None, 5)                 325       \n",
      "                                                                 \n",
      "=================================================================\n",
      "Total params: 110,213\n",
      "Trainable params: 110,213\n",
      "Non-trainable params: 0\n",
      "_________________________________________________________________\n"
     ]
    }
   ],
   "source": [
    "model_rnn = keras.Sequential()\n",
    "model_rnn.add(Embedding(input_dim=TIME_PERIODS*no_of_features, output_dim=64))\n",
    "\n",
    "# The output of GRU will be a 3D tensor of shape (batch_size, timesteps, 256)\n",
    "model_rnn.add(GRU(128, return_sequences=True))\n",
    "\n",
    "# The output of SimpleRNN will be a 2D tensor of shape (batch_size, 128)\n",
    "model_rnn.add(SimpleRNN(64))\n",
    "model_rnn.add(Dropout(0.4))\n",
    "model_rnn.add(Dense(len(LABELS), activation='softmax'))\n",
    "\n",
    "model_rnn.summary()"
   ]
  },
  {
   "cell_type": "code",
   "execution_count": 100,
   "id": "627c2801",
   "metadata": {},
   "outputs": [
    {
     "data": {
      "text/plain": [
       "(2476, 360)"
      ]
     },
     "execution_count": 100,
     "metadata": {},
     "output_type": "execute_result"
    }
   ],
   "source": [
    "x_train = x_train.reshape(x_train.shape[0], TIME_PERIODS*no_of_features)\n",
    "x_train.shape"
   ]
  },
  {
   "cell_type": "code",
   "execution_count": 101,
   "id": "e9b1a6d8",
   "metadata": {
    "scrolled": true
   },
   "outputs": [
    {
     "name": "stdout",
     "output_type": "stream",
     "text": [
      "Epoch 1/50\n",
      "13/13 [==============================] - 10s 636ms/step - loss: 1.6220 - accuracy: 0.2161\n",
      "Epoch 2/50\n",
      "13/13 [==============================] - 8s 624ms/step - loss: 1.6044 - accuracy: 0.2407\n",
      "Epoch 3/50\n",
      "13/13 [==============================] - 8s 637ms/step - loss: 1.6161 - accuracy: 0.2508\n",
      "Epoch 4/50\n",
      "13/13 [==============================] - 10s 739ms/step - loss: 1.5962 - accuracy: 0.2682\n",
      "Epoch 5/50\n",
      "13/13 [==============================] - 10s 784ms/step - loss: 1.5713 - accuracy: 0.2896\n",
      "Epoch 6/50\n",
      "13/13 [==============================] - 10s 762ms/step - loss: 1.5989 - accuracy: 0.2815\n"
     ]
    }
   ],
   "source": [
    "callbacks_list = [\n",
    "    keras.callbacks.EarlyStopping(monitor='accuracy', patience=1)\n",
    "]\n",
    "\n",
    "# opt = optimizers.SGD(learning_rate=0.01, momentum=0.9)\n",
    "\n",
    "model_rnn.compile(loss='categorical_crossentropy', optimizer='adam', metrics=['accuracy'])\n",
    "\n",
    "BATCH_SIZE = 200\n",
    "EPOCHS = 50\n",
    "\n",
    "history = model_rnn.fit(x_train,\n",
    "                      y_train,\n",
    "                      batch_size=BATCH_SIZE,\n",
    "                      epochs=EPOCHS,\n",
    "                      callbacks=callbacks_list,\n",
    "                      verbose=1)"
   ]
  },
  {
   "cell_type": "code",
   "execution_count": 102,
   "id": "2c815cec",
   "metadata": {},
   "outputs": [
    {
     "data": {
      "image/png": "[encoded data removed]",
      "text/plain": [
       "<Figure size 432x288 with 1 Axes>"
      ]
     },
     "metadata": {
      "needs_background": "light"
     },
     "output_type": "display_data"
    }
   ],
   "source": [
    "# summarize history for accuracy and loss\n",
    "plt.figure(figsize=(6, 4))\n",
    "plt.plot(history.history['accuracy'], \"g--\", label=\"Accuracy of training data\")\n",
    "# plt.plot(history.history['val_accuracy'], \"g\", label=\"Accuracy of validation data\")\n",
    "plt.plot(history.history['loss'], \"r--\", label=\"Loss of training data\")\n",
    "# plt.plot(history.history['val_loss'], \"r\", label=\"Loss of validation data\")\n",
    "plt.title('Model Accuracy and Loss')\n",
    "plt.ylabel('Accuracy and Loss')\n",
    "plt.xlabel('Training Epoch')\n",
    "plt.ylim(0)\n",
    "plt.legend()\n",
    "plt.show()"
   ]
  },
  {
   "cell_type": "code",
   "execution_count": 106,
   "id": "371bef1d",
   "metadata": {},
   "outputs": [
    {
     "data": {
      "text/plain": [
       "(8723, 360)"
      ]
     },
     "execution_count": 106,
     "metadata": {},
     "output_type": "execute_result"
    }
   ],
   "source": [
    "x_test = x_test.reshape(x_test.shape[0], TIME_PERIODS*no_of_features)\n",
    "x_test.shape"
   ]
  },
  {
   "cell_type": "code",
   "execution_count": 107,
   "id": "5545c8ab",
   "metadata": {},
   "outputs": [
    {
     "name": "stdout",
     "output_type": "stream",
     "text": [
      "273/273 [==============================] - 28s 99ms/step - loss: 1.2816 - accuracy: 0.5012\n",
      "\n",
      "Accuracy on test data: 0.50\n",
      "\n",
      "Loss on test data: 1.28\n"
     ]
    }
   ],
   "source": [
    "score = model_rnn.evaluate(x_test, y_test, verbose=1)\n",
    "\n",
    "print(\"\\nAccuracy on test data: %0.2f\" % score[1])\n",
    "print(\"\\nLoss on test data: %0.2f\" % score[0])"
   ]
  },
  {
   "cell_type": "code",
   "execution_count": 110,
   "id": "705e83e2",
   "metadata": {},
   "outputs": [],
   "source": [
    "y_pred_test = model_rnn.predict(x_test)\n",
    "# Take the class with the highest probability from the test predictions\n",
    "max_y_pred_test = np.argmax(y_pred_test, axis=1)\n",
    "max_y_test = np.argmax(y_test, axis=1)\n",
    "\n",
    "show_confusion_matrix(max_y_test, max_y_pred_test)\n",
    "\n",
    "print(\"\\n--- Classification report for test data ---\\n\")\n",
    "\n",
    "print(classification_report(max_y_test, max_y_pred_test))"
   ]
  },
  {
   "cell_type": "markdown",
   "id": "13bb57cd",
   "metadata": {},
   "source": [
    "# Making Predictions"
   ]
  },
  {
   "cell_type": "code",
   "execution_count": 104,
   "id": "0cbe1028",
   "metadata": {},
   "outputs": [
    {
     "name": "stdout",
     "output_type": "stream",
     "text": [
      "['Fall' 'Sitting action' 'Walking' 'climbing stairs' 'getting up']\n",
      "       accel_x  accel_y  accel_z  gyro_x  gyro_y  gyro_z    user  \\\n",
      "16980    0.357    0.057    1.386  -0.070   0.229  -0.021  wamika   \n",
      "16981    0.325    0.090    1.406   0.010   0.322  -0.081  wamika   \n",
      "16982    0.294    0.124    1.406   0.017   0.314  -0.071  wamika   \n",
      "16983    0.262    0.090    1.406  -0.020   0.318  -0.044  wamika   \n",
      "16984    0.325    0.124    1.425  -0.006   0.374  -0.032  wamika   \n",
      "...        ...      ...      ...     ...     ...     ...     ...   \n",
      "53215   -0.053    0.124   -0.637   0.013  -0.177  -0.399    zeon   \n",
      "53216   -0.053    0.124   -0.637  -0.221  -0.019  -0.093    zeon   \n",
      "53217   -0.053    0.124   -0.637   0.265   0.299   0.334    zeon   \n",
      "53218   -0.053    0.124   -0.637   0.139   0.077   0.639    zeon   \n",
      "53219   -0.053    0.124   -0.637  -0.239  -0.177   0.456    zeon   \n",
      "\n",
      "              activity  encoded_label  \n",
      "16980             Fall              0  \n",
      "16981             Fall              0  \n",
      "16982             Fall              0  \n",
      "16983             Fall              0  \n",
      "16984             Fall              0  \n",
      "...                ...            ...  \n",
      "53215  climbing stairs              3  \n",
      "53216  climbing stairs              3  \n",
      "53217  climbing stairs              3  \n",
      "53218  climbing stairs              3  \n",
      "53219  climbing stairs              3  \n",
      "\n",
      "[14820 rows x 9 columns]\n",
      "test data shape:  (984, 360)\n",
      "Predictions: [0 0 0 0 0 0 0 0 0 0 0 0 0 0 0 0 0 0 0 0 0 0 0 0 0 0 0 0 0 0 0 0 0 0 0 0 0\n",
      " 0 0 0 0 0 0 0 0 0 0 0 0 0 0 0 0 0 0 0 0 0 0 0 0 0 0 0 0 0 0 0 0 0 0 0 0 0\n",
      " 0 0 0 0 0 0 0 0 0 0 0 0 0 0 0 0 0 0 0 0 0 0 0 0 0 0 0 0 0 0 0 0 0 0 0 0 0\n",
      " 0 0 0 0 0 0 0 0 0 0 0 0 0 0 0 0 0 0 0 0 0 0 0 0 0 0 0 0 0 0 0 0 0 0 0 0 0\n",
      " 0 0 0 0 0 0 0 0 0 0 0 0 1 1 4 4 4 4 4 4 4 4 4 4 4 4 4 4 4 4 4 4 4 4 4 4 4\n",
      " 4 4 4 4 4 4 1 4 4 4 4 4 4 4 4 4 1 4 1 1 4 4 4 4 4 4 4 4 4 4 4 4 4 4 4 4 4\n",
      " 4 1 4 4 4 4 1 4 4 4 4 4 4 4 4 4 4 4 1 4 4 1 1 4 4 4 1 4 4 4 4 4 4 4 4 4 4\n",
      " 4 4 4 4 4 4 3 4 4 4 4 4 4 1 3 4 1 1 4 4 4 4 4 4 4 1 1 4 4 4 4 4 4 4 4 4 4\n",
      " 4 4 4 4 4 4 4 4 4 4 4 4 4 4 4 4 4 4 4 4 4 4 4 4 4 4 4 4 4 4 4 4 1 4 1 0 1\n",
      " 1 1 1 1 1 1 1 1 1 1 1 1 1 1 1 1 1 1 4 1 1 1 1 1 1 1 1 1 1 1 1 1 1 1 1 1 1\n",
      " 1 1 1 1 1 1 1 1 1 1 1 1 1 1 1 1 1 1 1 1 1 1 1 1 1 1 1 1 1 1 1 1 1 1 1 1 1\n",
      " 1 1 1 1 1 1 1 1 1 1 1 1 1 1 1 1 1 1 1 1 1 1 1 1 1 1 1 1 1 1 1 1 1 1 1 1 1\n",
      " 1 1 1 1 1 1 1 1 1 1 1 1 1 1 1 1 1 1 1 1 1 1 1 1 1 1 1 1 1 1 1 1 1 1 1 1 1\n",
      " 1 1 1 1 1 1 1 1 1 1 1 1 1 1 1 1 1 1 1 1 1 1 1 1 1 3 3 2 2 2 2 2 2 2 2 2 2\n",
      " 2 2 2 2 2 2 2 2 2 2 2 2 2 2 2 2 2 2 2 2 2 2 2 2 2 2 2 2 2 2 2 2 2 2 2 2 2\n",
      " 2 2 2 2 2 2 2 2 2 2 2 2 2 2 2 2 2 2 2 2 2 2 2 2 2 2 2 2 2 2 2 2 2 2 2 2 2\n",
      " 3 2 3 3 2 2 3 2 2 2 2 2 2 2 2 2 2 2 2 2 2 2 2 2 2 2 2 2 2 2 2 2 2 2 2 2 2\n",
      " 2 2 2 2 2 2 2 2 2 2 3 2 2 2 2 2 2 2 2 2 2 2 2 2 2 2 2 2 2 2 2 2 2 2 2 2 2\n",
      " 2 2 2 2 2 2 2 2 2 2 2 2 2 2 2 2 2 2 2 2 2 2 2 2 2 2 3 2 2 2 2 2 2 3 2 2 2\n",
      " 2 2 2 2 2 2 2 2 2 2 2 2 2 2 3 3 3 3 3 3 3 3 3 3 3 3 3 3 2 3 3 3 3 3 3 3 3\n",
      " 3 3 3 3 3 3 3 3 3 3 3 3 3 3 3 3 3 3 3 3 3 2 2 2 2 3 3 3 3 3 2 2 2 3 3 3 3\n",
      " 3 3 3 3 3 3 3 3 3 3 3 3 3 3 3 3 3 3 3 3 3 3 3 3 3 3 3 3 3 3 3 3 3 3 3 3 3\n",
      " 3 3 3 3 3 3 3 3 3 3 3 3 3 3 3 3 3 3 3 3 3 3 3 3 3 3 3 3 3 3 3 3 2 2 2 3 3\n",
      " 3 3 2 2 2 2 3 3 3 3 3 3 3 3 3 3 2 3 3 2 2 2 3 3 3 2 3 3 3 3 3 3 3 3 3 3 3\n",
      " 3 3 3 3 3 3 3 3 3 3 3 3 3 2 2 2 2 3 3 3 2 2 2 2 2 2 3 3 3 3 3 3 3 3 3 3 3\n",
      " 3 3 3 3 3 3 3 3 3 3 3 3 3 3 3 3 3 3 3 3 3 3 2 3 3 3 3 3 3 3 3 3 3 2 2 2 3\n",
      " 3 3 3 3 3 3 3 3 3 3 3 3 3 3 3 3 3 3 3 3 3 3]\n",
      "Actual: [0 0 0 0 0 0 0 0 0 0 0 0 0 0 0 0 0 0 0 0 0 0 0 0 0 0 0 0 0 0 0 0 0 0 0 0 0\n",
      " 0 0 0 0 0 0 0 0 0 0 0 0 0 0 0 0 0 0 0 0 0 0 0 0 0 0 0 0 0 0 0 0 0 0 0 0 0\n",
      " 0 0 0 0 0 0 0 0 0 0 0 0 0 0 0 0 0 0 0 0 0 0 0 0 0 0 0 0 0 0 0 0 0 0 0 0 0\n",
      " 0 0 0 0 0 0 0 0 0 0 0 0 0 0 0 0 0 0 0 0 0 0 0 0 0 0 0 0 0 0 0 0 0 0 0 0 0\n",
      " 0 0 0 0 0 0 0 0 0 0 0 4 4 4 4 4 4 4 4 4 4 4 4 4 4 4 4 4 4 4 4 4 4 4 4 4 4\n",
      " 4 4 4 4 4 4 4 4 4 4 4 4 4 4 4 4 4 4 4 4 4 4 4 4 4 4 4 4 4 4 4 4 4 4 4 4 4\n",
      " 4 4 4 4 4 4 4 4 4 4 4 4 4 4 4 4 4 4 4 4 4 4 4 4 4 4 4 4 4 4 4 4 4 4 4 4 4\n",
      " 4 4 4 4 4 4 4 4 4 4 4 4 4 4 4 4 4 4 4 4 4 4 4 4 4 4 4 4 4 4 4 4 4 4 4 4 4\n",
      " 4 4 4 4 4 4 4 4 4 4 4 4 4 4 4 4 4 4 4 4 4 4 4 4 4 4 4 4 4 4 4 4 4 4 1 1 1\n",
      " 1 1 1 1 1 1 1 1 1 1 1 1 1 1 1 1 1 1 1 1 1 1 1 1 1 1 1 1 1 1 1 1 1 1 1 1 1\n",
      " 1 1 1 1 1 1 1 1 1 1 1 1 1 1 1 1 1 1 1 1 1 1 1 1 1 1 1 1 1 1 1 1 1 1 1 1 1\n",
      " 1 1 1 1 1 1 1 1 1 1 1 1 1 1 1 1 1 1 1 1 1 1 1 1 1 1 1 1 1 1 1 1 1 1 1 1 1\n",
      " 1 1 1 1 1 1 1 1 1 1 1 1 1 1 1 1 1 1 1 1 1 1 1 1 1 1 1 1 1 1 1 1 1 1 1 1 1\n",
      " 1 1 1 1 1 1 1 1 1 1 1 1 1 1 1 1 1 1 1 1 1 1 1 1 1 1 2 2 2 2 2 2 2 2 2 2 2\n",
      " 2 2 2 2 2 2 2 2 2 2 2 2 2 2 2 2 2 2 2 2 2 2 2 2 2 2 2 2 2 2 2 2 2 2 2 2 2\n",
      " 2 2 2 2 2 2 2 2 2 2 2 2 2 2 2 2 2 2 2 2 2 2 2 2 2 2 2 2 2 2 2 2 2 2 2 2 2\n",
      " 2 2 2 2 2 2 2 2 2 2 2 2 2 2 2 2 2 2 2 2 2 2 2 2 2 2 2 2 2 2 2 2 2 2 2 2 2\n",
      " 2 2 2 2 2 2 2 2 2 2 2 2 2 2 2 2 2 2 2 2 2 2 2 2 2 2 2 2 2 2 2 2 2 2 2 2 2\n",
      " 2 2 2 2 2 2 2 2 2 2 2 2 2 2 2 2 2 2 2 2 2 2 2 2 2 2 2 2 2 2 2 2 2 2 2 2 2\n",
      " 2 2 2 2 2 2 2 2 2 2 2 2 3 3 3 3 3 3 3 3 3 3 3 3 3 3 3 3 3 3 3 3 3 3 3 3 3\n",
      " 3 3 3 3 3 3 3 3 3 3 3 3 3 3 3 3 3 3 3 3 3 3 3 3 3 3 3 3 3 3 3 3 3 3 3 3 3\n",
      " 3 3 3 3 3 3 3 3 3 3 3 3 3 3 3 3 3 3 3 3 3 3 3 3 3 3 3 3 3 3 3 3 3 3 3 3 3\n",
      " 3 3 3 3 3 3 3 3 3 3 3 3 3 3 3 3 3 3 3 3 3 3 3 3 3 3 3 3 3 3 3 3 3 3 3 3 3\n",
      " 3 3 3 3 3 3 3 3 3 3 3 3 3 3 3 3 3 3 3 3 3 3 3 3 3 3 3 3 3 3 3 3 3 3 3 3 3\n",
      " 3 3 3 3 3 3 3 3 3 3 3 3 3 3 3 3 3 3 3 3 3 3 3 3 3 3 3 3 3 3 3 3 3 3 3 3 3\n",
      " 3 3 3 3 3 3 3 3 3 3 3 3 3 3 3 3 3 3 3 3 3 3 3 3 3 3 3 3 3 3 3 3 3 3 3 3 3\n",
      " 3 3 3 3 3 3 3 3 3 3 3 3 3 3 3 3 3 3 3 3 3 3]\n"
     ]
    }
   ],
   "source": [
    "data = pd.read_csv(\"data/combined_data.csv\")\n",
    "data = data[data['activity']!=\"Jogging\"]\n",
    "\n",
    "Test_data = data[data[\"user\"].isin(['wamika'])]\n",
    "Test_data = Test_data.append(zeon_data[zeon_data[\"activity\"].isin([\"climbing stairs\"])])\n",
    "\n",
    "activity = {'Fall': 0, 'Sitting action': 1, 'Walking': 2, 'climbing stairs': 3, 'getting up': 4}\n",
    "le = preprocessing.LabelEncoder()\n",
    "Test_data['encoded_label'] = le.fit_transform(Test_data['activity'].values.ravel())\n",
    "print(le.classes_)\n",
    "\n",
    "mu = [0.016859139784946162, -0.036989516129032354, 0.3306317204301088, -0.716561021505379, -0.41315268817204404, 0.056315860215054955]\n",
    "sigma = [0.3169782064815828, 0.298379167917324, 0.5189035834200442, 55.572584842376756, 31.52775141330042, 32.75767648225105]\n",
    "\n",
    "\n",
    "def normalize_features(data, mu_data, sigma_data):\n",
    "    return (data - mu_data)/sigma_data\n",
    "\n",
    "for i in range(0,6):\n",
    "        Test_data.iloc[:, i] = normalize_features(Test_data.iloc[:, i], mu[i], sigma[i])\n",
    "        \n",
    "# Test_data = Test_data[100000:105000]\n",
    "print(Test_data)\n",
    "\n",
    "x_test_data, y_test_labels = create_segments(Test_data)\n",
    "x_test_data = x_test_data.reshape(x_test_data.shape[0], TIME_PERIODS*no_of_features)\n",
    "print(\"test data shape: \", x_test_data.shape)\n",
    "\n",
    "model = keras.models.load_model('best_model_cnn.h5')\n",
    "\n",
    "x_test_data = x_test_data.astype(\"float32\")\n",
    "\n",
    "pred = model.predict(x_test_data)\n",
    "prediction = np.argmax(pred, axis=1)\n",
    "print(\"Predictions:\", prediction)\n",
    "print(\"Actual:\", y_test_labels)"
   ]
  },
  {
   "cell_type": "code",
   "execution_count": null,
   "id": "159dda0b",
   "metadata": {},
   "outputs": [],
   "source": []
  }
 ],
 "metadata": {
  "kernelspec": {
   "display_name": "Python 3",
   "language": "python",
   "name": "python3"
  },
  "language_info": {
   "codemirror_mode": {
    "name": "ipython",
    "version": 3
   },
   "file_extension": ".py",
   "mimetype": "text/x-python",
   "name": "python",
   "nbconvert_exporter": "python",
   "pygments_lexer": "ipython3",
   "version": "3.8.8"
  }
 },
 "nbformat": 4,
 "nbformat_minor": 5
}
